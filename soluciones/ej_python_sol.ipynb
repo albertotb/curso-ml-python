{
 "cells": [
  {
   "cell_type": "markdown",
   "metadata": {},
   "source": [
    "## Ejercicios cadenas y listas\n",
    "\n",
    "1. Dada una cadena poner los caracteres con índice par al principio y con índice impar después separador por un guion. Ejemplo \"ABCDEF\" debe dar \"ACE-BDF\"\n",
    "\n",
    "2. Cambiar espacios por _ y poner en minúsculas la extensión. Suponer que la extensión tiene 3 caracteres. Ejemplo: 'Foto de vacaciones.JPG' Resultado: 'Foto_de_vacaciones.jpg'\n",
    "\n",
    "3. Combina join y split para que devuelva exactamente la misma cadena original.\n",
    "\n",
    "4. Rodea la cadena c con > por la izquierda y < por la derecha (el mismo número) hasta un total de 80 caracteres.\n",
    "\n",
    "5. Dadas dos listas de números, crear una única lista que sea la combinación de las dos y ordenada\n",
    "\n",
    "6. Dada una lista, eliminar los elementos de las posiciones pares"
   ]
  },
  {
   "cell_type": "code",
   "execution_count": 3,
   "metadata": {},
   "outputs": [
    {
     "data": {
      "text/plain": [
       "'ace-bdf'"
      ]
     },
     "execution_count": 3,
     "metadata": {},
     "output_type": "execute_result"
    }
   ],
   "source": [
    "s = \"abcdef\"\n",
    "s[::2] + \"-\" + s[1::2]"
   ]
  },
  {
   "cell_type": "code",
   "execution_count": 4,
   "metadata": {},
   "outputs": [],
   "source": [
    "fichero = 'Foto de vacaciones.JPG'"
   ]
  },
  {
   "cell_type": "code",
   "execution_count": 8,
   "metadata": {},
   "outputs": [],
   "source": [
    "a = fichero.replace(\"JPG\", \"jpg\")"
   ]
  },
  {
   "cell_type": "code",
   "execution_count": 6,
   "metadata": {},
   "outputs": [
    {
     "data": {
      "text/plain": [
       "'Foto de vacaciones.JPG'"
      ]
     },
     "execution_count": 6,
     "metadata": {},
     "output_type": "execute_result"
    }
   ],
   "source": [
    "fichero"
   ]
  },
  {
   "cell_type": "code",
   "execution_count": 9,
   "metadata": {},
   "outputs": [
    {
     "data": {
      "text/plain": [
       "'Foto de vacaciones.jpg'"
      ]
     },
     "execution_count": 9,
     "metadata": {},
     "output_type": "execute_result"
    }
   ],
   "source": [
    "a"
   ]
  },
  {
   "cell_type": "code",
   "execution_count": 11,
   "metadata": {},
   "outputs": [],
   "source": [
    "l = fichero.split(\".\")"
   ]
  },
  {
   "cell_type": "code",
   "execution_count": 18,
   "metadata": {},
   "outputs": [
    {
     "data": {
      "text/plain": [
       "'Foto_de_vacaciones.jpg'"
      ]
     },
     "execution_count": 18,
     "metadata": {},
     "output_type": "execute_result"
    }
   ],
   "source": [
    "l[0].replace(\" \", \"_\") + \".\" + l[1].lower()"
   ]
  },
  {
   "cell_type": "code",
   "execution_count": 20,
   "metadata": {},
   "outputs": [
    {
     "data": {
      "text/plain": [
       "'Foto de vacaciones.'"
      ]
     },
     "execution_count": 20,
     "metadata": {},
     "output_type": "execute_result"
    }
   ],
   "source": [
    "a[:-3]"
   ]
  },
  {
   "cell_type": "code",
   "execution_count": 21,
   "metadata": {},
   "outputs": [
    {
     "data": {
      "text/plain": [
       "'jpg'"
      ]
     },
     "execution_count": 21,
     "metadata": {},
     "output_type": "execute_result"
    }
   ],
   "source": [
    "a[-3:]"
   ]
  },
  {
   "cell_type": "code",
   "execution_count": 23,
   "metadata": {},
   "outputs": [
    {
     "data": {
      "text/plain": [
       "'1 3'"
      ]
     },
     "execution_count": 23,
     "metadata": {},
     "output_type": "execute_result"
    }
   ],
   "source": [
    "\" \".join([\"1\", \"3\"])"
   ]
  },
  {
   "cell_type": "code",
   "execution_count": null,
   "metadata": {},
   "outputs": [],
   "source": [
    "total = 80\n",
    "s = \"holah\"\n",
    "add = total - len(s)\n",
    "\n",
    "if add % 2:\n",
    "    l = '>' * (add // 2) + s + '<' * (add // 2 + 1)\n",
    "else:\n",
    "    l = '>' * (add // 2) + s + '<' * (add // 2)"
   ]
  },
  {
   "cell_type": "markdown",
   "metadata": {},
   "source": [
    "## Ejercicios bucles\n",
    "\n",
    "1. Dada una lista de cadenas, devolver cuantas de ellas tienen tamaño 2 o más y el primer y último carácter son el mismo. Entrada: ['aa', 'haa', 'hah', 'a', 'h'], salida: 2\n",
    "\n",
    "2. Dada una lista de cadenas, devolver una lista con las cadenas ordenadas, excepto las que empiezan por 'x' que van todas primero. Ejemplo: ['mix', 'xyz', 'apple', 'xanadu', 'aardvark'] produce ['xanadu', 'xyz', 'aardvark', 'apple', 'mix']\n",
    "\n",
    "3. Dada una lista de números, devolver una lista donde se eliminen repeticiones de los números adyacentes e iguales\n",
    "   Ejemplos: [9, 5, 6, 6, 8] devuelve [9, 5, 6, 8] pero [9, 5, 6, 6, 8, 6] devuelve también [9, 5, 6, 8, 6]\n",
    "\n",
    "4. Dada una cadena de palabras separadas por espacio, contar cuantas veces aparece cada palabra. Ejemplo: 'coche casa perro perro casa' imprime coche 1, casa 2, perro 2\n",
    "\n",
    "5. Encontrar todos los números de 3 dígitos de forma que todos sus dígitos son números pares."
   ]
  },
  {
   "cell_type": "code",
   "execution_count": null,
   "metadata": {},
   "outputs": [],
   "source": [
    "c = 0\n",
    "for s in ['aa', 'haa', 'hah', 'a', 'h']:\n",
    "    if len(s) >= 2 and s[0] == s[-1]:\n",
    "        c = c + 1"
   ]
  },
  {
   "cell_type": "code",
   "execution_count": null,
   "metadata": {},
   "outputs": [],
   "source": [
    "l3 = [] \n",
    "l4 = []\n",
    "for s in ['mix', 'xyz', 'apple', 'xanadu', 'aardvark']:\n",
    "    if s[0] == 'x':\n",
    "        l3.append(s)\n",
    "    else:\n",
    "        l4.append(s)\n",
    "\n",
    "l4.sort()\n",
    "l3+l4"
   ]
  },
  {
   "cell_type": "markdown",
   "metadata": {},
   "source": [
    "## Ejercicios funciones\n",
    "\n",
    "1. Escribir una función que dada una cadena con palabras devuelva otra cadena pero con las palabras ordenadas. Ejemplo: 'gato,perro,casa,coche' devuelve 'casa,coche,gato,perro'\n",
    "\n",
    "2. Dadas dos listas ordenadas de menor a mayor, escribir una función que devuelva una lista que sea la combinación de ambas y esté ordenada pero sin usar el método sort()\n",
    "\n",
    "3. Escribir una función que calcule los números entre 2000 y 3200 (ambos incluidos) que sean divisibles por 7 pero no múltiplos de 5. Los números deben de imprimirse en una única línea, separados por comas.\n",
    "\n",
    "4. Escribir una función que dada cadena compuesta por números separados por comas devuelva una tupla de los números que contiene. Ejemplo: \"5,7,8,9,10,23\" resultado (5, 7, 8, 9, 10, 23)"
   ]
  },
  {
   "cell_type": "code",
   "execution_count": 9,
   "metadata": {},
   "outputs": [
    {
     "data": {
      "text/plain": [
       "'>>>>>>>>>>>>>>>>>>>>>>>>>>>>>>>>>>>>>>hola<<<<<<<<<<<<<<<<<<<<<<<<<<<<<<<<<<<<<<'"
      ]
     },
     "execution_count": 9,
     "metadata": {},
     "output_type": "execute_result"
    }
   ],
   "source": [
    "def center(cadena, lon=80):\n",
    "    \"\"\" Centra una cadena y añade caracteres a los dos lados\n",
    "        hasta una longitud total de `lon` caracteres\n",
    "    \"\"\"\n",
    "    if lon <= len(cadena):\n",
    "        raise ValueError(\"longitud < cadena\")\n",
    "        \n",
    "    add = lon - len(cadena)\n",
    "\n",
    "    if add % 2:\n",
    "        l = '>' * (add // 2) + cadena + '<' * (add // 2 + 1)\n",
    "    else:\n",
    "        l = '>' * (add // 2) + cadena + '<' * (add // 2)\n",
    "        \n",
    "    return l\n",
    "\n",
    "center(\"hola\")"
   ]
  },
  {
   "cell_type": "code",
   "execution_count": 15,
   "metadata": {
    "run_control": {
     "marked": false
    }
   },
   "outputs": [],
   "source": [
    "try:\n",
    "    a = center(\"hola\", lon=10)\n",
    "except ValueError:\n",
    "    pass"
   ]
  },
  {
   "cell_type": "code",
   "execution_count": 16,
   "metadata": {},
   "outputs": [
    {
     "data": {
      "text/plain": [
       "'>>>hola<<<'"
      ]
     },
     "execution_count": 16,
     "metadata": {},
     "output_type": "execute_result"
    }
   ],
   "source": [
    "a"
   ]
  },
  {
   "cell_type": "code",
   "execution_count": 15,
   "metadata": {},
   "outputs": [],
   "source": [
    "def ordenar(cadena):\n",
    "    l = cadena.split(\",\")\n",
    "    l.sort()\n",
    "    return \",\".join(l)"
   ]
  },
  {
   "cell_type": "code",
   "execution_count": 16,
   "metadata": {},
   "outputs": [
    {
     "data": {
      "text/plain": [
       "'casa,coche,gato,perro'"
      ]
     },
     "execution_count": 16,
     "metadata": {},
     "output_type": "execute_result"
    }
   ],
   "source": [
    "ordenar('gato,perro,casa,coche')"
   ]
  },
  {
   "cell_type": "code",
   "execution_count": 21,
   "metadata": {
    "run_control": {
     "marked": false
    }
   },
   "outputs": [],
   "source": [
    "def to_int(cadena):\n",
    "    #return tuple([ int(el) for el in cadena.split(\",\") ])\n",
    "    return tuple(map(int, cadena.split(\",\")))"
   ]
  },
  {
   "cell_type": "code",
   "execution_count": 22,
   "metadata": {},
   "outputs": [
    {
     "data": {
      "text/plain": [
       "(5, 7, 8, 9, 10, 23)"
      ]
     },
     "execution_count": 22,
     "metadata": {},
     "output_type": "execute_result"
    }
   ],
   "source": [
    "to_int(\"5,7,8,9,10,23\")"
   ]
  },
  {
   "cell_type": "markdown",
   "metadata": {},
   "source": [
    "## Ejercicios ficheros\n",
    "\n",
    "* Dado un fichero de texto con múltiples filas de números y cada uno de los números separados por comas, leerlo en Python y calcular la media de cada una de las columnas\n",
    "\n",
    "* Dado un fichero de texto, encontrar las palabras que aparezcan en el mismo más de 200 veces. Se considera una palabra cualquier secuencia de letras separadas por espacios. Se deben de eliminar signos de puntuación.    \n",
    "*Avanzado*: opcionalmente se ignorarán las palabras contenidas en otro fichero de texto.     \n",
    "*Opcional*: hacer que los ficheros de texto se pasen al programa por medio de argumentos (`sys.argv`)"
   ]
  },
  {
   "cell_type": "code",
   "execution_count": 5,
   "metadata": {},
   "outputs": [
    {
     "name": "stdout",
     "output_type": "stream",
     "text": [
      "[0.2704317202633629, -0.3493533391519906, -0.6069132675162427, 0.4590310054826753, 0.1938859920908435]\n"
     ]
    }
   ],
   "source": [
    "m = []\n",
    "with open(\"rand.csv\", \"r\") as f:\n",
    "    for line in f:\n",
    "        m.append(line.strip().split(\",\"))\n",
    "\n",
    "media_col = len(m[0]) * [0]\n",
    "for fila in m:\n",
    "    for idx, col in enumerate(fila):\n",
    "        media_col[idx] += float(col)\n",
    "\n",
    "print([ x/len(m) for x in media_col ])"
   ]
  }
 ],
 "metadata": {
  "kernelspec": {
   "display_name": "Python 3",
   "language": "python",
   "name": "python3"
  },
  "language_info": {
   "codemirror_mode": {
    "name": "ipython",
    "version": 3
   },
   "file_extension": ".py",
   "mimetype": "text/x-python",
   "name": "python",
   "nbconvert_exporter": "python",
   "pygments_lexer": "ipython3",
   "version": "3.7.4"
  }
 },
 "nbformat": 4,
 "nbformat_minor": 2
}
