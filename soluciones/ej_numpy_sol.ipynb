{
 "cells": [
  {
   "cell_type": "markdown",
   "metadata": {},
   "source": [
    "## Ejercicios numpy"
   ]
  },
  {
   "cell_type": "markdown",
   "metadata": {},
   "source": [
    "#### Ejercicio 1\n",
    "\n",
    "1. Comprueba si los arrays son mutables o inmutables\n",
    "2. Crea una matriz cuadrada 5x5 tal que:\n",
    "    - Los elementos de la diagonal son todos 10\n",
    "    - Los elementos fuera de la diagonal son todos 5\n",
    "3. Crea un array que contenga los nombres de los días de la semana. ¿Qué tipo tiene?"
   ]
  },
  {
   "cell_type": "markdown",
   "metadata": {},
   "source": [
    "#### Ejercicio 2\n",
    "\n",
    "Comprobar que"
   ]
  },
  {
   "cell_type": "code",
   "execution_count": null,
   "metadata": {},
   "outputs": [],
   "source": [
    "import numpy as np\n",
    "A = np.array([[17, 24, 1, 8, 15],\n",
    "              [23, 5, 7, 14, 16],      \n",
    "              [ 4, 6, 13, 20, 22],\n",
    "              [10, 12, 19, 21, 3],\n",
    "              [11, 18, 25, 2, 9]])"
   ]
  },
  {
   "cell_type": "markdown",
   "metadata": {},
   "source": [
    "es un cuadrado mágico, es decir, que la suma de todas sus filas, columnas y la diagonal principal es la misma. Avanzado: como se calcularia también la suma de la otra diagonal? (ver función `np.fliplr()`)"
   ]
  },
  {
   "cell_type": "markdown",
   "metadata": {},
   "source": [
    "#### Ejercicio 2\n",
    "\n",
    "1. Construye un array que contenga, para cada nota numérica almacenada en `notas`, su nota \n",
    "cualitativa de acuerdo al siguiente esquema:\n",
    " * [0, 5) --> SUSPENSO\n",
    " * [5, 7) --> APROBADO\n",
    " * [7, 9) --> NOTABLE\n",
    " * [9, 10) --> SOBRESALIENTE"
   ]
  },
  {
   "cell_type": "code",
   "execution_count": 2,
   "metadata": {},
   "outputs": [],
   "source": [
    "import numpy as np\n",
    "np.random.seed(1234)\n",
    "notas = np.random.choice(range(0, 11), size=100)"
   ]
  },
  {
   "cell_type": "code",
   "execution_count": 3,
   "metadata": {},
   "outputs": [
    {
     "data": {
      "text/plain": [
       "array(['SUSPENSO', 'SUSPENSO', 'SUSPENSO', 'SUSPENSO', 'SUSPENSO',\n",
       "       'APROBADO', 'APROBADO', 'NOTABLE', 'NOTABLE', 'SOBRESALIENTE',\n",
       "       'SOBRESALIENTE'], dtype='<U13')"
      ]
     },
     "execution_count": 3,
     "metadata": {},
     "output_type": "execute_result"
    }
   ],
   "source": [
    "map_notas = np.concatenate((np.repeat('SUSPENSO', 5),\n",
    "                            np.repeat('APROBADO', 2),\n",
    "                            np.repeat('NOTABLE', 2),\n",
    "                            np.repeat('SOBRESALIENTE', 2)))\n",
    "map_notas"
   ]
  },
  {
   "cell_type": "code",
   "execution_count": 4,
   "metadata": {},
   "outputs": [],
   "source": [
    "notas_cat = map_notas[notas.astype(int)]"
   ]
  },
  {
   "cell_type": "markdown",
   "metadata": {},
   "source": [
    "O también"
   ]
  },
  {
   "cell_type": "code",
   "execution_count": null,
   "metadata": {},
   "outputs": [],
   "source": [
    "notas_q = np.empty_like(notas, dtype='U25')\n",
    "notas_q[notas < 5] = \"Suspenso\"\n",
    "notas_q[np.logical_and(notas >= 5, notas < 7)] = \"Aprobado\"\n",
    "notas_q[np.logical_and(notas >= 7, notas < 9)] = \"Notable\"\n",
    "notas_q[np.logical_and(notas >= 9, notas <= 10)] = \"Sobre\""
   ]
  },
  {
   "cell_type": "markdown",
   "metadata": {},
   "source": [
    "2. Escala todas las notas al rango 0-4"
   ]
  },
  {
   "cell_type": "code",
   "execution_count": 6,
   "metadata": {},
   "outputs": [],
   "source": [
    "notas_esc = (notas/10) * 4"
   ]
  },
  {
   "cell_type": "markdown",
   "metadata": {},
   "source": [
    "#### Ejercicio 3\n",
    "\n",
    "Suponer que el array anterior representa las notas de 20 estudiantes en 5 asignaturas, donde primero están las 5 notas del estudiante 1, luego las 5 notas del estudiante 2, etc.\n",
    "\n",
    "1. Convertir el array anterior en una matriz donde las filas representen los estudiantes y las columnas las asignaturas.\n",
    "2. Calcular la nota media de cada alumno\n",
    "3. Calcular la nota media de cada asignatura"
   ]
  },
  {
   "cell_type": "markdown",
   "metadata": {},
   "source": [
    "#### Ejercicio 4\n",
    "\n",
    " * Ver la documentación de `np.arange()`\n",
    " * Crear dos arrays de números de tamaño 1,000,000 usando la función anterior\n",
    " * Calcular la suma de los dos arrays usando un bucle\n",
    " * Calcular la suma de los dos arrays directamente\n",
    " * Medir el tiempo de las dos aproximaciones usando %timeit"
   ]
  },
  {
   "cell_type": "code",
   "execution_count": null,
   "metadata": {},
   "outputs": [],
   "source": [
    "a = np.arange(1e6)\n",
    "b = np.arange(1e6)\n",
    "c = np.ones(1000000)"
   ]
  },
  {
   "cell_type": "code",
   "execution_count": null,
   "metadata": {},
   "outputs": [],
   "source": [
    "%%timeit\n",
    "a + b"
   ]
  },
  {
   "cell_type": "code",
   "execution_count": null,
   "metadata": {},
   "outputs": [],
   "source": [
    "%%timeit \n",
    "for i in range(len(a)):\n",
    "    c[i] = a[i] + b[i]"
   ]
  },
  {
   "cell_type": "markdown",
   "metadata": {},
   "source": [
    "#### Ejercicio 5\n",
    "\n",
    "* Crear un array de nombre A y de tamaño 4 x 5 con los números del 1 al 20 por filas\n",
    "* Cambiar los elementos de las posiciones (4,3), (3,4) y (2,5) por 0\n",
    "* Crear la matriz identidad 5x5 (unos en la diagonal)\n",
    "* Crear una matriz B que sea el resultado de añadir a A una fila de 1s al final\n",
    "* Calcular la inversa de B y llamarle Binv (`numpy.linalg.inv`)\n",
    "* Multiplicar B por su inversa, B * Binv (usando el producto de matrices!)\n",
    "* Ver como de diferente es B * Binv de la matriz identidad, calculando la media del valor absoluto de la resta de ambas"
   ]
  },
  {
   "cell_type": "markdown",
   "metadata": {},
   "source": [
    "#### Ejercicio 6\n",
    "\n",
    " * El siguiente array tridimensional contiene 5x5 valores de una función de 3 variables, de forma que el elemento a[0, 0, :] es el valor de la función en x=0, y=0\n",
    " \n",
    " ```a = np.random.randn(5, 5, 3)```\n",
    "\n",
    "* Transformar el array anterior en otro array `b` de tamaño 25x3 de forma que las dimensiones 1 y 2 (x e y) estén juntas. Es decir, las filas de este nuevo array son todas las combinaciones posibles de valores de x e y.\n",
    "\n",
    "* Calcular la suma por filas del array `b`. Avanzado: ¿Como se podrían calcular estas mismas sumas en el array original?\n",
    "\n",
    "* Cambiar por 0 todos los valores del vector de sumas donde esta es negativa\n",
    "\n",
    "* Escoger aleatoriamente 10 filas de `b`\n",
    "\n",
    "* Escribir el array anterior en un fichero de texto (tamaño 10 x 3), con las columnas separadas por espacios"
   ]
  }
 ],
 "metadata": {
  "kernelspec": {
   "display_name": "Python 3",
   "language": "python",
   "name": "python3"
  },
  "language_info": {
   "codemirror_mode": {
    "name": "ipython",
    "version": 3
   },
   "file_extension": ".py",
   "mimetype": "text/x-python",
   "name": "python",
   "nbconvert_exporter": "python",
   "pygments_lexer": "ipython3",
   "version": "3.7.4"
  }
 },
 "nbformat": 4,
 "nbformat_minor": 2
}
