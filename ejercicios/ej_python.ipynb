{
 "cells": [
  {
   "cell_type": "markdown",
   "metadata": {},
   "source": [
    "## Ejercicios cadenas y listas\n",
    "\n",
    "1. Dada una cadena poner los caracteres con índice par al principio y con índice impar después separador por un guion. Ejemplo \"ABCDEF\" debe dar \"ACE-BDF\"\n",
    "\n",
    "2. Cambiar espacios por _ y poner en minúsculas la extensión. Suponer que la extensión tiene 3 caracteres. Ejemplo: 'Foto de vacaciones.JPG' Resultado: 'Foto_de_vacaciones.jpg'\n",
    "\n",
    "3. Combina join y split para que devuelva exactamente la misma cadena original.\n",
    "\n",
    "4. Rodea la cadena c con > por la izquierda y < por la derecha (el mismo número) hasta un total de 80 caracteres.\n",
    "\n",
    "5. Dadas dos listas de números, crear una única lista que sea la combinación de las dos y ordenada\n",
    "\n",
    "6. Dada una lista, eliminar los elementos de las posiciones pares"
   ]
  },
  {
   "cell_type": "markdown",
   "metadata": {},
   "source": [
    "## Ejercicios bucles\n",
    "\n",
    "1. Dada una lista de cadenas, devolver cuantas de ellas tienen tamaño 2 o más y el primer y último carácter son el mismo. Entrada: ['aa', 'haa', 'hah', 'a', 'h'], salida: 2\n",
    "\n",
    "2. Dada una lista de cadenas, devolver una lista con las cadenas ordenadas, excepto las que empiezan por 'x' que van todas primero. Ejemplo: ['mix', 'xyz', 'apple', 'xanadu', 'aardvark'] produce ['xanadu', 'xyz', 'aardvark', 'apple', 'mix']\n",
    "\n",
    "3. Dada una lista de números, devolver una lista donde se eliminen repeticiones de los números adyacentes e iguales\n",
    "   Ejemplos: [9, 5, 6, 6, 8] devuelve [9, 5, 6, 8] pero [9, 5, 6, 6, 8, 6] devuelve también [9, 5, 6, 8, 6]\n",
    "\n",
    "4. Dada una cadena de palabras separadas por espacio, contar cuantas veces aparece cada palabra. Ejemplo: 'coche casa perro perro casa' imprime coche 1, casa 2, perro 2\n",
    "\n",
    "5. Encontrar todos los números de 3 dígitos de forma que todos sus dígitos son números pares."
   ]
  },
  {
   "cell_type": "markdown",
   "metadata": {},
   "source": [
    "## Ejercicios funciones\n",
    "\n",
    "1. Escribir una función que dada una cadena con palabras devuelva otra cadena pero con las palabras ordenadas. Ejemplo: 'gato,perro,casa,coche' devuelve 'casa,coche,gato,perro'\n",
    "\n",
    "2. Dadas dos listas ordenadas de menor a mayor, escribir una función que devuelva una lista que sea la combinación de ambas y esté ordenada pero sin usar el método sort()\n",
    "\n",
    "3. Escribir una función que calcule los números entre 2000 y 3200 (ambos incluidos) que sean divisibles por 7 pero no múltiplos de 5. Los números deben de imprimirse en una única línea, separados por comas.\n",
    "\n",
    "4. Escribir una función que dada cadena compuesta por números separados por comas devuelva una tupla de los números que contiene. Ejemplo: \"5,7,8,9,10,23\" resultado (5, 7, 8, 9, 10, 23)"
   ]
  },
  {
   "cell_type": "markdown",
   "metadata": {},
   "source": [
    "## Ejercicios ficheros\n",
    "\n",
    "* Dado un fichero de texto con múltiples filas de números y cada uno de los números separados por comas, leerlo en Python y calcular la media de cada una de las columnas\n",
    "\n",
    "* Dado un fichero de texto, encontrar las palabras que aparezcan en el mismo más de 200 veces. Se considera una palabra cualquier secuencia de letras separadas por espacios. Se deben de eliminar signos de puntuación.    \n",
    "*Avanzado*: opcionalmente se ignorarán las palabras contenidas en otro fichero de texto.     \n",
    "*Opcional*: hacer que los ficheros de texto se pasen al programa por medio de argumentos (`sys.argv`)"
   ]
  },
  {
   "cell_type": "code",
   "execution_count": null,
   "metadata": {},
   "outputs": [],
   "source": []
  }
 ],
 "metadata": {
  "kernelspec": {
   "display_name": "Python 3",
   "language": "python",
   "name": "python3"
  },
  "language_info": {
   "codemirror_mode": {
    "name": "ipython",
    "version": 3
   },
   "file_extension": ".py",
   "mimetype": "text/x-python",
   "name": "python",
   "nbconvert_exporter": "python",
   "pygments_lexer": "ipython3",
   "version": "3.7.4"
  }
 },
 "nbformat": 4,
 "nbformat_minor": 2
}
