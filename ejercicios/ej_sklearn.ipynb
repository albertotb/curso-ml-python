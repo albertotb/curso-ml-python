{
 "cells": [
  {
   "cell_type": "markdown",
   "metadata": {},
   "source": [
    "## Conjuntos de datos\n",
    "\n",
    "### Regresión\n",
    "\n",
    " * [House Sales in King County, USA](https://www.kaggle.com/harlfoxem/housesalesprediction)\n",
    " \n",
    " * [Ames Housing Data](https://www.kaggle.com/c/ames-housing-data)\n",
    " \n",
    "### Clasificación\n",
    "\n",
    " * [Adult](http://archive.ics.uci.edu/ml/datasets/Adult)\n",
    " * [Palmer penguins](https://github.com/allisonhorst/palmerpenguins)\n",
    " * [Mammography](https://www.openml.org/d/310)\n",
    " * [Titanic](https://www.kaggle.com/c/titanic)"
   ]
  },
  {
   "cell_type": "markdown",
   "metadata": {},
   "source": [
    "## Ejercicio\n",
    "\n",
    "Con el conjunto de datos elegido:\n",
    "\n",
    "  * Importar los datos en Python\n",
    "  \n",
    "  * Identificar la variable respuesta y ver si es un problema de regresión o clasificación\n",
    "  \n",
    "  * Ver el tipo de las variables ¿Cuales son numéricas? ¿Cuales son categóricas?\n",
    "  \n",
    "  * Ver si las variables tienen algún valor que falta\n",
    "  \n",
    "  * Partir los datos en entrenamiento y test\n",
    "  \n",
    "  * Elegir una estrategia para tratar los valores que faltan y aplicarla al conjunto de datos\n",
    "  \n",
    "  * Elegir una estrategia para convertir las variables numéricas en categóricas\n",
    "  \n",
    "  * ¿Tienen las variables rangos muy distintos? ¿Deberían escalarse? Elige una estrategia y aplícala\n",
    "  \n",
    "  * Elige un modelo dependiendo del tipo de problema y ajústalo a los datos\n",
    "  \n",
    "  * Elige los parámetros óptimos del modelo usando validación cruzada. ¿Consigues mejorar el rendimiento?\n",
    "  \n",
    "  * Prueba otros modelos. ¿Consigues mejorar los resultados? Recuerda que para comparar los modelos se debería de usar `cross_val_score` y no el conjunto de test"
   ]
  },
  {
   "cell_type": "code",
   "execution_count": null,
   "metadata": {},
   "outputs": [],
   "source": []
  }
 ],
 "metadata": {
  "kernelspec": {
   "display_name": "Python 3",
   "language": "python",
   "name": "python3"
  },
  "language_info": {
   "codemirror_mode": {
    "name": "ipython",
    "version": 3
   },
   "file_extension": ".py",
   "mimetype": "text/x-python",
   "name": "python",
   "nbconvert_exporter": "python",
   "pygments_lexer": "ipython3",
   "version": "3.8.10"
  }
 },
 "nbformat": 4,
 "nbformat_minor": 4
}
