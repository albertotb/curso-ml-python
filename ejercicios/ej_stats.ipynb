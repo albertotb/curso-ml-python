{
 "cells": [
  {
   "cell_type": "markdown",
   "metadata": {},
   "source": [
    "#### Ejercicio brain\n",
    "\n",
    "Con el conjuto de datos `brain_size.csv`:\n",
    "* Comprueba si la diferencia de peso en hombres y mujeres es estadísticamente significativa (umbral 0.05)\n",
    "* Usar un test no-paramétrico para comprobar si las diferencias en peso entre hombres y mujeres son estadísticamente significativas"
   ]
  },
  {
   "cell_type": "markdown",
   "metadata": {},
   "source": [
    "#### Ejercicio wages\n",
    "\n",
    "* Descargar los datos de: [http://lib.stat.cmu.edu/datasets/CPS_85_Wages](http://lib.stat.cmu.edu/datasets/CPS_85_Wages) y cargarlos \n",
    "* Realizar un test estadístico Chi-squared para ver si las variables categóricas 'gender' y 'race' son independientes (pista: función `pd.crosstab()` y `scipy.stats.chi2_contingency()`)\n",
    "* Ajustar una regresión lineal de los salarios ('wages') sobre las variables educación ('education') y género ('gender')"
   ]
  },
  {
   "cell_type": "markdown",
   "metadata": {},
   "source": [
    "#### Ejercicio binary\n",
    "\n",
    "Con el conjunto de datos [binary](https://stats.idre.ucla.edu/stat/data/binary.csv):\n",
    "\n",
    " 1. Cargar los datos \n",
    " 2. De que tipo son cada una de las columnas? \n",
    " 3. Hacer un histograma de todas las columnas para ver su distribución\n",
    " 4. Ajustar una regresión logística, usando como variable respuesta la columna `admit`\n",
    " 5. Calcula los odds ratio y sus intervalos de confianza \n",
    " 6. ¿Como cambia la probabilidad de ser admitido dependiendo del nivel de la universidad (`rank`)?"
   ]
  },
  {
   "cell_type": "markdown",
   "metadata": {},
   "source": [
    "#### Ejercicio regresión robusta\n",
    "\n",
    "* Representar un scatter plot del array y_true2 sobre la columna 1 de X2\n",
    "* Ajustar una regresión de X2 sobre y2 (`OLS`) y representarla en la misma gráfica. ¿Observas algún problema?\n",
    "* Realizar un gráfico de influencia del modelo (`statmodels.graphics.influence_plot`)\n",
    "* Ajustar ahora una regresión robusta (clase `RLM`) y añadir a la misma gráfica"
   ]
  },
  {
   "cell_type": "code",
   "execution_count": 7,
   "metadata": {},
   "outputs": [],
   "source": [
    "import numpy as np\n",
    "import statsmodels.api as sm\n",
    "import matplotlib.pyplot as plt\n",
    "\n",
    "nsample = 50\n",
    "x = np.linspace(0, 20, nsample)\n",
    "X = np.column_stack((np.ones(nsample), x))\n",
    "sig = 0.3 \n",
    "beta = [5, 0.5]\n",
    "y_true = np.dot(X, beta)\n",
    "y = y_true + sig*1. * np.random.normal(size=nsample)\n",
    "y[[39,41,43,45,48]] -= 5 "
   ]
  },
  {
   "cell_type": "markdown",
   "metadata": {},
   "source": [
    "#### Ejercicio titanic\n",
    "\n",
    "Con el conjunto de datos `titanic.csv`:\n",
    " * Hacer un gráfico de barras con el número de pasajeros que han muerto y los que han sobrevivido por género\n",
    " * Hacer un gráfico de barras con el número de personas que sobrevivieron en cada grupo de edad (0-10, 11-20, 21-30, etc) (pista: .cut())\n",
    " * Calcular la probabilidad de supervivencia en base al sexo y a la clase\n",
    " * Calcular la probabilidad de supervivencia en base la edad, al título y a la clase\n",
    " * En vista de lo anterior, completar ahora los valores que faltan de la edad con la mediana pero agrupada por título y clase. Pista: usar .transform() y ver que parámetros acepta .fillna()\n",
    " * Convertir las variables no numéricas en numéricas con `.get_dummies()`\n",
    " * Ajustar un modelo de regresión logística"
   ]
  },
  {
   "cell_type": "markdown",
   "metadata": {},
   "source": [
    "#### Ejercicio adult\n",
    "\n",
    "1. Carga en un DataFrame este dataset:\n",
    "https://archive.ics.uci.edu/ml/datasets/Census+Income\n",
    "2. Calcula la correlación entre las distintas columnas (`pd.DataFrame.corr()`) y represéntala en un `heatmap`. ¿Qué pasa con las columnas no numéricas?\n",
    "3. Representa las variables numéricas como un histograma y las no numéricas con un gráfico de barras\n",
    "4. Explora las distintas variables y su relación con `salary` (por ejemplo haciendo gráficos de barras donde el eje y representa el salario medio)\n",
    "5. Ajusta una regresión logística\n",
    "6. Ordenar los coeficientes y representarlos en un gráfico de barras"
   ]
  }
 ],
 "metadata": {
  "kernelspec": {
   "display_name": "Python 3",
   "language": "python",
   "name": "python3"
  },
  "language_info": {
   "codemirror_mode": {
    "name": "ipython",
    "version": 3
   },
   "file_extension": ".py",
   "mimetype": "text/x-python",
   "name": "python",
   "nbconvert_exporter": "python",
   "pygments_lexer": "ipython3",
   "version": "3.7.6"
  }
 },
 "nbformat": 4,
 "nbformat_minor": 2
}
