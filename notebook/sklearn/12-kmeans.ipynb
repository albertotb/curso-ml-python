{
 "cells": [
  {
   "cell_type": "markdown",
   "metadata": {},
   "source": [
    "## Clustering\n",
    "\n",
    "Los algoritmos de clustering son modelos de aprendizaje **no supervisado**\n",
    "\n",
    "Dado unos datos $X$, el objetivo es encontrar una agrupación que capture la estructura inherente en las variables\n",
    "\n",
    "El principal problema del aprendizaje **no supervisado** es que es muy complicado (sino imposible) cuantificar como de bueno es el modelo\n",
    "\n",
    "[Unsupervised learning](https://scikit-learn.org/stable/unsupervised_learning.html)"
   ]
  },
  {
   "cell_type": "markdown",
   "metadata": {},
   "source": [
    "### K-means\n",
    "\n",
    "Agrupa las muestras intentando minimizar la suma de las distancias al cuadrado dentro de cada grupo. Dado un valor de $k$, el algoritmo tiene 3 pasos:\n",
    "\n",
    "   1. Escoger $k$ puntos como los centroides iniciales de cada agrupación\n",
    "   \n",
    "   \n",
    "   2. Cada punto se asigna al grupo con centroide más cercano\n",
    "   \n",
    "   \n",
    "   3. Se vuelven a calcular los centroides como la media de los elementos de cada grupo\n",
    "   \n",
    "   \n",
    "   4. Repetir los pasos 2-3 hasta que el valor de los centroides no cambie casi nada\n",
    "   \n",
    "Además de k-means, scikit-learn también tiene implementaciones de otros algoritmos clásicos de clustering como DBSCAN, OPTICS, etc.\n",
    "\n",
    "[Clustering](https://scikit-learn.org/stable/modules/clustering.html)\n"
   ]
  },
  {
   "cell_type": "code",
   "execution_count": 1,
   "metadata": {},
   "outputs": [],
   "source": [
    "from sklearn.datasets import load_digits\n",
    "from sklearn.preprocessing import scale\n",
    "from sklearn.decomposition import PCA\n",
    "\n",
    "digits = load_digits(as_frame=True)\n",
    "X = scale(digits.data)\n",
    "\n",
    "pca = PCA(n_components = 2)\n",
    "X_pca = pca.fit_transform(X)"
   ]
  },
  {
   "cell_type": "code",
   "execution_count": 2,
   "metadata": {},
   "outputs": [
    {
     "data": {
      "text/plain": [
       "KMeans(n_clusters=10)"
      ]
     },
     "execution_count": 2,
     "metadata": {},
     "output_type": "execute_result"
    }
   ],
   "source": [
    "from sklearn.cluster import KMeans\n",
    "\n",
    "kmeans = KMeans(init='k-means++', n_clusters=10, n_init=10)\n",
    "kmeans.fit(X_pca)"
   ]
  },
  {
   "cell_type": "markdown",
   "metadata": {},
   "source": [
    "<img src=https://scikit-learn.org/stable/_images/sphx_glr_plot_kmeans_digits_001.png width=600>\n",
    "\n",
    "[A demo of K-Means clustering on the handwritten digits data](https://scikit-learn.org/stable/auto_examples/cluster/plot_kmeans_digits.html#sphx-glr-auto-examples-cluster-plot-kmeans-digits-py)"
   ]
  },
  {
   "cell_type": "code",
   "execution_count": null,
   "metadata": {},
   "outputs": [],
   "source": []
  }
 ],
 "metadata": {
  "kernelspec": {
   "display_name": "Python 3",
   "language": "python",
   "name": "python3"
  },
  "language_info": {
   "codemirror_mode": {
    "name": "ipython",
    "version": 3
   },
   "file_extension": ".py",
   "mimetype": "text/x-python",
   "name": "python",
   "nbconvert_exporter": "python",
   "pygments_lexer": "ipython3",
   "version": "3.7.6"
  }
 },
 "nbformat": 4,
 "nbformat_minor": 4
}
