{
 "cells": [
  {
   "cell_type": "markdown",
   "metadata": {},
   "source": [
    "## Modelos lineales para clasificación\n",
    "\n",
    "Podemos usar la función de la regresión lineal para intentar ajustar un modelo de clasificación:\n",
    "\n",
    "<img src=https://amueller.github.io/ml-workshop-2-of-4/slides/images/linear_boundary_vector.png width=400>\n",
    "\n",
    "$$\\hat{y}_i = f(x_i) = \\text{sign}\\big(w_0 + w_1x_1 + w_2x_2 + \\dots + w_dx_d\\big)$$\n",
    "\n",
    "Función de pérdida:\n",
    "\n",
    "$$L(y_i, \\hat{y_i}) = \\sum_{i=1}^{n} \\left\\{ \\begin{array}{cc} 0 & \\text{si } y_i = \\hat{y}_i \\\\ 1 & \\text{si } y_i \\neq \\hat{y}_i \\end{array} \\right.$$\n",
    "\n",
    "**Problema**: no podemos calcular derivadas, por tanto no podemos calcular los $w$ que minimizan la pérdida media"
   ]
  },
  {
   "cell_type": "markdown",
   "metadata": {},
   "source": [
    "### Regresión logística\n",
    "\n",
    "El equivalente a la regresión lineal para problemas de clasificación es la regresión logística. Reemplaza la pérdida zero-uno por una \"aproximación\", la pérdida logística:\n",
    "\n",
    "$$L(y_i, \\hat{y_i}) = \\log(\\exp(-y_i\\hat{y}_i) + 1)$$\n",
    "\n",
    "Comparación con la pérdida 0-1:\n",
    "\n",
    "<img src=../../img/loss_comparison.png width=500>"
   ]
  },
  {
   "cell_type": "code",
   "execution_count": 1,
   "metadata": {},
   "outputs": [],
   "source": [
    "from sklearn.datasets import fetch_openml\n",
    "from sklearn.model_selection import train_test_split\n",
    "\n",
    "blood = fetch_openml('blood-transfusion-service-center')"
   ]
  },
  {
   "cell_type": "code",
   "execution_count": 2,
   "metadata": {},
   "outputs": [],
   "source": [
    "X_train, X_test, y_train, y_test = train_test_split(blood.data, blood.target, random_state=0)"
   ]
  },
  {
   "cell_type": "code",
   "execution_count": 3,
   "metadata": {},
   "outputs": [
    {
     "data": {
      "text/plain": [
       "0.7165775401069518"
      ]
     },
     "execution_count": 3,
     "metadata": {},
     "output_type": "execute_result"
    }
   ],
   "source": [
    "from sklearn.linear_model import LogisticRegression\n",
    "\n",
    "lr = LogisticRegression(penalty='none')\n",
    "lr.fit(X_train, y_train)\n",
    "lr.score(X_test, y_test)"
   ]
  },
  {
   "cell_type": "code",
   "execution_count": 4,
   "metadata": {
    "scrolled": false
   },
   "outputs": [],
   "source": [
    "import pandas as pd\n",
    "prob = pd.DataFrame(lr.predict_proba(X_test), columns=['prob_clase_1', 'prob_clase_2'])\n",
    "prob['clase'] = lr.predict(X_test)"
   ]
  },
  {
   "cell_type": "code",
   "execution_count": 5,
   "metadata": {
    "scrolled": false
   },
   "outputs": [
    {
     "data": {
      "text/html": [
       "<style  type=\"text/css\" >\n",
       "    #T_d33160be_ad65_11ea_8bf2_8d3af8762e94row0_col0 {\n",
       "            background-color:  yellow;\n",
       "        }    #T_d33160be_ad65_11ea_8bf2_8d3af8762e94row1_col0 {\n",
       "            background-color:  yellow;\n",
       "        }    #T_d33160be_ad65_11ea_8bf2_8d3af8762e94row2_col0 {\n",
       "            background-color:  yellow;\n",
       "        }    #T_d33160be_ad65_11ea_8bf2_8d3af8762e94row3_col0 {\n",
       "            background-color:  yellow;\n",
       "        }    #T_d33160be_ad65_11ea_8bf2_8d3af8762e94row4_col1 {\n",
       "            background-color:  yellow;\n",
       "        }</style><table id=\"T_d33160be_ad65_11ea_8bf2_8d3af8762e94\" ><thead>    <tr>        <th class=\"blank level0\" ></th>        <th class=\"col_heading level0 col0\" >prob_clase_1</th>        <th class=\"col_heading level0 col1\" >prob_clase_2</th>        <th class=\"col_heading level0 col2\" >clase</th>    </tr></thead><tbody>\n",
       "                <tr>\n",
       "                        <th id=\"T_d33160be_ad65_11ea_8bf2_8d3af8762e94level0_row0\" class=\"row_heading level0 row0\" >0</th>\n",
       "                        <td id=\"T_d33160be_ad65_11ea_8bf2_8d3af8762e94row0_col0\" class=\"data row0 col0\" >0.751464</td>\n",
       "                        <td id=\"T_d33160be_ad65_11ea_8bf2_8d3af8762e94row0_col1\" class=\"data row0 col1\" >0.248536</td>\n",
       "                        <td id=\"T_d33160be_ad65_11ea_8bf2_8d3af8762e94row0_col2\" class=\"data row0 col2\" >1</td>\n",
       "            </tr>\n",
       "            <tr>\n",
       "                        <th id=\"T_d33160be_ad65_11ea_8bf2_8d3af8762e94level0_row1\" class=\"row_heading level0 row1\" >1</th>\n",
       "                        <td id=\"T_d33160be_ad65_11ea_8bf2_8d3af8762e94row1_col0\" class=\"data row1 col0\" >0.569721</td>\n",
       "                        <td id=\"T_d33160be_ad65_11ea_8bf2_8d3af8762e94row1_col1\" class=\"data row1 col1\" >0.430279</td>\n",
       "                        <td id=\"T_d33160be_ad65_11ea_8bf2_8d3af8762e94row1_col2\" class=\"data row1 col2\" >1</td>\n",
       "            </tr>\n",
       "            <tr>\n",
       "                        <th id=\"T_d33160be_ad65_11ea_8bf2_8d3af8762e94level0_row2\" class=\"row_heading level0 row2\" >2</th>\n",
       "                        <td id=\"T_d33160be_ad65_11ea_8bf2_8d3af8762e94row2_col0\" class=\"data row2 col0\" >0.568277</td>\n",
       "                        <td id=\"T_d33160be_ad65_11ea_8bf2_8d3af8762e94row2_col1\" class=\"data row2 col1\" >0.431723</td>\n",
       "                        <td id=\"T_d33160be_ad65_11ea_8bf2_8d3af8762e94row2_col2\" class=\"data row2 col2\" >1</td>\n",
       "            </tr>\n",
       "            <tr>\n",
       "                        <th id=\"T_d33160be_ad65_11ea_8bf2_8d3af8762e94level0_row3\" class=\"row_heading level0 row3\" >3</th>\n",
       "                        <td id=\"T_d33160be_ad65_11ea_8bf2_8d3af8762e94row3_col0\" class=\"data row3 col0\" >0.576968</td>\n",
       "                        <td id=\"T_d33160be_ad65_11ea_8bf2_8d3af8762e94row3_col1\" class=\"data row3 col1\" >0.423032</td>\n",
       "                        <td id=\"T_d33160be_ad65_11ea_8bf2_8d3af8762e94row3_col2\" class=\"data row3 col2\" >1</td>\n",
       "            </tr>\n",
       "            <tr>\n",
       "                        <th id=\"T_d33160be_ad65_11ea_8bf2_8d3af8762e94level0_row4\" class=\"row_heading level0 row4\" >4</th>\n",
       "                        <td id=\"T_d33160be_ad65_11ea_8bf2_8d3af8762e94row4_col0\" class=\"data row4 col0\" >0.133358</td>\n",
       "                        <td id=\"T_d33160be_ad65_11ea_8bf2_8d3af8762e94row4_col1\" class=\"data row4 col1\" >0.866642</td>\n",
       "                        <td id=\"T_d33160be_ad65_11ea_8bf2_8d3af8762e94row4_col2\" class=\"data row4 col2\" >2</td>\n",
       "            </tr>\n",
       "    </tbody></table>"
      ],
      "text/plain": [
       "<pandas.io.formats.style.Styler at 0x7efe21c6de10>"
      ]
     },
     "execution_count": 5,
     "metadata": {},
     "output_type": "execute_result"
    }
   ],
   "source": [
    "def highlight_max(s):\n",
    "    '''\n",
    "    highlight the maximum in a Series yellow.\n",
    "    '''\n",
    "    is_max = s == s.max()\n",
    "    return ['background-color: yellow' if v else '' for v in is_max]\n",
    "\n",
    "prob.head(5).style.apply(highlight_max, subset=['prob_clase_1', 'prob_clase_2'], axis=1)"
   ]
  },
  {
   "cell_type": "markdown",
   "metadata": {},
   "source": [
    "### Regresión logística regularizada\n",
    "\n",
    "Al igual que añadimos un término de regularización a la regresión lineal, podemos añadirlo también a la regresión logística. En este caso no hay clases específicas, sino que hay que ajustar los valores del parámetro `penalty`:\n",
    "\n",
    "   * `penalty=l1`, regularización $l_1$ (como Lasso)\n",
    "   * `penalty=l2`, regularización $l_2$ (como Ridge)\n",
    "   * `penalty=elasticnet`, regularización $l_1$ + regularización $l_2$ (como ElasticNet)\n",
    "   \n",
    "**Ojo**: por defecto la clase `LogisticRegression` incluye regularización $l_2$ (`penalty=l2`)\n",
    "\n",
    "Podemos usar la clase `LogisticRegressionCV` para buscar automáticamente el valor óptimo de los parámetros `C` y `l1_ratio`"
   ]
  },
  {
   "cell_type": "code",
   "execution_count": 6,
   "metadata": {},
   "outputs": [],
   "source": [
    "from sklearn.datasets import load_breast_cancer\n",
    "breast = load_breast_cancer()\n",
    "X_train, X_test, y_train, y_test = train_test_split(breast.data, breast.target, random_state=42)"
   ]
  },
  {
   "cell_type": "code",
   "execution_count": 7,
   "metadata": {},
   "outputs": [
    {
     "name": "stderr",
     "output_type": "stream",
     "text": [
      "/home/alberto/miniconda3/lib/python3.7/site-packages/sklearn/linear_model/_logistic.py:764: ConvergenceWarning: lbfgs failed to converge (status=1):\n",
      "STOP: TOTAL NO. of ITERATIONS REACHED LIMIT.\n",
      "\n",
      "Increase the number of iterations (max_iter) or scale the data as shown in:\n",
      "    https://scikit-learn.org/stable/modules/preprocessing.html\n",
      "Please also refer to the documentation for alternative solver options:\n",
      "    https://scikit-learn.org/stable/modules/linear_model.html#logistic-regression\n",
      "  extra_warning_msg=_LOGISTIC_SOLVER_CONVERGENCE_MSG)\n"
     ]
    },
    {
     "data": {
      "text/plain": [
       "0.965034965034965"
      ]
     },
     "execution_count": 7,
     "metadata": {},
     "output_type": "execute_result"
    }
   ],
   "source": [
    "lr = LogisticRegression()\n",
    "lr.fit(X_train, y_train)\n",
    "lr.score(X_test, y_test)"
   ]
  },
  {
   "cell_type": "code",
   "execution_count": 8,
   "metadata": {},
   "outputs": [],
   "source": [
    "from sklearn.preprocessing import StandardScaler\n",
    "\n",
    "scaler = StandardScaler()\n",
    "X_train_std = scaler.fit_transform(X_train)\n",
    "X_test_std = scaler.transform(X_test)"
   ]
  },
  {
   "cell_type": "code",
   "execution_count": 9,
   "metadata": {
    "scrolled": false
   },
   "outputs": [
    {
     "data": {
      "text/plain": [
       "0.986013986013986"
      ]
     },
     "execution_count": 9,
     "metadata": {},
     "output_type": "execute_result"
    }
   ],
   "source": [
    "from sklearn.linear_model import LogisticRegressionCV\n",
    "\n",
    "lrcv = LogisticRegressionCV(Cs=10, solver='liblinear')\n",
    "lrcv.fit(X_train_std, y_train)\n",
    "lrcv.score(X_test_std, y_test)"
   ]
  },
  {
   "cell_type": "code",
   "execution_count": 10,
   "metadata": {},
   "outputs": [
    {
     "data": {
      "text/plain": [
       "array([0.04641589])"
      ]
     },
     "execution_count": 10,
     "metadata": {},
     "output_type": "execute_result"
    }
   ],
   "source": [
    "lrcv.C_"
   ]
  },
  {
   "cell_type": "markdown",
   "metadata": {},
   "source": [
    "### Métricas de clasificación\n",
    "\n",
    "La mayoría de métricas se pueden derivar de la [matriz de confusión](https://en.wikipedia.org/wiki/Confusion_matrix):\n",
    "\n",
    "<img src=../../img/confusion_matrix.png width=250>\n",
    "\n",
    " * Accuracy: $\\frac{\\text{TP} + \\text{TN}}{\\text{P} + \\text{N}}$\n",
    " \n",
    " \n",
    " * Sensitivity, recall, TPR: $\\frac{\\text{TP}}{\\text{TP} + \\text{FN}}$\n",
    "\n",
    "\n",
    " * Specificity, TNR: $\\frac{\\text{TN}}{\\text{TN} + \\text{FP}}$\n",
    "\n",
    "\n",
    " * Precision, PPV: $\\frac{\\text{TP}}{\\text{TP} + \\text{FP}}$\n",
    "\n",
    "\n",
    " * F1 score: $2\\times \\frac{\\text{PPV} \\times \\text{TPR}}{\\text{PPV} + \\text{TPR}}$\n",
    "\n",
    "Las etiquetas positivo y negativo son arbitrarias, aunque se suelen denominar ejemplos positivos a la clase minoritaria.\n",
    "\n",
    " * Documentación API: [metrics](https://scikit-learn.org/stable/modules/classes.html#classification-metrics)\n",
    " \n",
    " * Guía de usuario: [Metrics and scoring: quantifying the quality of predictions](https://scikit-learn.org/stable/modules/model_evaluation.html#classification-metrics)\n",
    "\n",
    " * [Visualizations with Display Objects](https://scikit-learn.org/stable/auto_examples/miscellaneous/plot_display_object_visualization.html#sphx-glr-auto-examples-miscellaneous-plot-display-object-visualization-py)"
   ]
  },
  {
   "cell_type": "code",
   "execution_count": 11,
   "metadata": {},
   "outputs": [
    {
     "data": {
      "text/html": [
       "<div>\n",
       "<style scoped>\n",
       "    .dataframe tbody tr th:only-of-type {\n",
       "        vertical-align: middle;\n",
       "    }\n",
       "\n",
       "    .dataframe tbody tr th {\n",
       "        vertical-align: top;\n",
       "    }\n",
       "\n",
       "    .dataframe thead th {\n",
       "        text-align: right;\n",
       "    }\n",
       "</style>\n",
       "<table border=\"1\" class=\"dataframe\">\n",
       "  <thead>\n",
       "    <tr style=\"text-align: right;\">\n",
       "      <th></th>\n",
       "      <th>pred_0</th>\n",
       "      <th>pred_1</th>\n",
       "    </tr>\n",
       "  </thead>\n",
       "  <tbody>\n",
       "    <tr>\n",
       "      <th>real_0</th>\n",
       "      <td>51</td>\n",
       "      <td>3</td>\n",
       "    </tr>\n",
       "    <tr>\n",
       "      <th>real_1</th>\n",
       "      <td>2</td>\n",
       "      <td>87</td>\n",
       "    </tr>\n",
       "  </tbody>\n",
       "</table>\n",
       "</div>"
      ],
      "text/plain": [
       "        pred_0  pred_1\n",
       "real_0      51       3\n",
       "real_1       2      87"
      ]
     },
     "execution_count": 11,
     "metadata": {},
     "output_type": "execute_result"
    }
   ],
   "source": [
    "from sklearn.metrics import confusion_matrix, plot_confusion_matrix\n",
    "\n",
    "ypred = lr.predict(X_test)\n",
    "cm = confusion_matrix(y_test, ypred)\n",
    "\n",
    "pd.DataFrame(cm, index=['real_0', 'real_1'], columns=['pred_0', 'pred_1'])"
   ]
  },
  {
   "cell_type": "code",
   "execution_count": 12,
   "metadata": {},
   "outputs": [
    {
     "data": {
      "image/png": "[encoded data removed]",
      "text/plain": [
       "<Figure size 216x216 with 2 Axes>"
      ]
     },
     "metadata": {
      "needs_background": "light"
     },
     "output_type": "display_data"
    }
   ],
   "source": [
    "import matplotlib.pyplot as plt\n",
    "fig, ax = plt.subplots(figsize=(3, 3))\n",
    "plot_confusion_matrix(lr, X_test, y_test, cmap='gray_r', ax=ax);"
   ]
  },
  {
   "cell_type": "code",
   "execution_count": 13,
   "metadata": {},
   "outputs": [
    {
     "name": "stdout",
     "output_type": "stream",
     "text": [
      "51\n",
      "87\n",
      "3\n",
      "2\n"
     ]
    }
   ],
   "source": [
    "tn, fp, fn, tp = cm.ravel()\n",
    "print(tn)\n",
    "print(tp)\n",
    "print(fp)\n",
    "print(fn)"
   ]
  },
  {
   "cell_type": "markdown",
   "metadata": {},
   "source": [
    "### Problemas de clasificación no balanceados\n",
    "\n",
    "La tasa de acierto no es útil para problemas donde una clase está mucho menos representada que otra:"
   ]
  },
  {
   "cell_type": "code",
   "execution_count": 14,
   "metadata": {},
   "outputs": [
    {
     "data": {
      "text/plain": [
       "0    576\n",
       "1     49\n",
       "Name: balance, dtype: int64"
      ]
     },
     "execution_count": 14,
     "metadata": {},
     "output_type": "execute_result"
    }
   ],
   "source": [
    "import pandas as pd\n",
    "df = pd.read_csv('../../data/balance-scale.data',  names=['balance', 'var1', 'var2', 'var3', 'var4'])\n",
    "\n",
    "df['balance'] = [1 if b=='B' else 0 for b in df['balance']]\n",
    "df['balance'].value_counts()"
   ]
  },
  {
   "cell_type": "code",
   "execution_count": 15,
   "metadata": {},
   "outputs": [
    {
     "name": "stdout",
     "output_type": "stream",
     "text": [
      "92.16\n"
     ]
    }
   ],
   "source": [
    "from sklearn.linear_model import LogisticRegression\n",
    "from sklearn.metrics import confusion_matrix, f1_score, classification_report, plot_confusion_matrix\n",
    "\n",
    "X = df.drop(columns='balance').values\n",
    "y = df['balance'].values\n",
    "\n",
    "model = LogisticRegression(solver='liblinear')\n",
    "model.fit(X, y)\n",
    "ypred = model.predict(X)\n",
    "print(model.score(X, y) * 100)"
   ]
  },
  {
   "cell_type": "code",
   "execution_count": 16,
   "metadata": {},
   "outputs": [
    {
     "data": {
      "image/png": "[encoded data removed]",
      "text/plain": [
       "<Figure size 216x216 with 2 Axes>"
      ]
     },
     "metadata": {
      "needs_background": "light"
     },
     "output_type": "display_data"
    }
   ],
   "source": [
    "import matplotlib.pyplot as plt\n",
    "fig, ax = plt.subplots(figsize=(3, 3))\n",
    "plot_confusion_matrix(model, X, y, cmap='gray_r', ax=ax);"
   ]
  },
  {
   "cell_type": "code",
   "execution_count": 17,
   "metadata": {},
   "outputs": [
    {
     "name": "stdout",
     "output_type": "stream",
     "text": [
      "              precision    recall  f1-score   support\n",
      "\n",
      "           0       0.92      1.00      0.96       576\n",
      "           1       0.00      0.00      0.00        49\n",
      "\n",
      "    accuracy                           0.92       625\n",
      "   macro avg       0.46      0.50      0.48       625\n",
      "weighted avg       0.85      0.92      0.88       625\n",
      "\n"
     ]
    }
   ],
   "source": [
    "print(classification_report(y, ypred, zero_division=0))"
   ]
  },
  {
   "cell_type": "markdown",
   "metadata": {},
   "source": [
    "Tasa de acierto balanceada: 0.5 por predicciones aleatorias, igual a la tasa de acierto para datos balanceados:\n",
    "\n",
    "$$\\text{tasa_acierto_balanceada} = \\frac{1}{2}\\left(\\frac{\\text{TP}}{\\text{TP} + \\text{FN}} + \\frac{\\text{TN}}{\\text{TN} + \\text{FP}}\\right)$$"
   ]
  },
  {
   "cell_type": "code",
   "execution_count": 18,
   "metadata": {},
   "outputs": [
    {
     "data": {
      "text/plain": [
       "0.5"
      ]
     },
     "execution_count": 18,
     "metadata": {},
     "output_type": "execute_result"
    }
   ],
   "source": [
    "from sklearn.metrics import balanced_accuracy_score\n",
    "\n",
    "balanced_accuracy_score(y, ypred)"
   ]
  },
  {
   "cell_type": "markdown",
   "metadata": {},
   "source": [
    "#### Ejemplo breast-cancer"
   ]
  },
  {
   "cell_type": "code",
   "execution_count": 19,
   "metadata": {},
   "outputs": [],
   "source": [
    "import pandas as pd\n",
    "\n",
    "data = pd.read_csv(\"../../data/breast-cancer.data\", header=None, na_values='?')"
   ]
  },
  {
   "cell_type": "code",
   "execution_count": 20,
   "metadata": {},
   "outputs": [],
   "source": [
    "data_clean = data.dropna()\n",
    "\n",
    "X = pd.get_dummies(data_clean.drop(columns=9))\n",
    "y = (data_clean.iloc[:, 9] == 'yes').astype('int')"
   ]
  },
  {
   "cell_type": "code",
   "execution_count": 21,
   "metadata": {},
   "outputs": [
    {
     "data": {
      "text/plain": [
       "0    215\n",
       "1     62\n",
       "Name: 9, dtype: int64"
      ]
     },
     "execution_count": 21,
     "metadata": {},
     "output_type": "execute_result"
    }
   ],
   "source": [
    "pd.Series(y).value_counts()"
   ]
  },
  {
   "cell_type": "code",
   "execution_count": 22,
   "metadata": {},
   "outputs": [
    {
     "name": "stdout",
     "output_type": "stream",
     "text": [
      "              precision    recall  f1-score   support\n",
      "\n",
      "           0       0.80      0.94      0.86        54\n",
      "           1       0.50      0.19      0.27        16\n",
      "\n",
      "    accuracy                           0.77        70\n",
      "   macro avg       0.65      0.57      0.57        70\n",
      "weighted avg       0.73      0.77      0.73        70\n",
      "\n",
      "0.7714285714285715\n"
     ]
    },
    {
     "data": {
      "text/plain": [
       "0.5659722222222222"
      ]
     },
     "execution_count": 22,
     "metadata": {},
     "output_type": "execute_result"
    }
   ],
   "source": [
    "from sklearn.model_selection import train_test_split\n",
    "\n",
    "X_train, X_test, y_train, y_test = train_test_split(X, y, stratify=y, random_state=0)\n",
    "\n",
    "model = LogisticRegression(solver='liblinear')\n",
    "model.fit(X_train, y_train)\n",
    "\n",
    "ypred = model.predict(X_test)\n",
    "print(classification_report(y_test, ypred, zero_division=0))\n",
    "print(model.score(X_test, y_test))\n",
    "balanced_accuracy_score(y_test, ypred)"
   ]
  },
  {
   "cell_type": "markdown",
   "metadata": {},
   "source": [
    "#### Cambiar umbral de probabilidad"
   ]
  },
  {
   "cell_type": "code",
   "execution_count": 23,
   "metadata": {},
   "outputs": [
    {
     "name": "stdout",
     "output_type": "stream",
     "text": [
      "              precision    recall  f1-score   support\n",
      "\n",
      "           0       0.83      0.56      0.67        54\n",
      "           1       0.29      0.62      0.40        16\n",
      "\n",
      "    accuracy                           0.57        70\n",
      "   macro avg       0.56      0.59      0.53        70\n",
      "weighted avg       0.71      0.57      0.61        70\n",
      "\n",
      "0.5902777777777778\n"
     ]
    }
   ],
   "source": [
    "ypred = model.predict_proba(X_test)[:, 1] > 0.2\n",
    "print(classification_report(y_test, ypred, zero_division=0))\n",
    "print(balanced_accuracy_score(y_test, ypred))"
   ]
  },
  {
   "cell_type": "code",
   "execution_count": 24,
   "metadata": {},
   "outputs": [
    {
     "data": {
      "image/png": "[encoded data removed]",
      "text/plain": [
       "<Figure size 432x288 with 1 Axes>"
      ]
     },
     "metadata": {
      "needs_background": "light"
     },
     "output_type": "display_data"
    }
   ],
   "source": [
    "from sklearn.metrics import plot_precision_recall_curve, plot_roc_curve\n",
    "\n",
    "plot_roc_curve(model, X_test, y_test, name='logistic regression');"
   ]
  },
  {
   "cell_type": "markdown",
   "metadata": {},
   "source": [
    "#### Pesos para cada clase\n",
    "\n",
    "* Se pueden asignar pesos distintos a la función de pérdida para que tenga más en cuenta las muestras de la clase minoritaria. \n",
    "\n",
    "* Funciona para la mayoría de modelos de scikit-learn (atributo `class_weight`)"
   ]
  },
  {
   "cell_type": "code",
   "execution_count": 25,
   "metadata": {},
   "outputs": [
    {
     "data": {
      "text/plain": [
       "array([0.64285714, 2.25      ])"
      ]
     },
     "execution_count": 25,
     "metadata": {},
     "output_type": "execute_result"
    }
   ],
   "source": [
    "import numpy as np\n",
    "from sklearn.utils.class_weight import compute_class_weight\n",
    "\n",
    "compute_class_weight('balanced', classes=np.unique(y_train), y=y_train)"
   ]
  },
  {
   "cell_type": "code",
   "execution_count": 26,
   "metadata": {},
   "outputs": [
    {
     "data": {
      "image/png": "[encoded data removed]",
      "text/plain": [
       "<Figure size 432x288 with 1 Axes>"
      ]
     },
     "metadata": {
      "needs_background": "light"
     },
     "output_type": "display_data"
    }
   ],
   "source": [
    "model = LogisticRegression(solver='liblinear', class_weight='balanced')\n",
    "model.fit(X_train, y_train)\n",
    "plot_roc_curve(model, X_test, y_test, name='logistic regression');"
   ]
  },
  {
   "cell_type": "markdown",
   "metadata": {},
   "source": [
    "#### Buscar parámetros usando otras métricas "
   ]
  },
  {
   "cell_type": "code",
   "execution_count": 27,
   "metadata": {},
   "outputs": [
    {
     "data": {
      "text/plain": [
       "{'C': 0.046415888336127774, 'penalty': 'l2'}"
      ]
     },
     "execution_count": 27,
     "metadata": {},
     "output_type": "execute_result"
    }
   ],
   "source": [
    "from sklearn.model_selection import GridSearchCV\n",
    "\n",
    "param_grid = {'C': np.logspace(-4, 4, 10),\n",
    "              'penalty': ['l1', 'l2']}\n",
    "\n",
    "grid = GridSearchCV(LogisticRegression(class_weight='balanced', solver='liblinear'), \n",
    "                    param_grid=param_grid, \n",
    "                    cv=10, \n",
    "                    scoring=['roc_auc', 'balanced_accuracy'], \n",
    "                    refit='roc_auc')\n",
    "\n",
    "grid.fit(X_train, y_train)\n",
    "grid.best_params_"
   ]
  },
  {
   "cell_type": "code",
   "execution_count": 28,
   "metadata": {},
   "outputs": [
    {
     "data": {
      "text/plain": [
       "0.6753472222222222"
      ]
     },
     "execution_count": 28,
     "metadata": {},
     "output_type": "execute_result"
    }
   ],
   "source": [
    "grid.score(X_test, y_test)"
   ]
  },
  {
   "cell_type": "markdown",
   "metadata": {},
   "source": [
    "Lista completa de métricas: [The scoring parameter: defining model evaluation rules](https://scikit-learn.org/stable/modules/model_evaluation.html#scoring-parameter)\n",
    "\n",
    "Existen también otras estrategias implementadas en la librería [imbalanced-learn](https://imbalanced-learn.org/stable/)\n",
    "\n",
    "Más información: [Andreas C. Müller. Imbalanced Data](https://amueller.github.io/ml-workshop-4-of-4/slides/01-imbalanced-data.html#1)"
   ]
  },
  {
   "cell_type": "code",
   "execution_count": 29,
   "metadata": {},
   "outputs": [],
   "source": [
    "import pandas as pd\n",
    "from sklearn.model_selection import GridSearchCV, train_test_split\n",
    "from sklearn.preprocessing import StandardScaler, OneHotEncoder\n",
    "from sklearn.ensemble import RandomForestClassifier\n",
    "from sklearn.compose import make_column_transformer, make_column_selector\n",
    "from sklearn.pipeline import Pipeline, make_pipeline"
   ]
  },
  {
   "cell_type": "code",
   "execution_count": 30,
   "metadata": {},
   "outputs": [],
   "source": [
    "data = pd.read_csv('../../data/adult.csv', na_values = '?', index_col=0)\n",
    "\n",
    "data = data.dropna()\n",
    "\n",
    "X = data.drop(columns='income')\n",
    "y = data['income']\n",
    "\n",
    "X_train, X_test, y_train, y_test = train_test_split(X, y, stratify=y, random_state=0)"
   ]
  },
  {
   "cell_type": "code",
   "execution_count": 31,
   "metadata": {},
   "outputs": [],
   "source": [
    "preprocessing = make_column_transformer(\n",
    "    (OneHotEncoder(handle_unknown='ignore'), make_column_selector(dtype_exclude='number')),\n",
    "    remainder=StandardScaler()\n",
    ")\n",
    "\n",
    "pipe = make_pipeline(preprocessing, RandomForestClassifier())"
   ]
  },
  {
   "cell_type": "code",
   "execution_count": 32,
   "metadata": {},
   "outputs": [],
   "source": [
    "param_grid = {'randomforestclassifier__n_estimators': [100, 250, 500],  \n",
    "              'randomforestclassifier__max_depth': [None, 2, 4, 8],\n",
    "              'randomforestclassifier__min_samples_split': [2, 3, 4],\n",
    "              'randomforestclassifier__max_leaf_nodes': [5, 10]}\n",
    "\n",
    "grid = GridSearchCV(pipe, param_grid=param_grid, cv=5)"
   ]
  },
  {
   "cell_type": "code",
   "execution_count": 33,
   "metadata": {},
   "outputs": [
    {
     "data": {
      "text/plain": [
       "GridSearchCV(cv=5,\n",
       "             estimator=Pipeline(steps=[('columntransformer',\n",
       "                                        ColumnTransformer(remainder=StandardScaler(),\n",
       "                                                          transformers=[('onehotencoder',\n",
       "                                                                         OneHotEncoder(handle_unknown='ignore'),\n",
       "                                                                         <sklearn.compose._column_transformer.make_column_selector object at 0x7efe1e9844d0>)])),\n",
       "                                       ('randomforestclassifier',\n",
       "                                        RandomForestClassifier())]),\n",
       "             param_grid={'randomforestclassifier__max_depth': [None, 2, 4, 8],\n",
       "                         'randomforestclassifier__max_leaf_nodes': [5, 10],\n",
       "                         'randomforestclassifier__min_samples_split': [2, 3, 4],\n",
       "                         'randomforestclassifier__n_estimators': [100, 250,\n",
       "                                                                  500]})"
      ]
     },
     "execution_count": 33,
     "metadata": {},
     "output_type": "execute_result"
    }
   ],
   "source": [
    "grid.fit(X_train, y_train)"
   ]
  },
  {
   "cell_type": "markdown",
   "metadata": {},
   "source": [
    "### Ejercicios\n",
    "\n",
    "#### Ejercicio 1\n",
    "\n",
    "Carga el conjunto de datos `adult.csv` usando pandas:\n",
    "\n",
    "   * Transforma las variables categóricas usando codificación *one-hot*\n",
    "   \n",
    "   * Escala las variables para que tengan media 0 y desviación 1\n",
    "   \n",
    "   * Ajusta un modelo de regresión logística y visualiza los coeficientes\n",
    "   \n",
    "   * Busca el valor óptimo del parámetro $C$ usando validación cruzada\n",
    "   \n",
    "   * Prueba ahora con regularización `elasticnet` y busca el valor óptimo del parámetro `l1_ratio`\n",
    "\n",
    "#### Ejercicio 2\n",
    "\n",
    "Carga el conjunto de datos `bank-campaign.csv`:\n",
    "\n",
    "  * Ver el tipo de las variables y transformar a numérica si es necesario\n",
    "  \n",
    "  * Ver la proporción de ejemplos de cada clase (variable `target`)\n",
    "  \n",
    "  * Dividir en entrenamiento-test y ajustat un clasificador.\n",
    "  \n",
    "  * Mostrar la matriz de confusión. ¿Ha aprendido algo el clasificador? ¿Como podemos solucionarlo?\n",
    "  \n",
    "  * Mostrar la curva ROC\n",
    "\n",
    "#### Ejercicio 3\n",
    "\n",
    "Carga el conjunto de datos `titanic.csv` usando pandas:\n",
    "\n",
    "   * Eliminar las variables `Cabin` y `Name`\n",
    "\n",
    "   * Completar los valores que faltan en la edad con la media\n",
    "\n",
    "   * Convertir las variables no numéricas en numéricas con `.get_dummies()`\n",
    "   \n",
    "   * Particionar el conjunto en train/test\n",
    "   \n",
    "   * Normalizar las variables para que tengan media 0 y varianza 1\n",
    "   \n",
    "   * Ajustar un modelo de Regresión Logística. Prueba con distintas regularizaciones\n",
    "   \n",
    "   * Realizar un gráfico de los coeficientes\n",
    "   \n",
    "   * Calcular la matriz de confusión, f1-score, precision y recall en el conjunto de test. ¿Como se interpretan estos resultados? ¿Observas algún problema?\n",
    "   \n",
    "   * Buscar los parámetros óptimos del modelo usando validación cruzada"
   ]
  },
  {
   "cell_type": "code",
   "execution_count": null,
   "metadata": {},
   "outputs": [],
   "source": []
  }
 ],
 "metadata": {
  "kernelspec": {
   "display_name": "Python 3.7.6 64-bit ('base': conda)",
   "language": "python",
   "name": "python37664bitbaseconda780c43d64e6643e3b96d201a5897b5b6"
  },
  "language_info": {
   "codemirror_mode": {
    "name": "ipython",
    "version": 3
   },
   "file_extension": ".py",
   "mimetype": "text/x-python",
   "name": "python",
   "nbconvert_exporter": "python",
   "pygments_lexer": "ipython3",
   "version": "3.7.6"
  }
 },
 "nbformat": 4,
 "nbformat_minor": 4
}
