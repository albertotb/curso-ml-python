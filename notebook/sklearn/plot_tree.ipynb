{
 "cells": [
  {
   "cell_type": "code",
   "execution_count": 1,
   "metadata": {},
   "outputs": [],
   "source": [
    "# Fuente: https://towardsdatascience.com/interactive-visualization-of-decision-trees-with-jupyter-widgets-ca15dd312084\n",
    "# Instalar los paquetes de python adicionales (descomentar las siguientes lineas y ejecutar la celda):"
   ]
  },
  {
   "cell_type": "code",
   "execution_count": 2,
   "metadata": {},
   "outputs": [],
   "source": [
    "#%pip install ipywidgets\n",
    "#%conda install python-graphviz"
   ]
  },
  {
   "cell_type": "code",
   "execution_count": 3,
   "metadata": {},
   "outputs": [
    {
     "data": {
      "application/vnd.jupyter.widget-view+json": {
       "model_id": "d0b8fca1c3944247abe9f5b86ff903a9",
       "version_major": 2,
       "version_minor": 0
      },
      "text/plain": [
       "interactive(children=(Dropdown(description='crit', options=('gini', 'entropy'), value='gini'), Dropdown(descri…"
      ]
     },
     "metadata": {},
     "output_type": "display_data"
    }
   ],
   "source": [
    "from sklearn.tree import DecisionTreeClassifier, export_graphviz\n",
    "from sklearn import tree\n",
    "from sklearn.datasets import load_wine\n",
    "from IPython.display import SVG\n",
    "from graphviz import Source\n",
    "from IPython.display import display                               \n",
    "from ipywidgets import interactive\n",
    "\n",
    "# load dataset\n",
    "data = load_wine()\n",
    "# feature matrix\n",
    "X = data.data\n",
    "# target vector\n",
    "y = data.target\n",
    "\n",
    "def plot_tree(crit, split, depth, min_split, min_leaf=0.2):\n",
    "    \n",
    "    estimator = DecisionTreeClassifier(random_state = 0 \n",
    "          , criterion = crit\n",
    "          , splitter = split\n",
    "          , max_depth = depth\n",
    "          , min_samples_split=min_split\n",
    "          , min_samples_leaf=min_leaf)\n",
    "    estimator.fit(X, y)\n",
    "    graph = Source(tree.export_graphviz(estimator\n",
    "          , out_file=None\n",
    "          , feature_names=data.feature_names\n",
    "          , class_names=data.target_names\n",
    "          , filled = True))\n",
    "\n",
    "    display(SVG(graph.pipe(format='svg')))\n",
    "    return estimator\n",
    "\n",
    "inter=interactive(plot_tree \n",
    "   , crit = [\"gini\", \"entropy\"]\n",
    "   , split = [\"best\", \"random\"]\n",
    "   , depth=[1,2,3,4]\n",
    "   , min_split=(0.1,1)\n",
    "   , min_leaf=(0.1,0.5))\n",
    "display(inter)"
   ]
  },
  {
   "cell_type": "code",
   "execution_count": null,
   "metadata": {},
   "outputs": [],
   "source": []
  }
 ],
 "metadata": {
  "kernelspec": {
   "display_name": "Python 3",
   "language": "python",
   "name": "python3"
  },
  "language_info": {
   "codemirror_mode": {
    "name": "ipython",
    "version": 3
   },
   "file_extension": ".py",
   "mimetype": "text/x-python",
   "name": "python",
   "nbconvert_exporter": "python",
   "pygments_lexer": "ipython3",
   "version": "3.7.6"
  }
 },
 "nbformat": 4,
 "nbformat_minor": 4
}
