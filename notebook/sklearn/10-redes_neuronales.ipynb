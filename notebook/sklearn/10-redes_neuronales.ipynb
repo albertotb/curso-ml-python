{
 "cells": [
  {
   "cell_type": "markdown",
   "metadata": {},
   "source": [
    "## Redes neuronales\n",
    "\n",
    "Las redes neuronales se pueden entender como un modelo en 2 pasos:\n",
    "\n",
    "   * Creamos combinaciones no lineales de las variables de entrada\n",
    "   \n",
    "   \n",
    "   * Ajustamos una regresión lineal (regresión) o regresión logística (clasificación) usando las nuevas variables\n",
    "\n",
    "[<img src=https://upload.wikimedia.org/wikipedia/commons/thumb/4/46/Colored_neural_network.svg/560px-Colored_neural_network.svg.png width=300>](https://en.wikipedia.org/wiki/Artificial_neural_network)\n",
    "\n",
    "Comparadas con otros modelos:\n",
    "\n",
    "  * Automatizan el proceso de generar nuevas variables (*feature engineering*), que suele ser crítico para obtener buen rendimiento\n",
    "  \n",
    "  \n",
    "  * Simplifica la resolución de nuevos problemas, ya que no es necesario conocimiento específico\n",
    "  \n",
    "  \n",
    "  * La creación de esta nueva representación forma parte del aprendizaje $\\Longrightarrow$ específicas para la tarea a resolver\n",
    "  \n",
    "<img src=../../img/nn_vs_rest_ex.png width=800>\n",
    "\n",
    "[Guía de usuario](https://scikit-learn.org/stable/modules/neural_networks_supervised.html)"
   ]
  },
  {
   "cell_type": "markdown",
   "metadata": {},
   "source": [
    "### Parámetros\n",
    "\n",
    "  * `alpha`, regularización $l_2$\n",
    "  \n",
    "  \n",
    "  * `batch_size`, tamaño del *mini-batch*\n",
    "  \n",
    "  \n",
    "  * `learning_rate`, estrategia para actualizar la tasa de aprendizaje\n",
    "  \n",
    "  \n",
    "  * `learning_rate_init`, valor inicial de la tasa de aprendizaje\n",
    "  \n",
    "  \n",
    "  * `early_stopping`, reservar un porcentaje del conjunto de entrenamiento para parar cuando el error en ese conjunto no mejora\n",
    "  \n",
    "  \n",
    "  * `hidden_layer_sizes`, arquitectura de la red (número de capas ocultas y número de neuronas en cada capa)\n",
    "  \n",
    "  \n",
    "  * `activation`, función de activación (`relu`, `tanh` o `logistic`)"
   ]
  },
  {
   "cell_type": "code",
   "execution_count": 1,
   "metadata": {},
   "outputs": [
    {
     "name": "stdout",
     "output_type": "stream",
     "text": [
      "Iteration 1, loss = 15.28238769\n",
      "Iteration 2, loss = 2.34694639\n",
      "Iteration 3, loss = 2.23167333\n",
      "Iteration 4, loss = 2.16162691\n",
      "Iteration 5, loss = 2.10453294\n",
      "Iteration 6, loss = 2.07952288\n",
      "Iteration 7, loss = 2.06542957\n",
      "Iteration 8, loss = 2.04938601\n",
      "Iteration 9, loss = 2.05896466\n",
      "Iteration 10, loss = 2.08961723\n",
      "Iteration 11, loss = 2.06511940\n",
      "Iteration 12, loss = 2.05853446\n",
      "Iteration 13, loss = 2.05627295\n",
      "Iteration 14, loss = 2.04366026\n",
      "Iteration 15, loss = 2.04085845\n",
      "Iteration 16, loss = 2.03395207\n",
      "Iteration 17, loss = 2.03972563\n",
      "Iteration 18, loss = 2.04973060\n",
      "Iteration 19, loss = 2.03927495\n",
      "Iteration 20, loss = 2.03289361\n",
      "Iteration 21, loss = 2.03124502\n",
      "Iteration 22, loss = 2.02189443\n",
      "Iteration 23, loss = 1.99288669\n",
      "Iteration 24, loss = 1.99002742\n",
      "Iteration 25, loss = 2.29124781\n",
      "Iteration 26, loss = 2.09662035\n",
      "Iteration 27, loss = 2.34340163\n",
      "Iteration 28, loss = 2.46969258\n",
      "Iteration 29, loss = 2.43005033\n",
      "Iteration 30, loss = 2.38740980\n",
      "Iteration 31, loss = 2.35286730\n",
      "Iteration 32, loss = 2.33152034\n",
      "Iteration 33, loss = 2.32588634\n",
      "Iteration 34, loss = 2.32486719\n",
      "Iteration 35, loss = 2.32549516\n",
      "Training loss did not improve more than tol=0.000100 for 10 consecutive epochs. Stopping.\n"
     ]
    },
    {
     "data": {
      "text/plain": [
       "MLPClassifier(hidden_layer_sizes=(50,), learning_rate_init=0.1, random_state=0,\n",
       "              solver='sgd', verbose=10)"
      ]
     },
     "execution_count": 1,
     "metadata": {},
     "output_type": "execute_result"
    }
   ],
   "source": [
    "from sklearn.datasets import load_digits\n",
    "from sklearn.model_selection import train_test_split\n",
    "from sklearn.neural_network import MLPClassifier\n",
    "\n",
    "X, y = load_digits(return_X_y=True)\n",
    "\n",
    "X_train, X_test, y_train, y_test = train_test_split(X, y, random_state=0)\n",
    "\n",
    "mlp = MLPClassifier(hidden_layer_sizes=(50,), alpha=1e-4,\n",
    "                    solver='sgd', verbose=10, random_state=0,\n",
    "                    learning_rate_init=.1)\n",
    "\n",
    "mlp.fit(X_train, y_train)"
   ]
  },
  {
   "cell_type": "code",
   "execution_count": 2,
   "metadata": {},
   "outputs": [
    {
     "data": {
      "text/plain": [
       "0.11555555555555555"
      ]
     },
     "execution_count": 2,
     "metadata": {},
     "output_type": "execute_result"
    }
   ],
   "source": [
    "mlp.score(X_test, y_test)"
   ]
  },
  {
   "cell_type": "markdown",
   "metadata": {},
   "source": [
    "### Ejercicios\n",
    "\n",
    "* Con el conjunto de datos `digits` entrenar un clasificador como el del ejemplo y calcular la matriz de confusión. ¿Cuales son los dígitos más fáciles de predecir? ¿Cuales los más difíciles?\n",
    "\n",
    "* Usar `RandomSearchCV` para probar distintas combinaciones de parámetros. ¿Cuál es la mejor?"
   ]
  },
  {
   "cell_type": "code",
   "execution_count": null,
   "metadata": {},
   "outputs": [],
   "source": []
  }
 ],
 "metadata": {
  "kernelspec": {
   "display_name": "Python 3",
   "language": "python",
   "name": "python3"
  },
  "language_info": {
   "codemirror_mode": {
    "name": "ipython",
    "version": 3
   },
   "file_extension": ".py",
   "mimetype": "text/x-python",
   "name": "python",
   "nbconvert_exporter": "python",
   "pygments_lexer": "ipython3",
   "version": "3.7.6"
  }
 },
 "nbformat": 4,
 "nbformat_minor": 4
}
