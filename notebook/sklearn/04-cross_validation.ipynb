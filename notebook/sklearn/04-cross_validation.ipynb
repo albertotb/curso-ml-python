{
 "cells": [
  {
   "cell_type": "markdown",
   "metadata": {},
   "source": [
    "## Selección de hiper-parámetros\n",
    "\n",
    "La mayoria de estimadores tienen hiper-parámetros que hay que ajustar para que el rendimiento sea bueno. Por ejemplo ya hemos visto el parámetro $k$ de vecinos próximos:\n",
    "\n",
    "<img src=https://amueller.github.io/ml-workshop-2-of-4/slides/images/knn_boundary_varying_k.png width=500>\n",
    "\n",
    "En la mayoría de estimadores estos hiper-parámetros representan la \"flexibilidad\" del modelo:\n",
    "\n",
    "   * Modelos muy flexibles son capaces de memorizar el conjunto de entrenamiento, pero tendrán un mal rendimiento en el conjunto de test (sobreajuste)\n",
    "   * Modelos poco flexibles no serán capaces de aprender el patrón de los datos, y tendrán un mal rendimiento en general (infraajuste)\n",
    "   \n",
    "Este equilibrio entre sobreajuste e infraajuste se suele representar de manera teórica con gráficos como este:\n",
    "\n",
    "<img src=https://amueller.github.io/ml-workshop-2-of-4/slides/images/overfitting_underfitting_cartoon_full.png width=500>\n",
    "\n",
    "Es importante destacar que no es un gráfico realizado con datos reales, sino que es un esquema de lo que se suele observar en la práctica. Hasta el momento dividíamos nuestros datos en dos conjuntos:\n",
    "\n",
    "   * entrenamiento\n",
    "   * test\n",
    "   \n",
    "<img src=https://amueller.github.io/ml-workshop-2-of-4/slides/images/train_test_split_new.png width=500>\n",
    "\n",
    "Pero el conjunto de test **no** se puede usar para comparar el mismo modelo con distintos hiper-parámetros y elegir el que mejor resultado tenga. El conjunto de test **solo** se usa para dar una estimación del rendimiento final. \n",
    "\n",
    "### Conjunto de validación\n",
    "\n",
    "Por tanto, para ajustar hiper-parámetros vamos a dividir los datos en tres conjuntos:\n",
    "\n",
    "  * entramiento\n",
    "  * test\n",
    "  * validación\n",
    "  \n",
    "<img src=https://amueller.github.io/ml-workshop-2-of-4/slides/images/train_test_validation_split.png width=500>"
   ]
  },
  {
   "cell_type": "code",
   "execution_count": 5,
   "metadata": {},
   "outputs": [],
   "source": [
    "from sklearn.datasets import load_breast_cancer\n",
    "from sklearn.model_selection import train_test_split\n",
    "\n",
    "ds = load_breast_cancer()"
   ]
  },
  {
   "cell_type": "code",
   "execution_count": 6,
   "metadata": {},
   "outputs": [
    {
     "data": {
      "text/plain": [
       "(569, 30)"
      ]
     },
     "execution_count": 6,
     "metadata": {},
     "output_type": "execute_result"
    }
   ],
   "source": [
    "ds.data.shape"
   ]
  },
  {
   "cell_type": "code",
   "execution_count": 7,
   "metadata": {},
   "outputs": [],
   "source": [
    "X_train_val, X_test, y_train_val, y_test = train_test_split(ds.data, ds.target, stratify=ds.target, random_state=0)\n",
    "\n",
    "X_train, X_val, y_train, y_val = train_test_split(X_train_val, y_train_val, stratify=y_train_val, random_state=0)"
   ]
  },
  {
   "cell_type": "code",
   "execution_count": 8,
   "metadata": {},
   "outputs": [
    {
     "name": "stdout",
     "output_type": "stream",
     "text": [
      "(319, 30)\n",
      "(143, 30)\n",
      "(107, 30)\n"
     ]
    }
   ],
   "source": [
    "print(X_train.shape)\n",
    "print(X_test.shape)\n",
    "print(X_val.shape)"
   ]
  },
  {
   "cell_type": "code",
   "execution_count": 9,
   "metadata": {},
   "outputs": [],
   "source": [
    "from sklearn.neighbors import KNeighborsClassifier\n",
    "\n",
    "val_scores = {}\n",
    "for k in (1, 3, 5, 10, 15):\n",
    "    knn = KNeighborsClassifier(n_neighbors=k)\n",
    "    knn.fit(X_train, y_train)\n",
    "    val_scores[k] = knn.score(X_val, y_val)"
   ]
  },
  {
   "cell_type": "code",
   "execution_count": 10,
   "metadata": {},
   "outputs": [
    {
     "data": {
      "text/plain": [
       "1     0.925234\n",
       "3     0.915888\n",
       "5     0.915888\n",
       "10    0.943925\n",
       "15    0.925234\n",
       "dtype: float64"
      ]
     },
     "execution_count": 10,
     "metadata": {},
     "output_type": "execute_result"
    }
   ],
   "source": [
    "import pandas as pd\n",
    "val_series = pd.Series(val_scores)\n",
    "val_series"
   ]
  },
  {
   "cell_type": "code",
   "execution_count": 11,
   "metadata": {},
   "outputs": [
    {
     "name": "stdout",
     "output_type": "stream",
     "text": [
      "k óptimo: 10\n",
      "acierto entrenamiento: 0.946\n",
      "acierto test: 0.916\n"
     ]
    }
   ],
   "source": [
    "k_best = val_series.idxmax()\n",
    "\n",
    "knn = KNeighborsClassifier(n_neighbors=k_best)\n",
    "knn.fit(X_train_val, y_train_val)\n",
    "\n",
    "print(f'k óptimo: {k_best}')\n",
    "print(f'acierto entrenamiento: {knn.score(X_train_val, y_train_val):.3f}')\n",
    "print(f'acierto test: {knn.score(X_test, y_test):.3f}')"
   ]
  },
  {
   "cell_type": "markdown",
   "metadata": {},
   "source": [
    "### Validación cruzada\n",
    "\n",
    "Consiste en partir los datos de entrenamiento en varios subconjuntos e ir rotando el conjunto de validación:\n",
    "\n",
    "<img src=../../img/cross_validation_new.png width=500>\n",
    "\n",
    "Ventajas con respecto a tener un único conjunto de validación:\n",
    "\n",
    "   * Más estable\n",
    "   * Se usan todos los datos de entrenamiento para buscar los parámetros óptimos\n",
    "   \n",
    "Desventajas:\n",
    "\n",
    "   * Más lento, hay que ajustar tantos modelos como subconjuntos"
   ]
  },
  {
   "cell_type": "code",
   "execution_count": 12,
   "metadata": {},
   "outputs": [],
   "source": [
    "import numpy as np\n",
    "from sklearn.neighbors import KNeighborsClassifier\n",
    "from sklearn.model_selection import cross_val_score\n",
    "\n",
    "cv_scores = {}\n",
    "for k in (1, 3, 5, 10, 15):\n",
    "    knn = KNeighborsClassifier(n_neighbors=k)\n",
    "    knn.fit(X_train_val, y_train_val)\n",
    "    cv_scores[k] = np.mean(cross_val_score(knn, X_train_val, y_train_val, cv=10))"
   ]
  },
  {
   "cell_type": "code",
   "execution_count": 13,
   "metadata": {},
   "outputs": [
    {
     "data": {
      "text/plain": [
       "1     0.924806\n",
       "3     0.938926\n",
       "5     0.943632\n",
       "10    0.941307\n",
       "15    0.934275\n",
       "dtype: float64"
      ]
     },
     "execution_count": 13,
     "metadata": {},
     "output_type": "execute_result"
    }
   ],
   "source": [
    "import pandas as pd\n",
    "cv = pd.Series(cv_scores)\n",
    "cv"
   ]
  },
  {
   "cell_type": "markdown",
   "metadata": {},
   "source": [
    "#### Búsqueda en rejilla + validación cruzada\n",
    "\n",
    "La estrategia de buscar los hiper-parámetros óptimos calculando el error de validación cruzada para cada valor de los parámetros en una rejilla es bastante habitual.\n",
    "\n",
    "scikit-learn implementa esta estrategia en la clase `GridSearchCV`, que simplifica el proceso anterior:"
   ]
  },
  {
   "cell_type": "code",
   "execution_count": 15,
   "metadata": {},
   "outputs": [
    {
     "data": {
      "text/html": [
       "<style>#sk-container-id-2 {color: black;background-color: white;}#sk-container-id-2 pre{padding: 0;}#sk-container-id-2 div.sk-toggleable {background-color: white;}#sk-container-id-2 label.sk-toggleable__label {cursor: pointer;display: block;width: 100%;margin-bottom: 0;padding: 0.3em;box-sizing: border-box;text-align: center;}#sk-container-id-2 label.sk-toggleable__label-arrow:before {content: \"▸\";float: left;margin-right: 0.25em;color: #696969;}#sk-container-id-2 label.sk-toggleable__label-arrow:hover:before {color: black;}#sk-container-id-2 div.sk-estimator:hover label.sk-toggleable__label-arrow:before {color: black;}#sk-container-id-2 div.sk-toggleable__content {max-height: 0;max-width: 0;overflow: hidden;text-align: left;background-color: #f0f8ff;}#sk-container-id-2 div.sk-toggleable__content pre {margin: 0.2em;color: black;border-radius: 0.25em;background-color: #f0f8ff;}#sk-container-id-2 input.sk-toggleable__control:checked~div.sk-toggleable__content {max-height: 200px;max-width: 100%;overflow: auto;}#sk-container-id-2 input.sk-toggleable__control:checked~label.sk-toggleable__label-arrow:before {content: \"▾\";}#sk-container-id-2 div.sk-estimator input.sk-toggleable__control:checked~label.sk-toggleable__label {background-color: #d4ebff;}#sk-container-id-2 div.sk-label input.sk-toggleable__control:checked~label.sk-toggleable__label {background-color: #d4ebff;}#sk-container-id-2 input.sk-hidden--visually {border: 0;clip: rect(1px 1px 1px 1px);clip: rect(1px, 1px, 1px, 1px);height: 1px;margin: -1px;overflow: hidden;padding: 0;position: absolute;width: 1px;}#sk-container-id-2 div.sk-estimator {font-family: monospace;background-color: #f0f8ff;border: 1px dotted black;border-radius: 0.25em;box-sizing: border-box;margin-bottom: 0.5em;}#sk-container-id-2 div.sk-estimator:hover {background-color: #d4ebff;}#sk-container-id-2 div.sk-parallel-item::after {content: \"\";width: 100%;border-bottom: 1px solid gray;flex-grow: 1;}#sk-container-id-2 div.sk-label:hover label.sk-toggleable__label {background-color: #d4ebff;}#sk-container-id-2 div.sk-serial::before {content: \"\";position: absolute;border-left: 1px solid gray;box-sizing: border-box;top: 0;bottom: 0;left: 50%;z-index: 0;}#sk-container-id-2 div.sk-serial {display: flex;flex-direction: column;align-items: center;background-color: white;padding-right: 0.2em;padding-left: 0.2em;position: relative;}#sk-container-id-2 div.sk-item {position: relative;z-index: 1;}#sk-container-id-2 div.sk-parallel {display: flex;align-items: stretch;justify-content: center;background-color: white;position: relative;}#sk-container-id-2 div.sk-item::before, #sk-container-id-2 div.sk-parallel-item::before {content: \"\";position: absolute;border-left: 1px solid gray;box-sizing: border-box;top: 0;bottom: 0;left: 50%;z-index: -1;}#sk-container-id-2 div.sk-parallel-item {display: flex;flex-direction: column;z-index: 1;position: relative;background-color: white;}#sk-container-id-2 div.sk-parallel-item:first-child::after {align-self: flex-end;width: 50%;}#sk-container-id-2 div.sk-parallel-item:last-child::after {align-self: flex-start;width: 50%;}#sk-container-id-2 div.sk-parallel-item:only-child::after {width: 0;}#sk-container-id-2 div.sk-dashed-wrapped {border: 1px dashed gray;margin: 0 0.4em 0.5em 0.4em;box-sizing: border-box;padding-bottom: 0.4em;background-color: white;}#sk-container-id-2 div.sk-label label {font-family: monospace;font-weight: bold;display: inline-block;line-height: 1.2em;}#sk-container-id-2 div.sk-label-container {text-align: center;}#sk-container-id-2 div.sk-container {/* jupyter's `normalize.less` sets `[hidden] { display: none; }` but bootstrap.min.css set `[hidden] { display: none !important; }` so we also need the `!important` here to be able to override the default hidden behavior on the sphinx rendered scikit-learn.org. See: https://github.com/scikit-learn/scikit-learn/issues/21755 */display: inline-block !important;position: relative;}#sk-container-id-2 div.sk-text-repr-fallback {display: none;}</style><div id=\"sk-container-id-2\" class=\"sk-top-container\"><div class=\"sk-text-repr-fallback\"><pre>GridSearchCV(cv=10, estimator=KNeighborsClassifier(),\n",
       "             param_grid={&#x27;n_neighbors&#x27;: [1, 3, 5, 7, 9, 11], &#x27;p&#x27;: [1, 2]})</pre><b>In a Jupyter environment, please rerun this cell to show the HTML representation or trust the notebook. <br />On GitHub, the HTML representation is unable to render, please try loading this page with nbviewer.org.</b></div><div class=\"sk-container\" hidden><div class=\"sk-item sk-dashed-wrapped\"><div class=\"sk-label-container\"><div class=\"sk-label sk-toggleable\"><input class=\"sk-toggleable__control sk-hidden--visually\" id=\"sk-estimator-id-4\" type=\"checkbox\" ><label for=\"sk-estimator-id-4\" class=\"sk-toggleable__label sk-toggleable__label-arrow\">GridSearchCV</label><div class=\"sk-toggleable__content\"><pre>GridSearchCV(cv=10, estimator=KNeighborsClassifier(),\n",
       "             param_grid={&#x27;n_neighbors&#x27;: [1, 3, 5, 7, 9, 11], &#x27;p&#x27;: [1, 2]})</pre></div></div></div><div class=\"sk-parallel\"><div class=\"sk-parallel-item\"><div class=\"sk-item\"><div class=\"sk-label-container\"><div class=\"sk-label sk-toggleable\"><input class=\"sk-toggleable__control sk-hidden--visually\" id=\"sk-estimator-id-5\" type=\"checkbox\" ><label for=\"sk-estimator-id-5\" class=\"sk-toggleable__label sk-toggleable__label-arrow\">estimator: KNeighborsClassifier</label><div class=\"sk-toggleable__content\"><pre>KNeighborsClassifier()</pre></div></div></div><div class=\"sk-serial\"><div class=\"sk-item\"><div class=\"sk-estimator sk-toggleable\"><input class=\"sk-toggleable__control sk-hidden--visually\" id=\"sk-estimator-id-6\" type=\"checkbox\" ><label for=\"sk-estimator-id-6\" class=\"sk-toggleable__label sk-toggleable__label-arrow\">KNeighborsClassifier</label><div class=\"sk-toggleable__content\"><pre>KNeighborsClassifier()</pre></div></div></div></div></div></div></div></div></div></div>"
      ],
      "text/plain": [
       "GridSearchCV(cv=10, estimator=KNeighborsClassifier(),\n",
       "             param_grid={'n_neighbors': [1, 3, 5, 7, 9, 11], 'p': [1, 2]})"
      ]
     },
     "execution_count": 15,
     "metadata": {},
     "output_type": "execute_result"
    }
   ],
   "source": [
    "from sklearn.model_selection import GridSearchCV\n",
    "from sklearn.neighbors import KNeighborsClassifier\n",
    "\n",
    "param_grid = {\n",
    "    'n_neighbors': [1, 3, 5, 7, 9, 11],\n",
    "    'p': [1, 2]\n",
    "}\n",
    "\n",
    "cv = GridSearchCV(\n",
    "    KNeighborsClassifier(), \n",
    "    param_grid=param_grid, \n",
    "    cv=10\n",
    ")\n",
    "cv.fit(X_train_val, y_train_val)"
   ]
  },
  {
   "cell_type": "code",
   "execution_count": 17,
   "metadata": {},
   "outputs": [
    {
     "data": {
      "text/plain": [
       "0.916083916083916"
      ]
     },
     "execution_count": 17,
     "metadata": {},
     "output_type": "execute_result"
    }
   ],
   "source": [
    "cv.score(X_test, y_test)"
   ]
  },
  {
   "cell_type": "code",
   "execution_count": 18,
   "metadata": {},
   "outputs": [
    {
     "data": {
      "text/html": [
       "<div>\n",
       "<style scoped>\n",
       "    .dataframe tbody tr th:only-of-type {\n",
       "        vertical-align: middle;\n",
       "    }\n",
       "\n",
       "    .dataframe tbody tr th {\n",
       "        vertical-align: top;\n",
       "    }\n",
       "\n",
       "    .dataframe thead th {\n",
       "        text-align: right;\n",
       "    }\n",
       "</style>\n",
       "<table border=\"1\" class=\"dataframe\">\n",
       "  <thead>\n",
       "    <tr style=\"text-align: right;\">\n",
       "      <th></th>\n",
       "      <th>mean_fit_time</th>\n",
       "      <th>std_fit_time</th>\n",
       "      <th>mean_score_time</th>\n",
       "      <th>std_score_time</th>\n",
       "      <th>param_n_neighbors</th>\n",
       "      <th>param_p</th>\n",
       "      <th>params</th>\n",
       "      <th>split0_test_score</th>\n",
       "      <th>split1_test_score</th>\n",
       "      <th>split2_test_score</th>\n",
       "      <th>split3_test_score</th>\n",
       "      <th>split4_test_score</th>\n",
       "      <th>split5_test_score</th>\n",
       "      <th>split6_test_score</th>\n",
       "      <th>split7_test_score</th>\n",
       "      <th>split8_test_score</th>\n",
       "      <th>split9_test_score</th>\n",
       "      <th>mean_test_score</th>\n",
       "      <th>std_test_score</th>\n",
       "      <th>rank_test_score</th>\n",
       "    </tr>\n",
       "  </thead>\n",
       "  <tbody>\n",
       "    <tr>\n",
       "      <th>4</th>\n",
       "      <td>0.000160</td>\n",
       "      <td>0.000006</td>\n",
       "      <td>0.001349</td>\n",
       "      <td>0.000113</td>\n",
       "      <td>5</td>\n",
       "      <td>1</td>\n",
       "      <td>{'n_neighbors': 5, 'p': 1}</td>\n",
       "      <td>0.930233</td>\n",
       "      <td>0.976744</td>\n",
       "      <td>0.953488</td>\n",
       "      <td>0.953488</td>\n",
       "      <td>0.976744</td>\n",
       "      <td>0.953488</td>\n",
       "      <td>0.928571</td>\n",
       "      <td>1.00000</td>\n",
       "      <td>0.928571</td>\n",
       "      <td>0.952381</td>\n",
       "      <td>0.955371</td>\n",
       "      <td>0.022346</td>\n",
       "      <td>1</td>\n",
       "    </tr>\n",
       "    <tr>\n",
       "      <th>2</th>\n",
       "      <td>0.000259</td>\n",
       "      <td>0.000154</td>\n",
       "      <td>0.001959</td>\n",
       "      <td>0.000652</td>\n",
       "      <td>3</td>\n",
       "      <td>1</td>\n",
       "      <td>{'n_neighbors': 3, 'p': 1}</td>\n",
       "      <td>0.953488</td>\n",
       "      <td>0.953488</td>\n",
       "      <td>0.953488</td>\n",
       "      <td>0.953488</td>\n",
       "      <td>0.976744</td>\n",
       "      <td>0.906977</td>\n",
       "      <td>0.928571</td>\n",
       "      <td>1.00000</td>\n",
       "      <td>0.952381</td>\n",
       "      <td>0.952381</td>\n",
       "      <td>0.953101</td>\n",
       "      <td>0.023429</td>\n",
       "      <td>2</td>\n",
       "    </tr>\n",
       "    <tr>\n",
       "      <th>6</th>\n",
       "      <td>0.000177</td>\n",
       "      <td>0.000021</td>\n",
       "      <td>0.001555</td>\n",
       "      <td>0.000198</td>\n",
       "      <td>7</td>\n",
       "      <td>1</td>\n",
       "      <td>{'n_neighbors': 7, 'p': 1}</td>\n",
       "      <td>0.930233</td>\n",
       "      <td>0.953488</td>\n",
       "      <td>0.953488</td>\n",
       "      <td>0.953488</td>\n",
       "      <td>0.953488</td>\n",
       "      <td>0.906977</td>\n",
       "      <td>0.976190</td>\n",
       "      <td>1.00000</td>\n",
       "      <td>0.928571</td>\n",
       "      <td>0.928571</td>\n",
       "      <td>0.948450</td>\n",
       "      <td>0.025240</td>\n",
       "      <td>3</td>\n",
       "    </tr>\n",
       "    <tr>\n",
       "      <th>8</th>\n",
       "      <td>0.000162</td>\n",
       "      <td>0.000006</td>\n",
       "      <td>0.001330</td>\n",
       "      <td>0.000049</td>\n",
       "      <td>9</td>\n",
       "      <td>1</td>\n",
       "      <td>{'n_neighbors': 9, 'p': 1}</td>\n",
       "      <td>0.930233</td>\n",
       "      <td>0.953488</td>\n",
       "      <td>0.953488</td>\n",
       "      <td>0.953488</td>\n",
       "      <td>0.953488</td>\n",
       "      <td>0.906977</td>\n",
       "      <td>0.976190</td>\n",
       "      <td>1.00000</td>\n",
       "      <td>0.928571</td>\n",
       "      <td>0.928571</td>\n",
       "      <td>0.948450</td>\n",
       "      <td>0.025240</td>\n",
       "      <td>3</td>\n",
       "    </tr>\n",
       "    <tr>\n",
       "      <th>10</th>\n",
       "      <td>0.000168</td>\n",
       "      <td>0.000017</td>\n",
       "      <td>0.001405</td>\n",
       "      <td>0.000151</td>\n",
       "      <td>11</td>\n",
       "      <td>1</td>\n",
       "      <td>{'n_neighbors': 11, 'p': 1}</td>\n",
       "      <td>0.930233</td>\n",
       "      <td>0.953488</td>\n",
       "      <td>0.953488</td>\n",
       "      <td>0.953488</td>\n",
       "      <td>0.953488</td>\n",
       "      <td>0.906977</td>\n",
       "      <td>0.952381</td>\n",
       "      <td>0.97619</td>\n",
       "      <td>0.928571</td>\n",
       "      <td>0.928571</td>\n",
       "      <td>0.943688</td>\n",
       "      <td>0.018714</td>\n",
       "      <td>5</td>\n",
       "    </tr>\n",
       "    <tr>\n",
       "      <th>5</th>\n",
       "      <td>0.000180</td>\n",
       "      <td>0.000020</td>\n",
       "      <td>0.001688</td>\n",
       "      <td>0.000411</td>\n",
       "      <td>5</td>\n",
       "      <td>2</td>\n",
       "      <td>{'n_neighbors': 5, 'p': 2}</td>\n",
       "      <td>0.930233</td>\n",
       "      <td>0.953488</td>\n",
       "      <td>0.953488</td>\n",
       "      <td>0.953488</td>\n",
       "      <td>0.953488</td>\n",
       "      <td>0.930233</td>\n",
       "      <td>0.928571</td>\n",
       "      <td>0.97619</td>\n",
       "      <td>0.928571</td>\n",
       "      <td>0.928571</td>\n",
       "      <td>0.943632</td>\n",
       "      <td>0.015774</td>\n",
       "      <td>6</td>\n",
       "    </tr>\n",
       "    <tr>\n",
       "      <th>11</th>\n",
       "      <td>0.000163</td>\n",
       "      <td>0.000012</td>\n",
       "      <td>0.001502</td>\n",
       "      <td>0.000165</td>\n",
       "      <td>11</td>\n",
       "      <td>2</td>\n",
       "      <td>{'n_neighbors': 11, 'p': 2}</td>\n",
       "      <td>0.930233</td>\n",
       "      <td>0.953488</td>\n",
       "      <td>0.930233</td>\n",
       "      <td>0.953488</td>\n",
       "      <td>0.953488</td>\n",
       "      <td>0.906977</td>\n",
       "      <td>0.928571</td>\n",
       "      <td>1.00000</td>\n",
       "      <td>0.928571</td>\n",
       "      <td>0.928571</td>\n",
       "      <td>0.941362</td>\n",
       "      <td>0.024084</td>\n",
       "      <td>7</td>\n",
       "    </tr>\n",
       "    <tr>\n",
       "      <th>7</th>\n",
       "      <td>0.000166</td>\n",
       "      <td>0.000012</td>\n",
       "      <td>0.001479</td>\n",
       "      <td>0.000165</td>\n",
       "      <td>7</td>\n",
       "      <td>2</td>\n",
       "      <td>{'n_neighbors': 7, 'p': 2}</td>\n",
       "      <td>0.930233</td>\n",
       "      <td>0.953488</td>\n",
       "      <td>0.953488</td>\n",
       "      <td>0.953488</td>\n",
       "      <td>0.953488</td>\n",
       "      <td>0.906977</td>\n",
       "      <td>0.928571</td>\n",
       "      <td>0.97619</td>\n",
       "      <td>0.928571</td>\n",
       "      <td>0.928571</td>\n",
       "      <td>0.941307</td>\n",
       "      <td>0.018969</td>\n",
       "      <td>8</td>\n",
       "    </tr>\n",
       "    <tr>\n",
       "      <th>9</th>\n",
       "      <td>0.000163</td>\n",
       "      <td>0.000008</td>\n",
       "      <td>0.001492</td>\n",
       "      <td>0.000141</td>\n",
       "      <td>9</td>\n",
       "      <td>2</td>\n",
       "      <td>{'n_neighbors': 9, 'p': 2}</td>\n",
       "      <td>0.930233</td>\n",
       "      <td>0.953488</td>\n",
       "      <td>0.930233</td>\n",
       "      <td>0.953488</td>\n",
       "      <td>0.953488</td>\n",
       "      <td>0.930233</td>\n",
       "      <td>0.928571</td>\n",
       "      <td>0.97619</td>\n",
       "      <td>0.928571</td>\n",
       "      <td>0.928571</td>\n",
       "      <td>0.941307</td>\n",
       "      <td>0.015864</td>\n",
       "      <td>8</td>\n",
       "    </tr>\n",
       "    <tr>\n",
       "      <th>3</th>\n",
       "      <td>0.000160</td>\n",
       "      <td>0.000005</td>\n",
       "      <td>0.001506</td>\n",
       "      <td>0.000227</td>\n",
       "      <td>3</td>\n",
       "      <td>2</td>\n",
       "      <td>{'n_neighbors': 3, 'p': 2}</td>\n",
       "      <td>0.930233</td>\n",
       "      <td>0.930233</td>\n",
       "      <td>0.953488</td>\n",
       "      <td>0.953488</td>\n",
       "      <td>0.953488</td>\n",
       "      <td>0.930233</td>\n",
       "      <td>0.928571</td>\n",
       "      <td>0.97619</td>\n",
       "      <td>0.904762</td>\n",
       "      <td>0.928571</td>\n",
       "      <td>0.938926</td>\n",
       "      <td>0.019061</td>\n",
       "      <td>10</td>\n",
       "    </tr>\n",
       "    <tr>\n",
       "      <th>0</th>\n",
       "      <td>0.000205</td>\n",
       "      <td>0.000081</td>\n",
       "      <td>0.001723</td>\n",
       "      <td>0.000504</td>\n",
       "      <td>1</td>\n",
       "      <td>1</td>\n",
       "      <td>{'n_neighbors': 1, 'p': 1}</td>\n",
       "      <td>0.930233</td>\n",
       "      <td>0.976744</td>\n",
       "      <td>0.883721</td>\n",
       "      <td>0.976744</td>\n",
       "      <td>0.906977</td>\n",
       "      <td>0.930233</td>\n",
       "      <td>0.928571</td>\n",
       "      <td>1.00000</td>\n",
       "      <td>0.904762</td>\n",
       "      <td>0.928571</td>\n",
       "      <td>0.936656</td>\n",
       "      <td>0.034843</td>\n",
       "      <td>11</td>\n",
       "    </tr>\n",
       "    <tr>\n",
       "      <th>1</th>\n",
       "      <td>0.000178</td>\n",
       "      <td>0.000044</td>\n",
       "      <td>0.002206</td>\n",
       "      <td>0.000927</td>\n",
       "      <td>1</td>\n",
       "      <td>2</td>\n",
       "      <td>{'n_neighbors': 1, 'p': 2}</td>\n",
       "      <td>0.930233</td>\n",
       "      <td>0.953488</td>\n",
       "      <td>0.906977</td>\n",
       "      <td>0.953488</td>\n",
       "      <td>0.883721</td>\n",
       "      <td>0.953488</td>\n",
       "      <td>0.880952</td>\n",
       "      <td>1.00000</td>\n",
       "      <td>0.880952</td>\n",
       "      <td>0.904762</td>\n",
       "      <td>0.924806</td>\n",
       "      <td>0.037955</td>\n",
       "      <td>12</td>\n",
       "    </tr>\n",
       "  </tbody>\n",
       "</table>\n",
       "</div>"
      ],
      "text/plain": [
       "    mean_fit_time  std_fit_time  mean_score_time  std_score_time  \\\n",
       "4        0.000160      0.000006         0.001349        0.000113   \n",
       "2        0.000259      0.000154         0.001959        0.000652   \n",
       "6        0.000177      0.000021         0.001555        0.000198   \n",
       "8        0.000162      0.000006         0.001330        0.000049   \n",
       "10       0.000168      0.000017         0.001405        0.000151   \n",
       "5        0.000180      0.000020         0.001688        0.000411   \n",
       "11       0.000163      0.000012         0.001502        0.000165   \n",
       "7        0.000166      0.000012         0.001479        0.000165   \n",
       "9        0.000163      0.000008         0.001492        0.000141   \n",
       "3        0.000160      0.000005         0.001506        0.000227   \n",
       "0        0.000205      0.000081         0.001723        0.000504   \n",
       "1        0.000178      0.000044         0.002206        0.000927   \n",
       "\n",
       "   param_n_neighbors param_p                       params  split0_test_score  \\\n",
       "4                  5       1   {'n_neighbors': 5, 'p': 1}           0.930233   \n",
       "2                  3       1   {'n_neighbors': 3, 'p': 1}           0.953488   \n",
       "6                  7       1   {'n_neighbors': 7, 'p': 1}           0.930233   \n",
       "8                  9       1   {'n_neighbors': 9, 'p': 1}           0.930233   \n",
       "10                11       1  {'n_neighbors': 11, 'p': 1}           0.930233   \n",
       "5                  5       2   {'n_neighbors': 5, 'p': 2}           0.930233   \n",
       "11                11       2  {'n_neighbors': 11, 'p': 2}           0.930233   \n",
       "7                  7       2   {'n_neighbors': 7, 'p': 2}           0.930233   \n",
       "9                  9       2   {'n_neighbors': 9, 'p': 2}           0.930233   \n",
       "3                  3       2   {'n_neighbors': 3, 'p': 2}           0.930233   \n",
       "0                  1       1   {'n_neighbors': 1, 'p': 1}           0.930233   \n",
       "1                  1       2   {'n_neighbors': 1, 'p': 2}           0.930233   \n",
       "\n",
       "    split1_test_score  split2_test_score  split3_test_score  \\\n",
       "4            0.976744           0.953488           0.953488   \n",
       "2            0.953488           0.953488           0.953488   \n",
       "6            0.953488           0.953488           0.953488   \n",
       "8            0.953488           0.953488           0.953488   \n",
       "10           0.953488           0.953488           0.953488   \n",
       "5            0.953488           0.953488           0.953488   \n",
       "11           0.953488           0.930233           0.953488   \n",
       "7            0.953488           0.953488           0.953488   \n",
       "9            0.953488           0.930233           0.953488   \n",
       "3            0.930233           0.953488           0.953488   \n",
       "0            0.976744           0.883721           0.976744   \n",
       "1            0.953488           0.906977           0.953488   \n",
       "\n",
       "    split4_test_score  split5_test_score  split6_test_score  \\\n",
       "4            0.976744           0.953488           0.928571   \n",
       "2            0.976744           0.906977           0.928571   \n",
       "6            0.953488           0.906977           0.976190   \n",
       "8            0.953488           0.906977           0.976190   \n",
       "10           0.953488           0.906977           0.952381   \n",
       "5            0.953488           0.930233           0.928571   \n",
       "11           0.953488           0.906977           0.928571   \n",
       "7            0.953488           0.906977           0.928571   \n",
       "9            0.953488           0.930233           0.928571   \n",
       "3            0.953488           0.930233           0.928571   \n",
       "0            0.906977           0.930233           0.928571   \n",
       "1            0.883721           0.953488           0.880952   \n",
       "\n",
       "    split7_test_score  split8_test_score  split9_test_score  mean_test_score  \\\n",
       "4             1.00000           0.928571           0.952381         0.955371   \n",
       "2             1.00000           0.952381           0.952381         0.953101   \n",
       "6             1.00000           0.928571           0.928571         0.948450   \n",
       "8             1.00000           0.928571           0.928571         0.948450   \n",
       "10            0.97619           0.928571           0.928571         0.943688   \n",
       "5             0.97619           0.928571           0.928571         0.943632   \n",
       "11            1.00000           0.928571           0.928571         0.941362   \n",
       "7             0.97619           0.928571           0.928571         0.941307   \n",
       "9             0.97619           0.928571           0.928571         0.941307   \n",
       "3             0.97619           0.904762           0.928571         0.938926   \n",
       "0             1.00000           0.904762           0.928571         0.936656   \n",
       "1             1.00000           0.880952           0.904762         0.924806   \n",
       "\n",
       "    std_test_score  rank_test_score  \n",
       "4         0.022346                1  \n",
       "2         0.023429                2  \n",
       "6         0.025240                3  \n",
       "8         0.025240                3  \n",
       "10        0.018714                5  \n",
       "5         0.015774                6  \n",
       "11        0.024084                7  \n",
       "7         0.018969                8  \n",
       "9         0.015864                8  \n",
       "3         0.019061               10  \n",
       "0         0.034843               11  \n",
       "1         0.037955               12  "
      ]
     },
     "execution_count": 18,
     "metadata": {},
     "output_type": "execute_result"
    }
   ],
   "source": [
    "import pandas as pd\n",
    "\n",
    "pd.DataFrame(cv.cv_results_).sort_values(by='mean_test_score', ascending=False)"
   ]
  },
  {
   "cell_type": "code",
   "execution_count": 19,
   "metadata": {},
   "outputs": [
    {
     "name": "stdout",
     "output_type": "stream",
     "text": [
      "k óptimo: {'n_neighbors': 5, 'p': 1}\n",
      "mejor cv score: 0.955\n",
      "acierto test: 0.916\n"
     ]
    }
   ],
   "source": [
    "print(f'k óptimo: {cv.best_params_}')\n",
    "print(f'mejor cv score: {cv.best_score_:.3f}')\n",
    "print(f'acierto test: {cv.score(X_test, y_test):.3f}')"
   ]
  },
  {
   "cell_type": "markdown",
   "metadata": {},
   "source": [
    "### Otras estrategias de validación cruzada\n",
    "\n",
    "La estrategia anterior se conoce con el nombre de validación cruzada de $k$ hojas o $k$-fold cross-validation. Como hemos visto, consiste en crear $k$ subconjuntos aleatorios de forma aleatoria con probabilidad uniforme.\n",
    "\n",
    "También existen otras estrategias:\n",
    "\n",
    "   1. `StratifiedKFold`, generar los subconjuntos de forma que se mantengan la proporción de las clases (estratificados). Esto es especialmente importante si las clases **no están balanceadas**. En `GridSearchCV` y `cross_val_score` la validación cruzada está **estratificada** por defecto si el estimador es de clasificación\n",
    "   \n",
    "   2. `LeaveOneOut`: validación cruzada de $k$ hojas con $k=1$\n",
    "   \n",
    "   3. `(Stratified)ShuffleSplit`: muestrea el conjunto de test con reemplazamiento\n",
    "   \n",
    "   4. `Repeated(Stratified)KFold`: repite la validación cruzada múltiples veces"
   ]
  },
  {
   "cell_type": "markdown",
   "metadata": {},
   "source": [
    "#### Validación cruzada en series temporales\n",
    "\n",
    "Para las series temporales no tiene sentido escoger el conjunto de test de manera aleatoria, ya que estamos \"prediciendo\" usando datos del futuro\n",
    " \n",
    "Conjunto de test aleatorio | Conjunto de test estructurado\n",
    "---|---\n",
    "<img src=https://amueller.github.io/ml-workshop-2-of-4/slides/images/time_series2.png style=\"width:100%\"> | <img src=https://amueller.github.io/ml-workshop-2-of-4/slides/images/time_series3.png style=\"width:100%\">\n",
    "\n",
    "La clase `TimeSeriesSplit` realiza una validación cruzada pero manteniendo la estructura temporal:\n",
    "\n",
    "<img src=https://amueller.github.io/ml-workshop-2-of-4/slides/images/time_series_cv.png width=500>\n",
    "\n",
    "De esta forma, si por ejemplo tenemos datos de 1 año:\n",
    "\n",
    "   * *Primera partición*: Enero-Octubre entrenamiento, Noviembre-Diciembre test\n",
    "   * *Segunda partición*: Enero-Agosto entrenamiento, Septiembre-Octubre test\n",
    "   * *Tercera partición*: Enero-Junio entrenamiento, Julio-Agosto test\n",
    "   * etc\n",
    "   \n",
    "Es importante destacar que el conjunto de test siempre tiene el mismo tamaño (2 meses en este caso), pero el conjunto de entrenamiento tiene tamaño variable."
   ]
  },
  {
   "cell_type": "code",
   "execution_count": 12,
   "metadata": {},
   "outputs": [
    {
     "name": "stdout",
     "output_type": "stream",
     "text": [
      "k óptimo: {'n_neighbors': 11}\n",
      "mejor cv score: 0.936\n",
      "acierto test: 0.916\n"
     ]
    }
   ],
   "source": [
    "from sklearn.model_selection import GridSearchCV, RepeatedStratifiedKFold\n",
    "\n",
    "cv = RepeatedStratifiedKFold(n_splits=5, n_repeats=10)\n",
    "\n",
    "param_grid = {'n_neighbors': np.arange(1, 20, 2)}\n",
    "grid = GridSearchCV(KNeighborsClassifier(), param_grid=param_grid, cv=cv)\n",
    "grid.fit(X_train_val, y_train_val)\n",
    "\n",
    "print(f'k óptimo: {grid.best_params_}')\n",
    "print(f'mejor cv score: {grid.best_score_:.3f}')\n",
    "print(f'acierto test: {grid.score(X_test, y_test):.3f}')"
   ]
  },
  {
   "cell_type": "markdown",
   "metadata": {},
   "source": [
    "### Ejercicios\n",
    "\n",
    "Con el conjunto de datos de titanic:\n",
    "\n",
    "   1. Preparar los datos de la misma forma que en el notebook `03-missing.ipynb`, imputando los valores que faltan de `age` con la media\n",
    "   \n",
    "   2. Ajustar un modelo `LogisticRegression` y buscar el valor óptimo del parámetro `C`"
   ]
  },
  {
   "cell_type": "code",
   "execution_count": 13,
   "metadata": {},
   "outputs": [
    {
     "data": {
      "text/plain": [
       "0.8071748878923767"
      ]
     },
     "execution_count": 13,
     "metadata": {},
     "output_type": "execute_result"
    }
   ],
   "source": [
    "import seaborn as sns\n",
    "import pandas as pd\n",
    "from sklearn.model_selection import train_test_split, GridSearchCV\n",
    "from sklearn.linear_model import LogisticRegression\n",
    "from sklearn.impute import SimpleImputer\n",
    "from sklearn.pipeline import Pipeline\n",
    " \n",
    "titanic = sns.load_dataset('titanic')\n",
    " \n",
    "X = titanic.drop(columns=['deck', 'embarked', 'alive', 'survived', 'class', 'who'])\n",
    "y = titanic['survived']\n",
    " \n",
    "# ojo, estamos completando tanto train como test, pero como faltan pocos valores en este caso no hay problema\n",
    "X.loc[X['embark_town'].isna(), 'embark_town'] = X['embark_town'].mode()\n",
    "X_num = pd.get_dummies(X, drop_first=True)\n",
    " \n",
    "X_train, X_test, y_train, y_test = train_test_split(X_num, y, stratify=y, random_state=0)\n",
    " \n",
    "clf = Pipeline(steps=[('imputer', SimpleImputer(strategy='mean')),\n",
    "                      ('classifier', LogisticRegression(solver='liblinear'))])\n",
    "clf.fit(X_train, y_train)\n",
    "clf.score(X_test, y_test)"
   ]
  },
  {
   "cell_type": "code",
   "execution_count": 14,
   "metadata": {},
   "outputs": [
    {
     "data": {
      "text/plain": [
       "0.8071748878923767"
      ]
     },
     "execution_count": 14,
     "metadata": {},
     "output_type": "execute_result"
    }
   ],
   "source": [
    "param_grid = {\n",
    "    'classifier__C': [0.1, 1.0, 2, 10, 100],\n",
    "}\n",
    "\n",
    "grid= GridSearchCV(clf, param_grid, cv=10)\n",
    "grid.fit(X_train, y_train)\n",
    "grid.score(X_test, y_test)"
   ]
  },
  {
   "cell_type": "code",
   "execution_count": 15,
   "metadata": {},
   "outputs": [
    {
     "data": {
      "text/plain": [
       "{'classifier__C': 10}"
      ]
     },
     "execution_count": 15,
     "metadata": {},
     "output_type": "execute_result"
    }
   ],
   "source": [
    "grid.best_params_"
   ]
  }
 ],
 "metadata": {
  "kernelspec": {
   "display_name": "Python 3 (ipykernel)",
   "language": "python",
   "name": "python3"
  },
  "language_info": {
   "codemirror_mode": {
    "name": "ipython",
    "version": 3
   },
   "file_extension": ".py",
   "mimetype": "text/x-python",
   "name": "python",
   "nbconvert_exporter": "python",
   "pygments_lexer": "ipython3",
   "version": "3.9.7"
  }
 },
 "nbformat": 4,
 "nbformat_minor": 4
}
