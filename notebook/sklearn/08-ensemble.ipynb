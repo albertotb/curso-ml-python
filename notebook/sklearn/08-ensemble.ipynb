{
 "cells": [
  {
   "cell_type": "markdown",
   "metadata": {},
   "source": [
    "## Métodos de *ensemble*: *bagging* y *boosting*\n",
    "\n",
    "Los métodos de *ensemble* consisten en combinar las predicciones de varios modelos para obtener una mejor predicción. Para que la combinación funcione, los modelos tienen que ser diversos, es decir, que aprendan distintos patrones de los datos. Existen dos tipos de modelos de *ensemble* principales:\n",
    "\n",
    "  * **Modelos independientes**, donde cada modelo se construye por separado y finalmente se combinan las predicciones (por ejemplo Random Forest). En media el modelo combinado es mejor que cualquiera de los modelos individuales porque reducimos su varianza.\n",
    "  \n",
    "  \n",
    "  * **Modelos secuenciales**, donde cada modelo se va construyendo de forma secuencial para mejorar las predicciones del anterior (por ejemplo Gradient Boosting)\n",
    "\n",
    "[Ensemble methods](https://scikit-learn.org/stable/modules/ensemble.html)\n",
    "\n",
    "### Random Forest\n",
    "\n",
    "Combina árboles de decisión. Para obtener diversidad, introduce dos fuentes de aleatoriedad:\n",
    "\n",
    "   * *bagging* (*bootstrap aggregating*), donde cada árbol se ajusta con una muestra *boostrap* de los datos\n",
    "   \n",
    "   \n",
    "   * para realizar cada partición en un árbol se elige una muestra aleatoria de las variables\n",
    "   \n",
    "*Bootstrap* es una técnica donde se generar muestras **con reemplazamiento** de los datos originales (del mismo tamaño). Estas muestras tendrán ejemplos repetidos (en media un 63% de ejemplos distintos), pero hace que cada árbol del conjunto se \"especialice\" en una parte de los datos.\n",
    "\n",
    "<img src=../../img/bagging.png width=600>\n",
    "\n",
    "  * En un problema de  **clasificación**, combinamos las predicciones finales usando el voto de la mayoría\n",
    "\n",
    "  * En un problema de **regresión**, combinamos las predicciones usando la media\n",
    "  \n",
    "<img src=https://amueller.github.io/ml-workshop-2-of-4/slides/images/random_forest.png width=600>\n",
    "\n",
    "Comparados con los árboles de decisión:\n",
    "\n",
    "  * Perdemos capacidad de interpretación, ya que no tenemos disponibles las reglas que predicen una muestra\n",
    "  \n",
    "  * Mejoran notablemente el error de predicción\n",
    "  \n",
    "  * Menos sensibles al sobreajuste (la aleatorización introduce un sesgo pero reduce bastante más la varianza)"
   ]
  },
  {
   "cell_type": "code",
   "execution_count": 1,
   "metadata": {},
   "outputs": [],
   "source": [
    "from sklearn.datasets import load_breast_cancer\n",
    "from sklearn.model_selection import train_test_split\n",
    "from sklearn.ensemble import RandomForestClassifier\n",
    "\n",
    "data = load_breast_cancer()\n",
    "\n",
    "X_train, X_test, y_train, y_test = train_test_split(data.data, data.target, random_state=0)"
   ]
  },
  {
   "cell_type": "code",
   "execution_count": 2,
   "metadata": {},
   "outputs": [
    {
     "data": {
      "text/plain": [
       "1.0"
      ]
     },
     "execution_count": 2,
     "metadata": {},
     "output_type": "execute_result"
    }
   ],
   "source": [
    "rfc = RandomForestClassifier()\n",
    "rfc.fit(X_train, y_train)\n",
    "rfc.score(X_train, y_train)"
   ]
  },
  {
   "cell_type": "code",
   "execution_count": 3,
   "metadata": {},
   "outputs": [
    {
     "data": {
      "text/plain": [
       "0.972027972027972"
      ]
     },
     "execution_count": 3,
     "metadata": {},
     "output_type": "execute_result"
    }
   ],
   "source": [
    "rfc.score(X_test, y_test)"
   ]
  },
  {
   "cell_type": "markdown",
   "metadata": {},
   "source": [
    "#### Selección de parámetros\n",
    "\n",
    "Las clases `RandomForestRegressor` y `RandomForestClassifier` tienen múltiples parámetros, pero los principales son:\n",
    "\n",
    "  * `n_estimators`, número de árboles. En general cuanto más grande mejor si se escogen bien el resto de parámetros, puede tener impacto en el tiempo de entrenamiento\n",
    "  \n",
    "  \n",
    "  * `max_features`, número de variables que se consideran de forma aleatoria para hacer cada partición. Parámetro importante\n",
    "  \n",
    "  \n",
    "  * `max_depth`, profundidad máxima\n",
    "  \n",
    "  \n",
    "  * `min_samples_split`, número mínimo de ejemplos para particionar un nodo\n",
    "  \n",
    "  \n",
    "  * `min_samples_leaf`, número mínimo de ejemplos de una hoja, si una partición va a dejar menos en el lado izquierdo o derecho no se hace\n",
    "  \n",
    "\n",
    "  * `max_leaf_nodes`, número máximo de nodos hoja\n",
    "  \n",
    "Los últimos 4 parámetros controlan la profundidad (complejidad) de los árboles. Escoger 2 o 3 y buscar sus valores óptimos usando validación cruzada"
   ]
  },
  {
   "cell_type": "code",
   "execution_count": 4,
   "metadata": {
    "scrolled": false
   },
   "outputs": [
    {
     "name": "stdout",
     "output_type": "stream",
     "text": [
      "{'max_depth': None, 'max_features': 'log2', 'min_samples_split': 2, 'n_estimators': 100}\n",
      "0.972027972027972\n"
     ]
    }
   ],
   "source": [
    "from sklearn.model_selection import GridSearchCV\n",
    "from sklearn.ensemble import RandomForestClassifier\n",
    "\n",
    "rfc = RandomForestClassifier()\n",
    "\n",
    "param_grid = { \n",
    "    'n_estimators': [100, 200],\n",
    "    'max_features': [None, 'sqrt', 'log2'],\n",
    "    'max_depth': [None, 2, 4],\n",
    "    'min_samples_split': [2, 3, 4]\n",
    "}\n",
    "\n",
    "cv = GridSearchCV(estimator=rfc, \n",
    "                  param_grid=param_grid, \n",
    "                  cv=5, \n",
    "                  scoring='accuracy', \n",
    "                  return_train_score=False)\n",
    "\n",
    "cv.fit(X_train, y_train)\n",
    "\n",
    "print(cv.best_params_)\n",
    "print(cv.score(X_test, y_test))"
   ]
  },
  {
   "cell_type": "code",
   "execution_count": 5,
   "metadata": {
    "scrolled": false
   },
   "outputs": [
    {
     "data": {
      "text/html": [
       "<div>\n",
       "<style scoped>\n",
       "    .dataframe tbody tr th:only-of-type {\n",
       "        vertical-align: middle;\n",
       "    }\n",
       "\n",
       "    .dataframe tbody tr th {\n",
       "        vertical-align: top;\n",
       "    }\n",
       "\n",
       "    .dataframe thead th {\n",
       "        text-align: right;\n",
       "    }\n",
       "</style>\n",
       "<table border=\"1\" class=\"dataframe\">\n",
       "  <thead>\n",
       "    <tr style=\"text-align: right;\">\n",
       "      <th></th>\n",
       "      <th>param_max_depth</th>\n",
       "      <th>param_max_features</th>\n",
       "      <th>param_min_samples_split</th>\n",
       "      <th>param_n_estimators</th>\n",
       "      <th>mean_test_score</th>\n",
       "    </tr>\n",
       "  </thead>\n",
       "  <tbody>\n",
       "    <tr>\n",
       "      <th>12</th>\n",
       "      <td>None</td>\n",
       "      <td>log2</td>\n",
       "      <td>2</td>\n",
       "      <td>100</td>\n",
       "      <td>0.960137</td>\n",
       "    </tr>\n",
       "    <tr>\n",
       "      <th>15</th>\n",
       "      <td>None</td>\n",
       "      <td>log2</td>\n",
       "      <td>3</td>\n",
       "      <td>200</td>\n",
       "      <td>0.955404</td>\n",
       "    </tr>\n",
       "    <tr>\n",
       "      <th>53</th>\n",
       "      <td>4</td>\n",
       "      <td>log2</td>\n",
       "      <td>4</td>\n",
       "      <td>200</td>\n",
       "      <td>0.953051</td>\n",
       "    </tr>\n",
       "    <tr>\n",
       "      <th>46</th>\n",
       "      <td>4</td>\n",
       "      <td>sqrt</td>\n",
       "      <td>4</td>\n",
       "      <td>100</td>\n",
       "      <td>0.953051</td>\n",
       "    </tr>\n",
       "    <tr>\n",
       "      <th>10</th>\n",
       "      <td>None</td>\n",
       "      <td>sqrt</td>\n",
       "      <td>4</td>\n",
       "      <td>100</td>\n",
       "      <td>0.953051</td>\n",
       "    </tr>\n",
       "  </tbody>\n",
       "</table>\n",
       "</div>"
      ],
      "text/plain": [
       "   param_max_depth param_max_features param_min_samples_split  \\\n",
       "12            None               log2                       2   \n",
       "15            None               log2                       3   \n",
       "53               4               log2                       4   \n",
       "46               4               sqrt                       4   \n",
       "10            None               sqrt                       4   \n",
       "\n",
       "   param_n_estimators  mean_test_score  \n",
       "12                100         0.960137  \n",
       "15                200         0.955404  \n",
       "53                200         0.953051  \n",
       "46                100         0.953051  \n",
       "10                100         0.953051  "
      ]
     },
     "execution_count": 5,
     "metadata": {},
     "output_type": "execute_result"
    }
   ],
   "source": [
    "import pandas as pd\n",
    "\n",
    "cv_res = pd.DataFrame(cv.cv_results_).sort_values(by='mean_test_score', ascending=False)\n",
    "\n",
    "cv_res[[*cv_res.columns[cv_res.columns.str.startswith(\"param_\")], 'mean_test_score']].head()"
   ]
  },
  {
   "cell_type": "markdown",
   "metadata": {},
   "source": [
    "Como se puede ver, el número de modelos que hay que ajustar aumenta exponencialmente cuando se añaden parámetros. En este ejemplo estamos ajustando $2 \\times 3 \\times 3 \\times 3 = 54$ modelos.\n",
    "\n",
    "Una alternativa es usar `RandomizedSearchCV`, donde se indica un límite (por ejemplo `n_iter=20`) y prueba combinaciones aleatorias hasta alcanzar ese límite."
   ]
  },
  {
   "cell_type": "markdown",
   "metadata": {},
   "source": [
    "#### Interpretación\n",
    "\n",
    "Al igual que los árboles de decisión, la implementación de *random forest* en scikit-learn devuelve la importancia de cada una de las variables. Sin embargo, esta medida está calculada sobre el conjunto de entrenamiento y por tanto puede ser alta incluso para variables no muy relacionadas con la salida.\n",
    "\n",
    "Una alternativa implementada en scikit-learn es la función `permutation_importance`:\n",
    "\n",
    "   * Calcular el error base\n",
    "   \n",
    "   \n",
    "   * Permutar aleatoriamente los valores de una variable\n",
    "   \n",
    "   \n",
    "   * Calcular la diferencia con el error base\n",
    "       1. si la diferencia es muy grande (el error aumenta mucho), quiere decir que esa variable era importante\n",
    "       \n",
    "       2. si la diferencia es pequeña (el error apenas cambia), quiere decir que esa variable apenas tiene relación con la salida\n",
    "\n",
    "\n",
    "Más información:\n",
    "\n",
    "  * [Permutation Importance vs Random Forest Feature Importance (MDI)](https://scikit-learn.org/stable/auto_examples/inspection/plot_permutation_importance.html)\n",
    "\n",
    "  * [Beware Default Random Forest Importances](https://explained.ai/rf-importance/index.html)"
   ]
  },
  {
   "cell_type": "code",
   "execution_count": 6,
   "metadata": {},
   "outputs": [
    {
     "data": {
      "image/png": "[encoded data removed]",
      "text/plain": [
       "<Figure size 576x432 with 1 Axes>"
      ]
     },
     "metadata": {
      "needs_background": "light"
     },
     "output_type": "display_data"
    }
   ],
   "source": [
    "(pd.Series(cv.best_estimator_.feature_importances_, index=data.feature_names)\n",
    "   .sort_values()\n",
    "   .plot(kind='barh', figsize=(8, 6)));"
   ]
  },
  {
   "cell_type": "code",
   "execution_count": 7,
   "metadata": {},
   "outputs": [],
   "source": [
    "from sklearn.inspection import permutation_importance\n",
    "\n",
    "result = permutation_importance(cv.best_estimator_, X_test, y_test, n_repeats=10, random_state=0)"
   ]
  },
  {
   "cell_type": "code",
   "execution_count": 8,
   "metadata": {},
   "outputs": [
    {
     "data": {
      "text/html": [
       "<div>\n",
       "<style scoped>\n",
       "    .dataframe tbody tr th:only-of-type {\n",
       "        vertical-align: middle;\n",
       "    }\n",
       "\n",
       "    .dataframe tbody tr th {\n",
       "        vertical-align: top;\n",
       "    }\n",
       "\n",
       "    .dataframe thead th {\n",
       "        text-align: right;\n",
       "    }\n",
       "</style>\n",
       "<table border=\"1\" class=\"dataframe\">\n",
       "  <thead>\n",
       "    <tr style=\"text-align: right;\">\n",
       "      <th></th>\n",
       "      <th>0</th>\n",
       "      <th>1</th>\n",
       "      <th>2</th>\n",
       "      <th>3</th>\n",
       "      <th>4</th>\n",
       "      <th>5</th>\n",
       "      <th>6</th>\n",
       "      <th>7</th>\n",
       "      <th>8</th>\n",
       "      <th>9</th>\n",
       "    </tr>\n",
       "  </thead>\n",
       "  <tbody>\n",
       "    <tr>\n",
       "      <th>mean radius</th>\n",
       "      <td>0.000000</td>\n",
       "      <td>0.000000</td>\n",
       "      <td>0.0</td>\n",
       "      <td>0.000000</td>\n",
       "      <td>0.000000</td>\n",
       "      <td>0.000000</td>\n",
       "      <td>0.000000</td>\n",
       "      <td>0.000000</td>\n",
       "      <td>0.000000</td>\n",
       "      <td>0.000000</td>\n",
       "    </tr>\n",
       "    <tr>\n",
       "      <th>mean texture</th>\n",
       "      <td>0.000000</td>\n",
       "      <td>0.006993</td>\n",
       "      <td>0.0</td>\n",
       "      <td>0.013986</td>\n",
       "      <td>0.006993</td>\n",
       "      <td>0.020979</td>\n",
       "      <td>0.013986</td>\n",
       "      <td>0.013986</td>\n",
       "      <td>0.013986</td>\n",
       "      <td>0.013986</td>\n",
       "    </tr>\n",
       "    <tr>\n",
       "      <th>mean perimeter</th>\n",
       "      <td>0.006993</td>\n",
       "      <td>0.000000</td>\n",
       "      <td>0.0</td>\n",
       "      <td>0.006993</td>\n",
       "      <td>0.000000</td>\n",
       "      <td>0.006993</td>\n",
       "      <td>0.006993</td>\n",
       "      <td>0.006993</td>\n",
       "      <td>0.006993</td>\n",
       "      <td>0.006993</td>\n",
       "    </tr>\n",
       "    <tr>\n",
       "      <th>mean area</th>\n",
       "      <td>0.006993</td>\n",
       "      <td>0.000000</td>\n",
       "      <td>0.0</td>\n",
       "      <td>0.006993</td>\n",
       "      <td>0.000000</td>\n",
       "      <td>0.006993</td>\n",
       "      <td>0.006993</td>\n",
       "      <td>0.013986</td>\n",
       "      <td>0.006993</td>\n",
       "      <td>0.006993</td>\n",
       "    </tr>\n",
       "    <tr>\n",
       "      <th>mean smoothness</th>\n",
       "      <td>0.000000</td>\n",
       "      <td>0.000000</td>\n",
       "      <td>0.0</td>\n",
       "      <td>0.000000</td>\n",
       "      <td>0.000000</td>\n",
       "      <td>0.006993</td>\n",
       "      <td>-0.006993</td>\n",
       "      <td>-0.006993</td>\n",
       "      <td>0.000000</td>\n",
       "      <td>-0.006993</td>\n",
       "    </tr>\n",
       "  </tbody>\n",
       "</table>\n",
       "</div>"
      ],
      "text/plain": [
       "                        0         1    2         3         4         5  \\\n",
       "mean radius      0.000000  0.000000  0.0  0.000000  0.000000  0.000000   \n",
       "mean texture     0.000000  0.006993  0.0  0.013986  0.006993  0.020979   \n",
       "mean perimeter   0.006993  0.000000  0.0  0.006993  0.000000  0.006993   \n",
       "mean area        0.006993  0.000000  0.0  0.006993  0.000000  0.006993   \n",
       "mean smoothness  0.000000  0.000000  0.0  0.000000  0.000000  0.006993   \n",
       "\n",
       "                        6         7         8         9  \n",
       "mean radius      0.000000  0.000000  0.000000  0.000000  \n",
       "mean texture     0.013986  0.013986  0.013986  0.013986  \n",
       "mean perimeter   0.006993  0.006993  0.006993  0.006993  \n",
       "mean area        0.006993  0.013986  0.006993  0.006993  \n",
       "mean smoothness -0.006993 -0.006993  0.000000 -0.006993  "
      ]
     },
     "execution_count": 8,
     "metadata": {},
     "output_type": "execute_result"
    }
   ],
   "source": [
    "sorted_idx = result['importances_mean'].argsort()\n",
    "imp = pd.DataFrame(result['importances'].T, columns=data.feature_names)\n",
    "imp.T.head()"
   ]
  },
  {
   "cell_type": "code",
   "execution_count": 9,
   "metadata": {},
   "outputs": [
    {
     "data": {
      "image/png": "[encoded data removed]",
      "text/plain": [
       "<Figure size 576x432 with 1 Axes>"
      ]
     },
     "metadata": {
      "needs_background": "light"
     },
     "output_type": "display_data"
    }
   ],
   "source": [
    "imp.iloc[:, sorted_idx].plot(kind='box', vert=False, figsize=(8, 6));"
   ]
  },
  {
   "cell_type": "markdown",
   "metadata": {},
   "source": [
    "### Gradient Boosting\n",
    "\n",
    "Random forest\n",
    "  \n",
    "  * Disponible para regresión y clasificación\n",
    "  \n",
    "  * No lineal\n",
    "  \n",
    "  * Usa árboles de decisión \n",
    "  \n",
    "  * Ajusta todos los modelos de forma independiente, en paralelo. Finalmente combina las predicciones\n",
    "  \n",
    "  * Muy robusto\n",
    "  \n",
    "Gradient boosting\n",
    "\n",
    "  * Disponible para regresión y clasificación\n",
    "  \n",
    "  * No lineal\n",
    "  \n",
    "  * Usa árboles de decisión \n",
    "  \n",
    "  * Ajusta todos los modelos de forma secuencial, intentando **corregir** las predicciones del modelo anterior\n",
    "  \n",
    "  * En general más precisión que Random Forest, pero hay que ajustar los parámetros con cuidado\n",
    "\n",
    "[How to explain gradient boosting](https://explained.ai/gradient-boosting/index.html)"
   ]
  },
  {
   "cell_type": "code",
   "execution_count": 10,
   "metadata": {},
   "outputs": [
    {
     "data": {
      "image/png": "[encoded data removed]",
      "text/plain": [
       "<Figure size 1080x288 with 3 Axes>"
      ]
     },
     "metadata": {
      "needs_background": "light"
     },
     "output_type": "display_data"
    }
   ],
   "source": [
    "import numpy as np\n",
    "import pandas as pd\n",
    "import matplotlib.pyplot as plt\n",
    "from sklearn.datasets import load_boston\n",
    "from sklearn.linear_model import LinearRegression\n",
    "from sklearn.ensemble import RandomForestRegressor, GradientBoostingRegressor\n",
    "\n",
    "boston = load_boston()\n",
    "\n",
    "data = pd.DataFrame(boston.data, columns=boston.feature_names)\n",
    "data['MEDV'] = boston.target\n",
    "\n",
    "x = data[['RM']]\n",
    "y = data['MEDV']\n",
    "\n",
    "lm = LinearRegression()\n",
    "lm.fit(x, y)\n",
    "\n",
    "rfr = RandomForestRegressor()\n",
    "rfr.fit(x, y)\n",
    "\n",
    "gbr = GradientBoostingRegressor()\n",
    "gbr.fit(x, y)\n",
    "\n",
    "fig, axes = plt.subplots(1, 3, figsize=(15, 4))\n",
    "\n",
    "axes[0].scatter(x, y)\n",
    "axes[0].plot(x, lm.predict(x), 'r')\n",
    "axes[0].set_title('Regresión lineal')\n",
    "\n",
    "axes[1].scatter(x, y)\n",
    "axes[1].step(np.sort(x['RM'].values), np.sort(rfr.predict(x)), 'r')\n",
    "axes[1].set_title('Random forest')\n",
    "\n",
    "axes[2].scatter(x, y)\n",
    "axes[2].step(np.sort(x['RM'].values), np.sort(gbr.predict(x)), 'r')\n",
    "axes[2].set_title('Gradient boosting');"
   ]
  },
  {
   "cell_type": "markdown",
   "metadata": {},
   "source": [
    "Los modelos se ajustan de forma secuencial:\n",
    "\n",
    "  * $f_1(x) \\approx y$\n",
    "  \n",
    "  \n",
    "  * $f_2(x) \\approx y - f_1(x)$\n",
    "  \n",
    "  \n",
    "  * $f_3(x) \\approx y - f_1(x) - f_2(x)$\n",
    "  \n",
    "  \n",
    "  * ...\n",
    "\n",
    "Visualmente:\n",
    "\n",
    "<img src=https://amueller.github.io/ml-workshop-3-of-4/slides/images/grad_boost_regression_steps.png width=500>"
   ]
  },
  {
   "cell_type": "markdown",
   "metadata": {},
   "source": [
    "#### Implementaciones scikit-learn\n",
    "\n",
    "Clases:\n",
    "\n",
    "  * `GradientBoosting`\n",
    "\n",
    "  * `HistGradientBoosting`, implementación basada en LightGBM, más rapida y gestiona valores que falta directamente\n",
    "\n",
    "Parámetros:\n",
    "\n",
    "  1. Parámetros que comparte con *random forest*:\n",
    "\n",
    "     * `n_estimators`, número de árboles. En general cuanto más grande mejor si se escogen bien el resto de parámetros, puede tener impacto en el tiempo de entrenamiento\n",
    "     * `max_features`, número de variables que se consideran de forma aleatoria para hacer cada partición. Parámetro importante\n",
    "     * `max_depth`, profundidad máxima\n",
    "     * `min_samples_split`, número mínimo de ejemplos para particionar un nodo\n",
    "     * `min_samples_leaf`, número mínimo de ejemplos de una hoja, si una partición va a dejar menos en el lado izquierdo o derecho no se hace\n",
    "     * `max_leaf_nodes`, número máximo de nodos hoja\n",
    "     \n",
    "     \n",
    "  2. Otros parámetros:\n",
    "  \n",
    "     * `subsampling`, fracción de muestras a usar para ajustar cada uno de los modelos individuales\n",
    "     * `learning_rate`, reduce la contribución de cada uno de los árboles\n",
    "     * `n_iter_no_change`, porcentaje de los datos para crear un conjunto de validación y parar el entrenamiento antes de tiempo cuando no mejore el error (se ajustan menos de `n_estimators` modelos)\n",
    "\n",
    "*Gradient boosting* puede hacer sobreajuste al añadir más estimadores. Dos opciones:\n",
    "\n",
    "  * Elegir `n_estimators`, buscar el valor de `learning_rate`\n",
    "  \n",
    "  * Elegir `learning_rate`, parar el entrenamiento antes de tiempo con `n_iter_no_change`\n",
    "\n",
    "Además, es recomendable ajustar el valor de `max_features`, `subsampling` y `max_depth` como mínimo.\n",
    "\n",
    "[Gradient Boosting regularization](https://scikit-learn.org/stable/auto_examples/ensemble/plot_gradient_boosting_regularization.html#sphx-glr-auto-examples-ensemble-plot-gradient-boosting-regularization-py)"
   ]
  },
  {
   "cell_type": "code",
   "execution_count": 11,
   "metadata": {},
   "outputs": [
    {
     "name": "stdout",
     "output_type": "stream",
     "text": [
      "Regresión lineal:  0.6354638433202129\n",
      "Random forest:  0.8055534566183848\n",
      "Gradient boosting:  0.8289980261143337\n"
     ]
    }
   ],
   "source": [
    "from sklearn.model_selection import train_test_split\n",
    "\n",
    "X, y = load_boston(return_X_y=True)\n",
    "\n",
    "X_train, X_test, y_train, y_test = train_test_split(X, y, random_state=0)\n",
    "\n",
    "lm = LinearRegression()\n",
    "lm.fit(X_train, y_train)\n",
    "print('Regresión lineal: ', lm.score(X_test, y_test))\n",
    "\n",
    "rfr = RandomForestRegressor()\n",
    "rfr.fit(X_train, y_train)\n",
    "print('Random forest: ', rfr.score(X_test, y_test))\n",
    "\n",
    "gbr = GradientBoostingRegressor()\n",
    "gbr.fit(X_train, y_train)\n",
    "print('Gradient boosting: ', gbr.score(X_test, y_test))"
   ]
  },
  {
   "cell_type": "markdown",
   "metadata": {},
   "source": [
    "#### Otras implementaciones de gradient boosting\n",
    "\n",
    " * [XGBoost](https://xgboost.readthedocs.io/en/latest/) (2014)\n",
    " * [LightGBM](https://lightgbm.readthedocs.io/en/latest/) (Microsoft, 2017)\n",
    " * [CatBoost](https://catboost.ai/) (Yandex, 2017)\n",
    " \n",
    "Todas las librerías cuentan con una API compatible con scikit-learn, aunque el nombre/significado de los hiper-parámetros puede variar.\n",
    "\n",
    "Existen múltiples comparaciones recientes, por ejemplo:\n",
    "  \n",
    "  * [XGBoost, LightGBM or CatBoost — which boosting algorithm should I use?](https://medium.com/riskified-technology/xgboost-lightgbm-or-catboost-which-boosting-algorithm-should-i-use-e7fda7bb36bc)\n",
    "  \n",
    "  * [Boosting Showdown: Scikit-Learn vs XGBoost vs LightGBM vs CatBoost in Sentiment Classification](https://towardsdatascience.com/boosting-showdown-scikit-learn-vs-xgboost-vs-lightgbm-vs-catboost-in-sentiment-classification-f7c7f46fd956)\n",
    "  \n",
    "  * [CatBoost vs. Light GBM vs. XGBoost](https://towardsdatascience.com/catboost-vs-light-gbm-vs-xgboost-5f93620723db)\n",
    "  \n",
    "  * [Comparison between XGBoost, LightGBM and CatBoost Using a Home Credit Dataset](https://pdfs.semanticscholar.org/b992/fdb71b4b78d7b81dc3761402f4eb446077c2.pdf)\n",
    "  \n",
    "En general: \n",
    "\n",
    "  * XGBoost fue el primero, precisión bastante alta\n",
    "  \n",
    "  * LightGBM suele ser el más rápido, a costa de una ligera disminución de precisión comparado con XGBoost\n",
    "  \n",
    "  * CatBoost es una opción interesante cuando hay muchas variables categóricas"
   ]
  },
  {
   "cell_type": "code",
   "execution_count": 12,
   "metadata": {},
   "outputs": [
    {
     "data": {
      "text/plain": [
       "0.7476326720496416"
      ]
     },
     "execution_count": 12,
     "metadata": {},
     "output_type": "execute_result"
    }
   ],
   "source": [
    "#%conda install -c conda-forge xgboost\n",
    "\n",
    "from xgboost import XGBRegressor\n",
    "\n",
    "xgb = XGBRegressor()\n",
    "xgb.fit(X_train, y_train)\n",
    "xgb.score(X_test, y_test)"
   ]
  },
  {
   "cell_type": "markdown",
   "metadata": {},
   "source": [
    "### Ejercicios\n",
    "\n",
    "#### Ejercicio 1\n",
    "\n",
    "* Con los datos de `adult` comparar el rendimiento de un *random forest* con el de un arbol de decisión\n",
    "\n",
    "* Buscar los parámetros óptimos para ese conjunto de datos usando validación cruzada (prueba como mínimo con `meax_leaf_nodes` y `max_depth`)\n",
    "\n",
    "#### Ejercicio 2\n",
    "\n",
    "* Ajustar ahora un Random Forest y Gradient Boosting para el problema de regresión `bike_day_raw.csv`:\n",
    "\n",
    "  1. En random forest busca los parámetros `max_leaf_nodes` y `max_depth`\n",
    "  2. En gradient boosting busca `learning_rate` y `max_depth`\n",
    "\n",
    "\n",
    "* Compara la importancia de las variables entre Random Forest, Gradient Boosting y usando la función `permutation_importance`\n"
   ]
  },
  {
   "cell_type": "code",
   "execution_count": null,
   "metadata": {},
   "outputs": [],
   "source": []
  }
 ],
 "metadata": {
  "kernelspec": {
   "display_name": "Python 3",
   "language": "python",
   "name": "python3"
  },
  "language_info": {
   "codemirror_mode": {
    "name": "ipython",
    "version": 3
   },
   "file_extension": ".py",
   "mimetype": "text/x-python",
   "name": "python",
   "nbconvert_exporter": "python",
   "pygments_lexer": "ipython3",
   "version": "3.7.6"
  }
 },
 "nbformat": 4,
 "nbformat_minor": 4
}
