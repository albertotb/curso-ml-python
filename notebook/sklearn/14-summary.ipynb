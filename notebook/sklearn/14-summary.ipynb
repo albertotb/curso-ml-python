{
 "cells": [
  {
   "cell_type": "markdown",
   "metadata": {
    "nbpresent": {
     "id": "c377bc80-9801-41af-8676-336db8cfc857"
    }
   },
   "source": [
    "### Scikit-learn\n",
    "\n",
    "Scikit-learn (http://scikit-learn.org/stable/) es una librería construida a partir de Numpy, Matplotlib y Scipy que implementa la mayoría de algoritmos de aprendizaje automático.\n",
    "\n",
    "Información detallada sobre esta librería se puede encontrar en la guía de usuario: http://scikit-learn.org/stable/user_guide.html"
   ]
  },
  {
   "cell_type": "markdown",
   "metadata": {
    "nbpresent": {
     "id": "a6cf1962-ebe8-4528-ac5f-c76ba234fcfa"
    }
   },
   "source": [
    "#### Ejemplo regresión"
   ]
  },
  {
   "cell_type": "code",
   "execution_count": 11,
   "metadata": {
    "nbpresent": {
     "id": "aea20fb7-ffa9-46f6-be59-9f3670234c55"
    }
   },
   "outputs": [],
   "source": [
    "import random\n",
    "import numpy as np\n",
    "import matplotlib.pyplot as plt\n",
    "%matplotlib inline\n",
    "from sklearn import datasets\n",
    "\n",
    "random.seed(1234)"
   ]
  },
  {
   "cell_type": "code",
   "execution_count": 12,
   "metadata": {
    "nbpresent": {
     "id": "e806be4e-6963-4fbd-963c-db93ffd7b176"
    }
   },
   "outputs": [
    {
     "name": "stdout",
     "output_type": "stream",
     "text": [
      ".. _boston_dataset:\n",
      "\n",
      "Boston house prices dataset\n",
      "---------------------------\n",
      "\n",
      "**Data Set Characteristics:**  \n",
      "\n",
      "    :Number of Instances: 506 \n",
      "\n",
      "    :Number of Attributes: 13 numeric/categorical predictive. Median Value (attribute 14) is usually the target.\n",
      "\n",
      "    :Attribute Information (in order):\n",
      "        - CRIM     per capita crime rate by town\n",
      "        - ZN       proportion of residential land zoned for lots over 25,000 sq.ft.\n",
      "        - INDUS    proportion of non-retail business acres per town\n",
      "        - CHAS     Charles River dummy variable (= 1 if tract bounds river; 0 otherwise)\n",
      "        - NOX      nitric oxides concentration (parts per 10 million)\n",
      "        - RM       average number of rooms per dwelling\n",
      "        - AGE      proportion of owner-occupied units built prior to 1940\n",
      "        - DIS      weighted distances to five Boston employment centres\n",
      "        - RAD      index of accessibility to radial highways\n",
      "        - TAX      full-value property-tax rate per $10,000\n",
      "        - PTRATIO  pupil-teacher ratio by town\n",
      "        - B        1000(Bk - 0.63)^2 where Bk is the proportion of blacks by town\n",
      "        - LSTAT    % lower status of the population\n",
      "        - MEDV     Median value of owner-occupied homes in $1000's\n",
      "\n",
      "    :Missing Attribute Values: None\n",
      "\n",
      "    :Creator: Harrison, D. and Rubinfeld, D.L.\n",
      "\n",
      "This is a copy of UCI ML housing dataset.\n",
      "https://archive.ics.uci.edu/ml/machine-learning-databases/housing/\n",
      "\n",
      "\n",
      "This dataset was taken from the StatLib library which is maintained at Carnegie Mellon University.\n",
      "\n",
      "The Boston house-price data of Harrison, D. and Rubinfeld, D.L. 'Hedonic\n",
      "prices and the demand for clean air', J. Environ. Economics & Management,\n",
      "vol.5, 81-102, 1978.   Used in Belsley, Kuh & Welsch, 'Regression diagnostics\n",
      "...', Wiley, 1980.   N.B. Various transformations are used in the table on\n",
      "pages 244-261 of the latter.\n",
      "\n",
      "The Boston house-price data has been used in many machine learning papers that address regression\n",
      "problems.   \n",
      "     \n",
      ".. topic:: References\n",
      "\n",
      "   - Belsley, Kuh & Welsch, 'Regression diagnostics: Identifying Influential Data and Sources of Collinearity', Wiley, 1980. 244-261.\n",
      "   - Quinlan,R. (1993). Combining Instance-Based and Model-Based Learning. In Proceedings on the Tenth International Conference of Machine Learning, 236-243, University of Massachusetts, Amherst. Morgan Kaufmann.\n",
      "\n"
     ]
    }
   ],
   "source": [
    "boston = datasets.load_boston()\n",
    "print(boston.DESCR)"
   ]
  },
  {
   "cell_type": "code",
   "execution_count": 13,
   "metadata": {
    "nbpresent": {
     "id": "f31d7325-7e4c-45fa-904a-aa315cd52b48"
    }
   },
   "outputs": [
    {
     "data": {
      "text/plain": [
       "(506, 13)"
      ]
     },
     "execution_count": 13,
     "metadata": {},
     "output_type": "execute_result"
    }
   ],
   "source": [
    "X, y = boston.data, boston.target\n",
    "X.shape"
   ]
  },
  {
   "cell_type": "code",
   "execution_count": 14,
   "metadata": {
    "nbpresent": {
     "id": "ba93bb09-e15d-4b80-927e-c72f56f975c9"
    }
   },
   "outputs": [
    {
     "data": {
      "text/plain": [
       "array([-0.38830461,  0.36044534, -0.48372516,  0.17526018, -0.42732077,\n",
       "        0.69535995, -0.37695457,  0.24992873, -0.38162623, -0.46853593,\n",
       "       -0.50778669,  0.33346082, -0.73766273,  1.        ])"
      ]
     },
     "execution_count": 14,
     "metadata": {},
     "output_type": "execute_result"
    }
   ],
   "source": [
    "corr = np.corrcoef(X, y, rowvar=False)[:, -1]\n",
    "corr"
   ]
  },
  {
   "cell_type": "code",
   "execution_count": 15,
   "metadata": {
    "nbpresent": {
     "id": "45d45af1-24a7-4fed-b4e0-e6f01c5da488"
    }
   },
   "outputs": [
    {
     "data": {
      "text/plain": [
       "5"
      ]
     },
     "execution_count": 15,
     "metadata": {},
     "output_type": "execute_result"
    }
   ],
   "source": [
    "idx = corr[:-1].argmax()\n",
    "idx"
   ]
  },
  {
   "cell_type": "code",
   "execution_count": 16,
   "metadata": {
    "nbpresent": {
     "id": "ba109fbe-8fa2-4984-bacb-bd57a2cfb61b"
    }
   },
   "outputs": [
    {
     "data": {
      "text/plain": [
       "<matplotlib.collections.PathCollection at 0x7fecafd50a50>"
      ]
     },
     "execution_count": 16,
     "metadata": {},
     "output_type": "execute_result"
    },
    {
     "data": {
      "image/png": "[encoded data removed]",
      "text/plain": [
       "<Figure size 432x288 with 1 Axes>"
      ]
     },
     "metadata": {
      "needs_background": "light"
     },
     "output_type": "display_data"
    }
   ],
   "source": [
    "x = X[:, idx]\n",
    "fig, ax = plt.subplots()\n",
    "plt.scatter(x, y)"
   ]
  },
  {
   "cell_type": "code",
   "execution_count": 17,
   "metadata": {
    "nbpresent": {
     "id": "661535a4-faa5-4cc5-b214-3036c482adad"
    }
   },
   "outputs": [
    {
     "name": "stdout",
     "output_type": "stream",
     "text": [
      "[9.10210898]\n",
      "-34.67062077643857\n",
      "R^2 score: 0.48352545599133423\n"
     ]
    }
   ],
   "source": [
    "from sklearn.linear_model import LinearRegression\n",
    "lm = LinearRegression()\n",
    "lm.fit(x[:, None], y)\n",
    "\n",
    "beta = lm.coef_\n",
    "beta0 = lm.intercept_\n",
    "\n",
    "ypred = beta * x + beta0\n",
    "\n",
    "print(beta)\n",
    "print(beta0)\n",
    "print('R^2 score: {}'.format(lm.score(x[:, None],  y)))"
   ]
  },
  {
   "cell_type": "code",
   "execution_count": 18,
   "metadata": {
    "nbpresent": {
     "id": "c04a8a97-6e68-4ffb-b8ef-cb677979deeb"
    }
   },
   "outputs": [
    {
     "data": {
      "text/plain": [
       "[<matplotlib.lines.Line2D at 0x7fecafc49190>]"
      ]
     },
     "execution_count": 18,
     "metadata": {},
     "output_type": "execute_result"
    },
    {
     "data": {
      "image/png": "[encoded data removed]",
      "text/plain": [
       "<Figure size 432x288 with 1 Axes>"
      ]
     },
     "metadata": {
      "needs_background": "light"
     },
     "output_type": "display_data"
    }
   ],
   "source": [
    "fig, ax = plt.subplots()\n",
    "plt.scatter(x, y)\n",
    "plt.plot(x, ypred, 'r')"
   ]
  },
  {
   "cell_type": "code",
   "execution_count": 19,
   "metadata": {
    "nbpresent": {
     "id": "78b2a958-eeba-4a17-a397-857ec6a727e0"
    }
   },
   "outputs": [
    {
     "data": {
      "text/plain": [
       "43.60055177116956"
      ]
     },
     "execution_count": 19,
     "metadata": {},
     "output_type": "execute_result"
    }
   ],
   "source": [
    "np.mean((y - ypred)**2)"
   ]
  },
  {
   "cell_type": "code",
   "execution_count": 20,
   "metadata": {
    "nbpresent": {
     "id": "63313fc4-79e2-40a6-a269-6e98883ed4a4"
    }
   },
   "outputs": [
    {
     "data": {
      "text/plain": [
       "0.7406426641094095"
      ]
     },
     "execution_count": 20,
     "metadata": {},
     "output_type": "execute_result"
    }
   ],
   "source": [
    "lm = LinearRegression()\n",
    "lm.fit(X, y)\n",
    "ypred = lm.predict(X)\n",
    "lm.score(X, y)"
   ]
  },
  {
   "cell_type": "code",
   "execution_count": 21,
   "metadata": {
    "nbpresent": {
     "id": "e435056a-6c36-4053-a1cd-085a9e036978"
    }
   },
   "outputs": [
    {
     "data": {
      "text/plain": [
       "21.894831181729202"
      ]
     },
     "execution_count": 21,
     "metadata": {},
     "output_type": "execute_result"
    }
   ],
   "source": [
    "np.mean((y - ypred)**2)"
   ]
  },
  {
   "cell_type": "code",
   "execution_count": 22,
   "metadata": {
    "nbpresent": {
     "id": "1eecdcbe-99d1-4ec8-b3cf-4e2e5d598276"
    }
   },
   "outputs": [
    {
     "data": {
      "text/plain": [
       "1.4145902193675883"
      ]
     },
     "execution_count": 22,
     "metadata": {},
     "output_type": "execute_result"
    }
   ],
   "source": [
    "from sklearn.ensemble import RandomForestRegressor\n",
    "lm = RandomForestRegressor(n_estimators=100)\n",
    "lm.fit(X, y)\n",
    "ypred = lm.predict(X)\n",
    "np.mean((y - ypred)**2)"
   ]
  },
  {
   "cell_type": "code",
   "execution_count": 23,
   "metadata": {
    "nbpresent": {
     "id": "e8c19849-916c-4232-98a1-abdb63e96eec"
    }
   },
   "outputs": [
    {
     "data": {
      "text/plain": [
       "9.678524311342187"
      ]
     },
     "execution_count": 23,
     "metadata": {},
     "output_type": "execute_result"
    }
   ],
   "source": [
    "from sklearn.ensemble import RandomForestRegressor\n",
    "lm = RandomForestRegressor()\n",
    "lm.fit(x[:, None], y)\n",
    "ypred = lm.predict(x[:, None])\n",
    "np.mean((y - ypred)**2)"
   ]
  },
  {
   "cell_type": "code",
   "execution_count": 24,
   "metadata": {
    "nbpresent": {
     "id": "9eba7845-013c-4b28-a053-aee486cc3b0d"
    }
   },
   "outputs": [
    {
     "data": {
      "text/plain": [
       "[<matplotlib.lines.Line2D at 0x7fecaf2c7850>]"
      ]
     },
     "execution_count": 24,
     "metadata": {},
     "output_type": "execute_result"
    },
    {
     "data": {
      "image/png": "[encoded data removed]",
      "text/plain": [
       "<Figure size 432x288 with 1 Axes>"
      ]
     },
     "metadata": {
      "needs_background": "light"
     },
     "output_type": "display_data"
    }
   ],
   "source": [
    "fig, ax = plt.subplots()\n",
    "plt.scatter(x, y)\n",
    "plt.step(np.sort(x), np.sort(ypred), 'r')"
   ]
  },
  {
   "cell_type": "markdown",
   "metadata": {
    "nbpresent": {
     "id": "24ab0e50-83d7-48a8-9bcb-847b705c08c1"
    }
   },
   "source": [
    "#### Ejemplo clasificación"
   ]
  },
  {
   "cell_type": "code",
   "execution_count": 19,
   "metadata": {
    "nbpresent": {
     "id": "706e32cf-c58c-4cf8-89f6-f59a4bab6c4d"
    }
   },
   "outputs": [
    {
     "name": "stdout",
     "output_type": "stream",
     "text": [
      ".. _iris_dataset:\n",
      "\n",
      "Iris plants dataset\n",
      "--------------------\n",
      "\n",
      "**Data Set Characteristics:**\n",
      "\n",
      "    :Number of Instances: 150 (50 in each of three classes)\n",
      "    :Number of Attributes: 4 numeric, predictive attributes and the class\n",
      "    :Attribute Information:\n",
      "        - sepal length in cm\n",
      "        - sepal width in cm\n",
      "        - petal length in cm\n",
      "        - petal width in cm\n",
      "        - class:\n",
      "                - Iris-Setosa\n",
      "                - Iris-Versicolour\n",
      "                - Iris-Virginica\n",
      "                \n",
      "    :Summary Statistics:\n",
      "\n",
      "    ============== ==== ==== ======= ===== ====================\n",
      "                    Min  Max   Mean    SD   Class Correlation\n",
      "    ============== ==== ==== ======= ===== ====================\n",
      "    sepal length:   4.3  7.9   5.84   0.83    0.7826\n",
      "    sepal width:    2.0  4.4   3.05   0.43   -0.4194\n",
      "    petal length:   1.0  6.9   3.76   1.76    0.9490  (high!)\n",
      "    petal width:    0.1  2.5   1.20   0.76    0.9565  (high!)\n",
      "    ============== ==== ==== ======= ===== ====================\n",
      "\n",
      "    :Missing Attribute Values: None\n",
      "    :Class Distribution: 33.3% for each of 3 classes.\n",
      "    :Creator: R.A. Fisher\n",
      "    :Donor: Michael Marshall (MARSHALL%PLU@io.arc.nasa.gov)\n",
      "    :Date: July, 1988\n",
      "\n",
      "The famous Iris database, first used by Sir R.A. Fisher. The dataset is taken\n",
      "from Fisher's paper. Note that it's the same as in R, but not as in the UCI\n",
      "Machine Learning Repository, which has two wrong data points.\n",
      "\n",
      "This is perhaps the best known database to be found in the\n",
      "pattern recognition literature.  Fisher's paper is a classic in the field and\n",
      "is referenced frequently to this day.  (See Duda & Hart, for example.)  The\n",
      "data set contains 3 classes of 50 instances each, where each class refers to a\n",
      "type of iris plant.  One class is linearly separable from the other 2; the\n",
      "latter are NOT linearly separable from each other.\n",
      "\n",
      ".. topic:: References\n",
      "\n",
      "   - Fisher, R.A. \"The use of multiple measurements in taxonomic problems\"\n",
      "     Annual Eugenics, 7, Part II, 179-188 (1936); also in \"Contributions to\n",
      "     Mathematical Statistics\" (John Wiley, NY, 1950).\n",
      "   - Duda, R.O., & Hart, P.E. (1973) Pattern Classification and Scene Analysis.\n",
      "     (Q327.D83) John Wiley & Sons.  ISBN 0-471-22361-1.  See page 218.\n",
      "   - Dasarathy, B.V. (1980) \"Nosing Around the Neighborhood: A New System\n",
      "     Structure and Classification Rule for Recognition in Partially Exposed\n",
      "     Environments\".  IEEE Transactions on Pattern Analysis and Machine\n",
      "     Intelligence, Vol. PAMI-2, No. 1, 67-71.\n",
      "   - Gates, G.W. (1972) \"The Reduced Nearest Neighbor Rule\".  IEEE Transactions\n",
      "     on Information Theory, May 1972, 431-433.\n",
      "   - See also: 1988 MLC Proceedings, 54-64.  Cheeseman et al\"s AUTOCLASS II\n",
      "     conceptual clustering system finds 3 classes in the data.\n",
      "   - Many, many more ...\n"
     ]
    }
   ],
   "source": [
    "iris = datasets.load_iris()\n",
    "print(iris.DESCR)"
   ]
  },
  {
   "cell_type": "code",
   "execution_count": 20,
   "metadata": {
    "nbpresent": {
     "id": "95317ab3-47c8-41a8-9600-6f8e9a79c5b6"
    }
   },
   "outputs": [
    {
     "data": {
      "text/plain": [
       "Text(0, 0.5, 'Sepal width')"
      ]
     },
     "execution_count": 20,
     "metadata": {},
     "output_type": "execute_result"
    },
    {
     "data": {
      "image/png": "[encoded data removed]",
      "text/plain": [
       "<Figure size 432x288 with 1 Axes>"
      ]
     },
     "metadata": {
      "needs_background": "light"
     },
     "output_type": "display_data"
    }
   ],
   "source": [
    "X = iris.data\n",
    "y = iris.target\n",
    "\n",
    "plt.scatter(X[:, 0], X[:, 1], c=y)\n",
    "plt.xlabel('Sepal length')\n",
    "plt.ylabel('Sepal width')"
   ]
  },
  {
   "cell_type": "code",
   "execution_count": 21,
   "metadata": {
    "nbpresent": {
     "id": "1893df05-5f2c-40c9-ad07-1581577b76f0"
    }
   },
   "outputs": [
    {
     "data": {
      "text/plain": [
       "Text(0, 0.5, 'Sepal width')"
      ]
     },
     "execution_count": 21,
     "metadata": {},
     "output_type": "execute_result"
    },
    {
     "data": {
      "image/png": "[encoded data removed]",
      "text/plain": [
       "<Figure size 432x288 with 1 Axes>"
      ]
     },
     "metadata": {
      "needs_background": "light"
     },
     "output_type": "display_data"
    }
   ],
   "source": [
    "plt.scatter(X[:, 2], X[:, 3], c=y)\n",
    "plt.xlabel('Sepal length')\n",
    "plt.ylabel('Sepal width')"
   ]
  },
  {
   "cell_type": "code",
   "execution_count": 22,
   "metadata": {
    "nbpresent": {
     "id": "ab746d8d-2dc2-405f-afe5-684d6fc6df15"
    }
   },
   "outputs": [
    {
     "data": {
      "text/plain": [
       "<matplotlib.collections.PathCollection at 0x7f42e7cff6d0>"
      ]
     },
     "execution_count": 22,
     "metadata": {},
     "output_type": "execute_result"
    },
    {
     "data": {
      "image/png": "[encoded data removed]",
      "text/plain": [
       "<Figure size 720x360 with 1 Axes>"
      ]
     },
     "metadata": {
      "needs_background": "light"
     },
     "output_type": "display_data"
    }
   ],
   "source": [
    "from sklearn.neighbors import KNeighborsClassifier\n",
    "from matplotlib.colors import ListedColormap\n",
    "\n",
    "cmap_light = ListedColormap(['#FFAAAA', '#AAFFAA', '#AAAAFF'])\n",
    "cmap_bold = ListedColormap(['#FF0000', '#00FF00', '#0000FF'])\n",
    "\n",
    "clf = KNeighborsClassifier(15)\n",
    "clf.fit(X[:, :2], y)\n",
    "\n",
    "# crear rejilla de puntos\n",
    "x_min, x_max = X[:, 0].min() - 1, X[:, 0].max() + 1\n",
    "y_min, y_max = X[:, 1].min() - 1, X[:, 1].max() + 1\n",
    "xx, yy = np.meshgrid(np.arange(x_min, x_max, .02),\n",
    "                     np.arange(y_min, y_max, .02))\n",
    "\n",
    "# crear matriz de dos columnas con los nuevos valores a predecir\n",
    "Xnew = np.column_stack((xx.ravel(), yy.ravel()))\n",
    "z = clf.predict(Xnew)\n",
    "\n",
    "# poner de vuelta en 2D para pintar\n",
    "z = z.reshape(xx.shape)\n",
    "\n",
    "plt.figure(figsize=(10, 5))\n",
    "plt.pcolormesh(xx, yy, z, cmap=cmap_light)\n",
    "plt.scatter(X[:, 0], X[:, 1], c=y, edgecolor='k', cmap=cmap_bold)"
   ]
  },
  {
   "cell_type": "markdown",
   "metadata": {
    "nbpresent": {
     "id": "75820f15-062e-49dc-9599-56f539f37a38"
    }
   },
   "source": [
    "##### Ejercicio:\n",
    "\n",
    "Con el conjunto de datos `titanic.csv`:\n",
    " * Hacer un gráfico de barras con el número de pasajeros que han muerto y los que han sobrevivido por género\n",
    " * Hacer un gráfico de barras con el número de personas que sobrevivieron en cada grupo de edad (0-10, 11-20, 21-30, etc) (pista: .cut())\n",
    " * Calcular la probabilidad de supervivencia en base al sexo y a la clase\n",
    " * Calcular la probabilidad de supervivencia en base la edad, al título y a la clase\n",
    " * En vista de lo anterior, completar ahora los valores que faltan de la edad con la mediana pero agrupada por título y clase. Pista: usar .transform() y ver que parámetros acepta .fillna()\n",
    " * Convertir las variables no numéricas en numéricas con `.get_dummies()`\n",
    " * Particionar el conjunto en train/test\n",
    " * Normalizar las variables para que tengan media 0 y varianza 1\n",
    " * Ajustar un clasificador `RandomForestClassifier()` y ver cuantos pasajeros clasifica correctamente en Superviviente/No superviviente"
   ]
  },
  {
   "cell_type": "markdown",
   "metadata": {},
   "source": [
    "### APIs compatibles con scikit-learn\n",
    "\n",
    "Debido a la popularidad de scikit-learn, muchos proyectos deciden ofrecer la funcionalidad que implementan también a través de una API compatible con sklearn. En ese caso, por ejemplo, podríamos usar los modelos que implementan esas librerías directamente reemplazando a cualquier modelo implementado en scikit.\n",
    "\n",
    "Lista de proyectos: http://scikit-learn.org/stable/related_projects.html"
   ]
  },
  {
   "cell_type": "code",
   "execution_count": 23,
   "metadata": {},
   "outputs": [
    {
     "ename": "ModuleNotFoundError",
     "evalue": "No module named 'xgboost'",
     "output_type": "error",
     "traceback": [
      "\u001b[0;31m---------------------------------------------------------------------------\u001b[0m",
      "\u001b[0;31mModuleNotFoundError\u001b[0m                       Traceback (most recent call last)",
      "\u001b[0;32m<ipython-input-23-4f051943fe35>\u001b[0m in \u001b[0;36m<module>\u001b[0;34m\u001b[0m\n\u001b[1;32m      1\u001b[0m \u001b[0;31m# Instalar XGBoost: conda install -c conda-forge xgboost\u001b[0m\u001b[0;34m\u001b[0m\u001b[0;34m\u001b[0m\u001b[0;34m\u001b[0m\u001b[0m\n\u001b[0;32m----> 2\u001b[0;31m \u001b[0;32mfrom\u001b[0m \u001b[0mxgboost\u001b[0m \u001b[0;32mimport\u001b[0m \u001b[0mXGBRegressor\u001b[0m\u001b[0;34m\u001b[0m\u001b[0;34m\u001b[0m\u001b[0m\n\u001b[0m\u001b[1;32m      3\u001b[0m \u001b[0;34m\u001b[0m\u001b[0m\n\u001b[1;32m      4\u001b[0m \u001b[0mboston\u001b[0m \u001b[0;34m=\u001b[0m \u001b[0mdatasets\u001b[0m\u001b[0;34m.\u001b[0m\u001b[0mload_boston\u001b[0m\u001b[0;34m(\u001b[0m\u001b[0;34m)\u001b[0m\u001b[0;34m\u001b[0m\u001b[0;34m\u001b[0m\u001b[0m\n\u001b[1;32m      5\u001b[0m \u001b[0mX\u001b[0m\u001b[0;34m,\u001b[0m \u001b[0my\u001b[0m \u001b[0;34m=\u001b[0m \u001b[0mboston\u001b[0m\u001b[0;34m.\u001b[0m\u001b[0mdata\u001b[0m\u001b[0;34m,\u001b[0m \u001b[0mboston\u001b[0m\u001b[0;34m.\u001b[0m\u001b[0mtarget\u001b[0m\u001b[0;34m\u001b[0m\u001b[0;34m\u001b[0m\u001b[0m\n",
      "\u001b[0;31mModuleNotFoundError\u001b[0m: No module named 'xgboost'"
     ]
    }
   ],
   "source": [
    "# Instalar XGBoost: conda install -c conda-forge xgboost\n",
    "from xgboost import XGBRegressor\n",
    "\n",
    "boston = datasets.load_boston()\n",
    "X, y = boston.data, boston.target\n",
    "\n",
    "model = XGBRegressor()\n",
    "model.fit(X, y)"
   ]
  },
  {
   "cell_type": "markdown",
   "metadata": {
    "nbpresent": {
     "id": "c8ea458d-c09b-4d47-bc6b-2c3842c1de92"
    }
   },
   "source": [
    "### Persistencia de modelos\n",
    "\n",
    "El objeto que contiene cada uno de los modelos, una vez entrenado, contiene toda la información para desplegar ese modelo en producción (pesos, hyper-parámetros, error de entrenamiento, etc.). Por tanto es muy común almacenarlo en disco:"
   ]
  },
  {
   "cell_type": "code",
   "execution_count": null,
   "metadata": {
    "nbpresent": {
     "id": "36bcbda3-57a2-4b46-92c1-c72ddd0651aa"
    }
   },
   "outputs": [],
   "source": [
    "import pickle\n",
    "with open(\"model.pkl\", \"wb\") as f:\n",
    "    pickle.dump(model, f)\n",
    "\n",
    "with open(\"model.pkl\", \"rb\") as f:\n",
    "    model = pickle.load(f)\n",
    "model"
   ]
  },
  {
   "cell_type": "code",
   "execution_count": null,
   "metadata": {
    "nbpresent": {
     "id": "073d0865-2205-41eb-adfc-b1cb3dee7f0c"
    }
   },
   "outputs": [],
   "source": [
    "from sklearn.externals import joblib\n",
    "\n",
    "joblib.dump(model, 'model.pkl') \n",
    "\n",
    "model = joblib.load('model.pkl')\n",
    "model"
   ]
  },
  {
   "cell_type": "markdown",
   "metadata": {},
   "source": [
    "### Evaluación de modelos\n",
    "\n",
    "scikit-learn implementa distintas métricas para evaluar la calidad de los modelos:\n",
    "\n",
    "Documentación: http://scikit-learn.org/stable/modules/model_evaluation.html    \n",
    "Referencia: http://scikit-learn.org/stable/modules/classes.html#sklearn-metrics-metrics    "
   ]
  },
  {
   "cell_type": "code",
   "execution_count": null,
   "metadata": {},
   "outputs": [],
   "source": [
    "import pandas as pd\n",
    "df = pd.read_csv('../data/balance-scale.data', \n",
    "                 names=['balance', 'var1', 'var2', 'var3', 'var4'])\n",
    "\n",
    "df['balance'] = [1 if b=='B' else 0 for b in df['balance']]\n",
    "df['balance'].value_counts()"
   ]
  },
  {
   "cell_type": "code",
   "execution_count": null,
   "metadata": {
    "scrolled": false
   },
   "outputs": [],
   "source": [
    "from sklearn.linear_model import LogisticRegression\n",
    "from sklearn.metrics import confusion_matrix, f1_score, classification_report\n",
    "\n",
    "X = df.drop(columns='balance').values\n",
    "y = df['balance'].values\n",
    "\n",
    "print(X.shape)\n",
    "print(y.shape)\n",
    "\n",
    "model = LogisticRegression(solver='liblinear')\n",
    "model.fit(X, y)\n",
    "ypred = model.predict(X)\n",
    "print(model.score(X, y) * 100)\n",
    "\n",
    "print(classification_report(y, ypred))\n",
    "print(confusion_matrix(y, ypred))"
   ]
  },
  {
   "cell_type": "markdown",
   "metadata": {
    "nbpresent": {
     "id": "10b576a1-513d-4588-bd1e-425b05e0136f"
    }
   },
   "source": [
    "### Búsqueda de hyper-parámetros\n",
    "\n",
    "scikit-learn implementa las dos estrategias más comunes a la hora de buscar los hyper-parámetros óptimos de un modelo:\n",
    " * Búsqueda exhaustiva en rejilla (`GridSearchCV`)\n",
    " * Búsqueda aleatoria (`RandomSearchCV`)\n",
    " \n",
    "También existen otras librerías con algoritmos especializados que soportan la API de scikit-learn\n"
   ]
  },
  {
   "cell_type": "code",
   "execution_count": null,
   "metadata": {
    "nbpresent": {
     "id": "0d277586-d1df-4c03-a365-05cdfa3b9545"
    },
    "scrolled": false
   },
   "outputs": [],
   "source": [
    "from sklearn.model_selection import GridSearchCV\n",
    "from sklearn.ensemble import RandomForestClassifier\n",
    "\n",
    "rfc = RandomForestClassifier()\n",
    "\n",
    "param_grid = { \n",
    "    'n_estimators': [200, 700],\n",
    "    'max_features': ['auto', 'sqrt', 'log2']\n",
    "}\n",
    "\n",
    "cv = GridSearchCV(estimator=rfc, \n",
    "                  param_grid=param_grid, \n",
    "                  cv=5, \n",
    "                  scoring='accuracy', \n",
    "                  return_train_score=False)\n",
    "\n",
    "cv.fit(X, y)\n",
    "print(cv.best_params_)\n",
    "\n",
    "pd.DataFrame(cv.cv_results_).sort_values(by='mean_test_score', ascending=False)"
   ]
  },
  {
   "cell_type": "markdown",
   "metadata": {},
   "source": [
    "###### Ejercicio:\n",
    "\n",
    "Continuando con el ejemplo del Titanic:\n",
    " * Calcular la matriz de confusión, f1-score, precision y recall en el conjunto de test. ¿Como se interpretan estos resultados? ¿Observas algún problema?\n",
    " * Hacer un gráfico de barras con la importancia de cada una de las variables. ¿Observas algún problema?\n",
    " * Vamos a intentar mejorar el modelo probando con distintos valores de los hyper-parámetros. Primero vemos en la documentación de `RandomForestClassifier` que parámetro soporta, y a continuación elegimos 3 o 4 a explorar. Por último, probamos con 3 o 4 valores de cada uno de los parámetros anteriores y `GridSearchCV` para encontrar la combinación óptima para este problema.\n",
    " * ¿Ha mejorado la búsqueda exhaustiva el rendimiento del modelo? Vuelve a calcular las métricas del punto 1.\n",
    " * Por último, podríamos intentar mejorar las variables o crear otras nuevas. Prueba a agrupar títulos con pocas personas en categorías más generales.\n",
    " * Repetir ahora el ajuste del RandomForest, ¿mejora lo anterior el rendimiento del modelo?\n",
    " "
   ]
  },
  {
   "cell_type": "markdown",
   "metadata": {
    "collapsed": true
   },
   "source": [
    "### Escalando scikit-learn (libreria dask)\n",
    "\n",
    "Dask-ML combina distintas aproximaciones para paralelizar algunos de los modelos dentro de la librería scikit-learn.\n",
    "\n",
    "Referencia: http://dask-ml.readthedocs.io/en/latest/\n",
    "\n",
    "##### Paralelización en cluster\n",
    "\n",
    "En el caso de la búsqueda de parámetros o ciertos modelos como los RandomForest, podemos paralelizar cada una de las tareas independientes para que se ejecuten en un core de un cluster"
   ]
  },
  {
   "cell_type": "code",
   "execution_count": null,
   "metadata": {},
   "outputs": [],
   "source": [
    "# conda install -c conda-forge dask-ml\n",
    "from dask_searchcv import GridSearchCV\n",
    "\n",
    "cv = GridSearchCV(estimator=rfc, param_grid=param_grid, cv=5, return_train_score=False)\n",
    "\n",
    "cv.fit(X, y)\n",
    "print(cv.best_params_)\n",
    "\n",
    "pd.DataFrame(cv.cv_results_).sort_values(by='mean_test_score', ascending=False)"
   ]
  },
  {
   "cell_type": "markdown",
   "metadata": {},
   "source": [
    "##### Aprendizaje incremental\n",
    "\n",
    "Algunos algoritmos de scikit-learn soportan aprendizaje incremental, es decir, el entrenamiento no se realiza con todo el conjunto de datos a la vez sino que se entrenan sub-conjuntos llamados mini-bacthes. \n",
    "\n",
    "El entrenamiento es secuencial, pero solo es necesario tener en memoria el mini-batch actual, de forma que se podrían ajustar modelos con conjuntos de datos almacenados en ficheros de texto mucho más grandes que la capacidad de nuestra RAM.\n",
    "\n",
    "Los modelos que soportan este tipo de aprendizaje se pueden en la siguiente lista: http://scikit-learn.org/stable/modules/scaling_strategies.html\n",
    "\n",
    "Por su parte, dask proporciona la forma de importar estos ficheros que no caben en la memoria en distintos sub-conjuntos y entrenar cada uno de ellos a través del método partial_fit()\n",
    "\n",
    "Documentacion: http://dask-ml.readthedocs.io/en/latest/incremental.html"
   ]
  },
  {
   "cell_type": "code",
   "execution_count": null,
   "metadata": {},
   "outputs": [],
   "source": [
    "from sklearn.linear_model import SGDRegressor\n",
    "from dask_ml.wrappers import Incremental\n",
    "from dask_ml.datasets import make_classification\n",
    "\n",
    "X, y = make_classification(n_samples=1000, chunks=500)\n",
    "\n",
    "est = Incremental(SGDRegressor(tol=1e-3))\n",
    "est.fit(X, y)"
   ]
  },
  {
   "cell_type": "markdown",
   "metadata": {
    "collapsed": true
   },
   "source": [
    "##### Ejercicio:\n",
    "\n",
    "Realizar los siguientes puntos sobre un conjunto de datos propio con el que estés trabajando. Si no tienes ninguno disponible, puedes bajar [House Prices](https://www.kaggle.com/c/house-prices-advanced-regression-techniques) (regresión) o [Digit Recognizer](https://www.kaggle.com/c/digit-recognizer) clasificación.\n",
    "\n",
    "* Importar los datos en un DataFrame\n",
    "* Ver el tipo de cada una de las variables y comprobar que se han leído correctamente\n",
    "* Identificar la variable (columna) que nos interesa predecir\n",
    "* Hacer algunos gráficos exploratorios, por ejemplo, un heatmap con la correlación del resto de variables con la variable objetivo.\n",
    "* Separar el DataFrame en dos, uno con todas las variables menos la variable objetivo y otro con la variable objetivo.\n",
    "* Partir esos dos DataFrames en train/test\n",
    "* Identificar si nos encontramos antes un problema de regresión o de clasificación.\n",
    "* Entrenar 2 o 3 modelos, dependiendo del tipo de problema. Por ejemplo, si es un problema de regresión podemos probar con LinearRegression, SVR y RandomForestRegressor\n",
    "* Decidir cual de los tres modelos es mejor en estos datos, comparando sus errores de validación cruzada. Pista: `cross_val_score`.\n",
    "* Calcular el error del mejor modelo en nuestro conjunto de test."
   ]
  },
  {
   "cell_type": "code",
   "execution_count": null,
   "metadata": {},
   "outputs": [],
   "source": []
  }
 ],
 "metadata": {
  "kernelspec": {
   "display_name": "Python 3",
   "language": "python",
   "name": "python3"
  },
  "language_info": {
   "codemirror_mode": {
    "name": "ipython",
    "version": 3
   },
   "file_extension": ".py",
   "mimetype": "text/x-python",
   "name": "python",
   "nbconvert_exporter": "python",
   "pygments_lexer": "ipython3",
   "version": "3.7.6"
  }
 },
 "nbformat": 4,
 "nbformat_minor": 2
}
