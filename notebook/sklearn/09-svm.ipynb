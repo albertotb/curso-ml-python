{
 "cells": [
  {
   "cell_type": "markdown",
   "metadata": {},
   "source": [
    "## Support Vector Machines (SVM)\n",
    "\n",
    "Conjunto de modelos que se puede usar para:\n",
    "\n",
    "   * clasificación\n",
    "   \n",
    "   * regresión\n",
    "   \n",
    "Algunas ventajas:\n",
    "\n",
    "   * efectivas cuando hay un número de variables elevado\n",
    "   \n",
    "   * incluso si el número de variables es mucho mayor que el número de ejemplos\n",
    "   \n",
    "   * usa únicamente un subcojunto de las muestras de entrenamiento para predecir\n",
    "   \n",
    "   * versátiles: se pueden extender al caso no lineal via kernels\n",
    "   \n",
    "Algunas desventajas:\n",
    "\n",
    "   * Rendimiento ligado al valor de los hiper-parámetros\n",
    "   \n",
    "   * No porducen estimaciones de la probabilidad de pertenencia a cada clase de forma directa\n",
    "   \n",
    "Las SVM lineales resuelven el problema de optimización:\n",
    "\n",
    "$$\\min_{w}\\; C \\sum_{i=1}^{n} \\max\\big\\{0,\\, 1 - y_i(w_0 + w_1x_1 + \\dots + w_dx_d)\\big\\} + ||w||_2^2$$\n",
    "\n",
    "Si lo comparamos con el problema de optimización de la **regresión logística regularizada**:\n",
    "\n",
    "$$\\min_{w}\\; C\\sum_{i=1}^{n} \\log\\big(\\exp(-y_i(w_0 + w_1x_1 + \\dots + w_dx_d)) + 1 \\big) + ||w||_2^2$$\n",
    "\n",
    "Son modelos muy similares, solo cambia la función de pérdida!\n",
    "\n",
    "<img src=../../img/loss.png width=500>\n",
    "\n",
    "[Guía de usuario](https://scikit-learn.org/stable/modules/svm.html)"
   ]
  },
  {
   "cell_type": "markdown",
   "metadata": {},
   "source": [
    "### SVM lineal\n",
    "\n",
    "scikit-learn implementa las SVM lineales en las clases:\n",
    "\n",
    " * `LinearSVC` para clasificación. Parámetros:\n",
    " \n",
    "   1. `C`, cantidad de regularización\n",
    "   \n",
    "   2. `penalty`, si la regularización es $l_1$ o $l_2$\n",
    "   \n",
    "   \n",
    " * `LinearSVR` para regresión. Parámetros:\n",
    " \n",
    "   1. `C`, cantidad de regularización \n",
    "   \n",
    "   2. `epsilon`, parámetro de la función de pérdida\n",
    " \n",
    " \n",
    "<img src=../../img/linear_svm_regularization.png width=500>"
   ]
  },
  {
   "cell_type": "code",
   "execution_count": 1,
   "metadata": {},
   "outputs": [
    {
     "name": "stderr",
     "output_type": "stream",
     "text": [
      "/home/alberto/miniconda3/lib/python3.7/site-packages/sklearn/svm/_base.py:977: ConvergenceWarning: Liblinear failed to converge, increase the number of iterations.\n",
      "  \"the number of iterations.\", ConvergenceWarning)\n"
     ]
    },
    {
     "data": {
      "text/plain": [
       "0.9261862917398945"
      ]
     },
     "execution_count": 1,
     "metadata": {},
     "output_type": "execute_result"
    }
   ],
   "source": [
    "from sklearn.svm import LinearSVC\n",
    "from sklearn.datasets import load_breast_cancer\n",
    "\n",
    "X, y = load_breast_cancer(return_X_y=True)\n",
    "\n",
    "svc = LinearSVC(C=1, max_iter=2000)\n",
    "svc.fit(X, y)\n",
    "svc.score(X, y)"
   ]
  },
  {
   "cell_type": "code",
   "execution_count": 2,
   "metadata": {},
   "outputs": [
    {
     "data": {
      "text/plain": [
       "0.9876977152899824"
      ]
     },
     "execution_count": 2,
     "metadata": {},
     "output_type": "execute_result"
    }
   ],
   "source": [
    "from sklearn.preprocessing import scale\n",
    "\n",
    "X_std = scale(X)\n",
    "\n",
    "svc = LinearSVC(C=1, max_iter=2000)\n",
    "svc.fit(X_std, y)\n",
    "svc.score(X_std, y)"
   ]
  },
  {
   "cell_type": "markdown",
   "metadata": {},
   "source": [
    "Las SVMs son sensibles al escalado de los datos, por lo que **siempre** es recomendable estandarizar.\n",
    "\n",
    "En general podemos estandarizar a media 0 y desviación 1, pero si los datos tiene muchos 0 es mejor al intervalo $[-1, 1]$"
   ]
  },
  {
   "cell_type": "markdown",
   "metadata": {},
   "source": [
    "### SVM no lineal\n",
    "\n",
    "Crean fronteras de decisión no lineales transformando las variables originales a partir de una función de kernel:\n",
    "\n",
    "<img src=../../img/nonlinear_svm.jpg width=500>\n",
    "\n",
    "Implementación en scikit-learn:\n",
    "\n",
    "  * `SVC` para clasificación. Parámetros:\n",
    "  \n",
    "    1. `C`, cantidad de regularización\n",
    "    \n",
    "    2. `kernel`, tipo de kernel. El más común es el kernel `rbf`\n",
    "    \n",
    "    3. Parámetros del kernel (`degree`, `gamma`, `coef0`)\n",
    "  \n",
    "  * `SVR` para regresión. Mismos parámetros que `SVC` y además:\n",
    "  \n",
    "    1. `epsilon`, parámetro de la función de pérdida\n",
    "    \n",
    "Recomendación para ajustar parámetros:\n",
    "\n",
    "   1. Nunca usar `kernel=linear`, usar las clases específicas `LinearSVC` y `LinearSVR`\n",
    "   \n",
    "   2. `kernel=rbf` suele funcionar bien en la mayoría de los casos\n",
    "   \n",
    "   3. Para `SVC`, ajustar los valores de `C` y `gamma` por validación cruzada\n",
    "   \n",
    "   4. Para `SVR`, ajusta los valores de `C`, `gamma` y `epsilon` por validación cruzada\n",
    "   \n",
    "   5. Aumentar el valor de `cache_size` a 500Mb o incluso 1Gb si hay suficiente RAM disponible puede hacer que el entrenamiento vaya más rápido\n",
    "   \n",
    "Es habitual hacer la búsqueda en las siguientes rejillas: \n",
    "   \n",
    "   * $\\text{C}=2^{-5}, 2^{-3}, \\dots, 2^{13}, 2^{15}$\n",
    "   \n",
    "   \n",
    "   * $\\text{gamma}=2^{-15}, 2^{-13}, \\dots, 2^{1}, 2^{3}$\n",
    "   \n",
    "   \n",
    "   * $\\text{epsilon}=2^{-8}, 2^{-7}, \\dots, 2^{-2}, 2^{-1}$"
   ]
  },
  {
   "cell_type": "code",
   "execution_count": 3,
   "metadata": {},
   "outputs": [],
   "source": [
    "import numpy as np\n",
    "from sklearn.svm import SVC\n",
    "from sklearn.model_selection import GridSearchCV, train_test_split\n",
    "\n",
    "X_train, X_test, y_train, y_test = train_test_split(X, y, random_state=0)\n",
    "\n",
    "param_grid = {'C': 2.0**np.arange(-5, 16, 2),\n",
    "              'gamma': 2.0**np.arange(-15, 4, 2)}\n",
    "\n",
    "grid = GridSearchCV(estimator=SVC(), param_grid=param_grid, cv=5)"
   ]
  },
  {
   "cell_type": "code",
   "execution_count": 4,
   "metadata": {},
   "outputs": [
    {
     "data": {
      "text/plain": [
       "{'C': 8.0, 'gamma': 3.0517578125e-05}"
      ]
     },
     "execution_count": 4,
     "metadata": {},
     "output_type": "execute_result"
    }
   ],
   "source": [
    "grid.fit(X_train, y_train)\n",
    "grid.best_params_"
   ]
  },
  {
   "cell_type": "code",
   "execution_count": 5,
   "metadata": {},
   "outputs": [
    {
     "data": {
      "text/plain": [
       "0.951048951048951"
      ]
     },
     "execution_count": 5,
     "metadata": {},
     "output_type": "execute_result"
    }
   ],
   "source": [
    "grid.score(X_test, y_test)"
   ]
  },
  {
   "cell_type": "code",
   "execution_count": 6,
   "metadata": {},
   "outputs": [
    {
     "data": {
      "text/plain": [
       "0.9370629370629371"
      ]
     },
     "execution_count": 6,
     "metadata": {},
     "output_type": "execute_result"
    }
   ],
   "source": [
    "svc = SVC()\n",
    "svc.fit(X_train, y_train)\n",
    "svc.score(X_test, y_test)"
   ]
  },
  {
   "cell_type": "markdown",
   "metadata": {},
   "source": [
    "**Nota:** Es comveniente comprobar los resultados completos de la búsqueda para ver que los parámetros óptimos no están en los extremos de la rejilla que hemos creado"
   ]
  },
  {
   "cell_type": "markdown",
   "metadata": {},
   "source": [
    "### SVM multiclase\n",
    "\n",
    "Las SVM son clasificadores binarios. Para extenderlas a multiclase, se utiliza el esquema *one-vs-one* (OvO):\n",
    "\n",
    "  * se construye un clasificador por cada par de clases \n",
    "  \n",
    "  \n",
    "  * las predicciones se combinan usando la clase mayoritaria\n",
    "  \n",
    " <img src=../../img/OVO.jpg width=500>"
   ]
  },
  {
   "cell_type": "markdown",
   "metadata": {},
   "source": [
    "### Ejercicios\n",
    "\n",
    "* Ajustar una SVR al conjunto de datos `AmesHousing.csv`. Estandariza primero las variables para que estén en el intervalo $[-1, 1]$\n",
    "\n",
    "* Busca ahora el valor óptimo de los parámetros `C`, `gamma` y `epsilon` usando validación cruzada y búsqueda en rejilla (`GridSearchCV`)"
   ]
  },
  {
   "cell_type": "code",
   "execution_count": null,
   "metadata": {},
   "outputs": [],
   "source": []
  }
 ],
 "metadata": {
  "kernelspec": {
   "display_name": "Python 3",
   "language": "python",
   "name": "python3"
  },
  "language_info": {
   "codemirror_mode": {
    "name": "ipython",
    "version": 3
   },
   "file_extension": ".py",
   "mimetype": "text/x-python",
   "name": "python",
   "nbconvert_exporter": "python",
   "pygments_lexer": "ipython3",
   "version": "3.7.6"
  }
 },
 "nbformat": 4,
 "nbformat_minor": 4
}
