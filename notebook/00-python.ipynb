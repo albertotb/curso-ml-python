{
 "cells": [
  {
   "cell_type": "markdown",
   "metadata": {},
   "source": [
    "# Introducción a Python\n",
    "### Alberto Torres Barrán\n"
   ]
  },
  {
   "cell_type": "markdown",
   "metadata": {},
   "source": [
    "### Variables y tipos de datos\n",
    "\n",
    " * En Python todos los elementos son objetos, incluidos los tipos básicos como los números.\n",
    " * Las variables no se declaran\n",
    " * El tipo de las mismas se detecta cuando se ejecuta el programa\n",
    " * Los tipos básicos son\n",
    "     - Booleano: `True` o `False`\n",
    "     - Numérico: entero (`int`/`long`), decimal (`float`) o número complejo (`complex`)\n",
    "     - Secuencias: cadenas de texto (`string`), tuplas (`tuple`) o listas (`list`)\n",
    "     - Otros: diccionarios (`dict`), conjuntos (`set`), etc.\n",
    " \n",
    "Los tipos de datos booleano y numéricos son inmutables, es decir, cada vez que hacemos una nueva asignación estamos creando un nuevo objeto"
   ]
  },
  {
   "cell_type": "code",
   "execution_count": 120,
   "metadata": {},
   "outputs": [
    {
     "data": {
      "text/plain": [
       "9"
      ]
     },
     "execution_count": 120,
     "metadata": {},
     "output_type": "execute_result"
    }
   ],
   "source": [
    "4+5"
   ]
  },
  {
   "cell_type": "code",
   "execution_count": 121,
   "metadata": {},
   "outputs": [
    {
     "name": "stdout",
     "output_type": "stream",
     "text": [
      "(5, True, 9.7, 'Hola', (5+2j))\n"
     ]
    }
   ],
   "source": [
    "# Esto es un comentario\n",
    "a = 5\n",
    "b = True\n",
    "c = 9.7\n",
    "d = \"Hola\"   # Las cadenas tambien con comillas simples ' '\n",
    "e = 5 + 2j\n",
    "\n",
    "print((a, b, c, d, e))"
   ]
  },
  {
   "cell_type": "code",
   "execution_count": 122,
   "metadata": {},
   "outputs": [
    {
     "name": "stdout",
     "output_type": "stream",
     "text": [
      "139934054050464\n",
      "139934054050496\n"
     ]
    }
   ],
   "source": [
    "a = 5\n",
    "print(id(a))  # La función id devuelve un identificador único para cada objeto en memoria\n",
    "a = 6  # No estamos modificando el valor de a, estamos creando un nuevo objeto y asignando la etiqueta a\n",
    "print(id(a))"
   ]
  },
  {
   "cell_type": "code",
   "execution_count": 123,
   "metadata": {},
   "outputs": [
    {
     "data": {
      "text/plain": [
       "float"
      ]
     },
     "execution_count": 123,
     "metadata": {},
     "output_type": "execute_result"
    }
   ],
   "source": [
    "# Podemos ver el tipo de un objeto con la funcion type()\n",
    "type(4.5)"
   ]
  },
  {
   "cell_type": "code",
   "execution_count": 124,
   "metadata": {},
   "outputs": [
    {
     "data": {
      "text/plain": [
       "str"
      ]
     },
     "execution_count": 124,
     "metadata": {},
     "output_type": "execute_result"
    }
   ],
   "source": [
    "type(\"hola\")"
   ]
  },
  {
   "cell_type": "code",
   "execution_count": 125,
   "metadata": {},
   "outputs": [
    {
     "data": {
      "text/plain": [
       "4"
      ]
     },
     "execution_count": 125,
     "metadata": {},
     "output_type": "execute_result"
    }
   ],
   "source": [
    "# Se puede convertir entre los distintos tipos de datos con las funciones\n",
    "# int(), str(), float(), tuple(), list(), etc.\n",
    "int(4.5)"
   ]
  },
  {
   "cell_type": "code",
   "execution_count": 126,
   "metadata": {},
   "outputs": [
    {
     "data": {
      "text/plain": [
       "'10'"
      ]
     },
     "execution_count": 126,
     "metadata": {},
     "output_type": "execute_result"
    }
   ],
   "source": [
    "str(10)"
   ]
  },
  {
   "cell_type": "code",
   "execution_count": 127,
   "metadata": {},
   "outputs": [
    {
     "data": {
      "text/plain": [
       "4.5"
      ]
     },
     "execution_count": 127,
     "metadata": {},
     "output_type": "execute_result"
    }
   ],
   "source": [
    "float(\"4.5\")"
   ]
  },
  {
   "cell_type": "code",
   "execution_count": 128,
   "metadata": {},
   "outputs": [
    {
     "ename": "ValueError",
     "evalue": "could not convert string to float: 'hola'",
     "output_type": "error",
     "traceback": [
      "\u001b[0;31m---------------------------------------------------------------------------\u001b[0m",
      "\u001b[0;31mValueError\u001b[0m                                Traceback (most recent call last)",
      "\u001b[0;32m<ipython-input-128-2bdd8b52d256>\u001b[0m in \u001b[0;36m<module>\u001b[0;34m\u001b[0m\n\u001b[0;32m----> 1\u001b[0;31m \u001b[0mfloat\u001b[0m\u001b[0;34m(\u001b[0m\u001b[0;34m\"hola\"\u001b[0m\u001b[0;34m)\u001b[0m\u001b[0;34m\u001b[0m\u001b[0m\n\u001b[0m",
      "\u001b[0;31mValueError\u001b[0m: could not convert string to float: 'hola'"
     ]
    }
   ],
   "source": [
    "float(\"hola\")"
   ]
  },
  {
   "cell_type": "markdown",
   "metadata": {},
   "source": [
    "### Operadores numéricos básicos"
   ]
  },
  {
   "cell_type": "code",
   "execution_count": 129,
   "metadata": {},
   "outputs": [
    {
     "data": {
      "text/plain": [
       "11"
      ]
     },
     "execution_count": 129,
     "metadata": {},
     "output_type": "execute_result"
    }
   ],
   "source": [
    "5 + 6    # Suma"
   ]
  },
  {
   "cell_type": "code",
   "execution_count": 130,
   "metadata": {},
   "outputs": [
    {
     "data": {
      "text/plain": [
       "8"
      ]
     },
     "execution_count": 130,
     "metadata": {},
     "output_type": "execute_result"
    }
   ],
   "source": [
    "11 - 3   # Resta"
   ]
  },
  {
   "cell_type": "code",
   "execution_count": 131,
   "metadata": {},
   "outputs": [
    {
     "data": {
      "text/plain": [
       "14.0"
      ]
     },
     "execution_count": 131,
     "metadata": {},
     "output_type": "execute_result"
    }
   ],
   "source": [
    "3.5 * 4  # Multiplicacion"
   ]
  },
  {
   "cell_type": "code",
   "execution_count": 2,
   "metadata": {},
   "outputs": [
    {
     "data": {
      "text/plain": [
       "2"
      ]
     },
     "execution_count": 2,
     "metadata": {},
     "output_type": "execute_result"
    }
   ],
   "source": [
    "5 // 2    "
   ]
  },
  {
   "cell_type": "code",
   "execution_count": 3,
   "metadata": {
    "run_control": {
     "marked": false
    }
   },
   "outputs": [
    {
     "data": {
      "text/plain": [
       "2.5"
      ]
     },
     "execution_count": 3,
     "metadata": {},
     "output_type": "execute_result"
    }
   ],
   "source": [
    "5 / 2"
   ]
  },
  {
   "cell_type": "code",
   "execution_count": 134,
   "metadata": {},
   "outputs": [
    {
     "data": {
      "text/plain": [
       "1"
      ]
     },
     "execution_count": 134,
     "metadata": {},
     "output_type": "execute_result"
    }
   ],
   "source": [
    "5 % 2    # Resto (modulo)"
   ]
  },
  {
   "cell_type": "code",
   "execution_count": 135,
   "metadata": {},
   "outputs": [
    {
     "data": {
      "text/plain": [
       "25"
      ]
     },
     "execution_count": 135,
     "metadata": {},
     "output_type": "execute_result"
    }
   ],
   "source": [
    "5 ** 2   # Potencia ^"
   ]
  },
  {
   "cell_type": "code",
   "execution_count": 136,
   "metadata": {},
   "outputs": [
    {
     "data": {
      "text/plain": [
       "6"
      ]
     },
     "execution_count": 136,
     "metadata": {},
     "output_type": "execute_result"
    }
   ],
   "source": [
    "5 + True"
   ]
  },
  {
   "cell_type": "code",
   "execution_count": 137,
   "metadata": {},
   "outputs": [
    {
     "data": {
      "text/plain": [
       "(11+7j)"
      ]
     },
     "execution_count": 137,
     "metadata": {},
     "output_type": "execute_result"
    }
   ],
   "source": [
    "5 + (6 + 7j)"
   ]
  },
  {
   "cell_type": "markdown",
   "metadata": {},
   "source": [
    "### Cadenas, listas y tuplas"
   ]
  },
  {
   "cell_type": "markdown",
   "metadata": {},
   "source": [
    "##### Cadenas\n",
    "* Las cadenas almacenan una secuencia de caracteres de texto\n",
    "* Se escriben con comillas simples o dobles\n",
    "* Son inmutables (cada operación crea una cadena nueva)"
   ]
  },
  {
   "cell_type": "code",
   "execution_count": 138,
   "metadata": {},
   "outputs": [
    {
     "ename": "TypeError",
     "evalue": "unsupported operand type(s) for +: 'int' and 'str'",
     "output_type": "error",
     "traceback": [
      "\u001b[0;31m---------------------------------------------------------------------------\u001b[0m",
      "\u001b[0;31mTypeError\u001b[0m                                 Traceback (most recent call last)",
      "\u001b[0;32m<ipython-input-138-adfc017eb33c>\u001b[0m in \u001b[0;36m<module>\u001b[0;34m\u001b[0m\n\u001b[0;32m----> 1\u001b[0;31m \u001b[0;36m5\u001b[0m \u001b[0;34m+\u001b[0m \u001b[0;34m\"Hola\"\u001b[0m\u001b[0;34m\u001b[0m\u001b[0m\n\u001b[0m",
      "\u001b[0;31mTypeError\u001b[0m: unsupported operand type(s) for +: 'int' and 'str'"
     ]
    }
   ],
   "source": [
    "5 + \"Hola\""
   ]
  },
  {
   "cell_type": "code",
   "execution_count": 139,
   "metadata": {},
   "outputs": [
    {
     "data": {
      "text/plain": [
       "'HolaHolaHolaHolaHola'"
      ]
     },
     "execution_count": 139,
     "metadata": {},
     "output_type": "execute_result"
    }
   ],
   "source": [
    "5 * \"Hola\"  # Repeticion"
   ]
  },
  {
   "cell_type": "code",
   "execution_count": 140,
   "metadata": {},
   "outputs": [
    {
     "data": {
      "text/plain": [
       "'HolaAdios'"
      ]
     },
     "execution_count": 140,
     "metadata": {},
     "output_type": "execute_result"
    }
   ],
   "source": [
    "\"Hola\" + \"Adios\"   # Concatenacion"
   ]
  },
  {
   "cell_type": "code",
   "execution_count": 141,
   "metadata": {},
   "outputs": [
    {
     "name": "stdout",
     "output_type": "stream",
     "text": [
      "Cadena \"larga\"\n",
      "de dos lineas\n"
     ]
    }
   ],
   "source": [
    "s = 'Cadena \"larga\"\\nde dos lineas'\n",
    "print(s)"
   ]
  },
  {
   "cell_type": "markdown",
   "metadata": {
    "collapsed": true
   },
   "source": [
    "##### Listas\n",
    "* Las listas almacenan una secuencia de objetos de distintos tipos\n",
    "* Se representan con corchetes y sus elementos separados por comas\n",
    "* Mutables (se pueden cambiar sus elementos sin crear otra)"
   ]
  },
  {
   "cell_type": "code",
   "execution_count": 142,
   "metadata": {},
   "outputs": [
    {
     "data": {
      "text/plain": [
       "[1, 2, 3, 4, 5]"
      ]
     },
     "execution_count": 142,
     "metadata": {},
     "output_type": "execute_result"
    }
   ],
   "source": [
    "[1, 2, 3, 4, 5]  # lista de 5 elementos"
   ]
  },
  {
   "cell_type": "code",
   "execution_count": 143,
   "metadata": {},
   "outputs": [
    {
     "data": {
      "text/plain": [
       "[True, 'hola', 5.8]"
      ]
     },
     "execution_count": 143,
     "metadata": {},
     "output_type": "execute_result"
    }
   ],
   "source": [
    "[True, \"hola\", 5.8]  # Puede combinar elementos de distintos tipos"
   ]
  },
  {
   "cell_type": "code",
   "execution_count": 144,
   "metadata": {},
   "outputs": [
    {
     "data": {
      "text/plain": [
       "[[5, 6], 'adios', 7.8, [1, 2, 3]]"
      ]
     },
     "execution_count": 144,
     "metadata": {},
     "output_type": "execute_result"
    }
   ],
   "source": [
    "[[5, 6], \"adios\", 7.8, [1, 2, 3]]  # ...incluidos otras listas"
   ]
  },
  {
   "cell_type": "code",
   "execution_count": 145,
   "metadata": {},
   "outputs": [
    {
     "data": {
      "text/plain": [
       "[5, 6, 7, 8, 9]"
      ]
     },
     "execution_count": 145,
     "metadata": {},
     "output_type": "execute_result"
    }
   ],
   "source": [
    "[5, 6] + [7, 8, 9]  # Concatenación"
   ]
  },
  {
   "cell_type": "code",
   "execution_count": 146,
   "metadata": {},
   "outputs": [
    {
     "data": {
      "text/plain": [
       "[6, 7, 6, 7, 6, 7, 6, 7]"
      ]
     },
     "execution_count": 146,
     "metadata": {},
     "output_type": "execute_result"
    }
   ],
   "source": [
    "4 * [6, 7]  # Repeticion"
   ]
  },
  {
   "cell_type": "markdown",
   "metadata": {},
   "source": [
    "###### Tuplas\n",
    "* Son secuencias de objetos de distinto tipo\n",
    "* Se representan con o sin paréntesis y sus elementos separados por comas\n",
    "* A diferencia de las listas, son **inmutables**"
   ]
  },
  {
   "cell_type": "code",
   "execution_count": 147,
   "metadata": {},
   "outputs": [
    {
     "data": {
      "text/plain": [
       "(4, 5, 6)"
      ]
     },
     "execution_count": 147,
     "metadata": {},
     "output_type": "execute_result"
    }
   ],
   "source": [
    "(4, 5, 6)"
   ]
  },
  {
   "cell_type": "code",
   "execution_count": 148,
   "metadata": {},
   "outputs": [
    {
     "data": {
      "text/plain": [
       "(4, 5, 6)"
      ]
     },
     "execution_count": 148,
     "metadata": {},
     "output_type": "execute_result"
    }
   ],
   "source": [
    "4, 5, 6  # También"
   ]
  },
  {
   "cell_type": "code",
   "execution_count": 149,
   "metadata": {},
   "outputs": [
    {
     "data": {
      "text/plain": [
       "()"
      ]
     },
     "execution_count": 149,
     "metadata": {},
     "output_type": "execute_result"
    }
   ],
   "source": [
    "# La tupla vacia siempre tiene que tener paréntesis\n",
    "()"
   ]
  },
  {
   "cell_type": "code",
   "execution_count": 150,
   "metadata": {},
   "outputs": [
    {
     "data": {
      "text/plain": [
       "(5,)"
      ]
     },
     "execution_count": 150,
     "metadata": {},
     "output_type": "execute_result"
    }
   ],
   "source": [
    "# Y la tupla con un solo elemento, una coma al final\n",
    "(5,)"
   ]
  },
  {
   "cell_type": "code",
   "execution_count": 151,
   "metadata": {},
   "outputs": [
    {
     "data": {
      "text/plain": [
       "(5,)"
      ]
     },
     "execution_count": 151,
     "metadata": {},
     "output_type": "execute_result"
    }
   ],
   "source": [
    "# o tambien\n",
    "5,"
   ]
  },
  {
   "cell_type": "code",
   "execution_count": 152,
   "metadata": {},
   "outputs": [
    {
     "data": {
      "text/plain": [
       "(4, 5, 6, 7)"
      ]
     },
     "execution_count": 152,
     "metadata": {},
     "output_type": "execute_result"
    }
   ],
   "source": [
    "# Igual que las listas y cadenas se pueden concatenar...\n",
    "(4, 5) + (6, 7)"
   ]
  },
  {
   "cell_type": "code",
   "execution_count": 153,
   "metadata": {},
   "outputs": [
    {
     "data": {
      "text/plain": [
       "(True, ['hola', 5], 3.2, True, ['hola', 5], 3.2)"
      ]
     },
     "execution_count": 153,
     "metadata": {},
     "output_type": "execute_result"
    }
   ],
   "source": [
    "# y repetir\n",
    "2 * (True, [\"hola\", 5], 3.2)"
   ]
  },
  {
   "cell_type": "markdown",
   "metadata": {},
   "source": [
    "##### Operaciones\n",
    "\n",
    "Ya hemos visto que los operadores `+` y `*` en las secuencias implementan las operaciones de concatenar y repetir. Algunas otras operaciones sobre secuencias son:\n",
    "\n",
    "* `len`: longitud de una secuencia\n",
    "* `[]`: indexado de elementos por posición\n",
    "* `in`: pertenencia"
   ]
  },
  {
   "cell_type": "code",
   "execution_count": 154,
   "metadata": {},
   "outputs": [],
   "source": [
    "s1 = \"alberto\"\n",
    "s2 = [1, 2, 3, 4, 5, 6]\n",
    "s3 = (4.3, 2.5, [6.1, 12.6])"
   ]
  },
  {
   "cell_type": "code",
   "execution_count": 155,
   "metadata": {},
   "outputs": [
    {
     "ename": "TypeError",
     "evalue": "must be str, not list",
     "output_type": "error",
     "traceback": [
      "\u001b[0;31m---------------------------------------------------------------------------\u001b[0m",
      "\u001b[0;31mTypeError\u001b[0m                                 Traceback (most recent call last)",
      "\u001b[0;32m<ipython-input-155-d759fcdb3912>\u001b[0m in \u001b[0;36m<module>\u001b[0;34m\u001b[0m\n\u001b[1;32m      1\u001b[0m \u001b[0;31m# No se pueden concatenar secuencias de distinto tipo\u001b[0m\u001b[0;34m\u001b[0m\u001b[0;34m\u001b[0m\u001b[0m\n\u001b[0;32m----> 2\u001b[0;31m \u001b[0ms1\u001b[0m \u001b[0;34m+\u001b[0m \u001b[0ms2\u001b[0m\u001b[0;34m\u001b[0m\u001b[0m\n\u001b[0m",
      "\u001b[0;31mTypeError\u001b[0m: must be str, not list"
     ]
    }
   ],
   "source": [
    "# No se pueden concatenar secuencias de distinto tipo\n",
    "s1 + s2"
   ]
  },
  {
   "cell_type": "code",
   "execution_count": 156,
   "metadata": {},
   "outputs": [
    {
     "data": {
      "text/plain": [
       "7"
      ]
     },
     "execution_count": 156,
     "metadata": {},
     "output_type": "execute_result"
    }
   ],
   "source": [
    "len(s1)"
   ]
  },
  {
   "cell_type": "code",
   "execution_count": 157,
   "metadata": {},
   "outputs": [
    {
     "data": {
      "text/plain": [
       "6"
      ]
     },
     "execution_count": 157,
     "metadata": {},
     "output_type": "execute_result"
    }
   ],
   "source": [
    "len(s2)"
   ]
  },
  {
   "cell_type": "code",
   "execution_count": 158,
   "metadata": {},
   "outputs": [
    {
     "data": {
      "text/plain": [
       "3"
      ]
     },
     "execution_count": 158,
     "metadata": {},
     "output_type": "execute_result"
    }
   ],
   "source": [
    "len(s3)"
   ]
  },
  {
   "cell_type": "code",
   "execution_count": 159,
   "metadata": {},
   "outputs": [
    {
     "data": {
      "text/plain": [
       "'t'"
      ]
     },
     "execution_count": 159,
     "metadata": {},
     "output_type": "execute_result"
    }
   ],
   "source": [
    "s1[5]"
   ]
  },
  {
   "cell_type": "code",
   "execution_count": 160,
   "metadata": {},
   "outputs": [
    {
     "ename": "IndexError",
     "evalue": "tuple index out of range",
     "output_type": "error",
     "traceback": [
      "\u001b[0;31m---------------------------------------------------------------------------\u001b[0m",
      "\u001b[0;31mIndexError\u001b[0m                                Traceback (most recent call last)",
      "\u001b[0;32m<ipython-input-160-f4b45e5ab9e7>\u001b[0m in \u001b[0;36m<module>\u001b[0;34m\u001b[0m\n\u001b[0;32m----> 1\u001b[0;31m \u001b[0ms3\u001b[0m\u001b[0;34m[\u001b[0m\u001b[0;36m3\u001b[0m\u001b[0;34m]\u001b[0m   \u001b[0;31m# Los indices de las secuencias empiezan en 0, no en 1!!\u001b[0m\u001b[0;34m\u001b[0m\u001b[0m\n\u001b[0m",
      "\u001b[0;31mIndexError\u001b[0m: tuple index out of range"
     ]
    }
   ],
   "source": [
    "s3[3]   # Los indices de las secuencias empiezan en 0, no en 1!!"
   ]
  },
  {
   "cell_type": "code",
   "execution_count": 161,
   "metadata": {},
   "outputs": [
    {
     "data": {
      "text/plain": [
       "[6.1, 12.6]"
      ]
     },
     "execution_count": 161,
     "metadata": {},
     "output_type": "execute_result"
    }
   ],
   "source": [
    "s3[2]"
   ]
  },
  {
   "cell_type": "code",
   "execution_count": 162,
   "metadata": {},
   "outputs": [
    {
     "data": {
      "text/plain": [
       "'o'"
      ]
     },
     "execution_count": 162,
     "metadata": {},
     "output_type": "execute_result"
    }
   ],
   "source": [
    "# Los indices negativos son relativos al final de la secuencia (no eliminan elementos, como en R!!)\n",
    "s1[-1]  # ultimo elemento"
   ]
  },
  {
   "cell_type": "code",
   "execution_count": 163,
   "metadata": {},
   "outputs": [
    {
     "data": {
      "text/plain": [
       "4"
      ]
     },
     "execution_count": 163,
     "metadata": {},
     "output_type": "execute_result"
    }
   ],
   "source": [
    "s2[-3]"
   ]
  },
  {
   "cell_type": "code",
   "execution_count": 164,
   "metadata": {},
   "outputs": [
    {
     "data": {
      "text/plain": [
       "'bert'"
      ]
     },
     "execution_count": 164,
     "metadata": {},
     "output_type": "execute_result"
    }
   ],
   "source": [
    "# Se pueden indexar rangos con : \n",
    "# El último elemento de la secuencia no se incluye!! (2, 3, 4, 5)\n",
    "s1[2:6]"
   ]
  },
  {
   "cell_type": "code",
   "execution_count": 165,
   "metadata": {},
   "outputs": [
    {
     "data": {
      "text/plain": [
       "'abro'"
      ]
     },
     "execution_count": 165,
     "metadata": {},
     "output_type": "execute_result"
    }
   ],
   "source": [
    "s1[0:7:2]  # Elementos del 0 al 7 con un paso de 2 (0, 2, 4 y 6)"
   ]
  },
  {
   "cell_type": "code",
   "execution_count": 166,
   "metadata": {},
   "outputs": [
    {
     "data": {
      "text/plain": [
       "'abro'"
      ]
     },
     "execution_count": 166,
     "metadata": {},
     "output_type": "execute_result"
    }
   ],
   "source": [
    "# No poniendo ningún indice se indica que nos referimos al principio y al final de la secuencia\n",
    "s1[::2]"
   ]
  },
  {
   "cell_type": "code",
   "execution_count": 167,
   "metadata": {},
   "outputs": [
    {
     "data": {
      "text/plain": [
       "[5, 6]"
      ]
     },
     "execution_count": 167,
     "metadata": {},
     "output_type": "execute_result"
    }
   ],
   "source": [
    "s2[4:]"
   ]
  },
  {
   "cell_type": "code",
   "execution_count": 168,
   "metadata": {},
   "outputs": [
    {
     "data": {
      "text/plain": [
       "(4.3, 2.5)"
      ]
     },
     "execution_count": 168,
     "metadata": {},
     "output_type": "execute_result"
    }
   ],
   "source": [
    "s3[:2]"
   ]
  },
  {
   "cell_type": "code",
   "execution_count": 169,
   "metadata": {},
   "outputs": [
    {
     "data": {
      "text/plain": [
       "'otrebla'"
      ]
     },
     "execution_count": 169,
     "metadata": {},
     "output_type": "execute_result"
    }
   ],
   "source": [
    "# El paso tambien puede ser negativo\n",
    "s1[::-1]"
   ]
  },
  {
   "cell_type": "code",
   "execution_count": 170,
   "metadata": {},
   "outputs": [
    {
     "data": {
      "text/plain": [
       "[1, 2, 3, 28, 5, 6]"
      ]
     },
     "execution_count": 170,
     "metadata": {},
     "output_type": "execute_result"
    }
   ],
   "source": [
    "# Las listas son mutables, por lo que podemos cambiar sus elementos mediante asignacion\n",
    "s2[3] = 28\n",
    "s2"
   ]
  },
  {
   "cell_type": "code",
   "execution_count": 171,
   "metadata": {},
   "outputs": [
    {
     "data": {
      "text/plain": [
       "[1, 2, 3, 28, 9, 10]"
      ]
     },
     "execution_count": 171,
     "metadata": {},
     "output_type": "execute_result"
    }
   ],
   "source": [
    "# Tambien podemos reemplazar varios elementos\n",
    "s2[4:6] = [9, 10]\n",
    "s2"
   ]
  },
  {
   "cell_type": "code",
   "execution_count": 172,
   "metadata": {},
   "outputs": [
    {
     "data": {
      "text/plain": [
       "[1, [], 3, 28, 9, 10]"
      ]
     },
     "execution_count": 172,
     "metadata": {},
     "output_type": "execute_result"
    }
   ],
   "source": [
    "# Importante diferencia entre\n",
    "s2[1] = []\n",
    "s2"
   ]
  },
  {
   "cell_type": "code",
   "execution_count": 173,
   "metadata": {},
   "outputs": [
    {
     "data": {
      "text/plain": [
       "[1, 3, 28, 9, 10]"
      ]
     },
     "execution_count": 173,
     "metadata": {},
     "output_type": "execute_result"
    }
   ],
   "source": [
    "# y\n",
    "s2[1:2] = []\n",
    "s2"
   ]
  },
  {
   "cell_type": "code",
   "execution_count": 174,
   "metadata": {},
   "outputs": [
    {
     "data": {
      "text/plain": [
       "[1, 5, 6, 7, 9, 10]"
      ]
     },
     "execution_count": 174,
     "metadata": {},
     "output_type": "execute_result"
    }
   ],
   "source": [
    "s2[1:3] = [5, 6, 7]\n",
    "s2"
   ]
  },
  {
   "cell_type": "code",
   "execution_count": 175,
   "metadata": {},
   "outputs": [
    {
     "data": {
      "text/plain": [
       "[1, 2, 3, 4, 5, 6, 7, 9, 10]"
      ]
     },
     "execution_count": 175,
     "metadata": {},
     "output_type": "execute_result"
    }
   ],
   "source": [
    "# Importante la diferencia entre\n",
    "s2[1:1] = [2, 3, 4]\n",
    "s2"
   ]
  },
  {
   "cell_type": "code",
   "execution_count": 176,
   "metadata": {},
   "outputs": [
    {
     "data": {
      "text/plain": [
       "[1, [2, 3, 4], 3, 4, 5, 6, 7, 9, 10]"
      ]
     },
     "execution_count": 176,
     "metadata": {},
     "output_type": "execute_result"
    }
   ],
   "source": [
    "# y\n",
    "s2[1] = [2, 3, 4]\n",
    "s2"
   ]
  },
  {
   "cell_type": "code",
   "execution_count": 177,
   "metadata": {},
   "outputs": [
    {
     "data": {
      "text/plain": [
       "True"
      ]
     },
     "execution_count": 177,
     "metadata": {},
     "output_type": "execute_result"
    }
   ],
   "source": [
    "[2, 3, 4] in s2"
   ]
  },
  {
   "cell_type": "code",
   "execution_count": 178,
   "metadata": {},
   "outputs": [
    {
     "data": {
      "text/plain": [
       "True"
      ]
     },
     "execution_count": 178,
     "metadata": {},
     "output_type": "execute_result"
    }
   ],
   "source": [
    "3 in s2"
   ]
  },
  {
   "cell_type": "code",
   "execution_count": 179,
   "metadata": {},
   "outputs": [
    {
     "data": {
      "text/plain": [
       "True"
      ]
     },
     "execution_count": 179,
     "metadata": {},
     "output_type": "execute_result"
    }
   ],
   "source": [
    "'ber' in s1"
   ]
  },
  {
   "cell_type": "markdown",
   "metadata": {},
   "source": [
    "##### Métodos de cadenas\n",
    "\n",
    "Álgunos de los más útiles:\n",
    "* `str.find(sub[, start[, end]])` devuelve el primer indice de la subcadena sub en la cadena str o -1 sino está\n",
    "* `str.strip([char])` devuelve una copia de la cadena con los caracteres de la secuencia [char] eliminados del principio y del final\n",
    "* `str.split([sep[, maxsplit]])` devuelve una lista de subcadenas de str, usando sep como delimitador\n",
    "* `str.join(iterable)` devuelve una cadena que es la unión de todos los elementos de la secuencia\n",
    "* `str.replace(old, new[, count])` devuelve una copia de la cadena con las ocurrencias de old cambiadas por new\n",
    "* `str.format()` lo veremos más adelante\n",
    "\n",
    "Lista completa: https://docs.python.org/3/library/stdtypes.html#string-methods\n"
   ]
  },
  {
   "cell_type": "code",
   "execution_count": 180,
   "metadata": {},
   "outputs": [
    {
     "data": {
      "text/plain": [
       "5"
      ]
     },
     "execution_count": 180,
     "metadata": {},
     "output_type": "execute_result"
    }
   ],
   "source": [
    "'alberto'.find('to')  # Comprueba si está la subcadena y nos da la posición"
   ]
  },
  {
   "cell_type": "code",
   "execution_count": 181,
   "metadata": {},
   "outputs": [
    {
     "data": {
      "text/plain": [
       "'hola'"
      ]
     },
     "execution_count": 181,
     "metadata": {},
     "output_type": "execute_result"
    }
   ],
   "source": [
    "'     hola     '.strip()"
   ]
  },
  {
   "cell_type": "code",
   "execution_count": 182,
   "metadata": {},
   "outputs": [
    {
     "data": {
      "text/plain": [
       "'prueba'"
      ]
     },
     "execution_count": 182,
     "metadata": {},
     "output_type": "execute_result"
    }
   ],
   "source": [
    "'www.prueba.com'.strip('wcom.')"
   ]
  },
  {
   "cell_type": "code",
   "execution_count": 183,
   "metadata": {},
   "outputs": [
    {
     "data": {
      "text/plain": [
       "['a', 'b', 'c', 'd']"
      ]
     },
     "execution_count": 183,
     "metadata": {},
     "output_type": "execute_result"
    }
   ],
   "source": [
    "'a b c d'.split()"
   ]
  },
  {
   "cell_type": "code",
   "execution_count": 184,
   "metadata": {},
   "outputs": [
    {
     "data": {
      "text/plain": [
       "['a', 'b', '', 'c']"
      ]
     },
     "execution_count": 184,
     "metadata": {},
     "output_type": "execute_result"
    }
   ],
   "source": [
    "'a,b,,c'.split(',')"
   ]
  },
  {
   "cell_type": "code",
   "execution_count": 185,
   "metadata": {},
   "outputs": [
    {
     "data": {
      "text/plain": [
       "'1-2-3'"
      ]
     },
     "execution_count": 185,
     "metadata": {},
     "output_type": "execute_result"
    }
   ],
   "source": [
    "'-'.join(['1', '2', '3'])"
   ]
  },
  {
   "cell_type": "code",
   "execution_count": 186,
   "metadata": {},
   "outputs": [
    {
     "data": {
      "text/plain": [
       "'abcd'"
      ]
     },
     "execution_count": 186,
     "metadata": {},
     "output_type": "execute_result"
    }
   ],
   "source": [
    "'a b c d'.replace(' ', '')"
   ]
  },
  {
   "cell_type": "markdown",
   "metadata": {},
   "source": [
    "###### Métodos de listas\n",
    "\n",
    "* `s.append(x)`\tañade el elemento x al final de la lista\n",
    "* `s.extend(t)` añade los elementos de la secuencia t al final\n",
    "* `s.count(x)`\tdevuelve el numero de veces que aparece x en la lista\t \n",
    "* `s.index(x[, i[, j]])` devuelve el primer índice k donde se encuentra el elemento x, opcionalmente en un intervalo i <= k < j\n",
    "* `s.insert(i, x)`\tinserta el elemento x en la posición i\n",
    "* `s.pop([i])`\tdevuelve y elimina el elemento i de la lista. Por defecto es el último\n",
    "* `s.remove(x)`\telimina la primera aparición de x en la lista, error si no existte\n",
    "* `s.reverse()`\tinvierte el orden de los elementos\n",
    "* `s.sort([cmp[, key[, reverse]]])`\tordena los elementos"
   ]
  },
  {
   "cell_type": "code",
   "execution_count": 187,
   "metadata": {},
   "outputs": [
    {
     "data": {
      "text/plain": [
       "[1, True, 'cadena', -3, [5, 6]]"
      ]
     },
     "execution_count": 187,
     "metadata": {},
     "output_type": "execute_result"
    }
   ],
   "source": [
    "l = [1, True, \"cadena\", -3]\n",
    "l.append([5, 6])\n",
    "l"
   ]
  },
  {
   "cell_type": "code",
   "execution_count": 188,
   "metadata": {},
   "outputs": [
    {
     "data": {
      "text/plain": [
       "[1, True, 'cadena', -3, [5, 6], 5, 6]"
      ]
     },
     "execution_count": 188,
     "metadata": {},
     "output_type": "execute_result"
    }
   ],
   "source": [
    "l.extend([5, 6])\n",
    "l"
   ]
  },
  {
   "cell_type": "code",
   "execution_count": 189,
   "metadata": {},
   "outputs": [
    {
     "data": {
      "text/plain": [
       "[1, True, -3, [5, 6], 5, 6]"
      ]
     },
     "execution_count": 189,
     "metadata": {},
     "output_type": "execute_result"
    }
   ],
   "source": [
    "l.remove(\"cadena\")\n",
    "l"
   ]
  },
  {
   "cell_type": "code",
   "execution_count": 190,
   "metadata": {},
   "outputs": [
    {
     "ename": "TypeError",
     "evalue": "'<' not supported between instances of 'list' and 'int'",
     "output_type": "error",
     "traceback": [
      "\u001b[0;31m---------------------------------------------------------------------------\u001b[0m",
      "\u001b[0;31mTypeError\u001b[0m                                 Traceback (most recent call last)",
      "\u001b[0;32m<ipython-input-190-138e63d559fe>\u001b[0m in \u001b[0;36m<module>\u001b[0;34m\u001b[0m\n\u001b[0;32m----> 1\u001b[0;31m \u001b[0ml\u001b[0m\u001b[0;34m.\u001b[0m\u001b[0msort\u001b[0m\u001b[0;34m(\u001b[0m\u001b[0;34m)\u001b[0m\u001b[0;34m\u001b[0m\u001b[0m\n\u001b[0m\u001b[1;32m      2\u001b[0m \u001b[0ml\u001b[0m\u001b[0;34m\u001b[0m\u001b[0m\n",
      "\u001b[0;31mTypeError\u001b[0m: '<' not supported between instances of 'list' and 'int'"
     ]
    }
   ],
   "source": [
    "l.sort()\n",
    "l"
   ]
  },
  {
   "cell_type": "markdown",
   "metadata": {},
   "source": [
    "### Operadores booleanos y de comparación\n",
    "\n",
    "Todos los objetos tiene asociado un valor `True` o `False`. Los siguientes valores son considerados `False`:\n",
    "* `False`\n",
    "* Cero en cualquier tipo numérico, `0`, `0.0`, `0j`\n",
    "* Las secuencias vacias, `[]`, `()` y `''`\n",
    "\n",
    "Las operaciones booleanas son:\n",
    "* `x or y`\tDevuelve True si x o y son True, sino devuelve False\n",
    "* `x and y`\tDevuelve True si x e y son True, sino devuelve False\n",
    "* `not x`\t    Devuelve True si x es False y False si x es True\n",
    "\n",
    "También existen operadores que comparan dos objetos y devuelven un valor booleano:\n",
    "* `<`\t   estrictamente menor\n",
    "* `<=`     menor o igual\t \n",
    "* `>`\t   estrictamente mayor\t \n",
    "* `>=`     mayor o igual\t \n",
    "* `==`     igual\t \n",
    "* `!=`     distinto"
   ]
  },
  {
   "cell_type": "markdown",
   "metadata": {},
   "source": [
    "### Sentencias de control\n",
    "\n",
    "* Sirven para ejecutar un código u otro dependiendo de una condición\n",
    "* Los bloques de código vienen definidos por la identación\n",
    "* Importantes los dos puntos (:)\n",
    "* No hacen falta paréntesis"
   ]
  },
  {
   "cell_type": "code",
   "execution_count": 191,
   "metadata": {},
   "outputs": [
    {
     "name": "stdout",
     "output_type": "stream",
     "text": [
      "Hola\n"
     ]
    }
   ],
   "source": [
    "if 4 < 5:\n",
    "    print(\"Hola\")\n",
    "else:\n",
    "    print(\"Adios\")"
   ]
  },
  {
   "cell_type": "code",
   "execution_count": 192,
   "metadata": {},
   "outputs": [
    {
     "data": {
      "text/plain": [
       "[1, 2, 10]"
      ]
     },
     "execution_count": 192,
     "metadata": {},
     "output_type": "execute_result"
    }
   ],
   "source": [
    "l = [1, 2, 3]\n",
    "\n",
    "if len(l) == 3:\n",
    "    l[2] = 10\n",
    "elif len(l) == 4:\n",
    "    l[3] = 20\n",
    "else:\n",
    "    l.append([4, 5, 6])\n",
    "    \n",
    "l"
   ]
  },
  {
   "cell_type": "code",
   "execution_count": 193,
   "metadata": {},
   "outputs": [
    {
     "ename": "ValueError",
     "evalue": "list.remove(x): x not in list",
     "output_type": "error",
     "traceback": [
      "\u001b[0;31m---------------------------------------------------------------------------\u001b[0m",
      "\u001b[0;31mValueError\u001b[0m                                Traceback (most recent call last)",
      "\u001b[0;32m<ipython-input-193-a16c39d372c5>\u001b[0m in \u001b[0;36m<module>\u001b[0;34m\u001b[0m\n\u001b[0;32m----> 1\u001b[0;31m \u001b[0ml\u001b[0m\u001b[0;34m.\u001b[0m\u001b[0mremove\u001b[0m\u001b[0;34m(\u001b[0m\u001b[0;36m3\u001b[0m\u001b[0;34m)\u001b[0m\u001b[0;34m\u001b[0m\u001b[0m\n\u001b[0m",
      "\u001b[0;31mValueError\u001b[0m: list.remove(x): x not in list"
     ]
    }
   ],
   "source": [
    "l.remove(3)"
   ]
  },
  {
   "cell_type": "code",
   "execution_count": 194,
   "metadata": {},
   "outputs": [],
   "source": [
    "el = 3\n",
    "if el in l:\n",
    "    l.remove(el)"
   ]
  },
  {
   "cell_type": "markdown",
   "metadata": {},
   "source": [
    "### Bucles\n",
    "\n",
    "Hay dos tipos:\n",
    "* `for`, que se ejecutan un número predeterminado de veces\n",
    "* `while`, que se ejecutan mientras se cumpla una condición"
   ]
  },
  {
   "cell_type": "code",
   "execution_count": 195,
   "metadata": {},
   "outputs": [
    {
     "name": "stdout",
     "output_type": "stream",
     "text": [
      "hola\n",
      "que\n",
      "tal\n"
     ]
    }
   ],
   "source": [
    "# Los bucles for iteran sobre los elementos de una secuencia\n",
    "for palabra in ['hola', 'que', 'tal']:\n",
    "    print(palabra)"
   ]
  },
  {
   "cell_type": "code",
   "execution_count": 196,
   "metadata": {},
   "outputs": [
    {
     "name": "stdout",
     "output_type": "stream",
     "text": [
      "2 3 4 "
     ]
    }
   ],
   "source": [
    "i = 2\n",
    "while i < 5:\n",
    "    print(i, end=' ')\n",
    "    i = i + 1"
   ]
  },
  {
   "cell_type": "code",
   "execution_count": 197,
   "metadata": {},
   "outputs": [
    {
     "name": "stdout",
     "output_type": "stream",
     "text": [
      "s\n",
      "e\n",
      "m\n",
      "a\n",
      "n\n",
      "a\n"
     ]
    }
   ],
   "source": [
    "# Los bucles for pueden iterar sobre cualquier secuencia\n",
    "for letra in 'semana':\n",
    "    print(letra)"
   ]
  },
  {
   "cell_type": "code",
   "execution_count": 198,
   "metadata": {},
   "outputs": [
    {
     "data": {
      "text/plain": [
       "[0, 1, 2, 3, 4]"
      ]
     },
     "execution_count": 198,
     "metadata": {},
     "output_type": "execute_result"
    }
   ],
   "source": [
    "# Una función útil es range, que crea secuencias de números\n",
    "list(range(5))"
   ]
  },
  {
   "cell_type": "code",
   "execution_count": 199,
   "metadata": {},
   "outputs": [
    {
     "data": {
      "text/plain": [
       "[1, 3, 5, 7, 9]"
      ]
     },
     "execution_count": 199,
     "metadata": {},
     "output_type": "execute_result"
    }
   ],
   "source": [
    "list(range(1, 10, 2))"
   ]
  },
  {
   "cell_type": "code",
   "execution_count": 200,
   "metadata": {},
   "outputs": [
    {
     "name": "stdout",
     "output_type": "stream",
     "text": [
      "10 11 12 13 14 15 16 17 18 19 "
     ]
    }
   ],
   "source": [
    "for num in range(10, 20):\n",
    "    print(num, end=' ')"
   ]
  },
  {
   "cell_type": "code",
   "execution_count": 201,
   "metadata": {},
   "outputs": [
    {
     "name": "stdout",
     "output_type": "stream",
     "text": [
      "range(1, 10, 2)\n",
      "[1, 2, 3, 4, 5, 6, 7, 8, 9]\n"
     ]
    }
   ],
   "source": [
    "a = range(1, 10, 2)  # devuelve un objeto de tipo xrange\n",
    "b = list(range(1, 10))\n",
    "\n",
    "print(a)\n",
    "print(b)"
   ]
  },
  {
   "cell_type": "code",
   "execution_count": 202,
   "metadata": {},
   "outputs": [
    {
     "name": "stdout",
     "output_type": "stream",
     "text": [
      "10 11 12 13 14 15 16 17 18 19 "
     ]
    }
   ],
   "source": [
    "# al iterar sobre el objeto, se comporta como xrange\n",
    "for num in range(10, 20):\n",
    "    print(num, end=' ')"
   ]
  },
  {
   "cell_type": "code",
   "execution_count": 203,
   "metadata": {},
   "outputs": [
    {
     "name": "stdout",
     "output_type": "stream",
     "text": [
      "0 1\n",
      "1 5\n",
      "2 8\n"
     ]
    }
   ],
   "source": [
    "# Si necesitamos tanto el indice como el elemento a la hora de iterar, debemos de evitar eso\n",
    "l = [1, 5, 8]\n",
    "for idx in range(len(l)):\n",
    "    print(idx, l[idx])"
   ]
  },
  {
   "cell_type": "code",
   "execution_count": 204,
   "metadata": {},
   "outputs": [
    {
     "name": "stdout",
     "output_type": "stream",
     "text": [
      "Help on class enumerate in module builtins:\n",
      "\n",
      "class enumerate(object)\n",
      " |  enumerate(iterable[, start]) -> iterator for index, value of iterable\n",
      " |  \n",
      " |  Return an enumerate object.  iterable must be another object that supports\n",
      " |  iteration.  The enumerate object yields pairs containing a count (from\n",
      " |  start, which defaults to zero) and a value yielded by the iterable argument.\n",
      " |  enumerate is useful for obtaining an indexed list:\n",
      " |      (0, seq[0]), (1, seq[1]), (2, seq[2]), ...\n",
      " |  \n",
      " |  Methods defined here:\n",
      " |  \n",
      " |  __getattribute__(self, name, /)\n",
      " |      Return getattr(self, name).\n",
      " |  \n",
      " |  __iter__(self, /)\n",
      " |      Implement iter(self).\n",
      " |  \n",
      " |  __new__(*args, **kwargs) from builtins.type\n",
      " |      Create and return a new object.  See help(type) for accurate signature.\n",
      " |  \n",
      " |  __next__(self, /)\n",
      " |      Implement next(self).\n",
      " |  \n",
      " |  __reduce__(...)\n",
      " |      Return state information for pickling.\n",
      "\n"
     ]
    }
   ],
   "source": [
    "help(enumerate)"
   ]
  },
  {
   "cell_type": "code",
   "execution_count": 205,
   "metadata": {},
   "outputs": [
    {
     "name": "stdout",
     "output_type": "stream",
     "text": [
      "0 1\n",
      "1 5\n",
      "2 8\n"
     ]
    }
   ],
   "source": [
    "for idx, el in enumerate([1, 5, 8]):\n",
    "    print(idx, el)"
   ]
  },
  {
   "cell_type": "code",
   "execution_count": 206,
   "metadata": {},
   "outputs": [
    {
     "name": "stdout",
     "output_type": "stream",
     "text": [
      "0\n",
      "1\n",
      "2\n",
      "3\n",
      "4\n",
      "5\n",
      "6\n",
      "6\n"
     ]
    }
   ],
   "source": [
    "# break termina el bucle\n",
    "for i in range(10):\n",
    "    print(i)\n",
    "    if i > 5:\n",
    "        break\n",
    "print(i)"
   ]
  },
  {
   "cell_type": "code",
   "execution_count": 207,
   "metadata": {},
   "outputs": [
    {
     "name": "stdout",
     "output_type": "stream",
     "text": [
      "0\n",
      "1\n",
      "2\n",
      "3\n",
      "4\n",
      "5\n",
      "9\n"
     ]
    }
   ],
   "source": [
    "# continue pasa a la siguiente iteración\n",
    "for i in range(10):\n",
    "    if i > 5:\n",
    "        continue\n",
    "    print(i)\n",
    "print(i)"
   ]
  },
  {
   "cell_type": "markdown",
   "metadata": {},
   "source": [
    "Ejemplo:\n",
    "    \n",
    "Búsqueda de números primos"
   ]
  },
  {
   "cell_type": "code",
   "execution_count": 208,
   "metadata": {},
   "outputs": [
    {
     "name": "stdout",
     "output_type": "stream",
     "text": [
      "Primo 2\n",
      "Primo 3\n",
      "4 es 2 * 2.0\n",
      "Primo 5\n",
      "6 es 2 * 3.0\n",
      "Primo 7\n",
      "8 es 2 * 4.0\n",
      "9 es 3 * 3.0\n"
     ]
    }
   ],
   "source": [
    "for n in range(2, 10):\n",
    "    for x in range(2, n):\n",
    "        if n % x == 0:\n",
    "            print(n, 'es', x, '*', n/x)\n",
    "            break\n",
    "    # este else pertenece al bucle for\n",
    "    # se ejecuta si el bucle no ha terminado por un break\n",
    "    else:\n",
    "        print('Primo', n)"
   ]
  },
  {
   "cell_type": "markdown",
   "metadata": {},
   "source": [
    "#### List comprehensions\n",
    "\n",
    "Forma concisa de crear listas. Por ejemplo, para crear una lista con los cuadrados de los elementos:"
   ]
  },
  {
   "cell_type": "code",
   "execution_count": 209,
   "metadata": {},
   "outputs": [
    {
     "name": "stdout",
     "output_type": "stream",
     "text": [
      "[0, 1, 4, 9, 16, 25, 36, 49, 64, 81]\n"
     ]
    }
   ],
   "source": [
    "# forma de bucle\n",
    "squares = []\n",
    "for x in range(10):\n",
    "    squares.append(x**2)\n",
    "    \n",
    "print(squares)"
   ]
  },
  {
   "cell_type": "code",
   "execution_count": 210,
   "metadata": {},
   "outputs": [
    {
     "name": "stdout",
     "output_type": "stream",
     "text": [
      "[0, 1, 4, 9, 16, 25, 36, 49, 64, 81]\n"
     ]
    }
   ],
   "source": [
    "# list comprehension\n",
    "squares = [ x**2 for x in range(10) ]\n",
    "print(squares)"
   ]
  },
  {
   "cell_type": "code",
   "execution_count": 211,
   "metadata": {},
   "outputs": [
    {
     "name": "stdout",
     "output_type": "stream",
     "text": [
      "[0, 1, 4, 9, 16, 36, 49, 64, 81]\n"
     ]
    }
   ],
   "source": [
    "# tambien acepta cláusulas if\n",
    "squares = [ x**2 for x in range(10) \n",
    "           if x != 5 ]\n",
    "print(squares)"
   ]
  },
  {
   "cell_type": "code",
   "execution_count": 212,
   "metadata": {},
   "outputs": [
    {
     "name": "stdout",
     "output_type": "stream",
     "text": [
      "[(1, 3), (1, 4), (2, 3), (2, 1), (2, 4), (3, 1), (3, 4)]\n"
     ]
    }
   ],
   "source": [
    "# y no está limitado a un único for\n",
    "combs = [ (x, y) for x in [1,2,3] for y in [3,1,4] if x != y ]\n",
    "print(combs)"
   ]
  },
  {
   "cell_type": "code",
   "execution_count": 213,
   "metadata": {},
   "outputs": [
    {
     "name": "stdout",
     "output_type": "stream",
     "text": [
      "[(1, 3), (1, 4), (2, 3), (2, 1), (2, 4), (3, 1), (3, 4)]\n"
     ]
    }
   ],
   "source": [
    "combs = []\n",
    "for x in [1,2,3]:\n",
    "    for y in [3,1,4]:\n",
    "        if x != y:\n",
    "            combs.append((x, y))\n",
    "            \n",
    "print(combs)"
   ]
  },
  {
   "cell_type": "markdown",
   "metadata": {},
   "source": [
    "### Funciones\n",
    "\n",
    "Estructura de una función:"
   ]
  },
  {
   "cell_type": "code",
   "execution_count": 214,
   "metadata": {},
   "outputs": [
    {
     "data": {
      "text/plain": [
       "10"
      ]
     },
     "execution_count": 214,
     "metadata": {},
     "output_type": "execute_result"
    }
   ],
   "source": [
    "def mi_funcion(arg1, arg2):\n",
    "    # doctring, es la primera linea de la función (no obligatorio) y sirve para poner documentación\n",
    "    \"\"\" Esta función tiene dos argumentos\n",
    "          * arg1\n",
    "          * arg2\n",
    "    \"\"\"\n",
    "    \n",
    "    return arg1 + arg2\n",
    "\n",
    "mi_funcion(4, 6)"
   ]
  },
  {
   "cell_type": "code",
   "execution_count": 215,
   "metadata": {},
   "outputs": [
    {
     "data": {
      "text/plain": [
       "(11, -1, 30)"
      ]
     },
     "execution_count": 215,
     "metadata": {},
     "output_type": "execute_result"
    }
   ],
   "source": [
    "# Si queremos devolver varios valores, podemos devolver una tupla\n",
    "def operaciones(x, y):\n",
    "    return x+y, x-y, x*y\n",
    "\n",
    "ret = operaciones(5, 6)\n",
    "ret"
   ]
  },
  {
   "cell_type": "code",
   "execution_count": 216,
   "metadata": {},
   "outputs": [
    {
     "name": "stdout",
     "output_type": "stream",
     "text": [
      "18 2 80\n",
      "18 2 80\n"
     ]
    }
   ],
   "source": [
    "# Podemos desempaquetar la tupla en la asignación\n",
    "suma, resta, mult = operaciones(10, 8)\n",
    "print(suma, resta, mult)\n",
    "ret = operaciones(10, 8)\n",
    "print(ret[0], ret[1], ret[2])"
   ]
  },
  {
   "cell_type": "code",
   "execution_count": 217,
   "metadata": {},
   "outputs": [],
   "source": [
    "# Si no queremos un valor, podemos usar _\n",
    "suma, _, mult = operaciones(5, 8)"
   ]
  },
  {
   "cell_type": "code",
   "execution_count": 218,
   "metadata": {},
   "outputs": [
    {
     "name": "stdout",
     "output_type": "stream",
     "text": [
      "1 2 3 4\n",
      "h o l a\n",
      "3 5\n"
     ]
    }
   ],
   "source": [
    "# En general, se pueden desempaquetar todas las secuencias pero se usa sobre todo en el retorno de funciones\n",
    "a, b, c, d = [1, 2, 3, 4]\n",
    "print(a, b, c, d)\n",
    "\n",
    "a, b, c, d = \"hola\"\n",
    "print(a, b, c, d)\n",
    "\n",
    "a = 5\n",
    "b = 3\n",
    "a, b = b, a  # cambiar los valores de a y b\n",
    "print(a, b)"
   ]
  },
  {
   "cell_type": "markdown",
   "metadata": {},
   "source": [
    "Parámetros opcionales y valores por defecto:\n",
    "* Las funciones pueden tener uno o más parámetros opcionales\n",
    "* Tienen que ir después de los parámetros obligatorios (posicionales)\n",
    "* A la hora de llamar a la función se pueden omitir, ya que tienen un valor por defecto\n",
    "\n",
    "Parámetros con nombre:\n",
    "* Cada parámetro tiene un nombre\n",
    "* Si nos referimos por el nombre, podemos cambiar el orden de los parámetros en la llamada\n",
    "\n",
    "Más información: https://docs.python.org/3/tutorial/controlflow.html#more-on-defining-functions"
   ]
  },
  {
   "cell_type": "code",
   "execution_count": 219,
   "metadata": {},
   "outputs": [
    {
     "name": "stdout",
     "output_type": "stream",
     "text": [
      "Alberto Torres\n",
      "Alberto Torres\n",
      "Alberto Torres\n",
      "Alberto Torres\n"
     ]
    }
   ],
   "source": [
    "def imprimir_nombre(nombre, apellido, reverse=False, print_name=False):\n",
    "    if reverse:\n",
    "        print(apellido, nombre)\n",
    "    else:\n",
    "        print(nombre, apellido)\n",
    "        \n",
    "imprimir_nombre('Alberto', 'Torres')\n",
    "imprimir_nombre('Alberto', 'Torres', print_name=True)\n",
    "imprimir_nombre('Alberto', 'Torres', False, True)\n",
    "imprimir_nombre(apellido='Torres', reverse=False, nombre='Alberto')"
   ]
  },
  {
   "cell_type": "markdown",
   "metadata": {},
   "source": [
    "Las funciones en Python son objetos de primer orden, es decir, es posible:\n",
    " * asignar funciones a variables\n",
    " * pasar funciones como argumentos a otras funciones\n",
    " * devolver funciones como retorno de otra función\n",
    "\n",
    "Más sobre funciones de primer orden: https://www.youtube.com/watch?v=kr0mpwqttM0\n",
    "\n",
    "Fuente: http://nbviewer.jupyter.org/github/ethen8181/machine-learning/blob/master/python/decorators/decorators.ipynb"
   ]
  },
  {
   "cell_type": "code",
   "execution_count": 220,
   "metadata": {},
   "outputs": [
    {
     "name": "stdout",
     "output_type": "stream",
     "text": [
      "Hola Alberto\n",
      "Hola Alberto\n",
      "Hola Alberto\n",
      "Hola Alberto\n"
     ]
    }
   ],
   "source": [
    "# se pueden asignar funciones a variables\n",
    "def saludar(nombre) :\n",
    "    return \"Hola \" + nombre\n",
    "\n",
    "func = saludar\n",
    "print(func(\"Alberto\"))\n",
    "\n",
    "\n",
    "# se pueden definir funciones dentro de otras funciones\n",
    "def saludar(nombre) :\n",
    "    def mensaje() :\n",
    "        return \"Hola \"\n",
    "\n",
    "    res = mensaje() + nombre\n",
    "    return res\n",
    "\n",
    "print(saludar(\"Alberto\")) \n",
    "\n",
    "\n",
    "# las funciones se pueden pasar como parametros a otras funciones\n",
    "def saludar(nombre):\n",
    "    return \"Hola \" + nombre\n",
    "\n",
    "def call_func(func):\n",
    "    otro_nombre = \"Alberto\"\n",
    "    return func(otro_nombre)  \n",
    "\n",
    "print(call_func(saludar)) \n",
    "\n",
    "\n",
    "# las funciones pueden devolver otras funciones\n",
    "def componer_saludo(nombre):\n",
    "    def mensaje():\n",
    "        return \"Hola \" + nombre\n",
    "\n",
    "    return mensaje\n",
    "\n",
    "saludar = componer_saludo(\"Alberto\")\n",
    "print(saludar())"
   ]
  },
  {
   "cell_type": "markdown",
   "metadata": {},
   "source": [
    "Funciones anónimas\n",
    "\n",
    "Las funciones anónimas son funciones sin nombre, también conocidas como funciones lambda:"
   ]
  },
  {
   "cell_type": "code",
   "execution_count": 221,
   "metadata": {},
   "outputs": [
    {
     "name": "stdout",
     "output_type": "stream",
     "text": [
      "11\n",
      "139933481698168\n",
      "139933481698168\n",
      "f1\n"
     ]
    }
   ],
   "source": [
    "f = lambda x: x + 5\n",
    "print(f(6))\n",
    "\n",
    "\n",
    "def f1(x):\n",
    "    return x+5\n",
    "\n",
    "f1(6)\n",
    "f = f1\n",
    "print(id(f))\n",
    "print(id(f1))\n",
    "\n",
    "print(f.__name__)"
   ]
  },
  {
   "cell_type": "markdown",
   "metadata": {},
   "source": [
    "##### Excepciones\n",
    "\n",
    "Los errores detectados en tiempo de ejecución se conocen con el nombre de *excepciones*. Sino se controlan, estos errores terminan incodicionalmente con la ejecución del programa.\n",
    "\n",
    "https://docs.python.org/3/tutorial/errors.html"
   ]
  },
  {
   "cell_type": "code",
   "execution_count": 1,
   "metadata": {},
   "outputs": [
    {
     "name": "stdout",
     "output_type": "stream",
     "text": [
      "resultado 2.5\n",
      "esto se ejecuta siempre\n",
      "division por 0!\n",
      "esto se ejecuta siempre\n"
     ]
    }
   ],
   "source": [
    "def div(x, y):\n",
    "    try:\n",
    "        resultado = x/y\n",
    "    except ZeroDivisionError:              # esto se ejecuta si el codigo del try lanza excepción\n",
    "        print(\"division por 0!\")\n",
    "    else:                                  # esto se ejecuta si el codigo del try NO lanza excepción\n",
    "        print(\"resultado\", resultado)\n",
    "    finally:                               # esto se ejecuta siempre\n",
    "        print(\"esto se ejecuta siempre\")\n",
    "        \n",
    "div(5, 2)\n",
    "div(5, 0)"
   ]
  },
  {
   "cell_type": "code",
   "execution_count": 224,
   "metadata": {},
   "outputs": [
    {
     "name": "stdout",
     "output_type": "stream",
     "text": [
      "Edad: 56\n",
      "La edad es: 56\n"
     ]
    }
   ],
   "source": [
    "try:\n",
    "    edad = int(input(\"Edad: \"))\n",
    "except ValueError:\n",
    "    print('No es un entero!')\n",
    "else:\n",
    "    print('La edad es:', edad)"
   ]
  },
  {
   "cell_type": "code",
   "execution_count": 225,
   "metadata": {},
   "outputs": [],
   "source": [
    "try:\n",
    "    pass\n",
    "except (ValueError, TypeError):\n",
    "    pass\n",
    "except:\n",
    "    print((sys.exc_info()))\n",
    "else:\n",
    "    pass"
   ]
  },
  {
   "cell_type": "markdown",
   "metadata": {},
   "source": [
    "Algunas notas finales:\n",
    "  * Un único `except` puede manejar varias excepciones agrupandolas en una tupla\n",
    "  * También se pueden poner varias sentencias `except`\n",
    "  * Sino especificamos el nombre de la excepción `except` captura cualquier tipo\n",
    "  * Es una buena práctica intentar ser lo más específico posible\n",
    "  * Relacionado con lo anterior, es recomendable poner el menor código posible dentro del try, ya que sino puede capturar otras excepciones de las que no somos conscientes"
   ]
  },
  {
   "cell_type": "markdown",
   "metadata": {},
   "source": [
    "### Entrada y salida\n",
    "\n",
    "Para importar datos en nuestros programas, lo más común es usar ficheros de texto. La función `open()` toma como parámetro el nombre del fichero y el modo en que será accedido y devuelve un objeto de tipo `file` sobre el que podemos hacer operaciones. Las más comunes son:\n",
    "\n",
    "* `f.read(size)` Lectura de los siguientes size bytes\n",
    "* `f.read()` Devuelve un string con el contenido de todo el fichero\n",
    "* `f.readline()` Devuelve un string con la siguiente línea en el fichero (incluye \\n)\n",
    "* `f.readlines()` Devuelve un lista de strings con cada línea del fichero\n",
    "* `f.write(string)` Escribe la cadena pasada como parámetro en el fichero\n",
    "* `f.write(S)` Escribe cada una de las cadenas en la lista S como líneas del fichero\n",
    "* `f.close()` \"Cierra\" el fichero\n",
    "\n",
    "Modos de acceso:\n",
    "* 'r': Solo lectura (valor por defecto si no se especifica el modo de acceso)\n",
    "* 'w': Solo escritura (si ya existe un fichero con el mismo nombre, su contenido se borrará).\n",
    "* 'a': Appending. Escritura al final del fichero.\n",
    "* 'r+': Para lectura y escritura.\n",
    "* 'rb','wb','ab': Para trabajar con ficheros binarios.\n",
    "\n",
    "Más información: https://docs.python.org/3/tutorial/inputoutput.html  \n",
    "Objetos `file`: https://docs.python.org/3/library/stdtypes.html#bltin-file-objects"
   ]
  },
  {
   "cell_type": "code",
   "execution_count": 2,
   "metadata": {},
   "outputs": [],
   "source": [
    "f = open('prueba.txt', 'w')"
   ]
  },
  {
   "cell_type": "code",
   "execution_count": 3,
   "metadata": {},
   "outputs": [],
   "source": [
    "f.write(\"hola\")\n",
    "f.close()"
   ]
  },
  {
   "cell_type": "code",
   "execution_count": 8,
   "metadata": {
    "run_control": {
     "marked": false
    }
   },
   "outputs": [],
   "source": [
    "f = open('prueba.txt', 'r')\n",
    "\n",
    "a = f.readlines()\n",
    "\n",
    "for line in f:\n",
    "    print(line, end=' ')"
   ]
  },
  {
   "cell_type": "code",
   "execution_count": 11,
   "metadata": {},
   "outputs": [
    {
     "data": {
      "text/plain": [
       "'hola'"
      ]
     },
     "execution_count": 11,
     "metadata": {},
     "output_type": "execute_result"
    }
   ],
   "source": [
    "a[0].strip()"
   ]
  },
  {
   "cell_type": "code",
   "execution_count": 12,
   "metadata": {},
   "outputs": [
    {
     "name": "stdout",
     "output_type": "stream",
     "text": [
      "['hola\\n', 'adios\\n', 'que\\n', 'tal']\n"
     ]
    }
   ],
   "source": [
    "# la construccion with evita tener que cerrar el fichero\n",
    "with open('prueba.txt', 'r') as f:\n",
    "    print(f.readlines())"
   ]
  },
  {
   "cell_type": "code",
   "execution_count": 13,
   "metadata": {},
   "outputs": [
    {
     "ename": "FileNotFoundError",
     "evalue": "[Errno 2] No such file or directory: 'small.csv'",
     "output_type": "error",
     "traceback": [
      "\u001b[0;31m---------------------------------------------------------------------------\u001b[0m",
      "\u001b[0;31mFileNotFoundError\u001b[0m                         Traceback (most recent call last)",
      "\u001b[0;32m<ipython-input-13-314bff4ccebf>\u001b[0m in \u001b[0;36m<module>\u001b[0;34m\u001b[0m\n\u001b[1;32m      1\u001b[0m \u001b[0;31m# tambien se puede iterar sobre los objetos de tipo file\u001b[0m\u001b[0;34m\u001b[0m\u001b[0;34m\u001b[0m\u001b[0;34m\u001b[0m\u001b[0m\n\u001b[0;32m----> 2\u001b[0;31m \u001b[0;32mwith\u001b[0m \u001b[0mopen\u001b[0m\u001b[0;34m(\u001b[0m\u001b[0;34m'small.csv'\u001b[0m\u001b[0;34m,\u001b[0m \u001b[0;34m'r'\u001b[0m\u001b[0;34m)\u001b[0m \u001b[0;32mas\u001b[0m \u001b[0mf\u001b[0m\u001b[0;34m:\u001b[0m\u001b[0;34m\u001b[0m\u001b[0;34m\u001b[0m\u001b[0m\n\u001b[0m\u001b[1;32m      3\u001b[0m     \u001b[0;32mfor\u001b[0m \u001b[0mline\u001b[0m \u001b[0;32min\u001b[0m \u001b[0mf\u001b[0m\u001b[0;34m:\u001b[0m\u001b[0;34m\u001b[0m\u001b[0;34m\u001b[0m\u001b[0m\n\u001b[1;32m      4\u001b[0m         \u001b[0mprint\u001b[0m\u001b[0;34m(\u001b[0m\u001b[0mline\u001b[0m\u001b[0;34m.\u001b[0m\u001b[0msplit\u001b[0m\u001b[0;34m(\u001b[0m\u001b[0;34m','\u001b[0m\u001b[0;34m)\u001b[0m\u001b[0;34m)\u001b[0m\u001b[0;34m\u001b[0m\u001b[0;34m\u001b[0m\u001b[0m\n",
      "\u001b[0;31mFileNotFoundError\u001b[0m: [Errno 2] No such file or directory: 'small.csv'"
     ]
    }
   ],
   "source": [
    "# tambien se puede iterar sobre los objetos de tipo file\n",
    "with open('small.csv', 'r') as f:\n",
    "    for line in f:\n",
    "        print(line.split(','))"
   ]
  },
  {
   "cell_type": "markdown",
   "metadata": {},
   "source": [
    "### Módulos\n",
    "\n",
    "Se cargan con `import`.\n",
    "\n",
    "Ejemplo: módulo `sys`, que contiene funciones que dependen del intérprete\n",
    "\n",
    "Librería Estándar de Python: https://docs.python.org/3.8/library/index.html"
   ]
  },
  {
   "cell_type": "code",
   "execution_count": 231,
   "metadata": {},
   "outputs": [
    {
     "name": "stdout",
     "output_type": "stream",
     "text": [
      "['/home/alberto/anaconda3/lib/python3.6/site-packages/ipykernel_launcher.py', '-f', '/home/alberto/.local/share/jupyter/runtime/kernel-ecf534bf-7a2f-4bc9-afea-2cc9bb86dfac.json']\n"
     ]
    }
   ],
   "source": [
    "import sys\n",
    "import sys as sistema\n",
    "from numpy import array\n",
    "import numpy as np\n",
    " \n",
    "print(sistema.argv)"
   ]
  },
  {
   "cell_type": "markdown",
   "metadata": {},
   "source": [
    "### Diccionarios\n",
    "\n",
    "Tipo básico de Python que se utiliza para almacenar pares clave-valor. Las claves pueden ser cualquier tipo de dato inmutable, generalmente enteros o cadenas. Las claves tienen que ser únicas dentro de un mismo diccionario, y si se almacena un dato con una clave ya existente se sobreescribe su valor. Los diccionarios mantienen el orden en el que se insertan los elementos.\n",
    "\n",
    "Tutorial: https://www.tutorialspoint.com/python/python_dictionary.htm  \n",
    "Tutorial (\"oficial\"): https://docs.python.org/3/tutorial/datastructures.html#dictionaries  \n",
    "Referencia: https://docs.python.org/3/library/stdtypes.html#typesmapping"
   ]
  },
  {
   "cell_type": "code",
   "execution_count": 232,
   "metadata": {},
   "outputs": [
    {
     "name": "stdout",
     "output_type": "stream",
     "text": [
      "10\n"
     ]
    }
   ],
   "source": [
    "# los diccionarios se pueden crear directamente con llaves {}\n",
    "notas = {'Juan': 10, 'Maria': 8, 'Luis': 5}\n",
    "\n",
    "# tambien se pueden crear a partir de una lista de tuplas\n",
    "notas = dict([ ('Juan', 10), ('Luis', 6), ('Maria', 8.5) ])\n",
    "\n",
    "# acceder a elementos del diccionario\n",
    "print(notas['Juan'])"
   ]
  },
  {
   "cell_type": "code",
   "execution_count": 233,
   "metadata": {},
   "outputs": [
    {
     "name": "stdout",
     "output_type": "stream",
     "text": [
      "{'Juan': 9, 'Luis': 6, 'Maria': 8.5, 'Alberto': 6}\n"
     ]
    }
   ],
   "source": [
    "notas['Juan'] = 9     # actualiza su valor en el diccionario\n",
    "notas['Alberto'] = 6  # añade el elemento\n",
    "print(notas)"
   ]
  },
  {
   "cell_type": "code",
   "execution_count": 234,
   "metadata": {},
   "outputs": [
    {
     "data": {
      "text/plain": [
       "{'Juan': 9, 'Luis': 6, 'Maria': 8.5, 'Alberto': 6, 'Ana': 4.5}"
      ]
     },
     "execution_count": 234,
     "metadata": {},
     "output_type": "execute_result"
    }
   ],
   "source": [
    "notas['Ana'] = 4.5\n",
    "notas"
   ]
  },
  {
   "cell_type": "code",
   "execution_count": 235,
   "metadata": {},
   "outputs": [
    {
     "name": "stdout",
     "output_type": "stream",
     "text": [
      "{'Juan': 9, 'Maria': 8.5, 'Alberto': 6, 'Ana': 4.5}\n"
     ]
    }
   ],
   "source": [
    "# la sentencia del elimina entradas del diccionario\n",
    "del notas['Luis']\n",
    "print(notas)"
   ]
  },
  {
   "cell_type": "code",
   "execution_count": 236,
   "metadata": {},
   "outputs": [
    {
     "name": "stdout",
     "output_type": "stream",
     "text": [
      "['Juan', 'Maria', 'Alberto', 'Ana']\n",
      "[9, 8.5, 6, 4.5]\n",
      "[('Juan', 9), ('Maria', 8.5), ('Alberto', 6), ('Ana', 4.5)]\n",
      "Juan 9\n",
      "Maria 8.5\n",
      "Alberto 6\n",
      "Ana 4.5\n"
     ]
    }
   ],
   "source": [
    "# Algunos de los métodos mas usados\n",
    "print(list(notas.keys()))\n",
    "print(list(notas.values()))\n",
    "print(list(notas.items()))\n",
    "\n",
    "# por defecto, se itera solo por las claves del diccionario\n",
    "for key in notas:\n",
    "    print(key, notas[key])"
   ]
  },
  {
   "cell_type": "markdown",
   "metadata": {},
   "source": [
    "##### Ejecutar scripts python\n",
    "\n",
    "Para ejecutar un fichero con código Python basta con abrir una terminal y escribir: \n",
    "\n",
    "`python script.py`\n",
    "\n",
    "Además, se le pueden pasar argumentos de entrada al programa que serán accesibles a través del módulo `sys`."
   ]
  },
  {
   "cell_type": "markdown",
   "metadata": {
    "collapsed": true
   },
   "source": [
    "##### Medir tiempo de ejecución\n",
    "\n",
    "El módulo `timeit` nos permite medir el tiempo de ejecución del código Python. En Jupyter notebook existe el \"comando mágico\" `%%timeit`, que mide el tiempo de ejecución de una celda de código.\n",
    "\n",
    "Más información sobre \"comandos mágicos\": http://ipython.readthedocs.io/en/stable/interactive/magics.html"
   ]
  },
  {
   "cell_type": "code",
   "execution_count": 237,
   "metadata": {},
   "outputs": [
    {
     "name": "stdout",
     "output_type": "stream",
     "text": [
      "524 ms ± 66.3 ms per loop (mean ± std. dev. of 7 runs, 1 loop each)\n"
     ]
    }
   ],
   "source": [
    "%%timeit \n",
    "s = 0\n",
    "for a in range(10000000):\n",
    "    s += a"
   ]
  }
 ],
 "metadata": {
  "kernelspec": {
   "display_name": "Python 3",
   "language": "python",
   "name": "python3"
  },
  "language_info": {
   "codemirror_mode": {
    "name": "ipython",
    "version": 3
   },
   "file_extension": ".py",
   "mimetype": "text/x-python",
   "name": "python",
   "nbconvert_exporter": "python",
   "pygments_lexer": "ipython3",
   "version": "3.7.4"
  }
 },
 "nbformat": 4,
 "nbformat_minor": 2
}
