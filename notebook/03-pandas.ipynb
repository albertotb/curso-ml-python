{
 "cells": [
  {
   "cell_type": "markdown",
   "metadata": {},
   "source": [
    "# Pandas\n",
    "### Alberto Torres Barrán"
   ]
  },
  {
   "cell_type": "markdown",
   "metadata": {},
   "source": [
    "Pandas es una librería de código abierto que implementa estructuras y herramientas para el análisis de datos en Python. Más concretamente, las dos estructuras principales son:\n",
    "  * `Series`, para representar un vector de datos con un índice (no necesariamente numérico) asociado\n",
    "  * `DataFrame`, para representar datos tabulares, donde las columnas pueden ser de distinto tipo y tienen asociado otro índice\n",
    "\n",
    "Referencia: http://pandas.pydata.org/    \n",
    "Tutoriales: https://pandas.pydata.org/pandas-docs/stable/tutorials.html    \n",
    "Documentación: https://pandas.pydata.org/pandas-docs/stable/index.html"
   ]
  },
  {
   "cell_type": "code",
   "execution_count": 1,
   "metadata": {},
   "outputs": [
    {
     "data": {
      "text/plain": [
       "0    1\n",
       "1    2\n",
       "2    3\n",
       "3    4\n",
       "4    5\n",
       "dtype: int64"
      ]
     },
     "execution_count": 1,
     "metadata": {},
     "output_type": "execute_result"
    }
   ],
   "source": [
    "import numpy as np\n",
    "import pandas as pd\n",
    "\n",
    "# las Series contienen un array de Numpy con un índice asociado\n",
    "serie = pd.Series([1, 2, 3, 4, 5])\n",
    "serie"
   ]
  },
  {
   "cell_type": "code",
   "execution_count": 2,
   "metadata": {},
   "outputs": [
    {
     "data": {
      "text/plain": [
       "array([1, 2, 3, 4, 5])"
      ]
     },
     "execution_count": 2,
     "metadata": {},
     "output_type": "execute_result"
    }
   ],
   "source": [
    "# podemos acceder al array de Numpy que contiene los datos\n",
    "serie.values"
   ]
  },
  {
   "cell_type": "code",
   "execution_count": 3,
   "metadata": {},
   "outputs": [
    {
     "data": {
      "text/plain": [
       "RangeIndex(start=0, stop=5, step=1)"
      ]
     },
     "execution_count": 3,
     "metadata": {},
     "output_type": "execute_result"
    }
   ],
   "source": [
    "# y al indice\n",
    "serie.index"
   ]
  },
  {
   "cell_type": "code",
   "execution_count": 4,
   "metadata": {},
   "outputs": [
    {
     "data": {
      "text/plain": [
       "2    3\n",
       "3    4\n",
       "dtype: int64"
      ]
     },
     "execution_count": 4,
     "metadata": {},
     "output_type": "execute_result"
    }
   ],
   "source": [
    "# podemos acceder a ciertos valores de la Serie como si fuera un array de Numpy de 1D\n",
    "serie[2:4]"
   ]
  },
  {
   "cell_type": "code",
   "execution_count": 5,
   "metadata": {
    "scrolled": false
   },
   "outputs": [
    {
     "data": {
      "text/plain": [
       "2017-01-07 00:00:00    0.191387\n",
       "2017-01-07 01:00:00    1.088600\n",
       "2017-01-07 02:00:00   -0.019781\n",
       "2017-01-07 03:00:00   -0.911980\n",
       "2017-01-07 04:00:00    1.411406\n",
       "2017-01-07 05:00:00   -2.168532\n",
       "2017-01-07 06:00:00    0.976912\n",
       "2017-01-07 07:00:00   -0.534356\n",
       "2017-01-07 08:00:00   -1.571056\n",
       "2017-01-07 09:00:00   -0.632517\n",
       "2017-01-07 10:00:00   -0.499543\n",
       "2017-01-07 11:00:00    0.061092\n",
       "2017-01-07 12:00:00    0.736884\n",
       "2017-01-07 13:00:00   -0.189524\n",
       "2017-01-07 14:00:00   -0.377928\n",
       "2017-01-07 15:00:00    0.588379\n",
       "2017-01-07 16:00:00   -1.097793\n",
       "2017-01-07 17:00:00    0.041253\n",
       "2017-01-07 18:00:00    1.211991\n",
       "2017-01-07 19:00:00   -0.141979\n",
       "2017-01-07 20:00:00    0.456011\n",
       "2017-01-07 21:00:00   -2.066667\n",
       "2017-01-07 22:00:00   -0.731310\n",
       "2017-01-07 23:00:00    0.452978\n",
       "Freq: H, dtype: float64"
      ]
     },
     "execution_count": 5,
     "metadata": {},
     "output_type": "execute_result"
    }
   ],
   "source": [
    "# la gran ventaja es que el indice no tiene por que ser numerico, pueden ser fechas...\n",
    "rango = pd.date_range('1/7/2017', periods=24, freq='H')\n",
    "ts = pd.Series(np.random.randn(len(rango)), index=rango)\n",
    "ts"
   ]
  },
  {
   "cell_type": "code",
   "execution_count": 6,
   "metadata": {},
   "outputs": [
    {
     "data": {
      "text/plain": [
       "Alberto    4.5\n",
       "Maria      9.8\n",
       "Jose       6.5\n",
       "dtype: float64"
      ]
     },
     "execution_count": 6,
     "metadata": {},
     "output_type": "execute_result"
    }
   ],
   "source": [
    "# o cadenas de caracteres\n",
    "notas = pd.Series([4.5, 9.8, 6.5], index=['Alberto', 'Maria', 'Jose'])\n",
    "notas"
   ]
  },
  {
   "cell_type": "code",
   "execution_count": 7,
   "metadata": {},
   "outputs": [
    {
     "data": {
      "text/plain": [
       "9.8"
      ]
     },
     "execution_count": 7,
     "metadata": {},
     "output_type": "execute_result"
    }
   ],
   "source": [
    "notas['Maria']"
   ]
  },
  {
   "cell_type": "code",
   "execution_count": 8,
   "metadata": {},
   "outputs": [
    {
     "data": {
      "text/plain": [
       "Alberto    4.5\n",
       "Maria      9.8\n",
       "dtype: float64"
      ]
     },
     "execution_count": 8,
     "metadata": {},
     "output_type": "execute_result"
    }
   ],
   "source": [
    "# en este caso, es similar a un diccionario pero sus elementos estan ordenados\n",
    "notas['Alberto':'Maria']"
   ]
  },
  {
   "cell_type": "markdown",
   "metadata": {},
   "source": [
    "Los `DataFrames` almacenan datos tabulares y se pueden interpretar de dos formas:\n",
    " * Como un array de Numpy en 2D donde cada columna puede ser de un tipo distinto y tiene un nombre\n",
    " * Como un conjunto de `Series` que comparten un índice"
   ]
  },
  {
   "cell_type": "code",
   "execution_count": 9,
   "metadata": {},
   "outputs": [
    {
     "data": {
      "text/plain": [
       "DatetimeIndex(['2017-01-01', '2017-01-02', '2017-01-03', '2017-01-04',\n",
       "               '2017-01-05', '2017-01-06'],\n",
       "              dtype='datetime64[ns]', freq='D')"
      ]
     },
     "execution_count": 9,
     "metadata": {},
     "output_type": "execute_result"
    }
   ],
   "source": [
    "import pandas as pd\n",
    "fechas = pd.date_range('20170101', periods=6)\n",
    "fechas"
   ]
  },
  {
   "cell_type": "code",
   "execution_count": 123,
   "metadata": {},
   "outputs": [
    {
     "data": {
      "text/html": [
       "<div>\n",
       "<style scoped>\n",
       "    .dataframe tbody tr th:only-of-type {\n",
       "        vertical-align: middle;\n",
       "    }\n",
       "\n",
       "    .dataframe tbody tr th {\n",
       "        vertical-align: top;\n",
       "    }\n",
       "\n",
       "    .dataframe thead th {\n",
       "        text-align: right;\n",
       "    }\n",
       "</style>\n",
       "<table border=\"1\" class=\"dataframe\">\n",
       "  <thead>\n",
       "    <tr style=\"text-align: right;\">\n",
       "      <th></th>\n",
       "      <th>A</th>\n",
       "      <th>B</th>\n",
       "      <th>C</th>\n",
       "      <th>D</th>\n",
       "    </tr>\n",
       "  </thead>\n",
       "  <tbody>\n",
       "    <tr>\n",
       "      <td>2017-01-01</td>\n",
       "      <td>0.248629</td>\n",
       "      <td>-0.202076</td>\n",
       "      <td>1.527722</td>\n",
       "      <td>-0.250054</td>\n",
       "    </tr>\n",
       "    <tr>\n",
       "      <td>2017-01-02</td>\n",
       "      <td>-0.089443</td>\n",
       "      <td>0.544602</td>\n",
       "      <td>0.337311</td>\n",
       "      <td>-0.575511</td>\n",
       "    </tr>\n",
       "    <tr>\n",
       "      <td>2017-01-03</td>\n",
       "      <td>0.470453</td>\n",
       "      <td>-0.541968</td>\n",
       "      <td>0.002309</td>\n",
       "      <td>-1.529380</td>\n",
       "    </tr>\n",
       "    <tr>\n",
       "      <td>2017-01-04</td>\n",
       "      <td>0.468811</td>\n",
       "      <td>-1.112179</td>\n",
       "      <td>-0.130189</td>\n",
       "      <td>-0.896953</td>\n",
       "    </tr>\n",
       "    <tr>\n",
       "      <td>2017-01-05</td>\n",
       "      <td>-0.066059</td>\n",
       "      <td>0.667104</td>\n",
       "      <td>-0.621184</td>\n",
       "      <td>0.052273</td>\n",
       "    </tr>\n",
       "    <tr>\n",
       "      <td>2017-01-06</td>\n",
       "      <td>-0.076081</td>\n",
       "      <td>-0.046717</td>\n",
       "      <td>-0.490924</td>\n",
       "      <td>0.716141</td>\n",
       "    </tr>\n",
       "  </tbody>\n",
       "</table>\n",
       "</div>"
      ],
      "text/plain": [
       "                   A         B         C         D\n",
       "2017-01-01  0.248629 -0.202076  1.527722 -0.250054\n",
       "2017-01-02 -0.089443  0.544602  0.337311 -0.575511\n",
       "2017-01-03  0.470453 -0.541968  0.002309 -1.529380\n",
       "2017-01-04  0.468811 -1.112179 -0.130189 -0.896953\n",
       "2017-01-05 -0.066059  0.667104 -0.621184  0.052273\n",
       "2017-01-06 -0.076081 -0.046717 -0.490924  0.716141"
      ]
     },
     "execution_count": 123,
     "metadata": {},
     "output_type": "execute_result"
    }
   ],
   "source": [
    "# se puede crear un DataFrame a partir de un array de Numpy, indicando el indice a usar (fechas en este caso)\n",
    "# y el nombre de las columnas\n",
    "# ['A', 'B', 'C', 'D']\n",
    "import pandas as pd\n",
    "import numpy as np\n",
    "df = pd.DataFrame(np.random.randn(6,4), index=fechas, columns=list('ABCD'))\n",
    "df"
   ]
  },
  {
   "cell_type": "code",
   "execution_count": 11,
   "metadata": {
    "scrolled": true
   },
   "outputs": [
    {
     "data": {
      "text/html": [
       "<div>\n",
       "<style scoped>\n",
       "    .dataframe tbody tr th:only-of-type {\n",
       "        vertical-align: middle;\n",
       "    }\n",
       "\n",
       "    .dataframe tbody tr th {\n",
       "        vertical-align: top;\n",
       "    }\n",
       "\n",
       "    .dataframe thead th {\n",
       "        text-align: right;\n",
       "    }\n",
       "</style>\n",
       "<table border=\"1\" class=\"dataframe\">\n",
       "  <thead>\n",
       "    <tr style=\"text-align: right;\">\n",
       "      <th></th>\n",
       "      <th>A</th>\n",
       "      <th>B</th>\n",
       "      <th>C</th>\n",
       "      <th>D</th>\n",
       "      <th>E</th>\n",
       "      <th>F</th>\n",
       "    </tr>\n",
       "  </thead>\n",
       "  <tbody>\n",
       "    <tr>\n",
       "      <td>0</td>\n",
       "      <td>1.0</td>\n",
       "      <td>2013-01-02</td>\n",
       "      <td>1.0</td>\n",
       "      <td>3</td>\n",
       "      <td>test</td>\n",
       "      <td>foo</td>\n",
       "    </tr>\n",
       "    <tr>\n",
       "      <td>1</td>\n",
       "      <td>1.0</td>\n",
       "      <td>2013-01-02</td>\n",
       "      <td>1.0</td>\n",
       "      <td>3</td>\n",
       "      <td>train</td>\n",
       "      <td>foo</td>\n",
       "    </tr>\n",
       "    <tr>\n",
       "      <td>2</td>\n",
       "      <td>1.0</td>\n",
       "      <td>2013-01-02</td>\n",
       "      <td>1.0</td>\n",
       "      <td>3</td>\n",
       "      <td>test</td>\n",
       "      <td>foo</td>\n",
       "    </tr>\n",
       "    <tr>\n",
       "      <td>3</td>\n",
       "      <td>1.0</td>\n",
       "      <td>2013-01-02</td>\n",
       "      <td>1.0</td>\n",
       "      <td>3</td>\n",
       "      <td>train</td>\n",
       "      <td>foo</td>\n",
       "    </tr>\n",
       "  </tbody>\n",
       "</table>\n",
       "</div>"
      ],
      "text/plain": [
       "     A          B    C  D      E    F\n",
       "0  1.0 2013-01-02  1.0  3   test  foo\n",
       "1  1.0 2013-01-02  1.0  3  train  foo\n",
       "2  1.0 2013-01-02  1.0  3   test  foo\n",
       "3  1.0 2013-01-02  1.0  3  train  foo"
      ]
     },
     "execution_count": 11,
     "metadata": {},
     "output_type": "execute_result"
    }
   ],
   "source": [
    "# tambien se puede crear un DataFrame a partir de un diccionario con objetos que se pueden convertir en Series\n",
    "df2 = pd.DataFrame({ 'A' : 1.,\n",
    "                     'B' : pd.Timestamp('20130102'),\n",
    "                     'C' : pd.Series(1, index=list(range(4)),dtype='float32'),\n",
    "                     'D' : np.array([3] * 4,dtype='int32'),\n",
    "                     'E' : pd.Categorical([\"test\",\"train\",\"test\",\"train\"]),\n",
    "                     'F' : 'foo' })\n",
    "df2"
   ]
  },
  {
   "cell_type": "code",
   "execution_count": 12,
   "metadata": {},
   "outputs": [
    {
     "data": {
      "text/plain": [
       "A           float64\n",
       "B    datetime64[ns]\n",
       "C           float32\n",
       "D             int32\n",
       "E          category\n",
       "F            object\n",
       "dtype: object"
      ]
     },
     "execution_count": 12,
     "metadata": {},
     "output_type": "execute_result"
    }
   ],
   "source": [
    "# tipos de cada una de las columnas\n",
    "df2.dtypes"
   ]
  },
  {
   "cell_type": "code",
   "execution_count": 13,
   "metadata": {},
   "outputs": [
    {
     "data": {
      "text/plain": [
       "Index(['A', 'B', 'C', 'D', 'E', 'F'], dtype='object')"
      ]
     },
     "execution_count": 13,
     "metadata": {},
     "output_type": "execute_result"
    }
   ],
   "source": [
    "# nombres de las columnas\n",
    "df2.columns"
   ]
  },
  {
   "cell_type": "code",
   "execution_count": 14,
   "metadata": {},
   "outputs": [
    {
     "data": {
      "text/plain": [
       "2017-01-01    0.907015\n",
       "2017-01-02    1.281871\n",
       "2017-01-03    0.241259\n",
       "2017-01-04   -0.345477\n",
       "2017-01-05    0.772033\n",
       "2017-01-06    1.336222\n",
       "Freq: D, Name: A, dtype: float64"
      ]
     },
     "execution_count": 14,
     "metadata": {},
     "output_type": "execute_result"
    }
   ],
   "source": [
    "# podemos acceder a cada una de las columnas por su nombre, devolviendo una Serie\n",
    "df['A']"
   ]
  },
  {
   "cell_type": "code",
   "execution_count": 15,
   "metadata": {},
   "outputs": [
    {
     "data": {
      "text/html": [
       "<div>\n",
       "<style scoped>\n",
       "    .dataframe tbody tr th:only-of-type {\n",
       "        vertical-align: middle;\n",
       "    }\n",
       "\n",
       "    .dataframe tbody tr th {\n",
       "        vertical-align: top;\n",
       "    }\n",
       "\n",
       "    .dataframe thead th {\n",
       "        text-align: right;\n",
       "    }\n",
       "</style>\n",
       "<table border=\"1\" class=\"dataframe\">\n",
       "  <thead>\n",
       "    <tr style=\"text-align: right;\">\n",
       "      <th></th>\n",
       "      <th>A</th>\n",
       "      <th>D</th>\n",
       "    </tr>\n",
       "  </thead>\n",
       "  <tbody>\n",
       "    <tr>\n",
       "      <td>2017-01-01</td>\n",
       "      <td>0.907015</td>\n",
       "      <td>1.314934</td>\n",
       "    </tr>\n",
       "    <tr>\n",
       "      <td>2017-01-02</td>\n",
       "      <td>1.281871</td>\n",
       "      <td>0.068638</td>\n",
       "    </tr>\n",
       "    <tr>\n",
       "      <td>2017-01-03</td>\n",
       "      <td>0.241259</td>\n",
       "      <td>0.794694</td>\n",
       "    </tr>\n",
       "    <tr>\n",
       "      <td>2017-01-04</td>\n",
       "      <td>-0.345477</td>\n",
       "      <td>0.539440</td>\n",
       "    </tr>\n",
       "    <tr>\n",
       "      <td>2017-01-05</td>\n",
       "      <td>0.772033</td>\n",
       "      <td>1.068202</td>\n",
       "    </tr>\n",
       "    <tr>\n",
       "      <td>2017-01-06</td>\n",
       "      <td>1.336222</td>\n",
       "      <td>0.157820</td>\n",
       "    </tr>\n",
       "  </tbody>\n",
       "</table>\n",
       "</div>"
      ],
      "text/plain": [
       "                   A         D\n",
       "2017-01-01  0.907015  1.314934\n",
       "2017-01-02  1.281871  0.068638\n",
       "2017-01-03  0.241259  0.794694\n",
       "2017-01-04 -0.345477  0.539440\n",
       "2017-01-05  0.772033  1.068202\n",
       "2017-01-06  1.336222  0.157820"
      ]
     },
     "execution_count": 15,
     "metadata": {},
     "output_type": "execute_result"
    }
   ],
   "source": [
    "# tambien a varias, obteniendo otro DataFrame\n",
    "df[ ['A', 'D'] ]"
   ]
  },
  {
   "cell_type": "code",
   "execution_count": 16,
   "metadata": {},
   "outputs": [
    {
     "data": {
      "text/html": [
       "<div>\n",
       "<style scoped>\n",
       "    .dataframe tbody tr th:only-of-type {\n",
       "        vertical-align: middle;\n",
       "    }\n",
       "\n",
       "    .dataframe tbody tr th {\n",
       "        vertical-align: top;\n",
       "    }\n",
       "\n",
       "    .dataframe thead th {\n",
       "        text-align: right;\n",
       "    }\n",
       "</style>\n",
       "<table border=\"1\" class=\"dataframe\">\n",
       "  <thead>\n",
       "    <tr style=\"text-align: right;\">\n",
       "      <th></th>\n",
       "      <th>A</th>\n",
       "      <th>B</th>\n",
       "      <th>C</th>\n",
       "      <th>D</th>\n",
       "    </tr>\n",
       "  </thead>\n",
       "  <tbody>\n",
       "    <tr>\n",
       "      <td>2017-01-02</td>\n",
       "      <td>1.281871</td>\n",
       "      <td>0.507760</td>\n",
       "      <td>1.566460</td>\n",
       "      <td>0.068638</td>\n",
       "    </tr>\n",
       "    <tr>\n",
       "      <td>2017-01-03</td>\n",
       "      <td>0.241259</td>\n",
       "      <td>-0.044062</td>\n",
       "      <td>1.360712</td>\n",
       "      <td>0.794694</td>\n",
       "    </tr>\n",
       "    <tr>\n",
       "      <td>2017-01-04</td>\n",
       "      <td>-0.345477</td>\n",
       "      <td>0.164809</td>\n",
       "      <td>1.319772</td>\n",
       "      <td>0.539440</td>\n",
       "    </tr>\n",
       "  </tbody>\n",
       "</table>\n",
       "</div>"
      ],
      "text/plain": [
       "                   A         B         C         D\n",
       "2017-01-02  1.281871  0.507760  1.566460  0.068638\n",
       "2017-01-03  0.241259 -0.044062  1.360712  0.794694\n",
       "2017-01-04 -0.345477  0.164809  1.319772  0.539440"
      ]
     },
     "execution_count": 16,
     "metadata": {},
     "output_type": "execute_result"
    }
   ],
   "source": [
    "# tambien podemos acceder a un subconjunto de las filas\n",
    "df[1:4]"
   ]
  },
  {
   "cell_type": "code",
   "execution_count": 17,
   "metadata": {},
   "outputs": [
    {
     "data": {
      "text/plain": [
       "2017-01-02    1.281871\n",
       "2017-01-03    0.241259\n",
       "2017-01-04   -0.345477\n",
       "Freq: D, Name: A, dtype: float64"
      ]
     },
     "execution_count": 17,
     "metadata": {},
     "output_type": "execute_result"
    }
   ],
   "source": [
    "# y combinar ambas cosas\n",
    "df['A'][1:4]"
   ]
  },
  {
   "cell_type": "markdown",
   "metadata": {},
   "source": [
    "Pandas también tiene otros métodos de acceso más avanzados:\n",
    "  * *Indexing and Selecting Data* http://pandas.pydata.org/pandas-docs/stable/indexing.html#indexing    \n",
    "  * *Multiindexing/Advanced indexing* http://pandas.pydata.org/pandas-docs/stable/advanced.html#advanced"
   ]
  },
  {
   "cell_type": "markdown",
   "metadata": {},
   "source": [
    "##### Selección por etiquetas\n",
    "\n",
    "Método `.loc`. Algunos ejemplos:"
   ]
  },
  {
   "cell_type": "code",
   "execution_count": 18,
   "metadata": {},
   "outputs": [
    {
     "data": {
      "text/html": [
       "<div>\n",
       "<style scoped>\n",
       "    .dataframe tbody tr th:only-of-type {\n",
       "        vertical-align: middle;\n",
       "    }\n",
       "\n",
       "    .dataframe tbody tr th {\n",
       "        vertical-align: top;\n",
       "    }\n",
       "\n",
       "    .dataframe thead th {\n",
       "        text-align: right;\n",
       "    }\n",
       "</style>\n",
       "<table border=\"1\" class=\"dataframe\">\n",
       "  <thead>\n",
       "    <tr style=\"text-align: right;\">\n",
       "      <th></th>\n",
       "      <th>A</th>\n",
       "      <th>B</th>\n",
       "    </tr>\n",
       "  </thead>\n",
       "  <tbody>\n",
       "    <tr>\n",
       "      <td>2017-01-02</td>\n",
       "      <td>1.281871</td>\n",
       "      <td>0.507760</td>\n",
       "    </tr>\n",
       "    <tr>\n",
       "      <td>2017-01-03</td>\n",
       "      <td>0.241259</td>\n",
       "      <td>-0.044062</td>\n",
       "    </tr>\n",
       "    <tr>\n",
       "      <td>2017-01-04</td>\n",
       "      <td>-0.345477</td>\n",
       "      <td>0.164809</td>\n",
       "    </tr>\n",
       "  </tbody>\n",
       "</table>\n",
       "</div>"
      ],
      "text/plain": [
       "                   A         B\n",
       "2017-01-02  1.281871  0.507760\n",
       "2017-01-03  0.241259 -0.044062\n",
       "2017-01-04 -0.345477  0.164809"
      ]
     },
     "execution_count": 18,
     "metadata": {},
     "output_type": "execute_result"
    }
   ],
   "source": [
    "# en este caso, los puntos finales SI se incluyen\n",
    "df.loc['20170102':'20170104', ['A','B']]"
   ]
  },
  {
   "cell_type": "code",
   "execution_count": 19,
   "metadata": {},
   "outputs": [
    {
     "data": {
      "text/plain": [
       "A    0.241259\n",
       "B   -0.044062\n",
       "C    1.360712\n",
       "D    0.794694\n",
       "Name: 2017-01-03 00:00:00, dtype: float64"
      ]
     },
     "execution_count": 19,
     "metadata": {},
     "output_type": "execute_result"
    }
   ],
   "source": [
    "df.loc['20170103']"
   ]
  },
  {
   "cell_type": "markdown",
   "metadata": {},
   "source": [
    "###### Selección por posición\n",
    "\n",
    "Método `.iloc`. Muy parecido a como lo hace Numpy. Algunos ejemplos:"
   ]
  },
  {
   "cell_type": "code",
   "execution_count": 20,
   "metadata": {},
   "outputs": [
    {
     "data": {
      "text/plain": [
       "A   -0.345477\n",
       "B    0.164809\n",
       "C    1.319772\n",
       "D    0.539440\n",
       "Name: 2017-01-04 00:00:00, dtype: float64"
      ]
     },
     "execution_count": 20,
     "metadata": {},
     "output_type": "execute_result"
    }
   ],
   "source": [
    "# cuarta fila\n",
    "df.iloc[3]"
   ]
  },
  {
   "cell_type": "code",
   "execution_count": 21,
   "metadata": {},
   "outputs": [
    {
     "name": "stdout",
     "output_type": "stream",
     "text": [
      "                   A         B\n",
      "2017-01-04 -0.345477  0.164809\n",
      "2017-01-05  0.772033 -0.024435\n"
     ]
    },
    {
     "data": {
      "text/plain": [
       "array([[-0.34547746,  0.16480943],\n",
       "       [ 0.7720332 , -0.02443538]])"
      ]
     },
     "execution_count": 21,
     "metadata": {},
     "output_type": "execute_result"
    }
   ],
   "source": [
    "print((df.iloc[3:5,0:2]))\n",
    "df.values[3:5, 0:2]"
   ]
  },
  {
   "cell_type": "code",
   "execution_count": 22,
   "metadata": {},
   "outputs": [
    {
     "data": {
      "text/html": [
       "<div>\n",
       "<style scoped>\n",
       "    .dataframe tbody tr th:only-of-type {\n",
       "        vertical-align: middle;\n",
       "    }\n",
       "\n",
       "    .dataframe tbody tr th {\n",
       "        vertical-align: top;\n",
       "    }\n",
       "\n",
       "    .dataframe thead th {\n",
       "        text-align: right;\n",
       "    }\n",
       "</style>\n",
       "<table border=\"1\" class=\"dataframe\">\n",
       "  <thead>\n",
       "    <tr style=\"text-align: right;\">\n",
       "      <th></th>\n",
       "      <th>A</th>\n",
       "      <th>C</th>\n",
       "    </tr>\n",
       "  </thead>\n",
       "  <tbody>\n",
       "    <tr>\n",
       "      <td>2017-01-02</td>\n",
       "      <td>1.281871</td>\n",
       "      <td>1.566460</td>\n",
       "    </tr>\n",
       "    <tr>\n",
       "      <td>2017-01-03</td>\n",
       "      <td>0.241259</td>\n",
       "      <td>1.360712</td>\n",
       "    </tr>\n",
       "    <tr>\n",
       "      <td>2017-01-05</td>\n",
       "      <td>0.772033</td>\n",
       "      <td>0.709798</td>\n",
       "    </tr>\n",
       "  </tbody>\n",
       "</table>\n",
       "</div>"
      ],
      "text/plain": [
       "                   A         C\n",
       "2017-01-02  1.281871  1.566460\n",
       "2017-01-03  0.241259  1.360712\n",
       "2017-01-05  0.772033  0.709798"
      ]
     },
     "execution_count": 22,
     "metadata": {},
     "output_type": "execute_result"
    }
   ],
   "source": [
    "df.iloc[[1,2,4],[0,2]]"
   ]
  },
  {
   "cell_type": "markdown",
   "metadata": {},
   "source": [
    "##### Operaciones\n",
    "\n",
    "Funcionalidad básica: https://pandas.pydata.org/pandas-docs/stable/basics.html"
   ]
  },
  {
   "cell_type": "code",
   "execution_count": 23,
   "metadata": {},
   "outputs": [
    {
     "name": "stdout",
     "output_type": "stream",
     "text": [
      "2017-01-02    1\n",
      "2017-01-03    2\n",
      "2017-01-04    3\n",
      "2017-01-05    4\n",
      "2017-01-06    5\n",
      "2017-01-07    6\n",
      "Freq: D, dtype: int64\n"
     ]
    },
    {
     "data": {
      "text/html": [
       "<div>\n",
       "<style scoped>\n",
       "    .dataframe tbody tr th:only-of-type {\n",
       "        vertical-align: middle;\n",
       "    }\n",
       "\n",
       "    .dataframe tbody tr th {\n",
       "        vertical-align: top;\n",
       "    }\n",
       "\n",
       "    .dataframe thead th {\n",
       "        text-align: right;\n",
       "    }\n",
       "</style>\n",
       "<table border=\"1\" class=\"dataframe\">\n",
       "  <thead>\n",
       "    <tr style=\"text-align: right;\">\n",
       "      <th></th>\n",
       "      <th>A</th>\n",
       "      <th>B</th>\n",
       "      <th>C</th>\n",
       "      <th>D</th>\n",
       "      <th>F</th>\n",
       "    </tr>\n",
       "  </thead>\n",
       "  <tbody>\n",
       "    <tr>\n",
       "      <td>2017-01-01</td>\n",
       "      <td>0.907015</td>\n",
       "      <td>0.230659</td>\n",
       "      <td>-0.114304</td>\n",
       "      <td>1.314934</td>\n",
       "      <td>NaN</td>\n",
       "    </tr>\n",
       "    <tr>\n",
       "      <td>2017-01-02</td>\n",
       "      <td>1.281871</td>\n",
       "      <td>0.507760</td>\n",
       "      <td>1.566460</td>\n",
       "      <td>0.068638</td>\n",
       "      <td>1.0</td>\n",
       "    </tr>\n",
       "    <tr>\n",
       "      <td>2017-01-03</td>\n",
       "      <td>0.241259</td>\n",
       "      <td>-0.044062</td>\n",
       "      <td>1.360712</td>\n",
       "      <td>0.794694</td>\n",
       "      <td>2.0</td>\n",
       "    </tr>\n",
       "    <tr>\n",
       "      <td>2017-01-04</td>\n",
       "      <td>-0.345477</td>\n",
       "      <td>0.164809</td>\n",
       "      <td>1.319772</td>\n",
       "      <td>0.539440</td>\n",
       "      <td>3.0</td>\n",
       "    </tr>\n",
       "    <tr>\n",
       "      <td>2017-01-05</td>\n",
       "      <td>0.772033</td>\n",
       "      <td>-0.024435</td>\n",
       "      <td>0.709798</td>\n",
       "      <td>1.068202</td>\n",
       "      <td>4.0</td>\n",
       "    </tr>\n",
       "    <tr>\n",
       "      <td>2017-01-06</td>\n",
       "      <td>1.336222</td>\n",
       "      <td>-0.387960</td>\n",
       "      <td>1.360179</td>\n",
       "      <td>0.157820</td>\n",
       "      <td>5.0</td>\n",
       "    </tr>\n",
       "  </tbody>\n",
       "</table>\n",
       "</div>"
      ],
      "text/plain": [
       "                   A         B         C         D    F\n",
       "2017-01-01  0.907015  0.230659 -0.114304  1.314934  NaN\n",
       "2017-01-02  1.281871  0.507760  1.566460  0.068638  1.0\n",
       "2017-01-03  0.241259 -0.044062  1.360712  0.794694  2.0\n",
       "2017-01-04 -0.345477  0.164809  1.319772  0.539440  3.0\n",
       "2017-01-05  0.772033 -0.024435  0.709798  1.068202  4.0\n",
       "2017-01-06  1.336222 -0.387960  1.360179  0.157820  5.0"
      ]
     },
     "execution_count": 23,
     "metadata": {},
     "output_type": "execute_result"
    }
   ],
   "source": [
    "# al añadir una nueva columna, esta se alinea con el indice\n",
    "s1 = pd.Series([1,2,3,4,5,6], index=pd.date_range('20170102', periods=6))\n",
    "print(s1)\n",
    "df['F'] = s1\n",
    "df"
   ]
  },
  {
   "cell_type": "code",
   "execution_count": 24,
   "metadata": {},
   "outputs": [
    {
     "data": {
      "text/html": [
       "<div>\n",
       "<style scoped>\n",
       "    .dataframe tbody tr th:only-of-type {\n",
       "        vertical-align: middle;\n",
       "    }\n",
       "\n",
       "    .dataframe tbody tr th {\n",
       "        vertical-align: top;\n",
       "    }\n",
       "\n",
       "    .dataframe thead th {\n",
       "        text-align: right;\n",
       "    }\n",
       "</style>\n",
       "<table border=\"1\" class=\"dataframe\">\n",
       "  <thead>\n",
       "    <tr style=\"text-align: right;\">\n",
       "      <th></th>\n",
       "      <th>A</th>\n",
       "      <th>B</th>\n",
       "      <th>C</th>\n",
       "      <th>D</th>\n",
       "      <th>F</th>\n",
       "    </tr>\n",
       "  </thead>\n",
       "  <tbody>\n",
       "    <tr>\n",
       "      <td>2017-01-02</td>\n",
       "      <td>1.281871</td>\n",
       "      <td>0.507760</td>\n",
       "      <td>1.566460</td>\n",
       "      <td>0.068638</td>\n",
       "      <td>1.0</td>\n",
       "    </tr>\n",
       "    <tr>\n",
       "      <td>2017-01-03</td>\n",
       "      <td>0.241259</td>\n",
       "      <td>-0.044062</td>\n",
       "      <td>1.360712</td>\n",
       "      <td>0.794694</td>\n",
       "      <td>2.0</td>\n",
       "    </tr>\n",
       "    <tr>\n",
       "      <td>2017-01-04</td>\n",
       "      <td>-0.345477</td>\n",
       "      <td>0.164809</td>\n",
       "      <td>1.319772</td>\n",
       "      <td>0.539440</td>\n",
       "      <td>3.0</td>\n",
       "    </tr>\n",
       "    <tr>\n",
       "      <td>2017-01-05</td>\n",
       "      <td>0.772033</td>\n",
       "      <td>-0.024435</td>\n",
       "      <td>0.709798</td>\n",
       "      <td>1.068202</td>\n",
       "      <td>4.0</td>\n",
       "    </tr>\n",
       "    <tr>\n",
       "      <td>2017-01-06</td>\n",
       "      <td>1.336222</td>\n",
       "      <td>-0.387960</td>\n",
       "      <td>1.360179</td>\n",
       "      <td>0.157820</td>\n",
       "      <td>5.0</td>\n",
       "    </tr>\n",
       "  </tbody>\n",
       "</table>\n",
       "</div>"
      ],
      "text/plain": [
       "                   A         B         C         D    F\n",
       "2017-01-02  1.281871  0.507760  1.566460  0.068638  1.0\n",
       "2017-01-03  0.241259 -0.044062  1.360712  0.794694  2.0\n",
       "2017-01-04 -0.345477  0.164809  1.319772  0.539440  3.0\n",
       "2017-01-05  0.772033 -0.024435  0.709798  1.068202  4.0\n",
       "2017-01-06  1.336222 -0.387960  1.360179  0.157820  5.0"
      ]
     },
     "execution_count": 24,
     "metadata": {},
     "output_type": "execute_result"
    }
   ],
   "source": [
    "# Pandas utiliza np.nan para representar valores que faltan. Por defecto no se incluye en los calculos\n",
    "# Eliminar las filas que tienen algun valor que falta\n",
    "df.dropna(how='any')"
   ]
  },
  {
   "cell_type": "code",
   "execution_count": 25,
   "metadata": {},
   "outputs": [
    {
     "data": {
      "text/html": [
       "<div>\n",
       "<style scoped>\n",
       "    .dataframe tbody tr th:only-of-type {\n",
       "        vertical-align: middle;\n",
       "    }\n",
       "\n",
       "    .dataframe tbody tr th {\n",
       "        vertical-align: top;\n",
       "    }\n",
       "\n",
       "    .dataframe thead th {\n",
       "        text-align: right;\n",
       "    }\n",
       "</style>\n",
       "<table border=\"1\" class=\"dataframe\">\n",
       "  <thead>\n",
       "    <tr style=\"text-align: right;\">\n",
       "      <th></th>\n",
       "      <th>A</th>\n",
       "      <th>C</th>\n",
       "      <th>D</th>\n",
       "      <th>F</th>\n",
       "    </tr>\n",
       "  </thead>\n",
       "  <tbody>\n",
       "    <tr>\n",
       "      <td>2017-01-01</td>\n",
       "      <td>0.907015</td>\n",
       "      <td>-0.114304</td>\n",
       "      <td>1.314934</td>\n",
       "      <td>NaN</td>\n",
       "    </tr>\n",
       "    <tr>\n",
       "      <td>2017-01-02</td>\n",
       "      <td>1.281871</td>\n",
       "      <td>1.566460</td>\n",
       "      <td>0.068638</td>\n",
       "      <td>1.0</td>\n",
       "    </tr>\n",
       "    <tr>\n",
       "      <td>2017-01-03</td>\n",
       "      <td>0.241259</td>\n",
       "      <td>1.360712</td>\n",
       "      <td>0.794694</td>\n",
       "      <td>2.0</td>\n",
       "    </tr>\n",
       "    <tr>\n",
       "      <td>2017-01-04</td>\n",
       "      <td>-0.345477</td>\n",
       "      <td>1.319772</td>\n",
       "      <td>0.539440</td>\n",
       "      <td>3.0</td>\n",
       "    </tr>\n",
       "    <tr>\n",
       "      <td>2017-01-05</td>\n",
       "      <td>0.772033</td>\n",
       "      <td>0.709798</td>\n",
       "      <td>1.068202</td>\n",
       "      <td>4.0</td>\n",
       "    </tr>\n",
       "    <tr>\n",
       "      <td>2017-01-06</td>\n",
       "      <td>1.336222</td>\n",
       "      <td>1.360179</td>\n",
       "      <td>0.157820</td>\n",
       "      <td>5.0</td>\n",
       "    </tr>\n",
       "  </tbody>\n",
       "</table>\n",
       "</div>"
      ],
      "text/plain": [
       "                   A         C         D    F\n",
       "2017-01-01  0.907015 -0.114304  1.314934  NaN\n",
       "2017-01-02  1.281871  1.566460  0.068638  1.0\n",
       "2017-01-03  0.241259  1.360712  0.794694  2.0\n",
       "2017-01-04 -0.345477  1.319772  0.539440  3.0\n",
       "2017-01-05  0.772033  0.709798  1.068202  4.0\n",
       "2017-01-06  1.336222  1.360179  0.157820  5.0"
      ]
     },
     "execution_count": 25,
     "metadata": {},
     "output_type": "execute_result"
    }
   ],
   "source": [
    "# eliminar una fila o columna por su etiqueta\n",
    "df.drop(columns='B')"
   ]
  },
  {
   "cell_type": "code",
   "execution_count": 26,
   "metadata": {},
   "outputs": [
    {
     "data": {
      "text/html": [
       "<div>\n",
       "<style scoped>\n",
       "    .dataframe tbody tr th:only-of-type {\n",
       "        vertical-align: middle;\n",
       "    }\n",
       "\n",
       "    .dataframe tbody tr th {\n",
       "        vertical-align: top;\n",
       "    }\n",
       "\n",
       "    .dataframe thead th {\n",
       "        text-align: right;\n",
       "    }\n",
       "</style>\n",
       "<table border=\"1\" class=\"dataframe\">\n",
       "  <thead>\n",
       "    <tr style=\"text-align: right;\">\n",
       "      <th></th>\n",
       "      <th>A</th>\n",
       "      <th>B</th>\n",
       "      <th>C</th>\n",
       "      <th>D</th>\n",
       "      <th>F</th>\n",
       "    </tr>\n",
       "  </thead>\n",
       "  <tbody>\n",
       "    <tr>\n",
       "      <td>2017-01-01</td>\n",
       "      <td>0.907015</td>\n",
       "      <td>0.230659</td>\n",
       "      <td>-0.114304</td>\n",
       "      <td>1.314934</td>\n",
       "      <td>3.0</td>\n",
       "    </tr>\n",
       "    <tr>\n",
       "      <td>2017-01-02</td>\n",
       "      <td>1.281871</td>\n",
       "      <td>0.507760</td>\n",
       "      <td>1.566460</td>\n",
       "      <td>0.068638</td>\n",
       "      <td>1.0</td>\n",
       "    </tr>\n",
       "    <tr>\n",
       "      <td>2017-01-03</td>\n",
       "      <td>0.241259</td>\n",
       "      <td>-0.044062</td>\n",
       "      <td>1.360712</td>\n",
       "      <td>0.794694</td>\n",
       "      <td>2.0</td>\n",
       "    </tr>\n",
       "    <tr>\n",
       "      <td>2017-01-04</td>\n",
       "      <td>-0.345477</td>\n",
       "      <td>0.164809</td>\n",
       "      <td>1.319772</td>\n",
       "      <td>0.539440</td>\n",
       "      <td>3.0</td>\n",
       "    </tr>\n",
       "    <tr>\n",
       "      <td>2017-01-05</td>\n",
       "      <td>0.772033</td>\n",
       "      <td>-0.024435</td>\n",
       "      <td>0.709798</td>\n",
       "      <td>1.068202</td>\n",
       "      <td>4.0</td>\n",
       "    </tr>\n",
       "    <tr>\n",
       "      <td>2017-01-06</td>\n",
       "      <td>1.336222</td>\n",
       "      <td>-0.387960</td>\n",
       "      <td>1.360179</td>\n",
       "      <td>0.157820</td>\n",
       "      <td>5.0</td>\n",
       "    </tr>\n",
       "  </tbody>\n",
       "</table>\n",
       "</div>"
      ],
      "text/plain": [
       "                   A         B         C         D    F\n",
       "2017-01-01  0.907015  0.230659 -0.114304  1.314934  3.0\n",
       "2017-01-02  1.281871  0.507760  1.566460  0.068638  1.0\n",
       "2017-01-03  0.241259 -0.044062  1.360712  0.794694  2.0\n",
       "2017-01-04 -0.345477  0.164809  1.319772  0.539440  3.0\n",
       "2017-01-05  0.772033 -0.024435  0.709798  1.068202  4.0\n",
       "2017-01-06  1.336222 -0.387960  1.360179  0.157820  5.0"
      ]
     },
     "execution_count": 26,
     "metadata": {},
     "output_type": "execute_result"
    }
   ],
   "source": [
    "df.fillna(value=df['F'].mean())"
   ]
  },
  {
   "cell_type": "code",
   "execution_count": 27,
   "metadata": {},
   "outputs": [
    {
     "data": {
      "text/html": [
       "<div>\n",
       "<style scoped>\n",
       "    .dataframe tbody tr th:only-of-type {\n",
       "        vertical-align: middle;\n",
       "    }\n",
       "\n",
       "    .dataframe tbody tr th {\n",
       "        vertical-align: top;\n",
       "    }\n",
       "\n",
       "    .dataframe thead th {\n",
       "        text-align: right;\n",
       "    }\n",
       "</style>\n",
       "<table border=\"1\" class=\"dataframe\">\n",
       "  <thead>\n",
       "    <tr style=\"text-align: right;\">\n",
       "      <th></th>\n",
       "      <th>A</th>\n",
       "      <th>B</th>\n",
       "      <th>C</th>\n",
       "      <th>D</th>\n",
       "      <th>F</th>\n",
       "    </tr>\n",
       "  </thead>\n",
       "  <tbody>\n",
       "    <tr>\n",
       "      <td>2017-01-01</td>\n",
       "      <td>0.907015</td>\n",
       "      <td>0.230659</td>\n",
       "      <td>-0.114304</td>\n",
       "      <td>1.314934</td>\n",
       "      <td>0.0</td>\n",
       "    </tr>\n",
       "    <tr>\n",
       "      <td>2017-01-02</td>\n",
       "      <td>1.281871</td>\n",
       "      <td>0.507760</td>\n",
       "      <td>1.566460</td>\n",
       "      <td>0.068638</td>\n",
       "      <td>1.0</td>\n",
       "    </tr>\n",
       "    <tr>\n",
       "      <td>2017-01-03</td>\n",
       "      <td>0.241259</td>\n",
       "      <td>-0.044062</td>\n",
       "      <td>1.360712</td>\n",
       "      <td>0.794694</td>\n",
       "      <td>2.0</td>\n",
       "    </tr>\n",
       "    <tr>\n",
       "      <td>2017-01-04</td>\n",
       "      <td>-0.345477</td>\n",
       "      <td>0.164809</td>\n",
       "      <td>1.319772</td>\n",
       "      <td>0.539440</td>\n",
       "      <td>3.0</td>\n",
       "    </tr>\n",
       "    <tr>\n",
       "      <td>2017-01-05</td>\n",
       "      <td>0.772033</td>\n",
       "      <td>-0.024435</td>\n",
       "      <td>0.709798</td>\n",
       "      <td>1.068202</td>\n",
       "      <td>4.0</td>\n",
       "    </tr>\n",
       "    <tr>\n",
       "      <td>2017-01-06</td>\n",
       "      <td>1.336222</td>\n",
       "      <td>-0.387960</td>\n",
       "      <td>1.360179</td>\n",
       "      <td>0.157820</td>\n",
       "      <td>5.0</td>\n",
       "    </tr>\n",
       "  </tbody>\n",
       "</table>\n",
       "</div>"
      ],
      "text/plain": [
       "                   A         B         C         D    F\n",
       "2017-01-01  0.907015  0.230659 -0.114304  1.314934  0.0\n",
       "2017-01-02  1.281871  0.507760  1.566460  0.068638  1.0\n",
       "2017-01-03  0.241259 -0.044062  1.360712  0.794694  2.0\n",
       "2017-01-04 -0.345477  0.164809  1.319772  0.539440  3.0\n",
       "2017-01-05  0.772033 -0.024435  0.709798  1.068202  4.0\n",
       "2017-01-06  1.336222 -0.387960  1.360179  0.157820  5.0"
      ]
     },
     "execution_count": 27,
     "metadata": {},
     "output_type": "execute_result"
    }
   ],
   "source": [
    "# rellenar los valores que faltan\n",
    "df.fillna(value=0)"
   ]
  },
  {
   "cell_type": "code",
   "execution_count": 28,
   "metadata": {},
   "outputs": [
    {
     "data": {
      "text/html": [
       "<div>\n",
       "<style scoped>\n",
       "    .dataframe tbody tr th:only-of-type {\n",
       "        vertical-align: middle;\n",
       "    }\n",
       "\n",
       "    .dataframe tbody tr th {\n",
       "        vertical-align: top;\n",
       "    }\n",
       "\n",
       "    .dataframe thead th {\n",
       "        text-align: right;\n",
       "    }\n",
       "</style>\n",
       "<table border=\"1\" class=\"dataframe\">\n",
       "  <thead>\n",
       "    <tr style=\"text-align: right;\">\n",
       "      <th></th>\n",
       "      <th>A</th>\n",
       "      <th>B</th>\n",
       "      <th>C</th>\n",
       "      <th>D</th>\n",
       "      <th>F</th>\n",
       "    </tr>\n",
       "  </thead>\n",
       "  <tbody>\n",
       "    <tr>\n",
       "      <td>count</td>\n",
       "      <td>6.000000</td>\n",
       "      <td>6.000000</td>\n",
       "      <td>6.000000</td>\n",
       "      <td>6.000000</td>\n",
       "      <td>5.000000</td>\n",
       "    </tr>\n",
       "    <tr>\n",
       "      <td>mean</td>\n",
       "      <td>0.698820</td>\n",
       "      <td>0.074462</td>\n",
       "      <td>1.033769</td>\n",
       "      <td>0.657288</td>\n",
       "      <td>3.000000</td>\n",
       "    </tr>\n",
       "    <tr>\n",
       "      <td>std</td>\n",
       "      <td>0.647280</td>\n",
       "      <td>0.302645</td>\n",
       "      <td>0.632775</td>\n",
       "      <td>0.496003</td>\n",
       "      <td>1.581139</td>\n",
       "    </tr>\n",
       "    <tr>\n",
       "      <td>min</td>\n",
       "      <td>-0.345477</td>\n",
       "      <td>-0.387960</td>\n",
       "      <td>-0.114304</td>\n",
       "      <td>0.068638</td>\n",
       "      <td>1.000000</td>\n",
       "    </tr>\n",
       "    <tr>\n",
       "      <td>25%</td>\n",
       "      <td>0.373953</td>\n",
       "      <td>-0.039155</td>\n",
       "      <td>0.862291</td>\n",
       "      <td>0.253225</td>\n",
       "      <td>2.000000</td>\n",
       "    </tr>\n",
       "    <tr>\n",
       "      <td>50%</td>\n",
       "      <td>0.839524</td>\n",
       "      <td>0.070187</td>\n",
       "      <td>1.339975</td>\n",
       "      <td>0.667067</td>\n",
       "      <td>3.000000</td>\n",
       "    </tr>\n",
       "    <tr>\n",
       "      <td>75%</td>\n",
       "      <td>1.188157</td>\n",
       "      <td>0.214196</td>\n",
       "      <td>1.360579</td>\n",
       "      <td>0.999825</td>\n",
       "      <td>4.000000</td>\n",
       "    </tr>\n",
       "    <tr>\n",
       "      <td>max</td>\n",
       "      <td>1.336222</td>\n",
       "      <td>0.507760</td>\n",
       "      <td>1.566460</td>\n",
       "      <td>1.314934</td>\n",
       "      <td>5.000000</td>\n",
       "    </tr>\n",
       "  </tbody>\n",
       "</table>\n",
       "</div>"
      ],
      "text/plain": [
       "              A         B         C         D         F\n",
       "count  6.000000  6.000000  6.000000  6.000000  5.000000\n",
       "mean   0.698820  0.074462  1.033769  0.657288  3.000000\n",
       "std    0.647280  0.302645  0.632775  0.496003  1.581139\n",
       "min   -0.345477 -0.387960 -0.114304  0.068638  1.000000\n",
       "25%    0.373953 -0.039155  0.862291  0.253225  2.000000\n",
       "50%    0.839524  0.070187  1.339975  0.667067  3.000000\n",
       "75%    1.188157  0.214196  1.360579  0.999825  4.000000\n",
       "max    1.336222  0.507760  1.566460  1.314934  5.000000"
      ]
     },
     "execution_count": 28,
     "metadata": {},
     "output_type": "execute_result"
    }
   ],
   "source": [
    "# al igual que numpy, pandas tambien tiene implementadas funciones de estadistica descriptiva\n",
    "df.describe()"
   ]
  },
  {
   "cell_type": "code",
   "execution_count": 29,
   "metadata": {},
   "outputs": [
    {
     "data": {
      "text/plain": [
       "A    0.698820\n",
       "B    0.074462\n",
       "C    1.033769\n",
       "D    0.657288\n",
       "F    3.000000\n",
       "dtype: float64"
      ]
     },
     "execution_count": 29,
     "metadata": {},
     "output_type": "execute_result"
    }
   ],
   "source": [
    "# por columnas (axis = 0)\n",
    "df.mean()"
   ]
  },
  {
   "cell_type": "code",
   "execution_count": 30,
   "metadata": {},
   "outputs": [
    {
     "data": {
      "text/plain": [
       "2017-01-01    0.584576\n",
       "2017-01-02    0.884946\n",
       "2017-01-03    0.870521\n",
       "2017-01-04    0.935709\n",
       "2017-01-05    1.305119\n",
       "2017-01-06    1.493252\n",
       "Freq: D, dtype: float64"
      ]
     },
     "execution_count": 30,
     "metadata": {},
     "output_type": "execute_result"
    }
   ],
   "source": [
    "# por filas (axis = 1)\n",
    "df.mean(axis=1)"
   ]
  },
  {
   "cell_type": "markdown",
   "metadata": {},
   "source": [
    "Existen también métodos para el resto de funciones estadísticas como la varianza, mediana, percentiles, etc. La lista completa se puede ver en la documentación: https://pandas.pydata.org/pandas-docs/stable/generated/pandas.DataFrame.html"
   ]
  },
  {
   "cell_type": "code",
   "execution_count": 31,
   "metadata": {},
   "outputs": [
    {
     "name": "stdout",
     "output_type": "stream",
     "text": [
      "2017-01-01    NaN\n",
      "2017-01-02    3.0\n",
      "2017-01-03    5.0\n",
      "2017-01-04    7.0\n",
      "2017-01-05    9.0\n",
      "2017-01-06    NaN\n",
      "Freq: D, dtype: float64\n"
     ]
    },
    {
     "data": {
      "text/plain": [
       "2017-01-01    1.0\n",
       "2017-01-02    3.0\n",
       "2017-01-03    5.0\n",
       "2017-01-04    7.0\n",
       "2017-01-05    9.0\n",
       "2017-01-06    5.0\n",
       "Freq: D, dtype: float64"
      ]
     },
     "execution_count": 31,
     "metadata": {},
     "output_type": "execute_result"
    }
   ],
   "source": [
    "# cuando hacemos una operacion aritmetica entre dos series, primero se alinean los indices de las filas\n",
    "import pandas as pd\n",
    "s1 = pd.Series([1,2,3,4,5], index=pd.date_range('20170101', periods=5))\n",
    "s2 = pd.Series([1,2,3,4,5], index=pd.date_range('20170102', periods=5))\n",
    "\n",
    "print(s1 + s2)\n",
    "s1.add(s2, fill_value=0)"
   ]
  },
  {
   "cell_type": "code",
   "execution_count": 32,
   "metadata": {},
   "outputs": [
    {
     "name": "stdout",
     "output_type": "stream",
     "text": [
      "2017-01-01    NaN\n",
      "2017-01-02    3.0\n",
      "2017-01-03    5.0\n",
      "2017-01-04    7.0\n",
      "2017-01-05    9.0\n",
      "Freq: D, dtype: float64\n"
     ]
    },
    {
     "data": {
      "text/plain": [
       "2017-01-01    1.0\n",
       "2017-01-02    3.0\n",
       "2017-01-03    5.0\n",
       "2017-01-04    7.0\n",
       "2017-01-05    9.0\n",
       "Freq: D, dtype: float64"
      ]
     },
     "execution_count": 32,
     "metadata": {},
     "output_type": "execute_result"
    }
   ],
   "source": [
    "# cuando hacemos una operacion aritmetica entre dos series, primero se alinean los indices de las filas\n",
    "import pandas as pd\n",
    "s1 = pd.Series([1,2,3,4,5], index=pd.date_range('20170101', periods=5))\n",
    "s2 = pd.Series([1,2,3,4], index=pd.date_range('20170102', periods=4))\n",
    "\n",
    "print(s1 + s2)\n",
    "s1.add(s2, fill_value=0)"
   ]
  },
  {
   "cell_type": "code",
   "execution_count": 33,
   "metadata": {},
   "outputs": [
    {
     "name": "stdout",
     "output_type": "stream",
     "text": [
      "                   A         B         C         D    F\n",
      "2017-01-01  0.907015  0.230659 -0.114304  1.314934  NaN\n",
      "2017-01-02  1.281871  0.507760  1.566460  0.068638  1.0\n",
      "2017-01-03  0.241259 -0.044062  1.360712  0.794694  2.0\n",
      "2017-01-04 -0.345477  0.164809  1.319772  0.539440  3.0\n",
      "2017-01-05  0.772033 -0.024435  0.709798  1.068202  4.0\n",
      "2017-01-06  1.336222 -0.387960  1.360179  0.157820  5.0\n",
      "                   B         C\n",
      "2017-01-03 -0.044062  1.360712\n",
      "2017-01-04  0.164809  1.319772\n",
      "2017-01-05 -0.024435  0.709798\n"
     ]
    },
    {
     "data": {
      "text/html": [
       "<div>\n",
       "<style scoped>\n",
       "    .dataframe tbody tr th:only-of-type {\n",
       "        vertical-align: middle;\n",
       "    }\n",
       "\n",
       "    .dataframe tbody tr th {\n",
       "        vertical-align: top;\n",
       "    }\n",
       "\n",
       "    .dataframe thead th {\n",
       "        text-align: right;\n",
       "    }\n",
       "</style>\n",
       "<table border=\"1\" class=\"dataframe\">\n",
       "  <thead>\n",
       "    <tr style=\"text-align: right;\">\n",
       "      <th></th>\n",
       "      <th>A</th>\n",
       "      <th>B</th>\n",
       "      <th>C</th>\n",
       "      <th>D</th>\n",
       "      <th>F</th>\n",
       "    </tr>\n",
       "  </thead>\n",
       "  <tbody>\n",
       "    <tr>\n",
       "      <td>2017-01-01</td>\n",
       "      <td>NaN</td>\n",
       "      <td>NaN</td>\n",
       "      <td>NaN</td>\n",
       "      <td>NaN</td>\n",
       "      <td>NaN</td>\n",
       "    </tr>\n",
       "    <tr>\n",
       "      <td>2017-01-02</td>\n",
       "      <td>NaN</td>\n",
       "      <td>NaN</td>\n",
       "      <td>NaN</td>\n",
       "      <td>NaN</td>\n",
       "      <td>NaN</td>\n",
       "    </tr>\n",
       "    <tr>\n",
       "      <td>2017-01-03</td>\n",
       "      <td>NaN</td>\n",
       "      <td>-0.088123</td>\n",
       "      <td>2.721424</td>\n",
       "      <td>NaN</td>\n",
       "      <td>NaN</td>\n",
       "    </tr>\n",
       "    <tr>\n",
       "      <td>2017-01-04</td>\n",
       "      <td>NaN</td>\n",
       "      <td>0.329619</td>\n",
       "      <td>2.639543</td>\n",
       "      <td>NaN</td>\n",
       "      <td>NaN</td>\n",
       "    </tr>\n",
       "    <tr>\n",
       "      <td>2017-01-05</td>\n",
       "      <td>NaN</td>\n",
       "      <td>-0.048871</td>\n",
       "      <td>1.419596</td>\n",
       "      <td>NaN</td>\n",
       "      <td>NaN</td>\n",
       "    </tr>\n",
       "    <tr>\n",
       "      <td>2017-01-06</td>\n",
       "      <td>NaN</td>\n",
       "      <td>NaN</td>\n",
       "      <td>NaN</td>\n",
       "      <td>NaN</td>\n",
       "      <td>NaN</td>\n",
       "    </tr>\n",
       "  </tbody>\n",
       "</table>\n",
       "</div>"
      ],
      "text/plain": [
       "             A         B         C   D   F\n",
       "2017-01-01 NaN       NaN       NaN NaN NaN\n",
       "2017-01-02 NaN       NaN       NaN NaN NaN\n",
       "2017-01-03 NaN -0.088123  2.721424 NaN NaN\n",
       "2017-01-04 NaN  0.329619  2.639543 NaN NaN\n",
       "2017-01-05 NaN -0.048871  1.419596 NaN NaN\n",
       "2017-01-06 NaN       NaN       NaN NaN NaN"
      ]
     },
     "execution_count": 33,
     "metadata": {},
     "output_type": "execute_result"
    }
   ],
   "source": [
    "# lo mismo pasa con los DataFrames pero se alinean por filas y columnas\n",
    "df1 = df[['B', 'C']][2:5]\n",
    "print(df)\n",
    "print(df1)\n",
    "df + df1\n",
    "df.add(df1)"
   ]
  },
  {
   "cell_type": "code",
   "execution_count": 34,
   "metadata": {},
   "outputs": [
    {
     "data": {
      "text/plain": [
       "2017-01-01    1\n",
       "2017-01-02    2\n",
       "2017-01-03    3\n",
       "2017-01-04    4\n",
       "2017-01-05    5\n",
       "Freq: D, dtype: int64"
      ]
     },
     "execution_count": 34,
     "metadata": {},
     "output_type": "execute_result"
    }
   ],
   "source": [
    "# si operamos con una Serie y un DataFrame, los indices de la serie tienen que coincidir o bien con los \n",
    "# indices del DataFrame o bien con sus columnas\n",
    "s1"
   ]
  },
  {
   "cell_type": "code",
   "execution_count": 35,
   "metadata": {},
   "outputs": [
    {
     "data": {
      "text/html": [
       "<div>\n",
       "<style scoped>\n",
       "    .dataframe tbody tr th:only-of-type {\n",
       "        vertical-align: middle;\n",
       "    }\n",
       "\n",
       "    .dataframe tbody tr th {\n",
       "        vertical-align: top;\n",
       "    }\n",
       "\n",
       "    .dataframe thead th {\n",
       "        text-align: right;\n",
       "    }\n",
       "</style>\n",
       "<table border=\"1\" class=\"dataframe\">\n",
       "  <thead>\n",
       "    <tr style=\"text-align: right;\">\n",
       "      <th></th>\n",
       "      <th>A</th>\n",
       "      <th>B</th>\n",
       "      <th>C</th>\n",
       "      <th>D</th>\n",
       "      <th>F</th>\n",
       "    </tr>\n",
       "  </thead>\n",
       "  <tbody>\n",
       "    <tr>\n",
       "      <td>2017-01-01</td>\n",
       "      <td>0.907015</td>\n",
       "      <td>0.230659</td>\n",
       "      <td>-0.114304</td>\n",
       "      <td>1.314934</td>\n",
       "      <td>NaN</td>\n",
       "    </tr>\n",
       "    <tr>\n",
       "      <td>2017-01-02</td>\n",
       "      <td>1.281871</td>\n",
       "      <td>0.507760</td>\n",
       "      <td>1.566460</td>\n",
       "      <td>0.068638</td>\n",
       "      <td>1.0</td>\n",
       "    </tr>\n",
       "    <tr>\n",
       "      <td>2017-01-03</td>\n",
       "      <td>0.241259</td>\n",
       "      <td>-0.044062</td>\n",
       "      <td>1.360712</td>\n",
       "      <td>0.794694</td>\n",
       "      <td>2.0</td>\n",
       "    </tr>\n",
       "    <tr>\n",
       "      <td>2017-01-04</td>\n",
       "      <td>-0.345477</td>\n",
       "      <td>0.164809</td>\n",
       "      <td>1.319772</td>\n",
       "      <td>0.539440</td>\n",
       "      <td>3.0</td>\n",
       "    </tr>\n",
       "    <tr>\n",
       "      <td>2017-01-05</td>\n",
       "      <td>0.772033</td>\n",
       "      <td>-0.024435</td>\n",
       "      <td>0.709798</td>\n",
       "      <td>1.068202</td>\n",
       "      <td>4.0</td>\n",
       "    </tr>\n",
       "    <tr>\n",
       "      <td>2017-01-06</td>\n",
       "      <td>1.336222</td>\n",
       "      <td>-0.387960</td>\n",
       "      <td>1.360179</td>\n",
       "      <td>0.157820</td>\n",
       "      <td>5.0</td>\n",
       "    </tr>\n",
       "  </tbody>\n",
       "</table>\n",
       "</div>"
      ],
      "text/plain": [
       "                   A         B         C         D    F\n",
       "2017-01-01  0.907015  0.230659 -0.114304  1.314934  NaN\n",
       "2017-01-02  1.281871  0.507760  1.566460  0.068638  1.0\n",
       "2017-01-03  0.241259 -0.044062  1.360712  0.794694  2.0\n",
       "2017-01-04 -0.345477  0.164809  1.319772  0.539440  3.0\n",
       "2017-01-05  0.772033 -0.024435  0.709798  1.068202  4.0\n",
       "2017-01-06  1.336222 -0.387960  1.360179  0.157820  5.0"
      ]
     },
     "execution_count": 35,
     "metadata": {},
     "output_type": "execute_result"
    }
   ],
   "source": [
    "df"
   ]
  },
  {
   "cell_type": "code",
   "execution_count": 36,
   "metadata": {},
   "outputs": [
    {
     "data": {
      "text/html": [
       "<div>\n",
       "<style scoped>\n",
       "    .dataframe tbody tr th:only-of-type {\n",
       "        vertical-align: middle;\n",
       "    }\n",
       "\n",
       "    .dataframe tbody tr th {\n",
       "        vertical-align: top;\n",
       "    }\n",
       "\n",
       "    .dataframe thead th {\n",
       "        text-align: right;\n",
       "    }\n",
       "</style>\n",
       "<table border=\"1\" class=\"dataframe\">\n",
       "  <thead>\n",
       "    <tr style=\"text-align: right;\">\n",
       "      <th></th>\n",
       "      <th>A</th>\n",
       "      <th>B</th>\n",
       "      <th>C</th>\n",
       "      <th>D</th>\n",
       "      <th>F</th>\n",
       "    </tr>\n",
       "  </thead>\n",
       "  <tbody>\n",
       "    <tr>\n",
       "      <td>2017-01-01</td>\n",
       "      <td>1.907015</td>\n",
       "      <td>1.230659</td>\n",
       "      <td>0.885696</td>\n",
       "      <td>2.314934</td>\n",
       "      <td>NaN</td>\n",
       "    </tr>\n",
       "    <tr>\n",
       "      <td>2017-01-02</td>\n",
       "      <td>3.281871</td>\n",
       "      <td>2.507760</td>\n",
       "      <td>3.566460</td>\n",
       "      <td>2.068638</td>\n",
       "      <td>3.0</td>\n",
       "    </tr>\n",
       "    <tr>\n",
       "      <td>2017-01-03</td>\n",
       "      <td>3.241259</td>\n",
       "      <td>2.955938</td>\n",
       "      <td>4.360712</td>\n",
       "      <td>3.794694</td>\n",
       "      <td>5.0</td>\n",
       "    </tr>\n",
       "    <tr>\n",
       "      <td>2017-01-04</td>\n",
       "      <td>3.654523</td>\n",
       "      <td>4.164809</td>\n",
       "      <td>5.319772</td>\n",
       "      <td>4.539440</td>\n",
       "      <td>7.0</td>\n",
       "    </tr>\n",
       "    <tr>\n",
       "      <td>2017-01-05</td>\n",
       "      <td>5.772033</td>\n",
       "      <td>4.975565</td>\n",
       "      <td>5.709798</td>\n",
       "      <td>6.068202</td>\n",
       "      <td>9.0</td>\n",
       "    </tr>\n",
       "    <tr>\n",
       "      <td>2017-01-06</td>\n",
       "      <td>NaN</td>\n",
       "      <td>NaN</td>\n",
       "      <td>NaN</td>\n",
       "      <td>NaN</td>\n",
       "      <td>NaN</td>\n",
       "    </tr>\n",
       "  </tbody>\n",
       "</table>\n",
       "</div>"
      ],
      "text/plain": [
       "                   A         B         C         D    F\n",
       "2017-01-01  1.907015  1.230659  0.885696  2.314934  NaN\n",
       "2017-01-02  3.281871  2.507760  3.566460  2.068638  3.0\n",
       "2017-01-03  3.241259  2.955938  4.360712  3.794694  5.0\n",
       "2017-01-04  3.654523  4.164809  5.319772  4.539440  7.0\n",
       "2017-01-05  5.772033  4.975565  5.709798  6.068202  9.0\n",
       "2017-01-06       NaN       NaN       NaN       NaN  NaN"
      ]
     },
     "execution_count": 36,
     "metadata": {},
     "output_type": "execute_result"
    }
   ],
   "source": [
    "df.add(s1, axis=0)"
   ]
  },
  {
   "cell_type": "code",
   "execution_count": 37,
   "metadata": {},
   "outputs": [
    {
     "name": "stdout",
     "output_type": "stream",
     "text": [
      "                   A         B         C         D    F\n",
      "2017-01-01  0.907015  0.230659 -0.114304  1.314934  NaN\n",
      "2017-01-02  1.281871  0.507760  1.566460  0.068638  1.0\n",
      "2017-01-03  0.241259 -0.044062  1.360712  0.794694  2.0\n",
      "2017-01-04 -0.345477  0.164809  1.319772  0.539440  3.0\n",
      "2017-01-05  0.772033 -0.024435  0.709798  1.068202  4.0\n",
      "2017-01-06  1.336222 -0.387960  1.360179  0.157820  5.0\n"
     ]
    },
    {
     "data": {
      "text/html": [
       "<div>\n",
       "<style scoped>\n",
       "    .dataframe tbody tr th:only-of-type {\n",
       "        vertical-align: middle;\n",
       "    }\n",
       "\n",
       "    .dataframe tbody tr th {\n",
       "        vertical-align: top;\n",
       "    }\n",
       "\n",
       "    .dataframe thead th {\n",
       "        text-align: right;\n",
       "    }\n",
       "</style>\n",
       "<table border=\"1\" class=\"dataframe\">\n",
       "  <thead>\n",
       "    <tr style=\"text-align: right;\">\n",
       "      <th></th>\n",
       "      <th>A</th>\n",
       "      <th>B</th>\n",
       "      <th>C</th>\n",
       "      <th>D</th>\n",
       "      <th>F</th>\n",
       "    </tr>\n",
       "  </thead>\n",
       "  <tbody>\n",
       "    <tr>\n",
       "      <td>2017-01-01</td>\n",
       "      <td>1.907015</td>\n",
       "      <td>2.230659</td>\n",
       "      <td>2.885696</td>\n",
       "      <td>5.314934</td>\n",
       "      <td>NaN</td>\n",
       "    </tr>\n",
       "    <tr>\n",
       "      <td>2017-01-02</td>\n",
       "      <td>2.281871</td>\n",
       "      <td>2.507760</td>\n",
       "      <td>4.566460</td>\n",
       "      <td>4.068638</td>\n",
       "      <td>6.0</td>\n",
       "    </tr>\n",
       "    <tr>\n",
       "      <td>2017-01-03</td>\n",
       "      <td>1.241259</td>\n",
       "      <td>1.955938</td>\n",
       "      <td>4.360712</td>\n",
       "      <td>4.794694</td>\n",
       "      <td>7.0</td>\n",
       "    </tr>\n",
       "    <tr>\n",
       "      <td>2017-01-04</td>\n",
       "      <td>0.654523</td>\n",
       "      <td>2.164809</td>\n",
       "      <td>4.319772</td>\n",
       "      <td>4.539440</td>\n",
       "      <td>8.0</td>\n",
       "    </tr>\n",
       "    <tr>\n",
       "      <td>2017-01-05</td>\n",
       "      <td>1.772033</td>\n",
       "      <td>1.975565</td>\n",
       "      <td>3.709798</td>\n",
       "      <td>5.068202</td>\n",
       "      <td>9.0</td>\n",
       "    </tr>\n",
       "    <tr>\n",
       "      <td>2017-01-06</td>\n",
       "      <td>2.336222</td>\n",
       "      <td>1.612040</td>\n",
       "      <td>4.360179</td>\n",
       "      <td>4.157820</td>\n",
       "      <td>10.0</td>\n",
       "    </tr>\n",
       "  </tbody>\n",
       "</table>\n",
       "</div>"
      ],
      "text/plain": [
       "                   A         B         C         D     F\n",
       "2017-01-01  1.907015  2.230659  2.885696  5.314934   NaN\n",
       "2017-01-02  2.281871  2.507760  4.566460  4.068638   6.0\n",
       "2017-01-03  1.241259  1.955938  4.360712  4.794694   7.0\n",
       "2017-01-04  0.654523  2.164809  4.319772  4.539440   8.0\n",
       "2017-01-05  1.772033  1.975565  3.709798  5.068202   9.0\n",
       "2017-01-06  2.336222  1.612040  4.360179  4.157820  10.0"
      ]
     },
     "execution_count": 37,
     "metadata": {},
     "output_type": "execute_result"
    }
   ],
   "source": [
    "s2 = pd.Series([1, 2, 3, 4, 5], list('ABCDF'))\n",
    "print(df)\n",
    "df.add(s2, axis=1)"
   ]
  },
  {
   "cell_type": "markdown",
   "metadata": {},
   "source": [
    "Existen también métodos `.mult()`, `.div()` y `.sub()` para multiplicar, dividir y restar `DataFrames` y `Series`. Los operadores aritméticos también funcionan pero son menos flexibles (no se puede especificar el eje)."
   ]
  },
  {
   "cell_type": "markdown",
   "metadata": {},
   "source": [
    "##### Lectura de ficheros\n",
    "\n",
    "Al igual que Numpy, Pandas proporciona funciones para importar datos desde diversas fuentes a un `DataFrame`. La funciones principales son `read_csv()` y `read_table()`.\n",
    "\n",
    "Lista completa: http://pandas.pydata.org/pandas-docs/version/0.20/io.html"
   ]
  },
  {
   "cell_type": "markdown",
   "metadata": {},
   "source": [
    "Datos del número de bicicletas en la ciudad de Montreal\n",
    "\n",
    "Fuente: http://donnees.ville.montreal.qc.ca/dataset/velos-comptage"
   ]
  },
  {
   "cell_type": "code",
   "execution_count": null,
   "metadata": {},
   "outputs": [],
   "source": [
    "import pandas as pd\n",
    "bikes = pd.read_csv('../data/bikes2016.csv', index_col='Date', parse_dates=['Date'], dayfirst=True)\n",
    "bikes[:3]"
   ]
  },
  {
   "cell_type": "code",
   "execution_count": null,
   "metadata": {},
   "outputs": [],
   "source": [
    "bikes.drop(columns=['Timestamp'])"
   ]
  },
  {
   "cell_type": "markdown",
   "metadata": {},
   "source": [
    "#### Trabajando con texto y fechas\n",
    "\n",
    "Los objetos de tipo Series y los de tipo Index contienen métodos para procesar de forma vectorial datos de tipo `str`. La mayoría tiene la misma funcionalidad que en el caso de las cadenas de caracteres de Python pero realizan la operación de forma vectorizada para todos los elementos de la serie.\n",
    "\n",
    "Referencia: http://pandas.pydata.org/pandas-docs/stable/text.html#text-string-methods    \n",
    "Lista completa: http://pandas.pydata.org/pandas-docs/stable/text.html#method-summary\n",
    "\n",
    "Pandas también proporciona mucha funcionalidad para trabajar con fechas, crear rangos, modificar la frecuencia, etc.\n",
    "\n",
    "Referencia: http://pandas.pydata.org/pandas-docs/stable/timeseries.html#time-date-components    \n",
    "Lista de componentes de una fecha: http://pandas.pydata.org/pandas-docs/stable/timeseries.html#time-date-components"
   ]
  },
  {
   "cell_type": "code",
   "execution_count": 81,
   "metadata": {},
   "outputs": [
    {
     "data": {
      "text/html": [
       "<div>\n",
       "<style scoped>\n",
       "    .dataframe tbody tr th:only-of-type {\n",
       "        vertical-align: middle;\n",
       "    }\n",
       "\n",
       "    .dataframe tbody tr th {\n",
       "        vertical-align: top;\n",
       "    }\n",
       "\n",
       "    .dataframe thead th {\n",
       "        text-align: right;\n",
       "    }\n",
       "</style>\n",
       "<table border=\"1\" class=\"dataframe\">\n",
       "  <thead>\n",
       "    <tr style=\"text-align: right;\">\n",
       "      <th></th>\n",
       "      <th>Date/Time</th>\n",
       "      <th>Temp (C)</th>\n",
       "      <th>Dew Point Temp (C)</th>\n",
       "      <th>Rel Hum (%)</th>\n",
       "      <th>Wind Spd (km/h)</th>\n",
       "      <th>Visibility (km)</th>\n",
       "      <th>Stn Press (kPa)</th>\n",
       "      <th>Weather</th>\n",
       "    </tr>\n",
       "  </thead>\n",
       "  <tbody>\n",
       "    <tr>\n",
       "      <td>0</td>\n",
       "      <td>2012-01-01 00:00:00</td>\n",
       "      <td>-1.8</td>\n",
       "      <td>-3.9</td>\n",
       "      <td>86</td>\n",
       "      <td>4</td>\n",
       "      <td>8.0</td>\n",
       "      <td>101.24</td>\n",
       "      <td>Fog</td>\n",
       "    </tr>\n",
       "    <tr>\n",
       "      <td>1</td>\n",
       "      <td>2012-01-01 01:00:00</td>\n",
       "      <td>-1.8</td>\n",
       "      <td>-3.7</td>\n",
       "      <td>87</td>\n",
       "      <td>4</td>\n",
       "      <td>8.0</td>\n",
       "      <td>101.24</td>\n",
       "      <td>Fog</td>\n",
       "    </tr>\n",
       "    <tr>\n",
       "      <td>2</td>\n",
       "      <td>2012-01-01 02:00:00</td>\n",
       "      <td>-1.8</td>\n",
       "      <td>-3.4</td>\n",
       "      <td>89</td>\n",
       "      <td>7</td>\n",
       "      <td>4.0</td>\n",
       "      <td>101.26</td>\n",
       "      <td>Freezing Drizzle,Fog</td>\n",
       "    </tr>\n",
       "    <tr>\n",
       "      <td>3</td>\n",
       "      <td>2012-01-01 03:00:00</td>\n",
       "      <td>-1.5</td>\n",
       "      <td>-3.2</td>\n",
       "      <td>88</td>\n",
       "      <td>6</td>\n",
       "      <td>4.0</td>\n",
       "      <td>101.27</td>\n",
       "      <td>Freezing Drizzle,Fog</td>\n",
       "    </tr>\n",
       "    <tr>\n",
       "      <td>4</td>\n",
       "      <td>2012-01-01 04:00:00</td>\n",
       "      <td>-1.5</td>\n",
       "      <td>-3.3</td>\n",
       "      <td>88</td>\n",
       "      <td>7</td>\n",
       "      <td>4.8</td>\n",
       "      <td>101.23</td>\n",
       "      <td>Fog</td>\n",
       "    </tr>\n",
       "  </tbody>\n",
       "</table>\n",
       "</div>"
      ],
      "text/plain": [
       "            Date/Time  Temp (C)  Dew Point Temp (C)  Rel Hum (%)  \\\n",
       "0 2012-01-01 00:00:00      -1.8                -3.9           86   \n",
       "1 2012-01-01 01:00:00      -1.8                -3.7           87   \n",
       "2 2012-01-01 02:00:00      -1.8                -3.4           89   \n",
       "3 2012-01-01 03:00:00      -1.5                -3.2           88   \n",
       "4 2012-01-01 04:00:00      -1.5                -3.3           88   \n",
       "\n",
       "   Wind Spd (km/h)  Visibility (km)  Stn Press (kPa)               Weather  \n",
       "0                4              8.0           101.24                   Fog  \n",
       "1                4              8.0           101.24                   Fog  \n",
       "2                7              4.0           101.26  Freezing Drizzle,Fog  \n",
       "3                6              4.0           101.27  Freezing Drizzle,Fog  \n",
       "4                7              4.8           101.23                   Fog  "
      ]
     },
     "execution_count": 81,
     "metadata": {},
     "output_type": "execute_result"
    }
   ],
   "source": [
    "weather = pd.read_csv('../data/weather_2012.csv', parse_dates=[0])\n",
    "weather.head()"
   ]
  },
  {
   "cell_type": "code",
   "execution_count": 63,
   "metadata": {},
   "outputs": [
    {
     "data": {
      "text/plain": [
       "Date/Time             datetime64[ns]\n",
       "Temp (C)                     float64\n",
       "Dew Point Temp (C)           float64\n",
       "Rel Hum (%)                    int64\n",
       "Wind Spd (km/h)                int64\n",
       "Visibility (km)              float64\n",
       "Stn Press (kPa)              float64\n",
       "Weather                       object\n",
       "dtype: object"
      ]
     },
     "execution_count": 63,
     "metadata": {},
     "output_type": "execute_result"
    }
   ],
   "source": [
    "weather.dtypes"
   ]
  },
  {
   "cell_type": "code",
   "execution_count": 66,
   "metadata": {},
   "outputs": [
    {
     "data": {
      "text/html": [
       "<div>\n",
       "<style scoped>\n",
       "    .dataframe tbody tr th:only-of-type {\n",
       "        vertical-align: middle;\n",
       "    }\n",
       "\n",
       "    .dataframe tbody tr th {\n",
       "        vertical-align: top;\n",
       "    }\n",
       "\n",
       "    .dataframe thead th {\n",
       "        text-align: right;\n",
       "    }\n",
       "</style>\n",
       "<table border=\"1\" class=\"dataframe\">\n",
       "  <thead>\n",
       "    <tr style=\"text-align: right;\">\n",
       "      <th></th>\n",
       "      <th>0</th>\n",
       "      <th>1</th>\n",
       "      <th>2</th>\n",
       "    </tr>\n",
       "  </thead>\n",
       "  <tbody>\n",
       "    <tr>\n",
       "      <td>0</td>\n",
       "      <td>Fog</td>\n",
       "      <td>None</td>\n",
       "      <td>None</td>\n",
       "    </tr>\n",
       "    <tr>\n",
       "      <td>1</td>\n",
       "      <td>Fog</td>\n",
       "      <td>None</td>\n",
       "      <td>None</td>\n",
       "    </tr>\n",
       "    <tr>\n",
       "      <td>2</td>\n",
       "      <td>Freezing Drizzle</td>\n",
       "      <td>Fog</td>\n",
       "      <td>None</td>\n",
       "    </tr>\n",
       "    <tr>\n",
       "      <td>3</td>\n",
       "      <td>Freezing Drizzle</td>\n",
       "      <td>Fog</td>\n",
       "      <td>None</td>\n",
       "    </tr>\n",
       "    <tr>\n",
       "      <td>4</td>\n",
       "      <td>Fog</td>\n",
       "      <td>None</td>\n",
       "      <td>None</td>\n",
       "    </tr>\n",
       "    <tr>\n",
       "      <td>...</td>\n",
       "      <td>...</td>\n",
       "      <td>...</td>\n",
       "      <td>...</td>\n",
       "    </tr>\n",
       "    <tr>\n",
       "      <td>8779</td>\n",
       "      <td>Snow</td>\n",
       "      <td>None</td>\n",
       "      <td>None</td>\n",
       "    </tr>\n",
       "    <tr>\n",
       "      <td>8780</td>\n",
       "      <td>Snow</td>\n",
       "      <td>None</td>\n",
       "      <td>None</td>\n",
       "    </tr>\n",
       "    <tr>\n",
       "      <td>8781</td>\n",
       "      <td>Snow</td>\n",
       "      <td>None</td>\n",
       "      <td>None</td>\n",
       "    </tr>\n",
       "    <tr>\n",
       "      <td>8782</td>\n",
       "      <td>Snow</td>\n",
       "      <td>None</td>\n",
       "      <td>None</td>\n",
       "    </tr>\n",
       "    <tr>\n",
       "      <td>8783</td>\n",
       "      <td>Snow</td>\n",
       "      <td>None</td>\n",
       "      <td>None</td>\n",
       "    </tr>\n",
       "  </tbody>\n",
       "</table>\n",
       "<p>8784 rows × 3 columns</p>\n",
       "</div>"
      ],
      "text/plain": [
       "                     0     1     2\n",
       "0                  Fog  None  None\n",
       "1                  Fog  None  None\n",
       "2     Freezing Drizzle   Fog  None\n",
       "3     Freezing Drizzle   Fog  None\n",
       "4                  Fog  None  None\n",
       "...                ...   ...   ...\n",
       "8779              Snow  None  None\n",
       "8780              Snow  None  None\n",
       "8781              Snow  None  None\n",
       "8782              Snow  None  None\n",
       "8783              Snow  None  None\n",
       "\n",
       "[8784 rows x 3 columns]"
      ]
     },
     "execution_count": 66,
     "metadata": {},
     "output_type": "execute_result"
    }
   ],
   "source": [
    "weather['Weather'].str.split(\",\", expand = True)"
   ]
  },
  {
   "cell_type": "code",
   "execution_count": 67,
   "metadata": {},
   "outputs": [
    {
     "data": {
      "text/html": [
       "<div>\n",
       "<style scoped>\n",
       "    .dataframe tbody tr th:only-of-type {\n",
       "        vertical-align: middle;\n",
       "    }\n",
       "\n",
       "    .dataframe tbody tr th {\n",
       "        vertical-align: top;\n",
       "    }\n",
       "\n",
       "    .dataframe thead th {\n",
       "        text-align: right;\n",
       "    }\n",
       "</style>\n",
       "<table border=\"1\" class=\"dataframe\">\n",
       "  <thead>\n",
       "    <tr style=\"text-align: right;\">\n",
       "      <th></th>\n",
       "      <th>Date/Time</th>\n",
       "      <th>Temp (C)</th>\n",
       "      <th>Dew Point Temp (C)</th>\n",
       "      <th>Rel Hum (%)</th>\n",
       "      <th>Wind Spd (km/h)</th>\n",
       "      <th>Visibility (km)</th>\n",
       "      <th>Stn Press (kPa)</th>\n",
       "      <th>Weather</th>\n",
       "    </tr>\n",
       "  </thead>\n",
       "  <tbody>\n",
       "    <tr>\n",
       "      <td>count</td>\n",
       "      <td>8784</td>\n",
       "      <td>8784.000000</td>\n",
       "      <td>8784.000000</td>\n",
       "      <td>8784.000000</td>\n",
       "      <td>8784.000000</td>\n",
       "      <td>8784.000000</td>\n",
       "      <td>8784.000000</td>\n",
       "      <td>8784</td>\n",
       "    </tr>\n",
       "    <tr>\n",
       "      <td>unique</td>\n",
       "      <td>8784</td>\n",
       "      <td>NaN</td>\n",
       "      <td>NaN</td>\n",
       "      <td>NaN</td>\n",
       "      <td>NaN</td>\n",
       "      <td>NaN</td>\n",
       "      <td>NaN</td>\n",
       "      <td>50</td>\n",
       "    </tr>\n",
       "    <tr>\n",
       "      <td>top</td>\n",
       "      <td>2012-01-03 16:00:00</td>\n",
       "      <td>NaN</td>\n",
       "      <td>NaN</td>\n",
       "      <td>NaN</td>\n",
       "      <td>NaN</td>\n",
       "      <td>NaN</td>\n",
       "      <td>NaN</td>\n",
       "      <td>Mainly Clear</td>\n",
       "    </tr>\n",
       "    <tr>\n",
       "      <td>freq</td>\n",
       "      <td>1</td>\n",
       "      <td>NaN</td>\n",
       "      <td>NaN</td>\n",
       "      <td>NaN</td>\n",
       "      <td>NaN</td>\n",
       "      <td>NaN</td>\n",
       "      <td>NaN</td>\n",
       "      <td>2106</td>\n",
       "    </tr>\n",
       "    <tr>\n",
       "      <td>first</td>\n",
       "      <td>2012-01-01 00:00:00</td>\n",
       "      <td>NaN</td>\n",
       "      <td>NaN</td>\n",
       "      <td>NaN</td>\n",
       "      <td>NaN</td>\n",
       "      <td>NaN</td>\n",
       "      <td>NaN</td>\n",
       "      <td>NaN</td>\n",
       "    </tr>\n",
       "    <tr>\n",
       "      <td>last</td>\n",
       "      <td>2012-12-31 23:00:00</td>\n",
       "      <td>NaN</td>\n",
       "      <td>NaN</td>\n",
       "      <td>NaN</td>\n",
       "      <td>NaN</td>\n",
       "      <td>NaN</td>\n",
       "      <td>NaN</td>\n",
       "      <td>NaN</td>\n",
       "    </tr>\n",
       "    <tr>\n",
       "      <td>mean</td>\n",
       "      <td>NaN</td>\n",
       "      <td>8.798144</td>\n",
       "      <td>2.555294</td>\n",
       "      <td>67.431694</td>\n",
       "      <td>14.945469</td>\n",
       "      <td>27.664447</td>\n",
       "      <td>101.051623</td>\n",
       "      <td>NaN</td>\n",
       "    </tr>\n",
       "    <tr>\n",
       "      <td>std</td>\n",
       "      <td>NaN</td>\n",
       "      <td>11.687883</td>\n",
       "      <td>10.883072</td>\n",
       "      <td>16.918881</td>\n",
       "      <td>8.688696</td>\n",
       "      <td>12.622688</td>\n",
       "      <td>0.844005</td>\n",
       "      <td>NaN</td>\n",
       "    </tr>\n",
       "    <tr>\n",
       "      <td>min</td>\n",
       "      <td>NaN</td>\n",
       "      <td>-23.300000</td>\n",
       "      <td>-28.500000</td>\n",
       "      <td>18.000000</td>\n",
       "      <td>0.000000</td>\n",
       "      <td>0.200000</td>\n",
       "      <td>97.520000</td>\n",
       "      <td>NaN</td>\n",
       "    </tr>\n",
       "    <tr>\n",
       "      <td>25%</td>\n",
       "      <td>NaN</td>\n",
       "      <td>0.100000</td>\n",
       "      <td>-5.900000</td>\n",
       "      <td>56.000000</td>\n",
       "      <td>9.000000</td>\n",
       "      <td>24.100000</td>\n",
       "      <td>100.560000</td>\n",
       "      <td>NaN</td>\n",
       "    </tr>\n",
       "    <tr>\n",
       "      <td>50%</td>\n",
       "      <td>NaN</td>\n",
       "      <td>9.300000</td>\n",
       "      <td>3.300000</td>\n",
       "      <td>68.000000</td>\n",
       "      <td>13.000000</td>\n",
       "      <td>25.000000</td>\n",
       "      <td>101.070000</td>\n",
       "      <td>NaN</td>\n",
       "    </tr>\n",
       "    <tr>\n",
       "      <td>75%</td>\n",
       "      <td>NaN</td>\n",
       "      <td>18.800000</td>\n",
       "      <td>11.800000</td>\n",
       "      <td>81.000000</td>\n",
       "      <td>20.000000</td>\n",
       "      <td>25.000000</td>\n",
       "      <td>101.590000</td>\n",
       "      <td>NaN</td>\n",
       "    </tr>\n",
       "    <tr>\n",
       "      <td>max</td>\n",
       "      <td>NaN</td>\n",
       "      <td>33.000000</td>\n",
       "      <td>24.400000</td>\n",
       "      <td>100.000000</td>\n",
       "      <td>83.000000</td>\n",
       "      <td>48.300000</td>\n",
       "      <td>103.650000</td>\n",
       "      <td>NaN</td>\n",
       "    </tr>\n",
       "  </tbody>\n",
       "</table>\n",
       "</div>"
      ],
      "text/plain": [
       "                  Date/Time     Temp (C)  Dew Point Temp (C)  Rel Hum (%)  \\\n",
       "count                  8784  8784.000000         8784.000000  8784.000000   \n",
       "unique                 8784          NaN                 NaN          NaN   \n",
       "top     2012-01-03 16:00:00          NaN                 NaN          NaN   \n",
       "freq                      1          NaN                 NaN          NaN   \n",
       "first   2012-01-01 00:00:00          NaN                 NaN          NaN   \n",
       "last    2012-12-31 23:00:00          NaN                 NaN          NaN   \n",
       "mean                    NaN     8.798144            2.555294    67.431694   \n",
       "std                     NaN    11.687883           10.883072    16.918881   \n",
       "min                     NaN   -23.300000          -28.500000    18.000000   \n",
       "25%                     NaN     0.100000           -5.900000    56.000000   \n",
       "50%                     NaN     9.300000            3.300000    68.000000   \n",
       "75%                     NaN    18.800000           11.800000    81.000000   \n",
       "max                     NaN    33.000000           24.400000   100.000000   \n",
       "\n",
       "        Wind Spd (km/h)  Visibility (km)  Stn Press (kPa)       Weather  \n",
       "count       8784.000000      8784.000000      8784.000000          8784  \n",
       "unique              NaN              NaN              NaN            50  \n",
       "top                 NaN              NaN              NaN  Mainly Clear  \n",
       "freq                NaN              NaN              NaN          2106  \n",
       "first               NaN              NaN              NaN           NaN  \n",
       "last                NaN              NaN              NaN           NaN  \n",
       "mean          14.945469        27.664447       101.051623           NaN  \n",
       "std            8.688696        12.622688         0.844005           NaN  \n",
       "min            0.000000         0.200000        97.520000           NaN  \n",
       "25%            9.000000        24.100000       100.560000           NaN  \n",
       "50%           13.000000        25.000000       101.070000           NaN  \n",
       "75%           20.000000        25.000000       101.590000           NaN  \n",
       "max           83.000000        48.300000       103.650000           NaN  "
      ]
     },
     "execution_count": 67,
     "metadata": {},
     "output_type": "execute_result"
    }
   ],
   "source": [
    "weather.describe(include=\"all\")"
   ]
  },
  {
   "cell_type": "code",
   "execution_count": 49,
   "metadata": {},
   "outputs": [
    {
     "data": {
      "text/plain": [
       "array(['Fog', 'Freezing Drizzle,Fog', 'Mostly Cloudy', 'Cloudy', 'Rain',\n",
       "       'Rain Showers', 'Mainly Clear', 'Snow Showers', 'Snow', 'Clear',\n",
       "       'Freezing Rain,Fog', 'Freezing Rain', 'Freezing Drizzle',\n",
       "       'Rain,Snow', 'Moderate Snow', 'Freezing Drizzle,Snow',\n",
       "       'Freezing Rain,Snow Grains', 'Snow,Blowing Snow', 'Freezing Fog',\n",
       "       'Haze', 'Rain,Fog', 'Drizzle,Fog', 'Drizzle',\n",
       "       'Freezing Drizzle,Haze', 'Freezing Rain,Haze', 'Snow,Haze',\n",
       "       'Snow,Fog', 'Snow,Ice Pellets', 'Rain,Haze', 'Thunderstorms,Rain',\n",
       "       'Thunderstorms,Rain Showers', 'Thunderstorms,Heavy Rain Showers',\n",
       "       'Thunderstorms,Rain Showers,Fog', 'Thunderstorms',\n",
       "       'Thunderstorms,Rain,Fog',\n",
       "       'Thunderstorms,Moderate Rain Showers,Fog', 'Rain Showers,Fog',\n",
       "       'Rain Showers,Snow Showers', 'Snow Pellets', 'Rain,Snow,Fog',\n",
       "       'Moderate Rain,Fog', 'Freezing Rain,Ice Pellets,Fog',\n",
       "       'Drizzle,Ice Pellets,Fog', 'Drizzle,Snow', 'Rain,Ice Pellets',\n",
       "       'Drizzle,Snow,Fog', 'Rain,Snow Grains', 'Rain,Snow,Ice Pellets',\n",
       "       'Snow Showers,Fog', 'Moderate Snow,Blowing Snow'], dtype=object)"
      ]
     },
     "execution_count": 49,
     "metadata": {},
     "output_type": "execute_result"
    }
   ],
   "source": [
    "weather['Weather'].unique()"
   ]
  },
  {
   "cell_type": "code",
   "execution_count": 68,
   "metadata": {},
   "outputs": [],
   "source": [
    "nieve = weather['Weather'].str.contains('Snow')"
   ]
  },
  {
   "cell_type": "code",
   "execution_count": 70,
   "metadata": {},
   "outputs": [
    {
     "data": {
      "text/plain": [
       "583"
      ]
     },
     "execution_count": 70,
     "metadata": {},
     "output_type": "execute_result"
    }
   ],
   "source": [
    "nieve.sum()"
   ]
  },
  {
   "cell_type": "code",
   "execution_count": 51,
   "metadata": {},
   "outputs": [
    {
     "data": {
      "text/plain": [
       "Snow                          390\n",
       "Snow Showers                   60\n",
       "Snow,Fog                       37\n",
       "Snow,Blowing Snow              19\n",
       "Rain,Snow                      18\n",
       "Drizzle,Snow,Fog               15\n",
       "Freezing Drizzle,Snow          11\n",
       "Snow,Ice Pellets                6\n",
       "Snow,Haze                       5\n",
       "Rain,Snow,Ice Pellets           4\n",
       "Snow Showers,Fog                4\n",
       "Moderate Snow                   4\n",
       "Drizzle,Snow                    2\n",
       "Rain Showers,Snow Showers       2\n",
       "Moderate Snow,Blowing Snow      2\n",
       "Snow Pellets                    1\n",
       "Rain,Snow Grains                1\n",
       "Freezing Rain,Snow Grains       1\n",
       "Rain,Snow,Fog                   1\n",
       "Name: Weather, dtype: int64"
      ]
     },
     "execution_count": 51,
     "metadata": {},
     "output_type": "execute_result"
    }
   ],
   "source": [
    "weather.loc[nieve, 'Weather'].value_counts()"
   ]
  },
  {
   "cell_type": "code",
   "execution_count": 73,
   "metadata": {},
   "outputs": [
    {
     "data": {
      "text/plain": [
       "23    366\n",
       "15    366\n",
       "8     366\n",
       "16    366\n",
       "1     366\n",
       "9     366\n",
       "17    366\n",
       "2     366\n",
       "10    366\n",
       "18    366\n",
       "3     366\n",
       "11    366\n",
       "19    366\n",
       "4     366\n",
       "12    366\n",
       "20    366\n",
       "5     366\n",
       "13    366\n",
       "21    366\n",
       "6     366\n",
       "14    366\n",
       "22    366\n",
       "7     366\n",
       "0     366\n",
       "Name: Date/Time, dtype: int64"
      ]
     },
     "execution_count": 73,
     "metadata": {},
     "output_type": "execute_result"
    }
   ],
   "source": [
    "weather['Date/Time'].dt.hour.value_counts()"
   ]
  },
  {
   "cell_type": "code",
   "execution_count": 75,
   "metadata": {},
   "outputs": [
    {
     "data": {
      "text/html": [
       "<div>\n",
       "<style scoped>\n",
       "    .dataframe tbody tr th:only-of-type {\n",
       "        vertical-align: middle;\n",
       "    }\n",
       "\n",
       "    .dataframe tbody tr th {\n",
       "        vertical-align: top;\n",
       "    }\n",
       "\n",
       "    .dataframe thead th {\n",
       "        text-align: right;\n",
       "    }\n",
       "</style>\n",
       "<table border=\"1\" class=\"dataframe\">\n",
       "  <thead>\n",
       "    <tr style=\"text-align: right;\">\n",
       "      <th></th>\n",
       "      <th>Date/Time</th>\n",
       "      <th>Temp (C)</th>\n",
       "      <th>Dew Point Temp (C)</th>\n",
       "      <th>Rel Hum (%)</th>\n",
       "      <th>Wind Spd (km/h)</th>\n",
       "      <th>Visibility (km)</th>\n",
       "      <th>Stn Press (kPa)</th>\n",
       "      <th>Weather</th>\n",
       "    </tr>\n",
       "  </thead>\n",
       "  <tbody>\n",
       "    <tr>\n",
       "      <td>0</td>\n",
       "      <td>2012-01-01 00:00:00</td>\n",
       "      <td>-1.8</td>\n",
       "      <td>-3.9</td>\n",
       "      <td>86</td>\n",
       "      <td>4</td>\n",
       "      <td>8.0</td>\n",
       "      <td>101.24</td>\n",
       "      <td>Fog</td>\n",
       "    </tr>\n",
       "    <tr>\n",
       "      <td>1</td>\n",
       "      <td>2012-01-01 01:00:00</td>\n",
       "      <td>-1.8</td>\n",
       "      <td>-3.7</td>\n",
       "      <td>87</td>\n",
       "      <td>4</td>\n",
       "      <td>8.0</td>\n",
       "      <td>101.24</td>\n",
       "      <td>Fog</td>\n",
       "    </tr>\n",
       "    <tr>\n",
       "      <td>2</td>\n",
       "      <td>2012-01-01 02:00:00</td>\n",
       "      <td>-1.8</td>\n",
       "      <td>-3.4</td>\n",
       "      <td>89</td>\n",
       "      <td>7</td>\n",
       "      <td>4.0</td>\n",
       "      <td>101.26</td>\n",
       "      <td>Freezing Drizzle,Fog</td>\n",
       "    </tr>\n",
       "    <tr>\n",
       "      <td>3</td>\n",
       "      <td>2012-01-01 03:00:00</td>\n",
       "      <td>-1.5</td>\n",
       "      <td>-3.2</td>\n",
       "      <td>88</td>\n",
       "      <td>6</td>\n",
       "      <td>4.0</td>\n",
       "      <td>101.27</td>\n",
       "      <td>Freezing Drizzle,Fog</td>\n",
       "    </tr>\n",
       "    <tr>\n",
       "      <td>4</td>\n",
       "      <td>2012-01-01 04:00:00</td>\n",
       "      <td>-1.5</td>\n",
       "      <td>-3.3</td>\n",
       "      <td>88</td>\n",
       "      <td>7</td>\n",
       "      <td>4.8</td>\n",
       "      <td>101.23</td>\n",
       "      <td>Fog</td>\n",
       "    </tr>\n",
       "  </tbody>\n",
       "</table>\n",
       "</div>"
      ],
      "text/plain": [
       "            Date/Time  Temp (C)  Dew Point Temp (C)  Rel Hum (%)  \\\n",
       "0 2012-01-01 00:00:00      -1.8                -3.9           86   \n",
       "1 2012-01-01 01:00:00      -1.8                -3.7           87   \n",
       "2 2012-01-01 02:00:00      -1.8                -3.4           89   \n",
       "3 2012-01-01 03:00:00      -1.5                -3.2           88   \n",
       "4 2012-01-01 04:00:00      -1.5                -3.3           88   \n",
       "\n",
       "   Wind Spd (km/h)  Visibility (km)  Stn Press (kPa)               Weather  \n",
       "0                4              8.0           101.24                   Fog  \n",
       "1                4              8.0           101.24                   Fog  \n",
       "2                7              4.0           101.26  Freezing Drizzle,Fog  \n",
       "3                6              4.0           101.27  Freezing Drizzle,Fog  \n",
       "4                7              4.8           101.23                   Fog  "
      ]
     },
     "execution_count": 75,
     "metadata": {},
     "output_type": "execute_result"
    }
   ],
   "source": [
    "weather.head()"
   ]
  },
  {
   "cell_type": "code",
   "execution_count": 82,
   "metadata": {},
   "outputs": [],
   "source": [
    "weather.set_index('Date/Time', inplace=True)"
   ]
  },
  {
   "cell_type": "code",
   "execution_count": 85,
   "metadata": {},
   "outputs": [
    {
     "data": {
      "text/html": [
       "<div>\n",
       "<style scoped>\n",
       "    .dataframe tbody tr th:only-of-type {\n",
       "        vertical-align: middle;\n",
       "    }\n",
       "\n",
       "    .dataframe tbody tr th {\n",
       "        vertical-align: top;\n",
       "    }\n",
       "\n",
       "    .dataframe thead th {\n",
       "        text-align: right;\n",
       "    }\n",
       "</style>\n",
       "<table border=\"1\" class=\"dataframe\">\n",
       "  <thead>\n",
       "    <tr style=\"text-align: right;\">\n",
       "      <th></th>\n",
       "      <th>Date/Time</th>\n",
       "      <th>Temp (C)</th>\n",
       "      <th>Dew Point Temp (C)</th>\n",
       "      <th>Rel Hum (%)</th>\n",
       "      <th>Wind Spd (km/h)</th>\n",
       "      <th>Visibility (km)</th>\n",
       "      <th>Stn Press (kPa)</th>\n",
       "      <th>Weather</th>\n",
       "    </tr>\n",
       "  </thead>\n",
       "  <tbody>\n",
       "    <tr>\n",
       "      <td>0</td>\n",
       "      <td>2012-01-01 00:00:00</td>\n",
       "      <td>-1.8</td>\n",
       "      <td>-3.9</td>\n",
       "      <td>86</td>\n",
       "      <td>4</td>\n",
       "      <td>8.0</td>\n",
       "      <td>101.24</td>\n",
       "      <td>Fog</td>\n",
       "    </tr>\n",
       "    <tr>\n",
       "      <td>1</td>\n",
       "      <td>2012-01-01 01:00:00</td>\n",
       "      <td>-1.8</td>\n",
       "      <td>-3.7</td>\n",
       "      <td>87</td>\n",
       "      <td>4</td>\n",
       "      <td>8.0</td>\n",
       "      <td>101.24</td>\n",
       "      <td>Fog</td>\n",
       "    </tr>\n",
       "    <tr>\n",
       "      <td>2</td>\n",
       "      <td>2012-01-01 02:00:00</td>\n",
       "      <td>-1.8</td>\n",
       "      <td>-3.4</td>\n",
       "      <td>89</td>\n",
       "      <td>7</td>\n",
       "      <td>4.0</td>\n",
       "      <td>101.26</td>\n",
       "      <td>Freezing Drizzle,Fog</td>\n",
       "    </tr>\n",
       "    <tr>\n",
       "      <td>3</td>\n",
       "      <td>2012-01-01 03:00:00</td>\n",
       "      <td>-1.5</td>\n",
       "      <td>-3.2</td>\n",
       "      <td>88</td>\n",
       "      <td>6</td>\n",
       "      <td>4.0</td>\n",
       "      <td>101.27</td>\n",
       "      <td>Freezing Drizzle,Fog</td>\n",
       "    </tr>\n",
       "    <tr>\n",
       "      <td>4</td>\n",
       "      <td>2012-01-01 04:00:00</td>\n",
       "      <td>-1.5</td>\n",
       "      <td>-3.3</td>\n",
       "      <td>88</td>\n",
       "      <td>7</td>\n",
       "      <td>4.8</td>\n",
       "      <td>101.23</td>\n",
       "      <td>Fog</td>\n",
       "    </tr>\n",
       "    <tr>\n",
       "      <td>...</td>\n",
       "      <td>...</td>\n",
       "      <td>...</td>\n",
       "      <td>...</td>\n",
       "      <td>...</td>\n",
       "      <td>...</td>\n",
       "      <td>...</td>\n",
       "      <td>...</td>\n",
       "      <td>...</td>\n",
       "    </tr>\n",
       "    <tr>\n",
       "      <td>8779</td>\n",
       "      <td>2012-12-31 19:00:00</td>\n",
       "      <td>0.1</td>\n",
       "      <td>-2.7</td>\n",
       "      <td>81</td>\n",
       "      <td>30</td>\n",
       "      <td>9.7</td>\n",
       "      <td>100.13</td>\n",
       "      <td>Snow</td>\n",
       "    </tr>\n",
       "    <tr>\n",
       "      <td>8780</td>\n",
       "      <td>2012-12-31 20:00:00</td>\n",
       "      <td>0.2</td>\n",
       "      <td>-2.4</td>\n",
       "      <td>83</td>\n",
       "      <td>24</td>\n",
       "      <td>9.7</td>\n",
       "      <td>100.03</td>\n",
       "      <td>Snow</td>\n",
       "    </tr>\n",
       "    <tr>\n",
       "      <td>8781</td>\n",
       "      <td>2012-12-31 21:00:00</td>\n",
       "      <td>-0.5</td>\n",
       "      <td>-1.5</td>\n",
       "      <td>93</td>\n",
       "      <td>28</td>\n",
       "      <td>4.8</td>\n",
       "      <td>99.95</td>\n",
       "      <td>Snow</td>\n",
       "    </tr>\n",
       "    <tr>\n",
       "      <td>8782</td>\n",
       "      <td>2012-12-31 22:00:00</td>\n",
       "      <td>-0.2</td>\n",
       "      <td>-1.8</td>\n",
       "      <td>89</td>\n",
       "      <td>28</td>\n",
       "      <td>9.7</td>\n",
       "      <td>99.91</td>\n",
       "      <td>Snow</td>\n",
       "    </tr>\n",
       "    <tr>\n",
       "      <td>8783</td>\n",
       "      <td>2012-12-31 23:00:00</td>\n",
       "      <td>0.0</td>\n",
       "      <td>-2.1</td>\n",
       "      <td>86</td>\n",
       "      <td>30</td>\n",
       "      <td>11.3</td>\n",
       "      <td>99.89</td>\n",
       "      <td>Snow</td>\n",
       "    </tr>\n",
       "  </tbody>\n",
       "</table>\n",
       "<p>8784 rows × 8 columns</p>\n",
       "</div>"
      ],
      "text/plain": [
       "               Date/Time  Temp (C)  Dew Point Temp (C)  Rel Hum (%)  \\\n",
       "0    2012-01-01 00:00:00      -1.8                -3.9           86   \n",
       "1    2012-01-01 01:00:00      -1.8                -3.7           87   \n",
       "2    2012-01-01 02:00:00      -1.8                -3.4           89   \n",
       "3    2012-01-01 03:00:00      -1.5                -3.2           88   \n",
       "4    2012-01-01 04:00:00      -1.5                -3.3           88   \n",
       "...                  ...       ...                 ...          ...   \n",
       "8779 2012-12-31 19:00:00       0.1                -2.7           81   \n",
       "8780 2012-12-31 20:00:00       0.2                -2.4           83   \n",
       "8781 2012-12-31 21:00:00      -0.5                -1.5           93   \n",
       "8782 2012-12-31 22:00:00      -0.2                -1.8           89   \n",
       "8783 2012-12-31 23:00:00       0.0                -2.1           86   \n",
       "\n",
       "      Wind Spd (km/h)  Visibility (km)  Stn Press (kPa)               Weather  \n",
       "0                   4              8.0           101.24                   Fog  \n",
       "1                   4              8.0           101.24                   Fog  \n",
       "2                   7              4.0           101.26  Freezing Drizzle,Fog  \n",
       "3                   6              4.0           101.27  Freezing Drizzle,Fog  \n",
       "4                   7              4.8           101.23                   Fog  \n",
       "...               ...              ...              ...                   ...  \n",
       "8779               30              9.7           100.13                  Snow  \n",
       "8780               24              9.7           100.03                  Snow  \n",
       "8781               28              4.8            99.95                  Snow  \n",
       "8782               28              9.7            99.91                  Snow  \n",
       "8783               30             11.3            99.89                  Snow  \n",
       "\n",
       "[8784 rows x 8 columns]"
      ]
     },
     "execution_count": 85,
     "metadata": {},
     "output_type": "execute_result"
    }
   ],
   "source": [
    "weather.reset_index()"
   ]
  },
  {
   "cell_type": "code",
   "execution_count": 88,
   "metadata": {},
   "outputs": [
    {
     "data": {
      "text/html": [
       "<div>\n",
       "<style scoped>\n",
       "    .dataframe tbody tr th:only-of-type {\n",
       "        vertical-align: middle;\n",
       "    }\n",
       "\n",
       "    .dataframe tbody tr th {\n",
       "        vertical-align: top;\n",
       "    }\n",
       "\n",
       "    .dataframe thead th {\n",
       "        text-align: right;\n",
       "    }\n",
       "</style>\n",
       "<table border=\"1\" class=\"dataframe\">\n",
       "  <thead>\n",
       "    <tr style=\"text-align: right;\">\n",
       "      <th></th>\n",
       "      <th>Temp (C)</th>\n",
       "      <th>Dew Point Temp (C)</th>\n",
       "      <th>Rel Hum (%)</th>\n",
       "      <th>Wind Spd (km/h)</th>\n",
       "      <th>Visibility (km)</th>\n",
       "      <th>Stn Press (kPa)</th>\n",
       "      <th>Weather</th>\n",
       "    </tr>\n",
       "    <tr>\n",
       "      <th>Date/Time</th>\n",
       "      <th></th>\n",
       "      <th></th>\n",
       "      <th></th>\n",
       "      <th></th>\n",
       "      <th></th>\n",
       "      <th></th>\n",
       "      <th></th>\n",
       "    </tr>\n",
       "  </thead>\n",
       "  <tbody>\n",
       "    <tr>\n",
       "      <td>2012-01-01 00:00:00</td>\n",
       "      <td>-1.8</td>\n",
       "      <td>-3.9</td>\n",
       "      <td>86</td>\n",
       "      <td>4</td>\n",
       "      <td>8.0</td>\n",
       "      <td>101.24</td>\n",
       "      <td>Fog</td>\n",
       "    </tr>\n",
       "    <tr>\n",
       "      <td>2012-01-01 01:00:00</td>\n",
       "      <td>-1.8</td>\n",
       "      <td>-3.7</td>\n",
       "      <td>87</td>\n",
       "      <td>4</td>\n",
       "      <td>8.0</td>\n",
       "      <td>101.24</td>\n",
       "      <td>Fog</td>\n",
       "    </tr>\n",
       "    <tr>\n",
       "      <td>2012-01-01 02:00:00</td>\n",
       "      <td>-1.8</td>\n",
       "      <td>-3.4</td>\n",
       "      <td>89</td>\n",
       "      <td>7</td>\n",
       "      <td>4.0</td>\n",
       "      <td>101.26</td>\n",
       "      <td>Freezing Drizzle,Fog</td>\n",
       "    </tr>\n",
       "    <tr>\n",
       "      <td>2012-01-01 03:00:00</td>\n",
       "      <td>-1.5</td>\n",
       "      <td>-3.2</td>\n",
       "      <td>88</td>\n",
       "      <td>6</td>\n",
       "      <td>4.0</td>\n",
       "      <td>101.27</td>\n",
       "      <td>Freezing Drizzle,Fog</td>\n",
       "    </tr>\n",
       "    <tr>\n",
       "      <td>2012-01-01 04:00:00</td>\n",
       "      <td>-1.5</td>\n",
       "      <td>-3.3</td>\n",
       "      <td>88</td>\n",
       "      <td>7</td>\n",
       "      <td>4.8</td>\n",
       "      <td>101.23</td>\n",
       "      <td>Fog</td>\n",
       "    </tr>\n",
       "  </tbody>\n",
       "</table>\n",
       "</div>"
      ],
      "text/plain": [
       "                     Temp (C)  Dew Point Temp (C)  Rel Hum (%)  \\\n",
       "Date/Time                                                        \n",
       "2012-01-01 00:00:00      -1.8                -3.9           86   \n",
       "2012-01-01 01:00:00      -1.8                -3.7           87   \n",
       "2012-01-01 02:00:00      -1.8                -3.4           89   \n",
       "2012-01-01 03:00:00      -1.5                -3.2           88   \n",
       "2012-01-01 04:00:00      -1.5                -3.3           88   \n",
       "\n",
       "                     Wind Spd (km/h)  Visibility (km)  Stn Press (kPa)  \\\n",
       "Date/Time                                                                \n",
       "2012-01-01 00:00:00                4              8.0           101.24   \n",
       "2012-01-01 01:00:00                4              8.0           101.24   \n",
       "2012-01-01 02:00:00                7              4.0           101.26   \n",
       "2012-01-01 03:00:00                6              4.0           101.27   \n",
       "2012-01-01 04:00:00                7              4.8           101.23   \n",
       "\n",
       "                                  Weather  \n",
       "Date/Time                                  \n",
       "2012-01-01 00:00:00                   Fog  \n",
       "2012-01-01 01:00:00                   Fog  \n",
       "2012-01-01 02:00:00  Freezing Drizzle,Fog  \n",
       "2012-01-01 03:00:00  Freezing Drizzle,Fog  \n",
       "2012-01-01 04:00:00                   Fog  "
      ]
     },
     "execution_count": 88,
     "metadata": {},
     "output_type": "execute_result"
    }
   ],
   "source": [
    "weather.head()"
   ]
  },
  {
   "cell_type": "code",
   "execution_count": 89,
   "metadata": {},
   "outputs": [
    {
     "data": {
      "text/plain": [
       "Date/Time\n",
       "2012-01-31    -7.05\n",
       "2012-02-29    -4.10\n",
       "2012-03-31     2.60\n",
       "2012-04-30     6.30\n",
       "2012-05-31    16.05\n",
       "2012-06-30    19.60\n",
       "2012-07-31    22.90\n",
       "2012-08-31    22.20\n",
       "2012-09-30    16.10\n",
       "2012-10-31    11.30\n",
       "2012-11-30     1.05\n",
       "2012-12-31    -2.85\n",
       "Freq: M, Name: Temp (C), dtype: float64"
      ]
     },
     "execution_count": 89,
     "metadata": {},
     "output_type": "execute_result"
    }
   ],
   "source": [
    "tmp = weather['Temp (C)'].resample('M').median()\n",
    "tmp"
   ]
  },
  {
   "cell_type": "markdown",
   "metadata": {},
   "source": [
    "#### Ejercicio titanic"
   ]
  },
  {
   "cell_type": "markdown",
   "metadata": {},
   "source": [
    "##### Visualización\n",
    "\n",
    "Los objetos de tipo `DataFrame` tiene un método `.plot()` que hace muy sencillo representar gráficamente sus contenidos. Por defecto hace una gráfica con todas las columnas que tienen etiqueta del `DataFrame`.\n",
    "\n",
    "Más información: https://pandas.pydata.org/pandas-docs/stable/visualization.html"
   ]
  },
  {
   "cell_type": "code",
   "execution_count": 55,
   "metadata": {},
   "outputs": [
    {
     "data": {
      "text/plain": [
       "<matplotlib.axes._subplots.AxesSubplot at 0x7f913af4dfd0>"
      ]
     },
     "execution_count": 55,
     "metadata": {},
     "output_type": "execute_result"
    },
    {
     "data": {
      "image/png": "[encoded data removed]",
      "text/plain": [
       "<Figure size 432x288 with 1 Axes>"
      ]
     },
     "metadata": {
      "needs_background": "light"
     },
     "output_type": "display_data"
    }
   ],
   "source": [
    "import matplotlib.pyplot as plt\n",
    "%matplotlib inline\n",
    "\n",
    "tmp.plot(kind='bar')"
   ]
  },
  {
   "cell_type": "code",
   "execution_count": 56,
   "metadata": {},
   "outputs": [
    {
     "data": {
      "text/plain": [
       "<matplotlib.axes._subplots.AxesSubplot at 0x7f914fa80e50>"
      ]
     },
     "execution_count": 56,
     "metadata": {},
     "output_type": "execute_result"
    },
    {
     "data": {
      "image/png": "[encoded data removed]",
      "text/plain": [
       "<Figure size 432x288 with 1 Axes>"
      ]
     },
     "metadata": {
      "needs_background": "light"
     },
     "output_type": "display_data"
    }
   ],
   "source": [
    "bikes['Berri1'].plot()"
   ]
  },
  {
   "cell_type": "code",
   "execution_count": 100,
   "metadata": {},
   "outputs": [
    {
     "data": {
      "text/plain": [
       "Berri1                          988595.0\n",
       "Boyer                           737419.0\n",
       "Brébeuf                         896210.0\n",
       "CSC (Côte Sainte-Catherine)     465906.0\n",
       "Maisonneuve_2                  1173342.0\n",
       "Maisonneuve_3                   365220.0\n",
       "Notre-Dame                      380477.0\n",
       "Parc                            627132.0\n",
       "PierDup                         367346.0\n",
       "Pont_Jacques_Cartier            494156.0\n",
       "Rachel / Hôtel de Ville         515635.0\n",
       "Rachel / Papineau               810789.0\n",
       "René-Lévesque                   505378.0\n",
       "Saint-Antoine                   119318.0\n",
       "Saint-Urbain                    378158.0\n",
       "Totem_Laurier                   759342.0\n",
       "University                      660420.0\n",
       "Viger                           101807.0\n",
       "Month                             2384.0\n",
       "dtype: float64"
      ]
     },
     "execution_count": 100,
     "metadata": {},
     "output_type": "execute_result"
    }
   ],
   "source": [
    "bikes.sum()"
   ]
  },
  {
   "cell_type": "code",
   "execution_count": 57,
   "metadata": {},
   "outputs": [
    {
     "data": {
      "text/plain": [
       "<matplotlib.axes._subplots.AxesSubplot at 0x7f914f7fa1d0>"
      ]
     },
     "execution_count": 57,
     "metadata": {},
     "output_type": "execute_result"
    },
    {
     "data": {
      "image/png": "[encoded data removed]",
      "text/plain": [
       "<Figure size 432x288 with 1 Axes>"
      ]
     },
     "metadata": {
      "needs_background": "light"
     },
     "output_type": "display_data"
    }
   ],
   "source": [
    "bikes.sum().plot(kind='bar')"
   ]
  },
  {
   "cell_type": "code",
   "execution_count": 58,
   "metadata": {},
   "outputs": [
    {
     "data": {
      "text/plain": [
       "<matplotlib.axes._subplots.AxesSubplot at 0x7f914fa8bdd0>"
      ]
     },
     "execution_count": 58,
     "metadata": {},
     "output_type": "execute_result"
    },
    {
     "data": {
      "image/png": "[encoded data removed]",
      "text/plain": [
       "<Figure size 432x288 with 1 Axes>"
      ]
     },
     "metadata": {
      "needs_background": "light"
     },
     "output_type": "display_data"
    }
   ],
   "source": [
    "bikes.plot()"
   ]
  },
  {
   "cell_type": "code",
   "execution_count": 59,
   "metadata": {},
   "outputs": [
    {
     "data": {
      "text/plain": [
       "<matplotlib.axes._subplots.AxesSubplot at 0x7f914f6f6a10>"
      ]
     },
     "execution_count": 59,
     "metadata": {},
     "output_type": "execute_result"
    },
    {
     "data": {
      "image/png": "[encoded data removed]",
      "text/plain": [
       "<Figure size 1080x720 with 1 Axes>"
      ]
     },
     "metadata": {
      "needs_background": "light"
     },
     "output_type": "display_data"
    }
   ],
   "source": [
    "bikes.iloc[:, :7].plot(figsize=(15, 10))"
   ]
  },
  {
   "cell_type": "markdown",
   "metadata": {},
   "source": [
    "Datos con las llamadas al 311 en la ciudad de Nueva York durante el 2011\n",
    "\n",
    "Fuente: https://data.cityofnewyork.us/dataset/311-Service-Requests-From-2011/fpz8-jqf4"
   ]
  },
  {
   "cell_type": "code",
   "execution_count": 99,
   "metadata": {
    "scrolled": false
   },
   "outputs": [
    {
     "name": "stderr",
     "output_type": "stream",
     "text": [
      "/home/alberto/anaconda3/lib/python3.7/site-packages/IPython/core/interactiveshell.py:3058: DtypeWarning: Columns (17,29,32,33,34,35) have mixed types. Specify dtype option on import or set low_memory=False.\n",
      "  interactivity=interactivity, compiler=compiler, result=result)\n"
     ]
    },
    {
     "data": {
      "text/html": [
       "<div>\n",
       "<style scoped>\n",
       "    .dataframe tbody tr th:only-of-type {\n",
       "        vertical-align: middle;\n",
       "    }\n",
       "\n",
       "    .dataframe tbody tr th {\n",
       "        vertical-align: top;\n",
       "    }\n",
       "\n",
       "    .dataframe thead th {\n",
       "        text-align: right;\n",
       "    }\n",
       "</style>\n",
       "<table border=\"1\" class=\"dataframe\">\n",
       "  <thead>\n",
       "    <tr style=\"text-align: right;\">\n",
       "      <th></th>\n",
       "      <th>Unique Key</th>\n",
       "      <th>Created Date</th>\n",
       "      <th>Closed Date</th>\n",
       "      <th>Agency</th>\n",
       "      <th>Agency Name</th>\n",
       "      <th>Complaint Type</th>\n",
       "      <th>Descriptor</th>\n",
       "      <th>Location Type</th>\n",
       "      <th>Incident Zip</th>\n",
       "      <th>Incident Address</th>\n",
       "      <th>...</th>\n",
       "      <th>Vehicle Type</th>\n",
       "      <th>Taxi Company Borough</th>\n",
       "      <th>Taxi Pick Up Location</th>\n",
       "      <th>Bridge Highway Name</th>\n",
       "      <th>Bridge Highway Direction</th>\n",
       "      <th>Road Ramp</th>\n",
       "      <th>Bridge Highway Segment</th>\n",
       "      <th>Latitude</th>\n",
       "      <th>Longitude</th>\n",
       "      <th>Location</th>\n",
       "    </tr>\n",
       "  </thead>\n",
       "  <tbody>\n",
       "    <tr>\n",
       "      <td>0</td>\n",
       "      <td>45486238</td>\n",
       "      <td>01/27/2020 09:36:00 AM</td>\n",
       "      <td>NaN</td>\n",
       "      <td>DEP</td>\n",
       "      <td>Department of Environmental Protection</td>\n",
       "      <td>Water Quality</td>\n",
       "      <td>Taste/Odor, Chlorine (QA1)</td>\n",
       "      <td>NaN</td>\n",
       "      <td>10003.0</td>\n",
       "      <td>335 EAST    5 STREET</td>\n",
       "      <td>...</td>\n",
       "      <td>NaN</td>\n",
       "      <td>NaN</td>\n",
       "      <td>NaN</td>\n",
       "      <td>NaN</td>\n",
       "      <td>NaN</td>\n",
       "      <td>NaN</td>\n",
       "      <td>NaN</td>\n",
       "      <td>40.726392</td>\n",
       "      <td>-73.988043</td>\n",
       "      <td>(40.72639211582395, -73.98804348469741)</td>\n",
       "    </tr>\n",
       "    <tr>\n",
       "      <td>1</td>\n",
       "      <td>45486354</td>\n",
       "      <td>01/27/2020 08:19:08 PM</td>\n",
       "      <td>01/27/2020 11:17:00 PM</td>\n",
       "      <td>NYPD</td>\n",
       "      <td>New York City Police Department</td>\n",
       "      <td>Noise - Residential</td>\n",
       "      <td>Loud Music/Party</td>\n",
       "      <td>NaN</td>\n",
       "      <td>10009.0</td>\n",
       "      <td>400 EAST   12 STREET</td>\n",
       "      <td>...</td>\n",
       "      <td>NaN</td>\n",
       "      <td>NaN</td>\n",
       "      <td>NaN</td>\n",
       "      <td>NaN</td>\n",
       "      <td>NaN</td>\n",
       "      <td>NaN</td>\n",
       "      <td>NaN</td>\n",
       "      <td>40.729971</td>\n",
       "      <td>-73.983471</td>\n",
       "      <td>(40.72997071226904, -73.98347141273716)</td>\n",
       "    </tr>\n",
       "    <tr>\n",
       "      <td>2</td>\n",
       "      <td>45488038</td>\n",
       "      <td>01/27/2020 02:43:15 PM</td>\n",
       "      <td>01/27/2020 06:44:24 PM</td>\n",
       "      <td>NYPD</td>\n",
       "      <td>New York City Police Department</td>\n",
       "      <td>Noise - Street/Sidewalk</td>\n",
       "      <td>Loud Talking</td>\n",
       "      <td>Street/Sidewalk</td>\n",
       "      <td>10003.0</td>\n",
       "      <td>47 SECOND AVENUE</td>\n",
       "      <td>...</td>\n",
       "      <td>NaN</td>\n",
       "      <td>NaN</td>\n",
       "      <td>NaN</td>\n",
       "      <td>NaN</td>\n",
       "      <td>NaN</td>\n",
       "      <td>NaN</td>\n",
       "      <td>NaN</td>\n",
       "      <td>40.725399</td>\n",
       "      <td>-73.990010</td>\n",
       "      <td>(40.72539870121316, -73.99000992838972)</td>\n",
       "    </tr>\n",
       "    <tr>\n",
       "      <td>3</td>\n",
       "      <td>45483549</td>\n",
       "      <td>01/27/2020 10:50:00 PM</td>\n",
       "      <td>NaN</td>\n",
       "      <td>DOE</td>\n",
       "      <td>Department of Education</td>\n",
       "      <td>School Maintenance</td>\n",
       "      <td>Unclean Condition</td>\n",
       "      <td>NaN</td>\n",
       "      <td>10002.0</td>\n",
       "      <td>293 EAST BROADWAY</td>\n",
       "      <td>...</td>\n",
       "      <td>NaN</td>\n",
       "      <td>NaN</td>\n",
       "      <td>NaN</td>\n",
       "      <td>NaN</td>\n",
       "      <td>NaN</td>\n",
       "      <td>NaN</td>\n",
       "      <td>NaN</td>\n",
       "      <td>40.714570</td>\n",
       "      <td>-73.983724</td>\n",
       "      <td>(40.71456990934003, -73.98372413141455)</td>\n",
       "    </tr>\n",
       "    <tr>\n",
       "      <td>4</td>\n",
       "      <td>45486665</td>\n",
       "      <td>01/27/2020 10:52:53 PM</td>\n",
       "      <td>NaN</td>\n",
       "      <td>DOHMH</td>\n",
       "      <td>Department of Health and Mental Hygiene</td>\n",
       "      <td>Rodent</td>\n",
       "      <td>Rat Sighting</td>\n",
       "      <td>1-2 Family Dwelling</td>\n",
       "      <td>10002.0</td>\n",
       "      <td>157 BROOME STREET</td>\n",
       "      <td>...</td>\n",
       "      <td>NaN</td>\n",
       "      <td>NaN</td>\n",
       "      <td>NaN</td>\n",
       "      <td>NaN</td>\n",
       "      <td>NaN</td>\n",
       "      <td>NaN</td>\n",
       "      <td>NaN</td>\n",
       "      <td>40.716607</td>\n",
       "      <td>-73.985271</td>\n",
       "      <td>(40.716606730161864, -73.98527118746058)</td>\n",
       "    </tr>\n",
       "    <tr>\n",
       "      <td>...</td>\n",
       "      <td>...</td>\n",
       "      <td>...</td>\n",
       "      <td>...</td>\n",
       "      <td>...</td>\n",
       "      <td>...</td>\n",
       "      <td>...</td>\n",
       "      <td>...</td>\n",
       "      <td>...</td>\n",
       "      <td>...</td>\n",
       "      <td>...</td>\n",
       "      <td>...</td>\n",
       "      <td>...</td>\n",
       "      <td>...</td>\n",
       "      <td>...</td>\n",
       "      <td>...</td>\n",
       "      <td>...</td>\n",
       "      <td>...</td>\n",
       "      <td>...</td>\n",
       "      <td>...</td>\n",
       "      <td>...</td>\n",
       "      <td>...</td>\n",
       "    </tr>\n",
       "    <tr>\n",
       "      <td>255805</td>\n",
       "      <td>44063203</td>\n",
       "      <td>10/15/2019 03:29:09 AM</td>\n",
       "      <td>10/15/2019 05:54:28 AM</td>\n",
       "      <td>NYPD</td>\n",
       "      <td>New York City Police Department</td>\n",
       "      <td>Noise - Street/Sidewalk</td>\n",
       "      <td>Loud Talking</td>\n",
       "      <td>Street/Sidewalk</td>\n",
       "      <td>10002.0</td>\n",
       "      <td>32 HENRY STREET</td>\n",
       "      <td>...</td>\n",
       "      <td>NaN</td>\n",
       "      <td>NaN</td>\n",
       "      <td>NaN</td>\n",
       "      <td>NaN</td>\n",
       "      <td>NaN</td>\n",
       "      <td>NaN</td>\n",
       "      <td>NaN</td>\n",
       "      <td>40.712880</td>\n",
       "      <td>-73.996050</td>\n",
       "      <td>(40.71288021907557, -73.99605017193778)</td>\n",
       "    </tr>\n",
       "    <tr>\n",
       "      <td>255806</td>\n",
       "      <td>44063314</td>\n",
       "      <td>10/15/2019 07:09:30 PM</td>\n",
       "      <td>10/16/2019 03:34:11 PM</td>\n",
       "      <td>TLC</td>\n",
       "      <td>Taxi and Limousine Commission</td>\n",
       "      <td>Lost Property</td>\n",
       "      <td>Bag/Wallet</td>\n",
       "      <td>NaN</td>\n",
       "      <td>10002.0</td>\n",
       "      <td>205 EAST HOUSTON STREET</td>\n",
       "      <td>...</td>\n",
       "      <td>NaN</td>\n",
       "      <td>NaN</td>\n",
       "      <td>205 EAST HOUSTON STREET, MANHATTAN (NEW YORK),...</td>\n",
       "      <td>NaN</td>\n",
       "      <td>NaN</td>\n",
       "      <td>NaN</td>\n",
       "      <td>NaN</td>\n",
       "      <td>40.722511</td>\n",
       "      <td>-73.987301</td>\n",
       "      <td>(40.72251094922887, -73.98730100093874)</td>\n",
       "    </tr>\n",
       "    <tr>\n",
       "      <td>255807</td>\n",
       "      <td>44063720</td>\n",
       "      <td>10/15/2019 01:21:38 PM</td>\n",
       "      <td>10/15/2019 07:45:07 PM</td>\n",
       "      <td>NYPD</td>\n",
       "      <td>New York City Police Department</td>\n",
       "      <td>Illegal Parking</td>\n",
       "      <td>Double Parked Blocking Traffic</td>\n",
       "      <td>Street/Sidewalk</td>\n",
       "      <td>10002.0</td>\n",
       "      <td>106 MADISON STREET</td>\n",
       "      <td>...</td>\n",
       "      <td>NaN</td>\n",
       "      <td>NaN</td>\n",
       "      <td>NaN</td>\n",
       "      <td>NaN</td>\n",
       "      <td>NaN</td>\n",
       "      <td>NaN</td>\n",
       "      <td>NaN</td>\n",
       "      <td>40.712219</td>\n",
       "      <td>-73.995267</td>\n",
       "      <td>(40.71221870195438, -73.99526746759064)</td>\n",
       "    </tr>\n",
       "    <tr>\n",
       "      <td>255808</td>\n",
       "      <td>44063737</td>\n",
       "      <td>10/15/2019 11:29:01 AM</td>\n",
       "      <td>10/15/2019 09:19:45 PM</td>\n",
       "      <td>HPD</td>\n",
       "      <td>Department of Housing Preservation and Develop...</td>\n",
       "      <td>PAINT/PLASTER</td>\n",
       "      <td>CEILING</td>\n",
       "      <td>RESIDENTIAL BUILDING</td>\n",
       "      <td>10009.0</td>\n",
       "      <td>143 AVENUE D</td>\n",
       "      <td>...</td>\n",
       "      <td>NaN</td>\n",
       "      <td>NaN</td>\n",
       "      <td>NaN</td>\n",
       "      <td>NaN</td>\n",
       "      <td>NaN</td>\n",
       "      <td>NaN</td>\n",
       "      <td>NaN</td>\n",
       "      <td>40.724749</td>\n",
       "      <td>-73.975269</td>\n",
       "      <td>(40.72474871581904, -73.97526859020363)</td>\n",
       "    </tr>\n",
       "    <tr>\n",
       "      <td>255809</td>\n",
       "      <td>44063824</td>\n",
       "      <td>10/15/2019 12:43:43 PM</td>\n",
       "      <td>10/15/2019 07:44:13 PM</td>\n",
       "      <td>NYPD</td>\n",
       "      <td>New York City Police Department</td>\n",
       "      <td>Illegal Parking</td>\n",
       "      <td>Blocked Bike Lane</td>\n",
       "      <td>Street/Sidewalk</td>\n",
       "      <td>10002.0</td>\n",
       "      <td>23 ALLEN STREET</td>\n",
       "      <td>...</td>\n",
       "      <td>NaN</td>\n",
       "      <td>NaN</td>\n",
       "      <td>NaN</td>\n",
       "      <td>NaN</td>\n",
       "      <td>NaN</td>\n",
       "      <td>NaN</td>\n",
       "      <td>NaN</td>\n",
       "      <td>40.715468</td>\n",
       "      <td>-73.992302</td>\n",
       "      <td>(40.71546833933027, -73.99230204530544)</td>\n",
       "    </tr>\n",
       "  </tbody>\n",
       "</table>\n",
       "<p>255810 rows × 39 columns</p>\n",
       "</div>"
      ],
      "text/plain": [
       "        Unique Key            Created Date             Closed Date Agency  \\\n",
       "0         45486238  01/27/2020 09:36:00 AM                     NaN    DEP   \n",
       "1         45486354  01/27/2020 08:19:08 PM  01/27/2020 11:17:00 PM   NYPD   \n",
       "2         45488038  01/27/2020 02:43:15 PM  01/27/2020 06:44:24 PM   NYPD   \n",
       "3         45483549  01/27/2020 10:50:00 PM                     NaN    DOE   \n",
       "4         45486665  01/27/2020 10:52:53 PM                     NaN  DOHMH   \n",
       "...            ...                     ...                     ...    ...   \n",
       "255805    44063203  10/15/2019 03:29:09 AM  10/15/2019 05:54:28 AM   NYPD   \n",
       "255806    44063314  10/15/2019 07:09:30 PM  10/16/2019 03:34:11 PM    TLC   \n",
       "255807    44063720  10/15/2019 01:21:38 PM  10/15/2019 07:45:07 PM   NYPD   \n",
       "255808    44063737  10/15/2019 11:29:01 AM  10/15/2019 09:19:45 PM    HPD   \n",
       "255809    44063824  10/15/2019 12:43:43 PM  10/15/2019 07:44:13 PM   NYPD   \n",
       "\n",
       "                                              Agency Name  \\\n",
       "0                  Department of Environmental Protection   \n",
       "1                         New York City Police Department   \n",
       "2                         New York City Police Department   \n",
       "3                                 Department of Education   \n",
       "4                 Department of Health and Mental Hygiene   \n",
       "...                                                   ...   \n",
       "255805                    New York City Police Department   \n",
       "255806                      Taxi and Limousine Commission   \n",
       "255807                    New York City Police Department   \n",
       "255808  Department of Housing Preservation and Develop...   \n",
       "255809                    New York City Police Department   \n",
       "\n",
       "                 Complaint Type                      Descriptor  \\\n",
       "0                 Water Quality      Taste/Odor, Chlorine (QA1)   \n",
       "1           Noise - Residential                Loud Music/Party   \n",
       "2       Noise - Street/Sidewalk                    Loud Talking   \n",
       "3            School Maintenance               Unclean Condition   \n",
       "4                        Rodent                    Rat Sighting   \n",
       "...                         ...                             ...   \n",
       "255805  Noise - Street/Sidewalk                    Loud Talking   \n",
       "255806            Lost Property                      Bag/Wallet   \n",
       "255807          Illegal Parking  Double Parked Blocking Traffic   \n",
       "255808            PAINT/PLASTER                         CEILING   \n",
       "255809          Illegal Parking               Blocked Bike Lane   \n",
       "\n",
       "               Location Type  Incident Zip         Incident Address  ...  \\\n",
       "0                        NaN       10003.0     335 EAST    5 STREET  ...   \n",
       "1                        NaN       10009.0     400 EAST   12 STREET  ...   \n",
       "2            Street/Sidewalk       10003.0         47 SECOND AVENUE  ...   \n",
       "3                        NaN       10002.0        293 EAST BROADWAY  ...   \n",
       "4        1-2 Family Dwelling       10002.0        157 BROOME STREET  ...   \n",
       "...                      ...           ...                      ...  ...   \n",
       "255805       Street/Sidewalk       10002.0          32 HENRY STREET  ...   \n",
       "255806                   NaN       10002.0  205 EAST HOUSTON STREET  ...   \n",
       "255807       Street/Sidewalk       10002.0       106 MADISON STREET  ...   \n",
       "255808  RESIDENTIAL BUILDING       10009.0             143 AVENUE D  ...   \n",
       "255809       Street/Sidewalk       10002.0          23 ALLEN STREET  ...   \n",
       "\n",
       "       Vehicle Type Taxi Company Borough  \\\n",
       "0               NaN                  NaN   \n",
       "1               NaN                  NaN   \n",
       "2               NaN                  NaN   \n",
       "3               NaN                  NaN   \n",
       "4               NaN                  NaN   \n",
       "...             ...                  ...   \n",
       "255805          NaN                  NaN   \n",
       "255806          NaN                  NaN   \n",
       "255807          NaN                  NaN   \n",
       "255808          NaN                  NaN   \n",
       "255809          NaN                  NaN   \n",
       "\n",
       "                                    Taxi Pick Up Location Bridge Highway Name  \\\n",
       "0                                                     NaN                 NaN   \n",
       "1                                                     NaN                 NaN   \n",
       "2                                                     NaN                 NaN   \n",
       "3                                                     NaN                 NaN   \n",
       "4                                                     NaN                 NaN   \n",
       "...                                                   ...                 ...   \n",
       "255805                                                NaN                 NaN   \n",
       "255806  205 EAST HOUSTON STREET, MANHATTAN (NEW YORK),...                 NaN   \n",
       "255807                                                NaN                 NaN   \n",
       "255808                                                NaN                 NaN   \n",
       "255809                                                NaN                 NaN   \n",
       "\n",
       "       Bridge Highway Direction Road Ramp Bridge Highway Segment   Latitude  \\\n",
       "0                           NaN       NaN                    NaN  40.726392   \n",
       "1                           NaN       NaN                    NaN  40.729971   \n",
       "2                           NaN       NaN                    NaN  40.725399   \n",
       "3                           NaN       NaN                    NaN  40.714570   \n",
       "4                           NaN       NaN                    NaN  40.716607   \n",
       "...                         ...       ...                    ...        ...   \n",
       "255805                      NaN       NaN                    NaN  40.712880   \n",
       "255806                      NaN       NaN                    NaN  40.722511   \n",
       "255807                      NaN       NaN                    NaN  40.712219   \n",
       "255808                      NaN       NaN                    NaN  40.724749   \n",
       "255809                      NaN       NaN                    NaN  40.715468   \n",
       "\n",
       "        Longitude                                  Location  \n",
       "0      -73.988043   (40.72639211582395, -73.98804348469741)  \n",
       "1      -73.983471   (40.72997071226904, -73.98347141273716)  \n",
       "2      -73.990010   (40.72539870121316, -73.99000992838972)  \n",
       "3      -73.983724   (40.71456990934003, -73.98372413141455)  \n",
       "4      -73.985271  (40.716606730161864, -73.98527118746058)  \n",
       "...           ...                                       ...  \n",
       "255805 -73.996050   (40.71288021907557, -73.99605017193778)  \n",
       "255806 -73.987301   (40.72251094922887, -73.98730100093874)  \n",
       "255807 -73.995267   (40.71221870195438, -73.99526746759064)  \n",
       "255808 -73.975269   (40.72474871581904, -73.97526859020363)  \n",
       "255809 -73.992302   (40.71546833933027, -73.99230204530544)  \n",
       "\n",
       "[255810 rows x 39 columns]"
      ]
     },
     "execution_count": 99,
     "metadata": {},
     "output_type": "execute_result"
    }
   ],
   "source": [
    "data = pd.read_csv('../data/NYC--377-SR-CB03-4714.csv')\n",
    "data"
   ]
  },
  {
   "cell_type": "code",
   "execution_count": 101,
   "metadata": {},
   "outputs": [
    {
     "data": {
      "text/plain": [
       "213"
      ]
     },
     "execution_count": 101,
     "metadata": {},
     "output_type": "execute_result"
    }
   ],
   "source": [
    "data['Complaint Type'].unique().size"
   ]
  },
  {
   "cell_type": "code",
   "execution_count": 102,
   "metadata": {},
   "outputs": [
    {
     "data": {
      "text/plain": [
       "Noise - Residential          35527\n",
       "HEAT/HOT WATER               21044\n",
       "Noise - Commercial           19647\n",
       "Noise                        13138\n",
       "Illegal Parking              11956\n",
       "                             ...  \n",
       "Pet Shop                         1\n",
       "Single Occupancy Bathroom        1\n",
       "Building Condition               1\n",
       "Calorie Labeling                 1\n",
       "Lifeguard                        1\n",
       "Name: Complaint Type, Length: 213, dtype: int64"
      ]
     },
     "execution_count": 102,
     "metadata": {},
     "output_type": "execute_result"
    }
   ],
   "source": [
    "count = data['Complaint Type'].value_counts()\n",
    "count"
   ]
  },
  {
   "cell_type": "code",
   "execution_count": 103,
   "metadata": {},
   "outputs": [
    {
     "data": {
      "text/plain": [
       "<matplotlib.axes._subplots.AxesSubplot at 0x7f913ae6b090>"
      ]
     },
     "execution_count": 103,
     "metadata": {},
     "output_type": "execute_result"
    },
    {
     "data": {
      "image/png": "[encoded data removed]",
      "text/plain": [
       "<Figure size 432x288 with 1 Axes>"
      ]
     },
     "metadata": {
      "needs_background": "light"
     },
     "output_type": "display_data"
    }
   ],
   "source": [
    "count.plot(kind='bar')"
   ]
  },
  {
   "cell_type": "code",
   "execution_count": 104,
   "metadata": {},
   "outputs": [
    {
     "data": {
      "text/plain": [
       "<matplotlib.axes._subplots.AxesSubplot at 0x7f912686d5d0>"
      ]
     },
     "execution_count": 104,
     "metadata": {},
     "output_type": "execute_result"
    },
    {
     "data": {
      "image/png": "[encoded data removed]",
      "text/plain": [
       "<Figure size 432x288 with 1 Axes>"
      ]
     },
     "metadata": {
      "needs_background": "light"
     },
     "output_type": "display_data"
    }
   ],
   "source": [
    "count[count > 15000].plot(kind='bar')"
   ]
  },
  {
   "cell_type": "code",
   "execution_count": 108,
   "metadata": {},
   "outputs": [
    {
     "data": {
      "text/plain": [
       "<matplotlib.axes._subplots.AxesSubplot at 0x7f912645b910>"
      ]
     },
     "execution_count": 108,
     "metadata": {},
     "output_type": "execute_result"
    },
    {
     "data": {
      "image/png": "[encoded data removed]",
      "text/plain": [
       "<Figure size 432x288 with 1 Axes>"
      ]
     },
     "metadata": {
      "needs_background": "light"
     },
     "output_type": "display_data"
    }
   ],
   "source": [
    "count[ count.index.str.contains(\"Noise\") ].plot(kind=\"bar\")"
   ]
  },
  {
   "cell_type": "markdown",
   "metadata": {},
   "source": [
    "##### Ejercicio weather y nycity"
   ]
  },
  {
   "cell_type": "markdown",
   "metadata": {},
   "source": [
    "##### Group by: split-apply-combine\n",
    "\n",
    "Muchas veces las operaciones no las queremos hacer sobre una variable sino agrupandola en función de otra. Pandas implementa esta funcionalidad en los métodos `.groupby()`, `.transform()` y `.aggregate()`.\n",
    "\n",
    "Más información: https://pandas.pydata.org/pandas-docs/stable/groupby.html"
   ]
  },
  {
   "cell_type": "code",
   "execution_count": 90,
   "metadata": {},
   "outputs": [
    {
     "data": {
      "text/plain": [
       "Trimestre\n",
       "(0.999, 3.0]     258.373626\n",
       "(3.0, 6.0]      2466.109890\n",
       "(6.0, 9.0]      3293.293478\n",
       "(9.0, 12.0]     1190.315217\n",
       "Name: University, dtype: float64"
      ]
     },
     "execution_count": 90,
     "metadata": {},
     "output_type": "execute_result"
    }
   ],
   "source": [
    "bikes['Month'] = bikes.index.month\n",
    "bikes['Trimestre'] = pd.cut(bikes['Month'], [1, 3, 6, 9, 12], include_lowest=True)\n",
    "bikes.groupby('Trimestre')['University'].mean()"
   ]
  },
  {
   "cell_type": "code",
   "execution_count": 97,
   "metadata": {},
   "outputs": [
    {
     "data": {
      "text/html": [
       "<div>\n",
       "<style scoped>\n",
       "    .dataframe tbody tr th:only-of-type {\n",
       "        vertical-align: middle;\n",
       "    }\n",
       "\n",
       "    .dataframe tbody tr th {\n",
       "        vertical-align: top;\n",
       "    }\n",
       "\n",
       "    .dataframe thead tr th {\n",
       "        text-align: left;\n",
       "    }\n",
       "\n",
       "    .dataframe thead tr:last-of-type th {\n",
       "        text-align: right;\n",
       "    }\n",
       "</style>\n",
       "<table border=\"1\" class=\"dataframe\">\n",
       "  <thead>\n",
       "    <tr>\n",
       "      <th></th>\n",
       "      <th colspan=\"2\" halign=\"left\">Berri1</th>\n",
       "      <th colspan=\"2\" halign=\"left\">Boyer</th>\n",
       "      <th colspan=\"2\" halign=\"left\">Brébeuf</th>\n",
       "      <th colspan=\"2\" halign=\"left\">CSC (Côte Sainte-Catherine)</th>\n",
       "      <th colspan=\"2\" halign=\"left\">Maisonneuve_2</th>\n",
       "      <th>...</th>\n",
       "      <th colspan=\"2\" halign=\"left\">Saint-Antoine</th>\n",
       "      <th colspan=\"2\" halign=\"left\">Saint-Urbain</th>\n",
       "      <th colspan=\"2\" halign=\"left\">Totem_Laurier</th>\n",
       "      <th colspan=\"2\" halign=\"left\">University</th>\n",
       "      <th colspan=\"2\" halign=\"left\">Viger</th>\n",
       "    </tr>\n",
       "    <tr>\n",
       "      <th></th>\n",
       "      <th>sum</th>\n",
       "      <th>mean</th>\n",
       "      <th>sum</th>\n",
       "      <th>mean</th>\n",
       "      <th>sum</th>\n",
       "      <th>mean</th>\n",
       "      <th>sum</th>\n",
       "      <th>mean</th>\n",
       "      <th>sum</th>\n",
       "      <th>mean</th>\n",
       "      <th>...</th>\n",
       "      <th>sum</th>\n",
       "      <th>mean</th>\n",
       "      <th>sum</th>\n",
       "      <th>mean</th>\n",
       "      <th>sum</th>\n",
       "      <th>mean</th>\n",
       "      <th>sum</th>\n",
       "      <th>mean</th>\n",
       "      <th>sum</th>\n",
       "      <th>mean</th>\n",
       "    </tr>\n",
       "    <tr>\n",
       "      <th>Month</th>\n",
       "      <th></th>\n",
       "      <th></th>\n",
       "      <th></th>\n",
       "      <th></th>\n",
       "      <th></th>\n",
       "      <th></th>\n",
       "      <th></th>\n",
       "      <th></th>\n",
       "      <th></th>\n",
       "      <th></th>\n",
       "      <th></th>\n",
       "      <th></th>\n",
       "      <th></th>\n",
       "      <th></th>\n",
       "      <th></th>\n",
       "      <th></th>\n",
       "      <th></th>\n",
       "      <th></th>\n",
       "      <th></th>\n",
       "      <th></th>\n",
       "      <th></th>\n",
       "    </tr>\n",
       "  </thead>\n",
       "  <tbody>\n",
       "    <tr>\n",
       "      <td>1</td>\n",
       "      <td>8503</td>\n",
       "      <td>274.290323</td>\n",
       "      <td>244</td>\n",
       "      <td>7.870968</td>\n",
       "      <td>473</td>\n",
       "      <td>15.258065</td>\n",
       "      <td>1955.0</td>\n",
       "      <td>63.064516</td>\n",
       "      <td>10244.0</td>\n",
       "      <td>330.451613</td>\n",
       "      <td>...</td>\n",
       "      <td>1084</td>\n",
       "      <td>34.967742</td>\n",
       "      <td>2555</td>\n",
       "      <td>82.419355</td>\n",
       "      <td>5817</td>\n",
       "      <td>187.645161</td>\n",
       "      <td>6012</td>\n",
       "      <td>193.935484</td>\n",
       "      <td>1258</td>\n",
       "      <td>40.580645</td>\n",
       "    </tr>\n",
       "    <tr>\n",
       "      <td>2</td>\n",
       "      <td>8432</td>\n",
       "      <td>290.758621</td>\n",
       "      <td>348</td>\n",
       "      <td>12.000000</td>\n",
       "      <td>624</td>\n",
       "      <td>21.517241</td>\n",
       "      <td>1618.0</td>\n",
       "      <td>55.793103</td>\n",
       "      <td>11079.0</td>\n",
       "      <td>382.034483</td>\n",
       "      <td>...</td>\n",
       "      <td>1296</td>\n",
       "      <td>44.689655</td>\n",
       "      <td>2573</td>\n",
       "      <td>88.724138</td>\n",
       "      <td>3803</td>\n",
       "      <td>131.137931</td>\n",
       "      <td>5490</td>\n",
       "      <td>189.310345</td>\n",
       "      <td>1246</td>\n",
       "      <td>42.965517</td>\n",
       "    </tr>\n",
       "    <tr>\n",
       "      <td>3</td>\n",
       "      <td>17294</td>\n",
       "      <td>557.870968</td>\n",
       "      <td>2069</td>\n",
       "      <td>66.741935</td>\n",
       "      <td>1164</td>\n",
       "      <td>37.548387</td>\n",
       "      <td>6450.0</td>\n",
       "      <td>208.064516</td>\n",
       "      <td>21983.0</td>\n",
       "      <td>709.129032</td>\n",
       "      <td>...</td>\n",
       "      <td>1839</td>\n",
       "      <td>59.322581</td>\n",
       "      <td>8916</td>\n",
       "      <td>287.612903</td>\n",
       "      <td>11238</td>\n",
       "      <td>362.516129</td>\n",
       "      <td>12010</td>\n",
       "      <td>387.419355</td>\n",
       "      <td>1807</td>\n",
       "      <td>58.290323</td>\n",
       "    </tr>\n",
       "    <tr>\n",
       "      <td>4</td>\n",
       "      <td>62759</td>\n",
       "      <td>2091.966667</td>\n",
       "      <td>42450</td>\n",
       "      <td>1415.000000</td>\n",
       "      <td>59473</td>\n",
       "      <td>1982.433333</td>\n",
       "      <td>18297.0</td>\n",
       "      <td>731.880000</td>\n",
       "      <td>67934.0</td>\n",
       "      <td>2264.466667</td>\n",
       "      <td>...</td>\n",
       "      <td>6955</td>\n",
       "      <td>231.833333</td>\n",
       "      <td>29079</td>\n",
       "      <td>969.300000</td>\n",
       "      <td>48890</td>\n",
       "      <td>1629.666667</td>\n",
       "      <td>41917</td>\n",
       "      <td>1397.233333</td>\n",
       "      <td>6105</td>\n",
       "      <td>203.500000</td>\n",
       "    </tr>\n",
       "    <tr>\n",
       "      <td>5</td>\n",
       "      <td>136001</td>\n",
       "      <td>4387.129032</td>\n",
       "      <td>112103</td>\n",
       "      <td>3616.225806</td>\n",
       "      <td>136906</td>\n",
       "      <td>4416.322581</td>\n",
       "      <td>30060.0</td>\n",
       "      <td>2147.142857</td>\n",
       "      <td>146900.0</td>\n",
       "      <td>4738.709677</td>\n",
       "      <td>...</td>\n",
       "      <td>16256</td>\n",
       "      <td>524.387097</td>\n",
       "      <td>52932</td>\n",
       "      <td>1707.483871</td>\n",
       "      <td>98680</td>\n",
       "      <td>3183.225806</td>\n",
       "      <td>86415</td>\n",
       "      <td>2787.580645</td>\n",
       "      <td>13288</td>\n",
       "      <td>428.645161</td>\n",
       "    </tr>\n",
       "    <tr>\n",
       "      <td>6</td>\n",
       "      <td>145972</td>\n",
       "      <td>4865.733333</td>\n",
       "      <td>121958</td>\n",
       "      <td>4065.266667</td>\n",
       "      <td>144407</td>\n",
       "      <td>4813.566667</td>\n",
       "      <td>63753.0</td>\n",
       "      <td>2125.100000</td>\n",
       "      <td>163284.0</td>\n",
       "      <td>5442.800000</td>\n",
       "      <td>...</td>\n",
       "      <td>18441</td>\n",
       "      <td>614.700000</td>\n",
       "      <td>56848</td>\n",
       "      <td>1894.933333</td>\n",
       "      <td>110439</td>\n",
       "      <td>3681.300000</td>\n",
       "      <td>96084</td>\n",
       "      <td>3202.800000</td>\n",
       "      <td>14966</td>\n",
       "      <td>498.866667</td>\n",
       "    </tr>\n",
       "    <tr>\n",
       "      <td>7</td>\n",
       "      <td>156673</td>\n",
       "      <td>5053.967742</td>\n",
       "      <td>123951</td>\n",
       "      <td>3998.419355</td>\n",
       "      <td>151517</td>\n",
       "      <td>4887.645161</td>\n",
       "      <td>61741.0</td>\n",
       "      <td>1991.645161</td>\n",
       "      <td>183623.0</td>\n",
       "      <td>5923.322581</td>\n",
       "      <td>...</td>\n",
       "      <td>19823</td>\n",
       "      <td>639.451613</td>\n",
       "      <td>52653</td>\n",
       "      <td>1698.483871</td>\n",
       "      <td>112032</td>\n",
       "      <td>3613.935484</td>\n",
       "      <td>101593</td>\n",
       "      <td>3277.193548</td>\n",
       "      <td>16671</td>\n",
       "      <td>537.774194</td>\n",
       "    </tr>\n",
       "    <tr>\n",
       "      <td>8</td>\n",
       "      <td>146558</td>\n",
       "      <td>4727.677419</td>\n",
       "      <td>119706</td>\n",
       "      <td>3861.483871</td>\n",
       "      <td>143398</td>\n",
       "      <td>4625.741935</td>\n",
       "      <td>77663.0</td>\n",
       "      <td>2505.258065</td>\n",
       "      <td>182923.0</td>\n",
       "      <td>5900.741935</td>\n",
       "      <td>...</td>\n",
       "      <td>17687</td>\n",
       "      <td>570.548387</td>\n",
       "      <td>51068</td>\n",
       "      <td>1647.354839</td>\n",
       "      <td>112876</td>\n",
       "      <td>3641.161290</td>\n",
       "      <td>98018</td>\n",
       "      <td>3161.870968</td>\n",
       "      <td>16807</td>\n",
       "      <td>542.161290</td>\n",
       "    </tr>\n",
       "    <tr>\n",
       "      <td>9</td>\n",
       "      <td>145296</td>\n",
       "      <td>4843.200000</td>\n",
       "      <td>113692</td>\n",
       "      <td>3789.733333</td>\n",
       "      <td>136479</td>\n",
       "      <td>4549.300000</td>\n",
       "      <td>101796.0</td>\n",
       "      <td>3393.200000</td>\n",
       "      <td>202139.0</td>\n",
       "      <td>6737.966667</td>\n",
       "      <td>...</td>\n",
       "      <td>17765</td>\n",
       "      <td>592.166667</td>\n",
       "      <td>55635</td>\n",
       "      <td>1854.500000</td>\n",
       "      <td>115794</td>\n",
       "      <td>3859.800000</td>\n",
       "      <td>103372</td>\n",
       "      <td>3445.733333</td>\n",
       "      <td>14168</td>\n",
       "      <td>472.266667</td>\n",
       "    </tr>\n",
       "    <tr>\n",
       "      <td>10</td>\n",
       "      <td>96285</td>\n",
       "      <td>3105.967742</td>\n",
       "      <td>64263</td>\n",
       "      <td>2073.000000</td>\n",
       "      <td>84387</td>\n",
       "      <td>2722.161290</td>\n",
       "      <td>64486.0</td>\n",
       "      <td>2080.193548</td>\n",
       "      <td>128940.0</td>\n",
       "      <td>4159.354839</td>\n",
       "      <td>...</td>\n",
       "      <td>10596</td>\n",
       "      <td>341.806452</td>\n",
       "      <td>39899</td>\n",
       "      <td>1287.064516</td>\n",
       "      <td>78427</td>\n",
       "      <td>2529.903226</td>\n",
       "      <td>66186</td>\n",
       "      <td>2135.032258</td>\n",
       "      <td>9141</td>\n",
       "      <td>294.870968</td>\n",
       "    </tr>\n",
       "    <tr>\n",
       "      <td>11</td>\n",
       "      <td>52637</td>\n",
       "      <td>1754.566667</td>\n",
       "      <td>30053</td>\n",
       "      <td>1001.766667</td>\n",
       "      <td>36713</td>\n",
       "      <td>1223.766667</td>\n",
       "      <td>32725.0</td>\n",
       "      <td>1090.833333</td>\n",
       "      <td>54293.0</td>\n",
       "      <td>3393.312500</td>\n",
       "      <td>...</td>\n",
       "      <td>6031</td>\n",
       "      <td>201.033333</td>\n",
       "      <td>22592</td>\n",
       "      <td>753.066667</td>\n",
       "      <td>49386</td>\n",
       "      <td>1646.200000</td>\n",
       "      <td>38196</td>\n",
       "      <td>1273.200000</td>\n",
       "      <td>5204</td>\n",
       "      <td>173.466667</td>\n",
       "    </tr>\n",
       "    <tr>\n",
       "      <td>12</td>\n",
       "      <td>12185</td>\n",
       "      <td>393.064516</td>\n",
       "      <td>6582</td>\n",
       "      <td>212.322581</td>\n",
       "      <td>669</td>\n",
       "      <td>21.580645</td>\n",
       "      <td>5362.0</td>\n",
       "      <td>172.967742</td>\n",
       "      <td>0.0</td>\n",
       "      <td>NaN</td>\n",
       "      <td>...</td>\n",
       "      <td>1545</td>\n",
       "      <td>49.838710</td>\n",
       "      <td>3408</td>\n",
       "      <td>109.935484</td>\n",
       "      <td>11960</td>\n",
       "      <td>385.806452</td>\n",
       "      <td>5127</td>\n",
       "      <td>165.387097</td>\n",
       "      <td>1146</td>\n",
       "      <td>36.967742</td>\n",
       "    </tr>\n",
       "  </tbody>\n",
       "</table>\n",
       "<p>12 rows × 36 columns</p>\n",
       "</div>"
      ],
      "text/plain": [
       "       Berri1                Boyer              Brébeuf               \\\n",
       "          sum         mean     sum         mean     sum         mean   \n",
       "Month                                                                  \n",
       "1        8503   274.290323     244     7.870968     473    15.258065   \n",
       "2        8432   290.758621     348    12.000000     624    21.517241   \n",
       "3       17294   557.870968    2069    66.741935    1164    37.548387   \n",
       "4       62759  2091.966667   42450  1415.000000   59473  1982.433333   \n",
       "5      136001  4387.129032  112103  3616.225806  136906  4416.322581   \n",
       "6      145972  4865.733333  121958  4065.266667  144407  4813.566667   \n",
       "7      156673  5053.967742  123951  3998.419355  151517  4887.645161   \n",
       "8      146558  4727.677419  119706  3861.483871  143398  4625.741935   \n",
       "9      145296  4843.200000  113692  3789.733333  136479  4549.300000   \n",
       "10      96285  3105.967742   64263  2073.000000   84387  2722.161290   \n",
       "11      52637  1754.566667   30053  1001.766667   36713  1223.766667   \n",
       "12      12185   393.064516    6582   212.322581     669    21.580645   \n",
       "\n",
       "      CSC (Côte Sainte-Catherine)              Maisonneuve_2               \\\n",
       "                              sum         mean           sum         mean   \n",
       "Month                                                                       \n",
       "1                          1955.0    63.064516       10244.0   330.451613   \n",
       "2                          1618.0    55.793103       11079.0   382.034483   \n",
       "3                          6450.0   208.064516       21983.0   709.129032   \n",
       "4                         18297.0   731.880000       67934.0  2264.466667   \n",
       "5                         30060.0  2147.142857      146900.0  4738.709677   \n",
       "6                         63753.0  2125.100000      163284.0  5442.800000   \n",
       "7                         61741.0  1991.645161      183623.0  5923.322581   \n",
       "8                         77663.0  2505.258065      182923.0  5900.741935   \n",
       "9                        101796.0  3393.200000      202139.0  6737.966667   \n",
       "10                        64486.0  2080.193548      128940.0  4159.354839   \n",
       "11                        32725.0  1090.833333       54293.0  3393.312500   \n",
       "12                         5362.0   172.967742           0.0          NaN   \n",
       "\n",
       "       ... Saint-Antoine             Saint-Urbain              Totem_Laurier  \\\n",
       "       ...           sum        mean          sum         mean           sum   \n",
       "Month  ...                                                                     \n",
       "1      ...          1084   34.967742         2555    82.419355          5817   \n",
       "2      ...          1296   44.689655         2573    88.724138          3803   \n",
       "3      ...          1839   59.322581         8916   287.612903         11238   \n",
       "4      ...          6955  231.833333        29079   969.300000         48890   \n",
       "5      ...         16256  524.387097        52932  1707.483871         98680   \n",
       "6      ...         18441  614.700000        56848  1894.933333        110439   \n",
       "7      ...         19823  639.451613        52653  1698.483871        112032   \n",
       "8      ...         17687  570.548387        51068  1647.354839        112876   \n",
       "9      ...         17765  592.166667        55635  1854.500000        115794   \n",
       "10     ...         10596  341.806452        39899  1287.064516         78427   \n",
       "11     ...          6031  201.033333        22592   753.066667         49386   \n",
       "12     ...          1545   49.838710         3408   109.935484         11960   \n",
       "\n",
       "                   University               Viger              \n",
       "              mean        sum         mean    sum        mean  \n",
       "Month                                                          \n",
       "1       187.645161       6012   193.935484   1258   40.580645  \n",
       "2       131.137931       5490   189.310345   1246   42.965517  \n",
       "3       362.516129      12010   387.419355   1807   58.290323  \n",
       "4      1629.666667      41917  1397.233333   6105  203.500000  \n",
       "5      3183.225806      86415  2787.580645  13288  428.645161  \n",
       "6      3681.300000      96084  3202.800000  14966  498.866667  \n",
       "7      3613.935484     101593  3277.193548  16671  537.774194  \n",
       "8      3641.161290      98018  3161.870968  16807  542.161290  \n",
       "9      3859.800000     103372  3445.733333  14168  472.266667  \n",
       "10     2529.903226      66186  2135.032258   9141  294.870968  \n",
       "11     1646.200000      38196  1273.200000   5204  173.466667  \n",
       "12      385.806452       5127   165.387097   1146   36.967742  \n",
       "\n",
       "[12 rows x 36 columns]"
      ]
     },
     "execution_count": 97,
     "metadata": {},
     "output_type": "execute_result"
    }
   ],
   "source": [
    "import numpy as np\n",
    "res = bikes.groupby('Month').agg([np.sum, np.mean])\n",
    "res"
   ]
  },
  {
   "cell_type": "code",
   "execution_count": 98,
   "metadata": {},
   "outputs": [
    {
     "data": {
      "text/plain": [
       "Month\n",
       "1       8503\n",
       "2       8432\n",
       "3      17294\n",
       "4      62759\n",
       "5     136001\n",
       "6     145972\n",
       "7     156673\n",
       "8     146558\n",
       "9     145296\n",
       "10     96285\n",
       "11     52637\n",
       "12     12185\n",
       "Name: (Berri1, sum), dtype: int64"
      ]
     },
     "execution_count": 98,
     "metadata": {},
     "output_type": "execute_result"
    }
   ],
   "source": [
    "res.loc[:, (\"Berri1\", \"sum\")]"
   ]
  },
  {
   "cell_type": "code",
   "execution_count": 95,
   "metadata": {},
   "outputs": [
    {
     "data": {
      "text/html": [
       "<div>\n",
       "<style scoped>\n",
       "    .dataframe tbody tr th:only-of-type {\n",
       "        vertical-align: middle;\n",
       "    }\n",
       "\n",
       "    .dataframe tbody tr th {\n",
       "        vertical-align: top;\n",
       "    }\n",
       "\n",
       "    .dataframe thead tr th {\n",
       "        text-align: left;\n",
       "    }\n",
       "\n",
       "    .dataframe thead tr:last-of-type th {\n",
       "        text-align: right;\n",
       "    }\n",
       "</style>\n",
       "<table border=\"1\" class=\"dataframe\">\n",
       "  <thead>\n",
       "    <tr>\n",
       "      <th></th>\n",
       "      <th colspan=\"2\" halign=\"left\">Berri1</th>\n",
       "      <th>Boyer</th>\n",
       "    </tr>\n",
       "    <tr>\n",
       "      <th></th>\n",
       "      <th>mean</th>\n",
       "      <th>sum</th>\n",
       "      <th>sum</th>\n",
       "    </tr>\n",
       "    <tr>\n",
       "      <th>Month</th>\n",
       "      <th></th>\n",
       "      <th></th>\n",
       "      <th></th>\n",
       "    </tr>\n",
       "  </thead>\n",
       "  <tbody>\n",
       "    <tr>\n",
       "      <td>1</td>\n",
       "      <td>274.290323</td>\n",
       "      <td>8503</td>\n",
       "      <td>244</td>\n",
       "    </tr>\n",
       "    <tr>\n",
       "      <td>2</td>\n",
       "      <td>290.758621</td>\n",
       "      <td>8432</td>\n",
       "      <td>348</td>\n",
       "    </tr>\n",
       "    <tr>\n",
       "      <td>3</td>\n",
       "      <td>557.870968</td>\n",
       "      <td>17294</td>\n",
       "      <td>2069</td>\n",
       "    </tr>\n",
       "    <tr>\n",
       "      <td>4</td>\n",
       "      <td>2091.966667</td>\n",
       "      <td>62759</td>\n",
       "      <td>42450</td>\n",
       "    </tr>\n",
       "    <tr>\n",
       "      <td>5</td>\n",
       "      <td>4387.129032</td>\n",
       "      <td>136001</td>\n",
       "      <td>112103</td>\n",
       "    </tr>\n",
       "    <tr>\n",
       "      <td>6</td>\n",
       "      <td>4865.733333</td>\n",
       "      <td>145972</td>\n",
       "      <td>121958</td>\n",
       "    </tr>\n",
       "    <tr>\n",
       "      <td>7</td>\n",
       "      <td>5053.967742</td>\n",
       "      <td>156673</td>\n",
       "      <td>123951</td>\n",
       "    </tr>\n",
       "    <tr>\n",
       "      <td>8</td>\n",
       "      <td>4727.677419</td>\n",
       "      <td>146558</td>\n",
       "      <td>119706</td>\n",
       "    </tr>\n",
       "    <tr>\n",
       "      <td>9</td>\n",
       "      <td>4843.200000</td>\n",
       "      <td>145296</td>\n",
       "      <td>113692</td>\n",
       "    </tr>\n",
       "    <tr>\n",
       "      <td>10</td>\n",
       "      <td>3105.967742</td>\n",
       "      <td>96285</td>\n",
       "      <td>64263</td>\n",
       "    </tr>\n",
       "    <tr>\n",
       "      <td>11</td>\n",
       "      <td>1754.566667</td>\n",
       "      <td>52637</td>\n",
       "      <td>30053</td>\n",
       "    </tr>\n",
       "    <tr>\n",
       "      <td>12</td>\n",
       "      <td>393.064516</td>\n",
       "      <td>12185</td>\n",
       "      <td>6582</td>\n",
       "    </tr>\n",
       "  </tbody>\n",
       "</table>\n",
       "</div>"
      ],
      "text/plain": [
       "            Berri1           Boyer\n",
       "              mean     sum     sum\n",
       "Month                             \n",
       "1       274.290323    8503     244\n",
       "2       290.758621    8432     348\n",
       "3       557.870968   17294    2069\n",
       "4      2091.966667   62759   42450\n",
       "5      4387.129032  136001  112103\n",
       "6      4865.733333  145972  121958\n",
       "7      5053.967742  156673  123951\n",
       "8      4727.677419  146558  119706\n",
       "9      4843.200000  145296  113692\n",
       "10     3105.967742   96285   64263\n",
       "11     1754.566667   52637   30053\n",
       "12      393.064516   12185    6582"
      ]
     },
     "execution_count": 95,
     "metadata": {},
     "output_type": "execute_result"
    }
   ],
   "source": [
    "bikes.reset_index().groupby('Month').agg({'Berri1': [np.mean, np.sum], 'Boyer': np.sum})"
   ]
  },
  {
   "cell_type": "code",
   "execution_count": 120,
   "metadata": {},
   "outputs": [
    {
     "data": {
      "text/html": [
       "<div>\n",
       "<style scoped>\n",
       "    .dataframe tbody tr th:only-of-type {\n",
       "        vertical-align: middle;\n",
       "    }\n",
       "\n",
       "    .dataframe tbody tr th {\n",
       "        vertical-align: top;\n",
       "    }\n",
       "\n",
       "    .dataframe thead th {\n",
       "        text-align: right;\n",
       "    }\n",
       "</style>\n",
       "<table border=\"1\" class=\"dataframe\">\n",
       "  <thead>\n",
       "    <tr style=\"text-align: right;\">\n",
       "      <th></th>\n",
       "      <th>Berri1</th>\n",
       "      <th>University</th>\n",
       "    </tr>\n",
       "    <tr>\n",
       "      <th>Month</th>\n",
       "      <th></th>\n",
       "      <th></th>\n",
       "    </tr>\n",
       "  </thead>\n",
       "  <tbody>\n",
       "    <tr>\n",
       "      <td>1</td>\n",
       "      <td>8503</td>\n",
       "      <td>6012</td>\n",
       "    </tr>\n",
       "    <tr>\n",
       "      <td>2</td>\n",
       "      <td>8432</td>\n",
       "      <td>5490</td>\n",
       "    </tr>\n",
       "    <tr>\n",
       "      <td>3</td>\n",
       "      <td>17294</td>\n",
       "      <td>12010</td>\n",
       "    </tr>\n",
       "    <tr>\n",
       "      <td>4</td>\n",
       "      <td>62759</td>\n",
       "      <td>41917</td>\n",
       "    </tr>\n",
       "    <tr>\n",
       "      <td>5</td>\n",
       "      <td>136001</td>\n",
       "      <td>86415</td>\n",
       "    </tr>\n",
       "    <tr>\n",
       "      <td>6</td>\n",
       "      <td>145972</td>\n",
       "      <td>96084</td>\n",
       "    </tr>\n",
       "    <tr>\n",
       "      <td>7</td>\n",
       "      <td>156673</td>\n",
       "      <td>101593</td>\n",
       "    </tr>\n",
       "    <tr>\n",
       "      <td>8</td>\n",
       "      <td>146558</td>\n",
       "      <td>98018</td>\n",
       "    </tr>\n",
       "    <tr>\n",
       "      <td>9</td>\n",
       "      <td>145296</td>\n",
       "      <td>103372</td>\n",
       "    </tr>\n",
       "    <tr>\n",
       "      <td>10</td>\n",
       "      <td>96285</td>\n",
       "      <td>66186</td>\n",
       "    </tr>\n",
       "    <tr>\n",
       "      <td>11</td>\n",
       "      <td>52637</td>\n",
       "      <td>38196</td>\n",
       "    </tr>\n",
       "    <tr>\n",
       "      <td>12</td>\n",
       "      <td>12185</td>\n",
       "      <td>5127</td>\n",
       "    </tr>\n",
       "  </tbody>\n",
       "</table>\n",
       "</div>"
      ],
      "text/plain": [
       "       Berri1  University\n",
       "Month                    \n",
       "1        8503        6012\n",
       "2        8432        5490\n",
       "3       17294       12010\n",
       "4       62759       41917\n",
       "5      136001       86415\n",
       "6      145972       96084\n",
       "7      156673      101593\n",
       "8      146558       98018\n",
       "9      145296      103372\n",
       "10      96285       66186\n",
       "11      52637       38196\n",
       "12      12185        5127"
      ]
     },
     "execution_count": 120,
     "metadata": {},
     "output_type": "execute_result"
    }
   ],
   "source": [
    "\n",
    "df1 = bikes.groupby('Month').agg({'Berri1': np.mean, 'Boyer': np.sum})\n",
    "df1 = bikes.groupby('Month').aggregate([np.sum, np.mean])\n",
    "df1 = bikes.groupby(['Month'])[['Berri1', 'University']].sum()\n",
    "df1"
   ]
  },
  {
   "cell_type": "code",
   "execution_count": null,
   "metadata": {},
   "outputs": [],
   "source": [
    "bikes['Month'] = bikes.index.month"
   ]
  },
  {
   "cell_type": "code",
   "execution_count": null,
   "metadata": {},
   "outputs": [],
   "source": [
    "df1['Berri1'].plot(kind='bar');"
   ]
  },
  {
   "cell_type": "markdown",
   "metadata": {},
   "source": [
    "###### Ejercicio bicis"
   ]
  },
  {
   "cell_type": "markdown",
   "metadata": {},
   "source": [
    "##### Combinar Pandas y Matplotlib\n",
    "\n",
    "El método `.plot()` de los `DataFrames` de Pandas es bastante flexible, pero no podemos modificar ningún aspecto del gráfico no contemplado en los parámetros opcionales:\n",
    "\n",
    "https://pandas.pydata.org/pandas-docs/stable/generated/pandas.DataFrame.plot.html\n",
    "\n",
    "En ese caso, puesto que los gráficos de Pandas están construídos sobre la librería Matplotlib, podemos utilizar las funciones de bajo nivel de la misma para modificar cualquier aspecto de nuestro gráfico."
   ]
  },
  {
   "cell_type": "code",
   "execution_count": 112,
   "metadata": {},
   "outputs": [
    {
     "data": {
      "text/plain": [
       "<matplotlib.axes._subplots.AxesSubplot at 0x7f9125ec5650>"
      ]
     },
     "execution_count": 112,
     "metadata": {},
     "output_type": "execute_result"
    },
    {
     "data": {
      "image/png": "[encoded data removed]",
      "text/plain": [
       "<Figure size 432x288 with 1 Axes>"
      ]
     },
     "metadata": {
      "needs_background": "light"
     },
     "output_type": "display_data"
    }
   ],
   "source": [
    "fig, ax = plt.subplots()\n",
    "df1.plot(kind='barh', y='Berri1', ax=ax)"
   ]
  },
  {
   "cell_type": "code",
   "execution_count": 113,
   "metadata": {},
   "outputs": [
    {
     "data": {
      "text/plain": [
       "Text(0, 0.5, 'Mes')"
      ]
     },
     "execution_count": 113,
     "metadata": {},
     "output_type": "execute_result"
    },
    {
     "data": {
      "image/png": "[encoded data removed]",
      "text/plain": [
       "<Figure size 432x288 with 1 Axes>"
      ]
     },
     "metadata": {
      "needs_background": "light"
     },
     "output_type": "display_data"
    }
   ],
   "source": [
    "fig, ax = plt.subplots()\n",
    "df1.plot(kind='barh', y='Berri1', ax=ax)\n",
    "ax.set_xlabel('Numero de ciclistas')\n",
    "ax.set_ylabel('Mes')"
   ]
  },
  {
   "cell_type": "code",
   "execution_count": 114,
   "metadata": {},
   "outputs": [
    {
     "data": {
      "image/png": "[encoded data removed]",
      "text/plain": [
       "<Figure size 432x288 with 1 Axes>"
      ]
     },
     "metadata": {
      "needs_background": "light"
     },
     "output_type": "display_data"
    }
   ],
   "source": [
    "fig, ax = plt.subplots()\n",
    "df1.plot(kind='barh', y='Berri1', ax=ax)\n",
    "ax.set_xlabel('Numero de ciclistas')\n",
    "ax.set_ylabel('Mes')\n",
    "ax.legend().set_visible(False)"
   ]
  },
  {
   "cell_type": "code",
   "execution_count": 115,
   "metadata": {},
   "outputs": [
    {
     "data": {
      "image/png": "[encoded data removed]",
      "text/plain": [
       "<Figure size 432x288 with 1 Axes>"
      ]
     },
     "metadata": {
      "needs_background": "light"
     },
     "output_type": "display_data"
    }
   ],
   "source": [
    "from matplotlib.ticker import FuncFormatter\n",
    "fig, ax = plt.subplots()\n",
    "df1.plot(kind='barh', y='Berri1', ax=ax)\n",
    "ax.set_xlabel('Numero de ciclistas')\n",
    "ax.set_ylabel('Mes')\n",
    "\n",
    "ax.xaxis.set_major_formatter(FuncFormatter(lambda x, y: '{:d}k'.format(int(x/1000))))\n",
    "\n",
    "ax.legend().set_visible(False)"
   ]
  },
  {
   "cell_type": "code",
   "execution_count": 116,
   "metadata": {},
   "outputs": [
    {
     "data": {
      "image/png": "[encoded data removed]",
      "text/plain": [
       "<Figure size 432x288 with 1 Axes>"
      ]
     },
     "metadata": {
      "needs_background": "light"
     },
     "output_type": "display_data"
    }
   ],
   "source": [
    "from matplotlib.ticker import FuncFormatter\n",
    "fig, ax = plt.subplots()\n",
    "df1.plot(kind='barh', y='Berri1', ax=ax)\n",
    "ax.set_xlabel('Numero de ciclistas')\n",
    "ax.set_ylabel('Mes')\n",
    "ax.xaxis.set_major_formatter(FuncFormatter(lambda x, y: '{:d}k'.format(int(x/1000))))\n",
    "ax.set_yticklabels(['Ene','Feb','Mar','Abr','May','Jun','Jul','Ago','Sep','Oct','Nov','Dic'])\n",
    "ax.legend().set_visible(False)"
   ]
  },
  {
   "cell_type": "code",
   "execution_count": 117,
   "metadata": {},
   "outputs": [
    {
     "data": {
      "image/png": "[encoded data removed]",
      "text/plain": [
       "<Figure size 432x288 with 1 Axes>"
      ]
     },
     "metadata": {
      "needs_background": "light"
     },
     "output_type": "display_data"
    }
   ],
   "source": [
    "from matplotlib.ticker import FuncFormatter\n",
    "fig, ax = plt.subplots()\n",
    "df1.plot(kind='barh', y='Berri1', ax=ax)\n",
    "ax.set_xlabel('Numero de ciclistas')\n",
    "ax.set_ylabel('Mes')\n",
    "ax.xaxis.set_major_formatter(FuncFormatter(lambda x, y: '{:d}k'.format(int(x/1000))))\n",
    "ax.set_yticklabels(['Ene','Feb','Mar','Abr','May','Jun','Jul','Ago','Sep','Oct','Nov','Dic'])\n",
    "for x in (20000, 100000):\n",
    "    ax.axvline(x=x, color='r', linestyle='--', linewidth=1)\n",
    "ax.legend().set_visible(False)"
   ]
  },
  {
   "cell_type": "code",
   "execution_count": 121,
   "metadata": {},
   "outputs": [
    {
     "data": {
      "text/plain": [
       "array([[<matplotlib.axes._subplots.AxesSubplot object at 0x7f9125c17d10>,\n",
       "        <matplotlib.axes._subplots.AxesSubplot object at 0x7f9124362e10>]],\n",
       "      dtype=object)"
      ]
     },
     "execution_count": 121,
     "metadata": {},
     "output_type": "execute_result"
    },
    {
     "data": {
      "image/png": "[encoded data removed]",
      "text/plain": [
       "<Figure size 1080x360 with 2 Axes>"
      ]
     },
     "metadata": {
      "needs_background": "light"
     },
     "output_type": "display_data"
    }
   ],
   "source": [
    "# solo con Pandas\n",
    "df1[['Berri1', 'University']].plot(kind='barh', \n",
    "                                   sharey=True, \n",
    "                                   subplots=True, \n",
    "                                   legend=False, \n",
    "                                   layout=(1,2),\n",
    "                                   figsize=(15, 5))"
   ]
  },
  {
   "cell_type": "code",
   "execution_count": 122,
   "metadata": {},
   "outputs": [
    {
     "data": {
      "image/png": "[encoded data removed]",
      "text/plain": [
       "<Figure size 1080x360 with 2 Axes>"
      ]
     },
     "metadata": {
      "needs_background": "light"
     },
     "output_type": "display_data"
    }
   ],
   "source": [
    "# Pandas + retocar en Matplotlib\n",
    "fig, axes = plt.subplots(1, 2, figsize=(15, 5), sharey=True)\n",
    "df1[['Berri1', 'University']].plot(kind='barh',  \n",
    "                                   subplots=True, \n",
    "                                   legend=False, \n",
    "                                   ax=axes)\n",
    "for ax in axes:\n",
    "    ax.set_xlabel('Numero de ciclistas')\n",
    "    ax.set_ylabel('Mes')\n",
    "    ax.xaxis.set_major_formatter(FuncFormatter(lambda x, y: '{:d}k'.format(int(x/1000))))\n",
    "    ax.set_yticklabels(['Ene','Feb','Mar','Abr','May','Jun','Jul','Ago','Sep','Oct','Nov','Dic'])\n",
    "    for x in (20000, 100000):\n",
    "        ax.axvline(x=x, color='r', linestyle='--', linewidth=1)"
   ]
  },
  {
   "cell_type": "code",
   "execution_count": 125,
   "metadata": {},
   "outputs": [],
   "source": [
    "df.to_csv(\"numeros.csv\")"
   ]
  },
  {
   "cell_type": "code",
   "execution_count": 126,
   "metadata": {},
   "outputs": [
    {
     "data": {
      "text/html": [
       "<div>\n",
       "<style scoped>\n",
       "    .dataframe tbody tr th:only-of-type {\n",
       "        vertical-align: middle;\n",
       "    }\n",
       "\n",
       "    .dataframe tbody tr th {\n",
       "        vertical-align: top;\n",
       "    }\n",
       "\n",
       "    .dataframe thead th {\n",
       "        text-align: right;\n",
       "    }\n",
       "</style>\n",
       "<table border=\"1\" class=\"dataframe\">\n",
       "  <thead>\n",
       "    <tr style=\"text-align: right;\">\n",
       "      <th></th>\n",
       "      <th>A</th>\n",
       "      <th>B</th>\n",
       "      <th>C</th>\n",
       "      <th>D</th>\n",
       "    </tr>\n",
       "  </thead>\n",
       "  <tbody>\n",
       "    <tr>\n",
       "      <td>2017-01-01</td>\n",
       "      <td>0.248629</td>\n",
       "      <td>-0.202076</td>\n",
       "      <td>1.527722</td>\n",
       "      <td>-0.250054</td>\n",
       "    </tr>\n",
       "    <tr>\n",
       "      <td>2017-01-02</td>\n",
       "      <td>-0.089443</td>\n",
       "      <td>0.544602</td>\n",
       "      <td>0.337311</td>\n",
       "      <td>-0.575511</td>\n",
       "    </tr>\n",
       "    <tr>\n",
       "      <td>2017-01-03</td>\n",
       "      <td>0.470453</td>\n",
       "      <td>-0.541968</td>\n",
       "      <td>0.002309</td>\n",
       "      <td>-1.529380</td>\n",
       "    </tr>\n",
       "    <tr>\n",
       "      <td>2017-01-04</td>\n",
       "      <td>0.468811</td>\n",
       "      <td>-1.112179</td>\n",
       "      <td>-0.130189</td>\n",
       "      <td>-0.896953</td>\n",
       "    </tr>\n",
       "    <tr>\n",
       "      <td>2017-01-05</td>\n",
       "      <td>-0.066059</td>\n",
       "      <td>0.667104</td>\n",
       "      <td>-0.621184</td>\n",
       "      <td>0.052273</td>\n",
       "    </tr>\n",
       "    <tr>\n",
       "      <td>2017-01-06</td>\n",
       "      <td>-0.076081</td>\n",
       "      <td>-0.046717</td>\n",
       "      <td>-0.490924</td>\n",
       "      <td>0.716141</td>\n",
       "    </tr>\n",
       "  </tbody>\n",
       "</table>\n",
       "</div>"
      ],
      "text/plain": [
       "                   A         B         C         D\n",
       "2017-01-01  0.248629 -0.202076  1.527722 -0.250054\n",
       "2017-01-02 -0.089443  0.544602  0.337311 -0.575511\n",
       "2017-01-03  0.470453 -0.541968  0.002309 -1.529380\n",
       "2017-01-04  0.468811 -1.112179 -0.130189 -0.896953\n",
       "2017-01-05 -0.066059  0.667104 -0.621184  0.052273\n",
       "2017-01-06 -0.076081 -0.046717 -0.490924  0.716141"
      ]
     },
     "execution_count": 126,
     "metadata": {},
     "output_type": "execute_result"
    }
   ],
   "source": [
    "df"
   ]
  },
  {
   "cell_type": "code",
   "execution_count": null,
   "metadata": {},
   "outputs": [],
   "source": []
  }
 ],
 "metadata": {
  "kernelspec": {
   "display_name": "Python 3",
   "language": "python",
   "name": "python3"
  },
  "language_info": {
   "codemirror_mode": {
    "name": "ipython",
    "version": 3
   },
   "file_extension": ".py",
   "mimetype": "text/x-python",
   "name": "python",
   "nbconvert_exporter": "python",
   "pygments_lexer": "ipython3",
   "version": "3.7.4"
  }
 },
 "nbformat": 4,
 "nbformat_minor": 2
}
